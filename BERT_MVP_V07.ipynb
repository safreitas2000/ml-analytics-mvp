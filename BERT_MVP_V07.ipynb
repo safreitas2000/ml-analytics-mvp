{
  "nbformat": 4,
  "nbformat_minor": 0,
  "metadata": {
    "colab": {
      "provenance": [],
      "gpuType": "T4",
      "machine_shape": "hm",
      "authorship_tag": "ABX9TyPjcP8ELbrNHScLxMhksxPA",
      "include_colab_link": true
    },
    "kernelspec": {
      "name": "python3",
      "display_name": "Python 3"
    },
    "language_info": {
      "name": "python"
    },
    "accelerator": "GPU"
  },
  "cells": [
    {
      "cell_type": "markdown",
      "metadata": {
        "id": "view-in-github",
        "colab_type": "text"
      },
      "source": [
        "<a href=\"https://colab.research.google.com/github/safreitas2000/ml-analytics-mvp/blob/main/BERT_MVP_V07.ipynb\" target=\"_parent\"><img src=\"https://colab.research.google.com/assets/colab-badge.svg\" alt=\"Open In Colab\"/></a>"
      ]
    },
    {
      "cell_type": "markdown",
      "source": [
        "# MVP Disciplina Machine Learning & Analytics - Modelo Deep Learning - MVP Letra b.\n",
        "\n",
        "**b.** Modelo baseado em Deep Learning para resolver problema de Classificação de Texto e Análise de Sentimento em Processamento de Linguagem Natural (PLN).</br>\n",
        "**DataSet:** Amazon Cell Phones Reviews https://www.kaggle.com/datasets/grikomsn/amazon-cell-phones-reviews. É uma base de avaliação de celulares, foi escolhida por questão didática para ilustrar um problema de classificação de texto e análise de sentimento. O dataset possui um conjunto de informações sobre as avaliações, como por exemplo: nome do avaliador, data, utilidade, body e rating. Para o escopo desse trabalho selecionamos 2 atributos do dataset: body e rating, sendo o body a avaliação do celular e o rating uma nota atribuída pelo avaliador que pode variar de 1 até 5, sendo 1 muito ruim e 5 excelente.</br>\n",
        "**Qual é a descrição do problema?** É um problema de classificação de texto e análise de sentimento. Dado o texto de uma avaliação de celular precisamos determinar se a avaliação é positiva ou negativa.</br>\n",
        "**Você tem premissas ou hipóteses sobre o problema? Quais?** Foi observado por amostragem que avaliações 1 e 2 são mais negativas enquanto 4 e 5 mais positivas. Vamos realizar a classificação com 5 classes para avaliação dos resultados, entretanto acredito que transformar o problema em uma classificação binária, para definir se a avaliação é positiva ou negativa deve apresentar uma melhor performance. </br>"
      ],
      "metadata": {
        "id": "WRMtLK4QCqsV"
      }
    },
    {
      "cell_type": "code",
      "source": [
        "!pip install tensorflow-text"
      ],
      "metadata": {
        "colab": {
          "base_uri": "https://localhost:8080/"
        },
        "id": "UU9h8pNVWcKx",
        "outputId": "bb92639e-7e45-454e-d831-43e8997b49aa"
      },
      "execution_count": 124,
      "outputs": [
        {
          "output_type": "stream",
          "name": "stdout",
          "text": [
            "Requirement already satisfied: tensorflow-text in /usr/local/lib/python3.10/dist-packages (2.13.0)\n",
            "Requirement already satisfied: tensorflow-hub>=0.8.0 in /usr/local/lib/python3.10/dist-packages (from tensorflow-text) (0.14.0)\n",
            "Requirement already satisfied: tensorflow<2.14,>=2.13.0 in /usr/local/lib/python3.10/dist-packages (from tensorflow-text) (2.13.0)\n",
            "Requirement already satisfied: absl-py>=1.0.0 in /usr/local/lib/python3.10/dist-packages (from tensorflow<2.14,>=2.13.0->tensorflow-text) (1.4.0)\n",
            "Requirement already satisfied: astunparse>=1.6.0 in /usr/local/lib/python3.10/dist-packages (from tensorflow<2.14,>=2.13.0->tensorflow-text) (1.6.3)\n",
            "Requirement already satisfied: flatbuffers>=23.1.21 in /usr/local/lib/python3.10/dist-packages (from tensorflow<2.14,>=2.13.0->tensorflow-text) (23.5.26)\n",
            "Requirement already satisfied: gast<=0.4.0,>=0.2.1 in /usr/local/lib/python3.10/dist-packages (from tensorflow<2.14,>=2.13.0->tensorflow-text) (0.4.0)\n",
            "Requirement already satisfied: google-pasta>=0.1.1 in /usr/local/lib/python3.10/dist-packages (from tensorflow<2.14,>=2.13.0->tensorflow-text) (0.2.0)\n",
            "Requirement already satisfied: grpcio<2.0,>=1.24.3 in /usr/local/lib/python3.10/dist-packages (from tensorflow<2.14,>=2.13.0->tensorflow-text) (1.56.0)\n",
            "Requirement already satisfied: h5py>=2.9.0 in /usr/local/lib/python3.10/dist-packages (from tensorflow<2.14,>=2.13.0->tensorflow-text) (3.8.0)\n",
            "Requirement already satisfied: keras<2.14,>=2.13.1 in /usr/local/lib/python3.10/dist-packages (from tensorflow<2.14,>=2.13.0->tensorflow-text) (2.13.1)\n",
            "Requirement already satisfied: libclang>=13.0.0 in /usr/local/lib/python3.10/dist-packages (from tensorflow<2.14,>=2.13.0->tensorflow-text) (16.0.0)\n",
            "Requirement already satisfied: numpy<=1.24.3,>=1.22 in /usr/local/lib/python3.10/dist-packages (from tensorflow<2.14,>=2.13.0->tensorflow-text) (1.22.4)\n",
            "Requirement already satisfied: opt-einsum>=2.3.2 in /usr/local/lib/python3.10/dist-packages (from tensorflow<2.14,>=2.13.0->tensorflow-text) (3.3.0)\n",
            "Requirement already satisfied: packaging in /usr/local/lib/python3.10/dist-packages (from tensorflow<2.14,>=2.13.0->tensorflow-text) (23.1)\n",
            "Requirement already satisfied: protobuf!=4.21.0,!=4.21.1,!=4.21.2,!=4.21.3,!=4.21.4,!=4.21.5,<5.0.0dev,>=3.20.3 in /usr/local/lib/python3.10/dist-packages (from tensorflow<2.14,>=2.13.0->tensorflow-text) (3.20.3)\n",
            "Requirement already satisfied: setuptools in /usr/local/lib/python3.10/dist-packages (from tensorflow<2.14,>=2.13.0->tensorflow-text) (67.7.2)\n",
            "Requirement already satisfied: six>=1.12.0 in /usr/local/lib/python3.10/dist-packages (from tensorflow<2.14,>=2.13.0->tensorflow-text) (1.16.0)\n",
            "Requirement already satisfied: tensorboard<2.14,>=2.13 in /usr/local/lib/python3.10/dist-packages (from tensorflow<2.14,>=2.13.0->tensorflow-text) (2.13.0)\n",
            "Requirement already satisfied: tensorflow-estimator<2.14,>=2.13.0 in /usr/local/lib/python3.10/dist-packages (from tensorflow<2.14,>=2.13.0->tensorflow-text) (2.13.0)\n",
            "Requirement already satisfied: termcolor>=1.1.0 in /usr/local/lib/python3.10/dist-packages (from tensorflow<2.14,>=2.13.0->tensorflow-text) (2.3.0)\n",
            "Requirement already satisfied: typing-extensions<4.6.0,>=3.6.6 in /usr/local/lib/python3.10/dist-packages (from tensorflow<2.14,>=2.13.0->tensorflow-text) (4.5.0)\n",
            "Requirement already satisfied: wrapt>=1.11.0 in /usr/local/lib/python3.10/dist-packages (from tensorflow<2.14,>=2.13.0->tensorflow-text) (1.14.1)\n",
            "Requirement already satisfied: tensorflow-io-gcs-filesystem>=0.23.1 in /usr/local/lib/python3.10/dist-packages (from tensorflow<2.14,>=2.13.0->tensorflow-text) (0.32.0)\n",
            "Requirement already satisfied: wheel<1.0,>=0.23.0 in /usr/local/lib/python3.10/dist-packages (from astunparse>=1.6.0->tensorflow<2.14,>=2.13.0->tensorflow-text) (0.40.0)\n",
            "Requirement already satisfied: google-auth<3,>=1.6.3 in /usr/local/lib/python3.10/dist-packages (from tensorboard<2.14,>=2.13->tensorflow<2.14,>=2.13.0->tensorflow-text) (2.17.3)\n",
            "Requirement already satisfied: google-auth-oauthlib<1.1,>=0.5 in /usr/local/lib/python3.10/dist-packages (from tensorboard<2.14,>=2.13->tensorflow<2.14,>=2.13.0->tensorflow-text) (1.0.0)\n",
            "Requirement already satisfied: markdown>=2.6.8 in /usr/local/lib/python3.10/dist-packages (from tensorboard<2.14,>=2.13->tensorflow<2.14,>=2.13.0->tensorflow-text) (3.4.3)\n",
            "Requirement already satisfied: requests<3,>=2.21.0 in /usr/local/lib/python3.10/dist-packages (from tensorboard<2.14,>=2.13->tensorflow<2.14,>=2.13.0->tensorflow-text) (2.27.1)\n",
            "Requirement already satisfied: tensorboard-data-server<0.8.0,>=0.7.0 in /usr/local/lib/python3.10/dist-packages (from tensorboard<2.14,>=2.13->tensorflow<2.14,>=2.13.0->tensorflow-text) (0.7.1)\n",
            "Requirement already satisfied: werkzeug>=1.0.1 in /usr/local/lib/python3.10/dist-packages (from tensorboard<2.14,>=2.13->tensorflow<2.14,>=2.13.0->tensorflow-text) (2.3.6)\n",
            "Requirement already satisfied: cachetools<6.0,>=2.0.0 in /usr/local/lib/python3.10/dist-packages (from google-auth<3,>=1.6.3->tensorboard<2.14,>=2.13->tensorflow<2.14,>=2.13.0->tensorflow-text) (5.3.1)\n",
            "Requirement already satisfied: pyasn1-modules>=0.2.1 in /usr/local/lib/python3.10/dist-packages (from google-auth<3,>=1.6.3->tensorboard<2.14,>=2.13->tensorflow<2.14,>=2.13.0->tensorflow-text) (0.3.0)\n",
            "Requirement already satisfied: rsa<5,>=3.1.4 in /usr/local/lib/python3.10/dist-packages (from google-auth<3,>=1.6.3->tensorboard<2.14,>=2.13->tensorflow<2.14,>=2.13.0->tensorflow-text) (4.9)\n",
            "Requirement already satisfied: requests-oauthlib>=0.7.0 in /usr/local/lib/python3.10/dist-packages (from google-auth-oauthlib<1.1,>=0.5->tensorboard<2.14,>=2.13->tensorflow<2.14,>=2.13.0->tensorflow-text) (1.3.1)\n",
            "Requirement already satisfied: urllib3<1.27,>=1.21.1 in /usr/local/lib/python3.10/dist-packages (from requests<3,>=2.21.0->tensorboard<2.14,>=2.13->tensorflow<2.14,>=2.13.0->tensorflow-text) (1.26.16)\n",
            "Requirement already satisfied: certifi>=2017.4.17 in /usr/local/lib/python3.10/dist-packages (from requests<3,>=2.21.0->tensorboard<2.14,>=2.13->tensorflow<2.14,>=2.13.0->tensorflow-text) (2023.5.7)\n",
            "Requirement already satisfied: charset-normalizer~=2.0.0 in /usr/local/lib/python3.10/dist-packages (from requests<3,>=2.21.0->tensorboard<2.14,>=2.13->tensorflow<2.14,>=2.13.0->tensorflow-text) (2.0.12)\n",
            "Requirement already satisfied: idna<4,>=2.5 in /usr/local/lib/python3.10/dist-packages (from requests<3,>=2.21.0->tensorboard<2.14,>=2.13->tensorflow<2.14,>=2.13.0->tensorflow-text) (3.4)\n",
            "Requirement already satisfied: MarkupSafe>=2.1.1 in /usr/local/lib/python3.10/dist-packages (from werkzeug>=1.0.1->tensorboard<2.14,>=2.13->tensorflow<2.14,>=2.13.0->tensorflow-text) (2.1.3)\n",
            "Requirement already satisfied: pyasn1<0.6.0,>=0.4.6 in /usr/local/lib/python3.10/dist-packages (from pyasn1-modules>=0.2.1->google-auth<3,>=1.6.3->tensorboard<2.14,>=2.13->tensorflow<2.14,>=2.13.0->tensorflow-text) (0.5.0)\n",
            "Requirement already satisfied: oauthlib>=3.0.0 in /usr/local/lib/python3.10/dist-packages (from requests-oauthlib>=0.7.0->google-auth-oauthlib<1.1,>=0.5->tensorboard<2.14,>=2.13->tensorflow<2.14,>=2.13.0->tensorflow-text) (3.2.2)\n"
          ]
        }
      ]
    },
    {
      "cell_type": "code",
      "execution_count": 125,
      "metadata": {
        "id": "qiAfgit2WTGt"
      },
      "outputs": [],
      "source": [
        "import numpy as np\n",
        "import pandas as pd\n",
        "import pickle\n",
        "import os\n",
        "import shutil\n",
        "import matplotlib.pyplot as plt\n",
        "from sklearn.model_selection import train_test_split\n",
        "import tensorflow as tf\n",
        "from tensorflow import keras\n",
        "from keras.layers import Dense, Dropout\n",
        "import tensorflow_hub as hub\n",
        "import tensorflow_text as text\n",
        "import warnings\n",
        "warnings.filterwarnings(\"ignore\")"
      ]
    },
    {
      "cell_type": "code",
      "source": [
        "CARGA_PESOS_MODELO_BIN = False\n",
        "CARGA_PESOS_MODELO_MLT = False\n",
        "PATH_PESOS_COLAB_FILE_BIN = '/content/bert_mvp/pesos_modelo_bin.h5'\n",
        "PATH_PESOS_COLAB_FILE_MLT = '/content/bert_mvp/pesos_modelo_mlt.h5'\n",
        "PATH_PESOS_COLAB_FOLDER = '/content/bert_mvp/'"
      ],
      "metadata": {
        "id": "yjea69gslE7r"
      },
      "execution_count": 126,
      "outputs": []
    },
    {
      "cell_type": "code",
      "source": [
        "if os.path.exists(PATH_PESOS_COLAB_FOLDER):\n",
        "  shutil.rmtree(PATH_PESOS_COLAB_FOLDER)\n",
        "\n",
        "os.makedirs(PATH_PESOS_COLAB_FOLDER, exist_ok=True) # cria a pasta de destino se necessário"
      ],
      "metadata": {
        "id": "WhHoGMKroDYr"
      },
      "execution_count": 127,
      "outputs": []
    },
    {
      "cell_type": "markdown",
      "source": [
        "# Importando DataSet Amazon Cell Phones Reviews.\n",
        "Vamos trabalhar com 2 instâncias do dataset, a primeira para classificação multiclasse (df_mult) e o segundo para classificação binária. O objetivo é comparar a performance das 2 abordagens."
      ],
      "metadata": {
        "id": "8mYg4uPfCpXd"
      }
    },
    {
      "cell_type": "code",
      "source": [
        "# Informa a URL de importação do dataset\n",
        "url = \"https://raw.githubusercontent.com/safreitas2000/ml-analytics-mvp/main/20191226-reviews.csv\"\n",
        "\n",
        "# Lê o arquivo\n",
        "df_mult = pd.read_csv(url, delimiter=',', encoding='latin-1')\n",
        "df_bin = pd.read_csv(url, delimiter=',', encoding='latin-1')\n",
        "\n",
        "df_bin.head(5)"
      ],
      "metadata": {
        "colab": {
          "base_uri": "https://localhost:8080/",
          "height": 337
        },
        "id": "LPNfI-bgW4Ha",
        "outputId": "51ecbb41-04b6-43d0-8670-a03c1c40f47a"
      },
      "execution_count": 128,
      "outputs": [
        {
          "output_type": "execute_result",
          "data": {
            "text/plain": [
              "         asin           name  rating               date  verified  \\\n",
              "0  B0000SX2UC          Janet       3   October 11, 2005     False   \n",
              "1  B0000SX2UC     Luke Wyatt       1    January 7, 2004     False   \n",
              "2  B0000SX2UC         Brooke       5  December 30, 2003     False   \n",
              "3  B0000SX2UC  amy m. teague       3     March 18, 2004     False   \n",
              "4  B0000SX2UC  tristazbimmer       4    August 28, 2005     False   \n",
              "\n",
              "                                          title  \\\n",
              "0                   Def not best, but not worst   \n",
              "1                   Text Messaging Doesn't Work   \n",
              "2                               Love This Phone   \n",
              "3                       Love the Phone, BUT...!   \n",
              "4  Great phone service and options, lousy case!   \n",
              "\n",
              "                                                body  helpfulVotes  \n",
              "0  I had the Samsung A600 for awhile which is abs...           1.0  \n",
              "1  Due to a software issue between Nokia and Spri...          17.0  \n",
              "2  This is a great, reliable phone. I also purcha...           5.0  \n",
              "3  I love the phone and all, because I really did...           1.0  \n",
              "4  The phone has been great for every purpose it ...           1.0  "
            ],
            "text/html": [
              "\n",
              "\n",
              "  <div id=\"df-ab0ad77e-d8d0-4313-bb77-f1b0a2e9f9cd\">\n",
              "    <div class=\"colab-df-container\">\n",
              "      <div>\n",
              "<style scoped>\n",
              "    .dataframe tbody tr th:only-of-type {\n",
              "        vertical-align: middle;\n",
              "    }\n",
              "\n",
              "    .dataframe tbody tr th {\n",
              "        vertical-align: top;\n",
              "    }\n",
              "\n",
              "    .dataframe thead th {\n",
              "        text-align: right;\n",
              "    }\n",
              "</style>\n",
              "<table border=\"1\" class=\"dataframe\">\n",
              "  <thead>\n",
              "    <tr style=\"text-align: right;\">\n",
              "      <th></th>\n",
              "      <th>asin</th>\n",
              "      <th>name</th>\n",
              "      <th>rating</th>\n",
              "      <th>date</th>\n",
              "      <th>verified</th>\n",
              "      <th>title</th>\n",
              "      <th>body</th>\n",
              "      <th>helpfulVotes</th>\n",
              "    </tr>\n",
              "  </thead>\n",
              "  <tbody>\n",
              "    <tr>\n",
              "      <th>0</th>\n",
              "      <td>B0000SX2UC</td>\n",
              "      <td>Janet</td>\n",
              "      <td>3</td>\n",
              "      <td>October 11, 2005</td>\n",
              "      <td>False</td>\n",
              "      <td>Def not best, but not worst</td>\n",
              "      <td>I had the Samsung A600 for awhile which is abs...</td>\n",
              "      <td>1.0</td>\n",
              "    </tr>\n",
              "    <tr>\n",
              "      <th>1</th>\n",
              "      <td>B0000SX2UC</td>\n",
              "      <td>Luke Wyatt</td>\n",
              "      <td>1</td>\n",
              "      <td>January 7, 2004</td>\n",
              "      <td>False</td>\n",
              "      <td>Text Messaging Doesn't Work</td>\n",
              "      <td>Due to a software issue between Nokia and Spri...</td>\n",
              "      <td>17.0</td>\n",
              "    </tr>\n",
              "    <tr>\n",
              "      <th>2</th>\n",
              "      <td>B0000SX2UC</td>\n",
              "      <td>Brooke</td>\n",
              "      <td>5</td>\n",
              "      <td>December 30, 2003</td>\n",
              "      <td>False</td>\n",
              "      <td>Love This Phone</td>\n",
              "      <td>This is a great, reliable phone. I also purcha...</td>\n",
              "      <td>5.0</td>\n",
              "    </tr>\n",
              "    <tr>\n",
              "      <th>3</th>\n",
              "      <td>B0000SX2UC</td>\n",
              "      <td>amy m. teague</td>\n",
              "      <td>3</td>\n",
              "      <td>March 18, 2004</td>\n",
              "      <td>False</td>\n",
              "      <td>Love the Phone, BUT...!</td>\n",
              "      <td>I love the phone and all, because I really did...</td>\n",
              "      <td>1.0</td>\n",
              "    </tr>\n",
              "    <tr>\n",
              "      <th>4</th>\n",
              "      <td>B0000SX2UC</td>\n",
              "      <td>tristazbimmer</td>\n",
              "      <td>4</td>\n",
              "      <td>August 28, 2005</td>\n",
              "      <td>False</td>\n",
              "      <td>Great phone service and options, lousy case!</td>\n",
              "      <td>The phone has been great for every purpose it ...</td>\n",
              "      <td>1.0</td>\n",
              "    </tr>\n",
              "  </tbody>\n",
              "</table>\n",
              "</div>\n",
              "      <button class=\"colab-df-convert\" onclick=\"convertToInteractive('df-ab0ad77e-d8d0-4313-bb77-f1b0a2e9f9cd')\"\n",
              "              title=\"Convert this dataframe to an interactive table.\"\n",
              "              style=\"display:none;\">\n",
              "\n",
              "  <svg xmlns=\"http://www.w3.org/2000/svg\" height=\"24px\"viewBox=\"0 0 24 24\"\n",
              "       width=\"24px\">\n",
              "    <path d=\"M0 0h24v24H0V0z\" fill=\"none\"/>\n",
              "    <path d=\"M18.56 5.44l.94 2.06.94-2.06 2.06-.94-2.06-.94-.94-2.06-.94 2.06-2.06.94zm-11 1L8.5 8.5l.94-2.06 2.06-.94-2.06-.94L8.5 2.5l-.94 2.06-2.06.94zm10 10l.94 2.06.94-2.06 2.06-.94-2.06-.94-.94-2.06-.94 2.06-2.06.94z\"/><path d=\"M17.41 7.96l-1.37-1.37c-.4-.4-.92-.59-1.43-.59-.52 0-1.04.2-1.43.59L10.3 9.45l-7.72 7.72c-.78.78-.78 2.05 0 2.83L4 21.41c.39.39.9.59 1.41.59.51 0 1.02-.2 1.41-.59l7.78-7.78 2.81-2.81c.8-.78.8-2.07 0-2.86zM5.41 20L4 18.59l7.72-7.72 1.47 1.35L5.41 20z\"/>\n",
              "  </svg>\n",
              "      </button>\n",
              "\n",
              "\n",
              "\n",
              "    <div id=\"df-0a899fac-f218-4ca8-bcfd-8861ba7e1279\">\n",
              "      <button class=\"colab-df-quickchart\" onclick=\"quickchart('df-0a899fac-f218-4ca8-bcfd-8861ba7e1279')\"\n",
              "              title=\"Suggest charts.\"\n",
              "              style=\"display:none;\">\n",
              "\n",
              "<svg xmlns=\"http://www.w3.org/2000/svg\" height=\"24px\"viewBox=\"0 0 24 24\"\n",
              "     width=\"24px\">\n",
              "    <g>\n",
              "        <path d=\"M19 3H5c-1.1 0-2 .9-2 2v14c0 1.1.9 2 2 2h14c1.1 0 2-.9 2-2V5c0-1.1-.9-2-2-2zM9 17H7v-7h2v7zm4 0h-2V7h2v10zm4 0h-2v-4h2v4z\"/>\n",
              "    </g>\n",
              "</svg>\n",
              "      </button>\n",
              "    </div>\n",
              "\n",
              "<style>\n",
              "  .colab-df-quickchart {\n",
              "    background-color: #E8F0FE;\n",
              "    border: none;\n",
              "    border-radius: 50%;\n",
              "    cursor: pointer;\n",
              "    display: none;\n",
              "    fill: #1967D2;\n",
              "    height: 32px;\n",
              "    padding: 0 0 0 0;\n",
              "    width: 32px;\n",
              "  }\n",
              "\n",
              "  .colab-df-quickchart:hover {\n",
              "    background-color: #E2EBFA;\n",
              "    box-shadow: 0px 1px 2px rgba(60, 64, 67, 0.3), 0px 1px 3px 1px rgba(60, 64, 67, 0.15);\n",
              "    fill: #174EA6;\n",
              "  }\n",
              "\n",
              "  [theme=dark] .colab-df-quickchart {\n",
              "    background-color: #3B4455;\n",
              "    fill: #D2E3FC;\n",
              "  }\n",
              "\n",
              "  [theme=dark] .colab-df-quickchart:hover {\n",
              "    background-color: #434B5C;\n",
              "    box-shadow: 0px 1px 3px 1px rgba(0, 0, 0, 0.15);\n",
              "    filter: drop-shadow(0px 1px 2px rgba(0, 0, 0, 0.3));\n",
              "    fill: #FFFFFF;\n",
              "  }\n",
              "</style>\n",
              "\n",
              "    <script>\n",
              "      async function quickchart(key) {\n",
              "        const containerElement = document.querySelector('#' + key);\n",
              "        const charts = await google.colab.kernel.invokeFunction(\n",
              "            'suggestCharts', [key], {});\n",
              "      }\n",
              "    </script>\n",
              "\n",
              "      <script>\n",
              "\n",
              "function displayQuickchartButton(domScope) {\n",
              "  let quickchartButtonEl =\n",
              "    domScope.querySelector('#df-0a899fac-f218-4ca8-bcfd-8861ba7e1279 button.colab-df-quickchart');\n",
              "  quickchartButtonEl.style.display =\n",
              "    google.colab.kernel.accessAllowed ? 'block' : 'none';\n",
              "}\n",
              "\n",
              "        displayQuickchartButton(document);\n",
              "      </script>\n",
              "      <style>\n",
              "    .colab-df-container {\n",
              "      display:flex;\n",
              "      flex-wrap:wrap;\n",
              "      gap: 12px;\n",
              "    }\n",
              "\n",
              "    .colab-df-convert {\n",
              "      background-color: #E8F0FE;\n",
              "      border: none;\n",
              "      border-radius: 50%;\n",
              "      cursor: pointer;\n",
              "      display: none;\n",
              "      fill: #1967D2;\n",
              "      height: 32px;\n",
              "      padding: 0 0 0 0;\n",
              "      width: 32px;\n",
              "    }\n",
              "\n",
              "    .colab-df-convert:hover {\n",
              "      background-color: #E2EBFA;\n",
              "      box-shadow: 0px 1px 2px rgba(60, 64, 67, 0.3), 0px 1px 3px 1px rgba(60, 64, 67, 0.15);\n",
              "      fill: #174EA6;\n",
              "    }\n",
              "\n",
              "    [theme=dark] .colab-df-convert {\n",
              "      background-color: #3B4455;\n",
              "      fill: #D2E3FC;\n",
              "    }\n",
              "\n",
              "    [theme=dark] .colab-df-convert:hover {\n",
              "      background-color: #434B5C;\n",
              "      box-shadow: 0px 1px 3px 1px rgba(0, 0, 0, 0.15);\n",
              "      filter: drop-shadow(0px 1px 2px rgba(0, 0, 0, 0.3));\n",
              "      fill: #FFFFFF;\n",
              "    }\n",
              "  </style>\n",
              "\n",
              "      <script>\n",
              "        const buttonEl =\n",
              "          document.querySelector('#df-ab0ad77e-d8d0-4313-bb77-f1b0a2e9f9cd button.colab-df-convert');\n",
              "        buttonEl.style.display =\n",
              "          google.colab.kernel.accessAllowed ? 'block' : 'none';\n",
              "\n",
              "        async function convertToInteractive(key) {\n",
              "          const element = document.querySelector('#df-ab0ad77e-d8d0-4313-bb77-f1b0a2e9f9cd');\n",
              "          const dataTable =\n",
              "            await google.colab.kernel.invokeFunction('convertToInteractive',\n",
              "                                                     [key], {});\n",
              "          if (!dataTable) return;\n",
              "\n",
              "          const docLinkHtml = 'Like what you see? Visit the ' +\n",
              "            '<a target=\"_blank\" href=https://colab.research.google.com/notebooks/data_table.ipynb>data table notebook</a>'\n",
              "            + ' to learn more about interactive tables.';\n",
              "          element.innerHTML = '';\n",
              "          dataTable['output_type'] = 'display_data';\n",
              "          await google.colab.output.renderOutput(dataTable, element);\n",
              "          const docLink = document.createElement('div');\n",
              "          docLink.innerHTML = docLinkHtml;\n",
              "          element.appendChild(docLink);\n",
              "        }\n",
              "      </script>\n",
              "    </div>\n",
              "  </div>\n"
            ]
          },
          "metadata": {},
          "execution_count": 128
        }
      ]
    },
    {
      "cell_type": "markdown",
      "source": [
        "# Preparação e pre-processamento dos Dados\n",
        "Realizamos algumas operações para simplificação dos dados e adequação antes de submeter para  pre-processamento e treinamento.\n",
        "*   Vamos trabalhar com um subconjunto de 10.000 registros\n",
        "*   Para o dataset utilizado na classificação binária vamos adaptar a coluna \"rating\" da seguinte forma: os valores 1 e 2 vão ser transformados em \"0\", os valores 4 e 5 serão convertidos em \"1\" e o valor 3 \"None\".\n",
        "*   Remover as linhas que contêm valores ausentes (NaN)\n",
        "*   Redefinir os índices do DataFrame após a remoção das linhas com valores ausentes.\n",
        "*   Remove caracteres especiais não reconhecidos, usando encode e decode entre os padrões ASCII e UTF-8\n",
        "*   Seleciona somente as colunas \"Body\" e \"Rating\" que vão ser parte do escopo do trabalho."
      ],
      "metadata": {
        "id": "B7vgxA1aDUpb"
      }
    },
    {
      "cell_type": "code",
      "source": [
        "df_mult = df_mult.head(10000)\n",
        "df_bin = df_bin.head(10000)"
      ],
      "metadata": {
        "id": "_IsbuUmfqyvA"
      },
      "execution_count": 129,
      "outputs": []
    },
    {
      "cell_type": "code",
      "source": [
        "mapping={1:0,2:0,3:None,4:1,5:1}\n",
        "df_bin.rating=df_bin.rating.map(mapping)\n",
        "df_bin=df_bin.dropna(subset='rating')"
      ],
      "metadata": {
        "id": "OcZif7m8spHL"
      },
      "execution_count": 130,
      "outputs": []
    },
    {
      "cell_type": "code",
      "source": [
        "df_mult = df_mult.dropna()\n",
        "df_mult = df_mult.reset_index(drop=True)\n",
        "\n",
        "df_bin = df_bin.dropna()\n",
        "df_bin = df_bin.reset_index(drop=True)"
      ],
      "metadata": {
        "id": "WM9aUdZ24YGS"
      },
      "execution_count": 131,
      "outputs": []
    },
    {
      "cell_type": "code",
      "source": [
        "#import re\n",
        "#df_bin[\"rating\"] = df_bin[\"rating\"].astype(int)\n",
        "#df_mult[\"rating\"] = df_mult[\"rating\"].astype(int)"
      ],
      "metadata": {
        "id": "YXQh_-zWXXjH"
      },
      "execution_count": 132,
      "outputs": []
    },
    {
      "cell_type": "code",
      "source": [
        "rat_bin=df_bin.rating.value_counts()\n",
        "rat_mult=df_mult.rating.value_counts()"
      ],
      "metadata": {
        "id": "95iqbJxEXOmE"
      },
      "execution_count": 133,
      "outputs": []
    },
    {
      "cell_type": "code",
      "source": [
        "import matplotlib.pyplot as plt\n",
        "\n",
        "# Criação da grade de subplots\n",
        "fig, axes = plt.subplots(1, 2, figsize=(10, 5))\n",
        "\n",
        "# Plotagem do primeiro gráfico\n",
        "axes[0].bar(rat_bin.index, rat_bin.values)\n",
        "axes[0].set_xticks(rat_bin.index)\n",
        "axes[0].set_xlabel('Target')\n",
        "axes[0].set_ylabel('Values')\n",
        "axes[0].set_title('Classificação Binária')\n",
        "\n",
        "# Plotagem do segundo gráfico\n",
        "axes[1].bar(rat_mult.index, rat_mult.values)\n",
        "axes[1].set_xlabel('Target')\n",
        "axes[1].set_ylabel('Values')\n",
        "axes[1].set_title('Classificação Multiclasse')\n",
        "\n",
        "# Ajuste de layout e exibição dos gráficos\n",
        "plt.tight_layout()\n",
        "plt.show()"
      ],
      "metadata": {
        "colab": {
          "base_uri": "https://localhost:8080/",
          "height": 507
        },
        "id": "FqTxzTS_Wvck",
        "outputId": "9531b7a9-8ad4-48c1-fd70-5469709a8f80"
      },
      "execution_count": 134,
      "outputs": [
        {
          "output_type": "display_data",
          "data": {
            "text/plain": [
              "<Figure size 1000x500 with 2 Axes>"
            ],
            "image/png": "[encoded data removed]"
          },
          "metadata": {}
        }
      ]
    },
    {
      "cell_type": "code",
      "source": [
        "df_bin.loc[:, \"body\"] = df_bin[\"body\"].str.encode(\"ascii\", \"ignore\").str.decode(\"utf-8\")\n",
        "df_bin.loc[:, \"body\"] = df_mult[\"body\"].str.encode(\"ascii\", \"ignore\").str.decode(\"utf-8\")"
      ],
      "metadata": {
        "id": "2jueuuQNYH4f"
      },
      "execution_count": 135,
      "outputs": []
    },
    {
      "cell_type": "code",
      "source": [
        "df_bin = df_bin[[\"body\", \"rating\"]]\n",
        "df_mult = df_mult[[\"body\", \"rating\"]]\n",
        "df_mult.loc[:, \"rating\"] = df_mult[\"rating\"].astype(float)"
      ],
      "metadata": {
        "id": "Qsl5zOCiYLqR"
      },
      "execution_count": 136,
      "outputs": []
    },
    {
      "cell_type": "code",
      "source": [
        "df_mult.head(10)"
      ],
      "metadata": {
        "colab": {
          "base_uri": "https://localhost:8080/",
          "height": 363
        },
        "id": "-oenB4TZYN12",
        "outputId": "69f508f7-8413-4b24-a319-b61c5ebf9ac0"
      },
      "execution_count": 137,
      "outputs": [
        {
          "output_type": "execute_result",
          "data": {
            "text/plain": [
              "                                                body  rating\n",
              "0  I had the Samsung A600 for awhile which is abs...     3.0\n",
              "1  Due to a software issue between Nokia and Spri...     1.0\n",
              "2  This is a great, reliable phone. I also purcha...     5.0\n",
              "3  I love the phone and all, because I really did...     3.0\n",
              "4  The phone has been great for every purpose it ...     4.0\n",
              "5  Cool. Cheap. Color: 3 words that describe the ...     5.0\n",
              "6  The 3599i is overall a nice phone, except that...     4.0\n",
              "7  I've never owned a Nokia phone before, so this...     5.0\n",
              "8  ok well im in school and i need the text messa...     3.0\n",
              "9  I've had this phone for over a year and I real...     4.0"
            ],
            "text/html": [
              "\n",
              "\n",
              "  <div id=\"df-b2e21751-9414-4dbf-8aae-8accfc12e0dc\">\n",
              "    <div class=\"colab-df-container\">\n",
              "      <div>\n",
              "<style scoped>\n",
              "    .dataframe tbody tr th:only-of-type {\n",
              "        vertical-align: middle;\n",
              "    }\n",
              "\n",
              "    .dataframe tbody tr th {\n",
              "        vertical-align: top;\n",
              "    }\n",
              "\n",
              "    .dataframe thead th {\n",
              "        text-align: right;\n",
              "    }\n",
              "</style>\n",
              "<table border=\"1\" class=\"dataframe\">\n",
              "  <thead>\n",
              "    <tr style=\"text-align: right;\">\n",
              "      <th></th>\n",
              "      <th>body</th>\n",
              "      <th>rating</th>\n",
              "    </tr>\n",
              "  </thead>\n",
              "  <tbody>\n",
              "    <tr>\n",
              "      <th>0</th>\n",
              "      <td>I had the Samsung A600 for awhile which is abs...</td>\n",
              "      <td>3.0</td>\n",
              "    </tr>\n",
              "    <tr>\n",
              "      <th>1</th>\n",
              "      <td>Due to a software issue between Nokia and Spri...</td>\n",
              "      <td>1.0</td>\n",
              "    </tr>\n",
              "    <tr>\n",
              "      <th>2</th>\n",
              "      <td>This is a great, reliable phone. I also purcha...</td>\n",
              "      <td>5.0</td>\n",
              "    </tr>\n",
              "    <tr>\n",
              "      <th>3</th>\n",
              "      <td>I love the phone and all, because I really did...</td>\n",
              "      <td>3.0</td>\n",
              "    </tr>\n",
              "    <tr>\n",
              "      <th>4</th>\n",
              "      <td>The phone has been great for every purpose it ...</td>\n",
              "      <td>4.0</td>\n",
              "    </tr>\n",
              "    <tr>\n",
              "      <th>5</th>\n",
              "      <td>Cool. Cheap. Color: 3 words that describe the ...</td>\n",
              "      <td>5.0</td>\n",
              "    </tr>\n",
              "    <tr>\n",
              "      <th>6</th>\n",
              "      <td>The 3599i is overall a nice phone, except that...</td>\n",
              "      <td>4.0</td>\n",
              "    </tr>\n",
              "    <tr>\n",
              "      <th>7</th>\n",
              "      <td>I've never owned a Nokia phone before, so this...</td>\n",
              "      <td>5.0</td>\n",
              "    </tr>\n",
              "    <tr>\n",
              "      <th>8</th>\n",
              "      <td>ok well im in school and i need the text messa...</td>\n",
              "      <td>3.0</td>\n",
              "    </tr>\n",
              "    <tr>\n",
              "      <th>9</th>\n",
              "      <td>I've had this phone for over a year and I real...</td>\n",
              "      <td>4.0</td>\n",
              "    </tr>\n",
              "  </tbody>\n",
              "</table>\n",
              "</div>\n",
              "      <button class=\"colab-df-convert\" onclick=\"convertToInteractive('df-b2e21751-9414-4dbf-8aae-8accfc12e0dc')\"\n",
              "              title=\"Convert this dataframe to an interactive table.\"\n",
              "              style=\"display:none;\">\n",
              "\n",
              "  <svg xmlns=\"http://www.w3.org/2000/svg\" height=\"24px\"viewBox=\"0 0 24 24\"\n",
              "       width=\"24px\">\n",
              "    <path d=\"M0 0h24v24H0V0z\" fill=\"none\"/>\n",
              "    <path d=\"M18.56 5.44l.94 2.06.94-2.06 2.06-.94-2.06-.94-.94-2.06-.94 2.06-2.06.94zm-11 1L8.5 8.5l.94-2.06 2.06-.94-2.06-.94L8.5 2.5l-.94 2.06-2.06.94zm10 10l.94 2.06.94-2.06 2.06-.94-2.06-.94-.94-2.06-.94 2.06-2.06.94z\"/><path d=\"M17.41 7.96l-1.37-1.37c-.4-.4-.92-.59-1.43-.59-.52 0-1.04.2-1.43.59L10.3 9.45l-7.72 7.72c-.78.78-.78 2.05 0 2.83L4 21.41c.39.39.9.59 1.41.59.51 0 1.02-.2 1.41-.59l7.78-7.78 2.81-2.81c.8-.78.8-2.07 0-2.86zM5.41 20L4 18.59l7.72-7.72 1.47 1.35L5.41 20z\"/>\n",
              "  </svg>\n",
              "      </button>\n",
              "\n",
              "\n",
              "\n",
              "    <div id=\"df-b1c49b12-c27a-492d-a3ef-a00aa4d3e1d2\">\n",
              "      <button class=\"colab-df-quickchart\" onclick=\"quickchart('df-b1c49b12-c27a-492d-a3ef-a00aa4d3e1d2')\"\n",
              "              title=\"Suggest charts.\"\n",
              "              style=\"display:none;\">\n",
              "\n",
              "<svg xmlns=\"http://www.w3.org/2000/svg\" height=\"24px\"viewBox=\"0 0 24 24\"\n",
              "     width=\"24px\">\n",
              "    <g>\n",
              "        <path d=\"M19 3H5c-1.1 0-2 .9-2 2v14c0 1.1.9 2 2 2h14c1.1 0 2-.9 2-2V5c0-1.1-.9-2-2-2zM9 17H7v-7h2v7zm4 0h-2V7h2v10zm4 0h-2v-4h2v4z\"/>\n",
              "    </g>\n",
              "</svg>\n",
              "      </button>\n",
              "    </div>\n",
              "\n",
              "<style>\n",
              "  .colab-df-quickchart {\n",
              "    background-color: #E8F0FE;\n",
              "    border: none;\n",
              "    border-radius: 50%;\n",
              "    cursor: pointer;\n",
              "    display: none;\n",
              "    fill: #1967D2;\n",
              "    height: 32px;\n",
              "    padding: 0 0 0 0;\n",
              "    width: 32px;\n",
              "  }\n",
              "\n",
              "  .colab-df-quickchart:hover {\n",
              "    background-color: #E2EBFA;\n",
              "    box-shadow: 0px 1px 2px rgba(60, 64, 67, 0.3), 0px 1px 3px 1px rgba(60, 64, 67, 0.15);\n",
              "    fill: #174EA6;\n",
              "  }\n",
              "\n",
              "  [theme=dark] .colab-df-quickchart {\n",
              "    background-color: #3B4455;\n",
              "    fill: #D2E3FC;\n",
              "  }\n",
              "\n",
              "  [theme=dark] .colab-df-quickchart:hover {\n",
              "    background-color: #434B5C;\n",
              "    box-shadow: 0px 1px 3px 1px rgba(0, 0, 0, 0.15);\n",
              "    filter: drop-shadow(0px 1px 2px rgba(0, 0, 0, 0.3));\n",
              "    fill: #FFFFFF;\n",
              "  }\n",
              "</style>\n",
              "\n",
              "    <script>\n",
              "      async function quickchart(key) {\n",
              "        const containerElement = document.querySelector('#' + key);\n",
              "        const charts = await google.colab.kernel.invokeFunction(\n",
              "            'suggestCharts', [key], {});\n",
              "      }\n",
              "    </script>\n",
              "\n",
              "      <script>\n",
              "\n",
              "function displayQuickchartButton(domScope) {\n",
              "  let quickchartButtonEl =\n",
              "    domScope.querySelector('#df-b1c49b12-c27a-492d-a3ef-a00aa4d3e1d2 button.colab-df-quickchart');\n",
              "  quickchartButtonEl.style.display =\n",
              "    google.colab.kernel.accessAllowed ? 'block' : 'none';\n",
              "}\n",
              "\n",
              "        displayQuickchartButton(document);\n",
              "      </script>\n",
              "      <style>\n",
              "    .colab-df-container {\n",
              "      display:flex;\n",
              "      flex-wrap:wrap;\n",
              "      gap: 12px;\n",
              "    }\n",
              "\n",
              "    .colab-df-convert {\n",
              "      background-color: #E8F0FE;\n",
              "      border: none;\n",
              "      border-radius: 50%;\n",
              "      cursor: pointer;\n",
              "      display: none;\n",
              "      fill: #1967D2;\n",
              "      height: 32px;\n",
              "      padding: 0 0 0 0;\n",
              "      width: 32px;\n",
              "    }\n",
              "\n",
              "    .colab-df-convert:hover {\n",
              "      background-color: #E2EBFA;\n",
              "      box-shadow: 0px 1px 2px rgba(60, 64, 67, 0.3), 0px 1px 3px 1px rgba(60, 64, 67, 0.15);\n",
              "      fill: #174EA6;\n",
              "    }\n",
              "\n",
              "    [theme=dark] .colab-df-convert {\n",
              "      background-color: #3B4455;\n",
              "      fill: #D2E3FC;\n",
              "    }\n",
              "\n",
              "    [theme=dark] .colab-df-convert:hover {\n",
              "      background-color: #434B5C;\n",
              "      box-shadow: 0px 1px 3px 1px rgba(0, 0, 0, 0.15);\n",
              "      filter: drop-shadow(0px 1px 2px rgba(0, 0, 0, 0.3));\n",
              "      fill: #FFFFFF;\n",
              "    }\n",
              "  </style>\n",
              "\n",
              "      <script>\n",
              "        const buttonEl =\n",
              "          document.querySelector('#df-b2e21751-9414-4dbf-8aae-8accfc12e0dc button.colab-df-convert');\n",
              "        buttonEl.style.display =\n",
              "          google.colab.kernel.accessAllowed ? 'block' : 'none';\n",
              "\n",
              "        async function convertToInteractive(key) {\n",
              "          const element = document.querySelector('#df-b2e21751-9414-4dbf-8aae-8accfc12e0dc');\n",
              "          const dataTable =\n",
              "            await google.colab.kernel.invokeFunction('convertToInteractive',\n",
              "                                                     [key], {});\n",
              "          if (!dataTable) return;\n",
              "\n",
              "          const docLinkHtml = 'Like what you see? Visit the ' +\n",
              "            '<a target=\"_blank\" href=https://colab.research.google.com/notebooks/data_table.ipynb>data table notebook</a>'\n",
              "            + ' to learn more about interactive tables.';\n",
              "          element.innerHTML = '';\n",
              "          dataTable['output_type'] = 'display_data';\n",
              "          await google.colab.output.renderOutput(dataTable, element);\n",
              "          const docLink = document.createElement('div');\n",
              "          docLink.innerHTML = docLinkHtml;\n",
              "          element.appendChild(docLink);\n",
              "        }\n",
              "      </script>\n",
              "    </div>\n",
              "  </div>\n"
            ]
          },
          "metadata": {},
          "execution_count": 137
        }
      ]
    },
    {
      "cell_type": "markdown",
      "source": [
        "# Separação em base de treino e teste"
      ],
      "metadata": {
        "id": "oItu2BZdEXnJ"
      }
    },
    {
      "cell_type": "code",
      "source": [
        "X_train, X_test, y_train, y_test = train_test_split(df_bin.body,df_bin.rating,test_size=0.2)\n",
        "R_train, R_test, t_train, t_test = train_test_split(df_mult.body,df_mult.rating,test_size=0.2)"
      ],
      "metadata": {
        "id": "5nK8C3DPYo9P"
      },
      "execution_count": 138,
      "outputs": []
    },
    {
      "cell_type": "markdown",
      "source": [
        "# Carrega o BERT preprocessor e encoder\n",
        "O modelo BERT (Bidirectional Encoder Representations from Transformers) é um modelo de linguagem pré-treinado desenvolvido pelo Google que possui uma arquitetura baseada em transformers. No escopo desse trabalho o BERT foi utilizado para classificação de texto."
      ],
      "metadata": {
        "id": "wsggmXbMF9Tp"
      }
    },
    {
      "cell_type": "code",
      "source": [
        "bert_preprocess = hub.KerasLayer(\"https://tfhub.dev/tensorflow/bert_en_uncased_preprocess/3\")\n",
        "bert_encoder = hub.KerasLayer(\"https://tfhub.dev/tensorflow/bert_en_uncased_L-12_H-768_A-12/4\")"
      ],
      "metadata": {
        "id": "gPxWP4eVZPYN"
      },
      "execution_count": 139,
      "outputs": []
    },
    {
      "cell_type": "code",
      "source": [
        "def get_sentense_embeding(sentences):\n",
        "    preprocesed_text=bert_preprocess(sentences)\n",
        "    return bert_encoder(preprocesed_text)['pooled_output']\n",
        "get_sentense_embeding([\n",
        "    df_bin.body[5],df_bin.body[1]\n",
        "])"
      ],
      "metadata": {
        "colab": {
          "base_uri": "https://localhost:8080/"
        },
        "id": "mRhbQ5M-ZYa5",
        "outputId": "6d7ce9bc-e071-4b38-d405-c5bfe2c3fe0b"
      },
      "execution_count": 140,
      "outputs": [
        {
          "output_type": "execute_result",
          "data": {
            "text/plain": [
              "<tf.Tensor: shape=(2, 768), dtype=float32, numpy=\n",
              "array([[-0.66974694, -0.55856156, -0.9775242 , ..., -0.939019  ,\n",
              "        -0.6770846 ,  0.6674904 ],\n",
              "       [-0.78146726, -0.6098954 , -0.9507825 , ..., -0.92656064,\n",
              "        -0.7495821 ,  0.5948985 ]], dtype=float32)>"
            ]
          },
          "metadata": {},
          "execution_count": 140
        }
      ]
    },
    {
      "cell_type": "code",
      "source": [
        "#1 neuronio de saída com ativação sigmoid\n",
        "text_input=tf.keras.layers.Input(shape=(),dtype=tf.string,name='text')\n",
        "preprocessed_text=bert_preprocess(text_input)\n",
        "outputs=bert_encoder(preprocessed_text)\n",
        "l=tf.keras.layers.Dropout(0.1,name='dropout')(outputs['pooled_output'])\n",
        "l=tf.keras.layers.Dense(1,activation='sigmoid',name='output')(l)\n",
        "model_bin=tf.keras.Model(inputs=[text_input],outputs=[l])\n",
        "\n",
        "\n",
        "#Alterado para considerar as 5 classses e ativação softmax\n",
        "text_input=tf.keras.layers.Input(shape=(),dtype=tf.string,name='text')\n",
        "preprocessed_text=bert_preprocess(text_input)\n",
        "outputs=bert_encoder(preprocessed_text)\n",
        "l=tf.keras.layers.Dropout(0.1,name='dropout')(outputs['pooled_output'])\n",
        "l=tf.keras.layers.Dense(5,activation='softmax',name='output')(l)\n",
        "model_mult=tf.keras.Model(inputs=[text_input],outputs=[l])"
      ],
      "metadata": {
        "id": "NS4Lw_lwZZT_"
      },
      "execution_count": 141,
      "outputs": []
    },
    {
      "cell_type": "code",
      "source": [
        "model_bin.summary()"
      ],
      "metadata": {
        "colab": {
          "base_uri": "https://localhost:8080/"
        },
        "id": "ecLuFW2-ZcEV",
        "outputId": "a7c072bc-75c0-4226-e4fe-2118a98faa43"
      },
      "execution_count": 142,
      "outputs": [
        {
          "output_type": "stream",
          "name": "stdout",
          "text": [
            "Model: \"model_8\"\n",
            "__________________________________________________________________________________________________\n",
            " Layer (type)                Output Shape                 Param #   Connected to                  \n",
            "==================================================================================================\n",
            " text (InputLayer)           [(None,)]                    0         []                            \n",
            "                                                                                                  \n",
            " keras_layer_8 (KerasLayer)  {'input_type_ids': (None,    0         ['text[0][0]']                \n",
            "                             128),                                                                \n",
            "                              'input_word_ids': (None,                                            \n",
            "                             128),                                                                \n",
            "                              'input_mask': (None, 128)                                           \n",
            "                             }                                                                    \n",
            "                                                                                                  \n",
            " keras_layer_9 (KerasLayer)  {'sequence_output': (None,   1094822   ['keras_layer_8[0][0]',       \n",
            "                              128, 768),                  41         'keras_layer_8[0][1]',       \n",
            "                              'pooled_output': (None, 7              'keras_layer_8[0][2]']       \n",
            "                             68),                                                                 \n",
            "                              'default': (None, 768),                                             \n",
            "                              'encoder_outputs': [(None                                           \n",
            "                             , 128, 768),                                                         \n",
            "                              (None, 128, 768),                                                   \n",
            "                              (None, 128, 768),                                                   \n",
            "                              (None, 128, 768),                                                   \n",
            "                              (None, 128, 768),                                                   \n",
            "                              (None, 128, 768),                                                   \n",
            "                              (None, 128, 768),                                                   \n",
            "                              (None, 128, 768),                                                   \n",
            "                              (None, 128, 768),                                                   \n",
            "                              (None, 128, 768),                                                   \n",
            "                              (None, 128, 768),                                                   \n",
            "                              (None, 128, 768)]}                                                  \n",
            "                                                                                                  \n",
            " dropout (Dropout)           (None, 768)                  0         ['keras_layer_9[0][13]']      \n",
            "                                                                                                  \n",
            " output (Dense)              (None, 1)                    769       ['dropout[0][0]']             \n",
            "                                                                                                  \n",
            "==================================================================================================\n",
            "Total params: 109483010 (417.64 MB)\n",
            "Trainable params: 769 (3.00 KB)\n",
            "Non-trainable params: 109482241 (417.64 MB)\n",
            "__________________________________________________________________________________________________\n"
          ]
        }
      ]
    },
    {
      "cell_type": "code",
      "source": [
        "METRICS_BIN=[\n",
        "    tf.keras.metrics.BinaryAccuracy(name='accuracy'),\n",
        "    tf.keras.metrics.Precision(name='precision'),\n",
        "    tf.keras.metrics.Recall(name='recall')\n",
        "]\n",
        "\n",
        "METRICS_MULT=[\n",
        "    tf.keras.metrics.CategoricalAccuracy(name='accuracy'),\n",
        "    tf.keras.metrics.Precision(name='precision'),\n",
        "    tf.keras.metrics.Recall(name='recall')\n",
        "]\n",
        "\n",
        "model_mult.compile(optimizer='adam',loss='categorical_crossentropy',metrics=METRICS_MULT)\n",
        "model_bin.compile(optimizer='adam',loss='binary_crossentropy',metrics=METRICS_BIN)"
      ],
      "metadata": {
        "id": "WA5JyZcBdZO-"
      },
      "execution_count": 143,
      "outputs": []
    },
    {
      "cell_type": "code",
      "source": [
        "if CARGA_PESOS_MODELO_BIN:\n",
        "  model_bin.load_weights(PATH_PESOS_COLAB_FILE_BIN) #Carrega os pesos do modelo\n",
        "  history = keras.callbacks.History()\n",
        "  path = PATH_PESOS_COLAB_FOLDER + 'history_bin.pkl'\n",
        "  with open(path, 'rb') as f:\n",
        "    history.history = pickle.load(f)\n",
        "else:\n",
        "  history = model_bin.fit(X_train,y_train,epochs=10)\n",
        "  model_bin.save_weights(PATH_PESOS_COLAB_FILE_BIN) #Salva os pesos do modelo\n",
        "  # Salvar o histórico de treinamento\n",
        "  path = PATH_PESOS_COLAB_FOLDER + 'history_bin.pkl'\n",
        "  with open(path, 'wb') as f:\n",
        "      pickle.dump(history.history, f)"
      ],
      "metadata": {
        "colab": {
          "base_uri": "https://localhost:8080/"
        },
        "id": "0RLbNJlhdgd6",
        "outputId": "8b90921c-c73d-4c07-c5fc-906550b4ed43"
      },
      "execution_count": 144,
      "outputs": [
        {
          "output_type": "stream",
          "name": "stdout",
          "text": [
            "Epoch 1/10\n",
            "82/82 [==============================] - 37s 318ms/step - loss: 0.6210 - accuracy: 0.7044 - precision: 0.7231 - recall: 0.9590\n",
            "Epoch 2/10\n",
            "82/82 [==============================] - 27s 325ms/step - loss: 0.6085 - accuracy: 0.7222 - precision: 0.7237 - recall: 0.9968\n",
            "Epoch 3/10\n",
            "82/82 [==============================] - 26s 322ms/step - loss: 0.6005 - accuracy: 0.7195 - precision: 0.7233 - recall: 0.9920\n",
            "Epoch 4/10\n",
            "82/82 [==============================] - 26s 317ms/step - loss: 0.5960 - accuracy: 0.7233 - precision: 0.7251 - recall: 0.9952\n",
            "Epoch 5/10\n",
            "82/82 [==============================] - 26s 319ms/step - loss: 0.6024 - accuracy: 0.7222 - precision: 0.7241 - recall: 0.9957\n",
            "Epoch 6/10\n",
            "82/82 [==============================] - 26s 322ms/step - loss: 0.6097 - accuracy: 0.7175 - precision: 0.7233 - recall: 0.9878\n",
            "Epoch 7/10\n",
            "82/82 [==============================] - 26s 320ms/step - loss: 0.6040 - accuracy: 0.7229 - precision: 0.7246 - recall: 0.9957\n",
            "Epoch 8/10\n",
            "82/82 [==============================] - 26s 319ms/step - loss: 0.6041 - accuracy: 0.7210 - precision: 0.7244 - recall: 0.9920\n",
            "Epoch 9/10\n",
            "82/82 [==============================] - 26s 320ms/step - loss: 0.5988 - accuracy: 0.7233 - precision: 0.7254 - recall: 0.9941\n",
            "Epoch 10/10\n",
            "82/82 [==============================] - 26s 319ms/step - loss: 0.5955 - accuracy: 0.7214 - precision: 0.7237 - recall: 0.9952\n"
          ]
        }
      ]
    },
    {
      "cell_type": "code",
      "source": [
        "if CARGA_PESOS_MODELO_MLT:\n",
        "  model_bin.load_weights(PATH_PESOS_COLAB_FILE_MLT) #Carrega os pesos do modelo\n",
        "  history_mult = keras.callbacks.History()\n",
        "  path = PATH_PESOS_COLAB_FOLDER + 'history_mlt.pkl'\n",
        "  with open(path, 'rb') as f:\n",
        "    history_mult.history = pickle.load(f)\n",
        "else:\n",
        "  #Converta os rótulos de classe em codificação one-hot\n",
        "  t_train_adjusted = t_train - 1\n",
        "  t_train_one_hot = tf.keras.utils.to_categorical(t_train_adjusted, num_classes=5)\n",
        "  #print(t_train_one_hot)\n",
        "  history_mult = model_mult.fit(R_train,t_train_one_hot,epochs=10)\n",
        "  model_mult.save_weights(PATH_PESOS_COLAB_FILE_MLT) #Salva os pesos do modelo\n",
        "  # Salvar o histórico de treinamento\n",
        "  path = PATH_PESOS_COLAB_FOLDER + 'history_mlt.pkl'\n",
        "  with open(path, 'wb') as f:\n",
        "      pickle.dump(history_mult.history, f)"
      ],
      "metadata": {
        "id": "iHEmVpZWwDcT",
        "outputId": "715d7a2b-a2e1-4ad1-c804-01dd71bc7759",
        "colab": {
          "base_uri": "https://localhost:8080/"
        }
      },
      "execution_count": null,
      "outputs": [
        {
          "output_type": "stream",
          "name": "stdout",
          "text": [
            "Epoch 1/10\n",
            "89/89 [==============================] - 31s 321ms/step - loss: 1.3925 - accuracy: 0.5014 - precision: 0.5562 - recall: 0.3218\n",
            "Epoch 2/10\n",
            "89/89 [==============================] - 29s 324ms/step - loss: 1.2865 - accuracy: 0.5265 - precision: 0.6108 - recall: 0.3479\n",
            "Epoch 3/10\n",
            "89/89 [==============================] - 29s 325ms/step - loss: 1.2569 - accuracy: 0.5470 - precision: 0.6623 - recall: 0.3731\n",
            "Epoch 4/10\n",
            "89/89 [==============================] - 29s 321ms/step - loss: 1.2122 - accuracy: 0.5605 - precision: 0.6792 - recall: 0.3907\n",
            "Epoch 5/10\n",
            "28/89 [========>.....................] - ETA: 19s - loss: 1.1669 - accuracy: 0.5826 - precision: 0.6846 - recall: 0.4263"
          ]
        }
      ]
    },
    {
      "cell_type": "code",
      "source": [
        "#Converta os rótulos de classe em codificação one-hot\n",
        "#t_train_adjusted = t_train - 1\n",
        "#t_train_one_hot = tf.keras.utils.to_categorical(t_train_adjusted, num_classes=5)\n",
        "#print(t_train_one_hot)\n",
        "#history_mult = model_mult.fit(R_train,t_train_one_hot,epochs=2)"
      ],
      "metadata": {
        "id": "eEgVP7m-fCDd"
      },
      "execution_count": null,
      "outputs": []
    },
    {
      "cell_type": "code",
      "source": [
        "type(history)"
      ],
      "metadata": {
        "id": "p1HgJVXLq2-_"
      },
      "execution_count": null,
      "outputs": []
    },
    {
      "cell_type": "code",
      "source": [
        "history.history"
      ],
      "metadata": {
        "id": "vItlAZeCrFxs"
      },
      "execution_count": null,
      "outputs": []
    },
    {
      "cell_type": "code",
      "source": [
        "import matplotlib.pyplot as plt\n",
        "\n",
        "# Criação da grade de subplots\n",
        "fig, axes = plt.subplots(1, 2, figsize=(10, 5))\n",
        "\n",
        "# Obtendo os scores de treinamento do histórico\n",
        "train_scores_mult = history_mult.history['accuracy']\n",
        "train_scores = history.history['accuracy']\n",
        "\n",
        "# Plotando a curva de aprendizado\n",
        "axes[0].plot(range(1, 11), train_scores, label='Treinamento')\n",
        "axes[0].set_xlabel('Época')\n",
        "axes[0].set_ylabel('Acurácia')\n",
        "axes[0].set_title('Curva de Aprendizado Binário')\n",
        "axes[0].legend()\n",
        "\n",
        "\n",
        "# Plotando a curva de aprendizado\n",
        "axes[1].plot(range(1, 11), train_scores_mult, label='Treinamento')\n",
        "axes[1].set_xlabel('Época')\n",
        "axes[1].set_ylabel('Acurácia')\n",
        "axes[1].set_title('Curva de Aprendizado 5 Classes')\n",
        "axes[1].legend()\n",
        "\n",
        "plt.show()\n"
      ],
      "metadata": {
        "id": "beLde0-WJQAl"
      },
      "execution_count": null,
      "outputs": []
    },
    {
      "cell_type": "code",
      "source": [
        "model_bin.evaluate(X_test,y_test)"
      ],
      "metadata": {
        "id": "swm5kHhJhLd3"
      },
      "execution_count": null,
      "outputs": []
    },
    {
      "cell_type": "code",
      "source": [
        "#Converta os rótulos de classe em codificação one-hot\n",
        "t_test_adjusted = t_test - 1\n",
        "t_test_one_hot = tf.keras.utils.to_categorical(t_test_adjusted, num_classes=5)\n",
        "\n",
        "model_mult.evaluate(R_test,t_test_one_hot)"
      ],
      "metadata": {
        "id": "UXM5HqdUmcNx"
      },
      "execution_count": null,
      "outputs": []
    },
    {
      "cell_type": "code",
      "source": [
        "y_pred=model_bin.predict(X_test)\n",
        "y_pred=y_pred.flatten()"
      ],
      "metadata": {
        "id": "Z8JrJ3oQhkOY"
      },
      "execution_count": null,
      "outputs": []
    },
    {
      "cell_type": "code",
      "source": [
        "t_pred=model_mult.predict(R_test)\n",
        "#t_pred=y_pred.flatten()\n",
        "print(t_pred)"
      ],
      "metadata": {
        "id": "46-iySJjrGTM"
      },
      "execution_count": null,
      "outputs": []
    },
    {
      "cell_type": "code",
      "source": [
        "t_pred_classes = np.argmax(t_pred, axis=1)\n",
        "#print(t_pred_classes)"
      ],
      "metadata": {
        "id": "YjnrVpXKpJOE"
      },
      "execution_count": null,
      "outputs": []
    },
    {
      "cell_type": "code",
      "source": [
        "y_pred=np.where(y_pred>0.5,1,0)\n",
        "#y_pred"
      ],
      "metadata": {
        "id": "uBZe1GxliAuy"
      },
      "execution_count": null,
      "outputs": []
    },
    {
      "cell_type": "code",
      "source": [
        "from sklearn.metrics import confusion_matrix, classification_report\n",
        "cm=confusion_matrix(y_test,y_pred)\n",
        "t_test = t_test - 1\n",
        "cm_mult=confusion_matrix(t_test,t_pred_classes)"
      ],
      "metadata": {
        "id": "3NFlDhDIiM2e"
      },
      "execution_count": null,
      "outputs": []
    },
    {
      "cell_type": "code",
      "source": [
        "from matplotlib import pyplot as plt\n",
        "import seaborn as sns\n",
        "sns.heatmap(cm_mult,annot=True,fmt='d')\n",
        "\n",
        "plt.xlabel(\"Predicted\")\n",
        "plt.ylabel(\"Truth\")"
      ],
      "metadata": {
        "id": "oIvYSiQ4tDaX"
      },
      "execution_count": null,
      "outputs": []
    },
    {
      "cell_type": "code",
      "source": [
        "print(classification_report(t_test,t_pred_classes,zero_division=1))"
      ],
      "metadata": {
        "id": "usEJmR-AcksZ"
      },
      "execution_count": null,
      "outputs": []
    },
    {
      "cell_type": "code",
      "source": [
        "from matplotlib import pyplot as plt\n",
        "import seaborn as sns\n",
        "sns.heatmap(cm,annot=True,fmt='d')\n",
        "\n",
        "plt.xlabel(\"Predicted\")\n",
        "plt.ylabel(\"Truth\")"
      ],
      "metadata": {
        "id": "UQzllGjjtXrV"
      },
      "execution_count": null,
      "outputs": []
    },
    {
      "cell_type": "code",
      "source": [
        "print(classification_report(y_test,y_pred))"
      ],
      "metadata": {
        "id": "k2rQUS7Ptdpo"
      },
      "execution_count": null,
      "outputs": []
    },
    {
      "cell_type": "code",
      "source": [
        "from sklearn.metrics import roc_curve, auc\n",
        "import matplotlib.pyplot as plt"
      ],
      "metadata": {
        "id": "maI39LSwnwrh"
      },
      "execution_count": null,
      "outputs": []
    },
    {
      "cell_type": "code",
      "source": [
        "fpr, tpr, thresholds = roc_curve(y_test,y_pred)\n",
        "roc_auc = auc(fpr, tpr)\n",
        "\n",
        "# Plotar a curva ROC\n",
        "plt.plot(fpr, tpr, label='Curva ROC (AUC = %0.2f)' % roc_auc)\n",
        "plt.plot([0, 1], [0, 1], 'k--')\n",
        "plt.xlim([0.0, 1.0])\n",
        "plt.ylim([0.0, 1.05])\n",
        "plt.xlabel('Taxa de Falsos Positivos')\n",
        "plt.ylabel('Taxa de Verdadeiros Positivos')\n",
        "plt.title('Curva ROC')\n",
        "plt.legend(loc=\"lower right\")\n",
        "plt.show()\n",
        "\n",
        "# Imprimir o valor da AUC\n",
        "print('Área sob a curva (AUC):', roc_auc)"
      ],
      "metadata": {
        "id": "egCv2VNJn1hI"
      },
      "execution_count": null,
      "outputs": []
    }
  ]
}