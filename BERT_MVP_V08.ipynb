{
  "nbformat": 4,
  "nbformat_minor": 0,
  "metadata": {
    "colab": {
      "provenance": [],
      "gpuType": "T4",
      "machine_shape": "hm",
      "authorship_tag": "ABX9TyNgHBgaDdT5uEsR+dcYfizn",
      "include_colab_link": true
    },
    "kernelspec": {
      "name": "python3",
      "display_name": "Python 3"
    },
    "language_info": {
      "name": "python"
    },
    "accelerator": "GPU"
  },
  "cells": [
    {
      "cell_type": "markdown",
      "metadata": {
        "id": "view-in-github",
        "colab_type": "text"
      },
      "source": [
        "<a href=\"https://colab.research.google.com/github/safreitas2000/ml-analytics-mvp/blob/main/BERT_MVP_V08.ipynb\" target=\"_parent\"><img src=\"https://colab.research.google.com/assets/colab-badge.svg\" alt=\"Open In Colab\"/></a>"
      ]
    },
    {
      "cell_type": "markdown",
      "source": [
        "# MVP Disciplina Machine Learning & Analytics - Modelo Deep Learning - MVP Letra b.\n",
        "\n",
        "**b.** Modelo baseado em Deep Learning para resolver problema de Classificação de Texto e Análise de Sentimento em Processamento de Linguagem Natural (PLN).</br>\n",
        "**DataSet:** Amazon Cell Phones Reviews https://www.kaggle.com/datasets/grikomsn/amazon-cell-phones-reviews. É uma base de avaliação de celulares, foi escolhida por questão didática para ilustrar um problema de classificação de texto e análise de sentimento. O dataset possui um conjunto de informações sobre as avaliações, como por exemplo: nome do avaliador, data, utilidade, body e rating. Para o escopo desse trabalho selecionamos 2 atributos do dataset: body e rating, sendo o body a avaliação do celular e o rating uma nota atribuída pelo avaliador que pode variar de 1 até 5, sendo 1 muito ruim e 5 excelente.</br>\n",
        "**Qual é a descrição do problema?** É um problema de classificação de texto e análise de sentimento. Dado o texto de uma avaliação de celular precisamos determinar se a avaliação é positiva ou negativa.</br>\n",
        "**Você tem premissas ou hipóteses sobre o problema? Quais?** Foi observado por amostragem que avaliações 1 e 2 são mais negativas enquanto 4 e 5 mais positivas. Vamos realizar a classificação com 5 classes para avaliação dos resultados, entretanto acredito que transformar o problema em uma classificação binária, para definir se a avaliação é positiva ou negativa deve apresentar uma melhor performance. </br>"
      ],
      "metadata": {
        "id": "WRMtLK4QCqsV"
      }
    },
    {
      "cell_type": "code",
      "source": [
        "!pip install tensorflow-text"
      ],
      "metadata": {
        "colab": {
          "base_uri": "https://localhost:8080/"
        },
        "id": "UU9h8pNVWcKx",
        "outputId": "3a5d24d6-87c9-4354-b2c4-4264fe885919"
      },
      "execution_count": 1,
      "outputs": [
        {
          "output_type": "stream",
          "name": "stdout",
          "text": [
            "Requirement already satisfied: tensorflow-text in /usr/local/lib/python3.10/dist-packages (2.13.0)\n",
            "Requirement already satisfied: tensorflow-hub>=0.8.0 in /usr/local/lib/python3.10/dist-packages (from tensorflow-text) (0.14.0)\n",
            "Requirement already satisfied: tensorflow<2.14,>=2.13.0 in /usr/local/lib/python3.10/dist-packages (from tensorflow-text) (2.13.0)\n",
            "Requirement already satisfied: absl-py>=1.0.0 in /usr/local/lib/python3.10/dist-packages (from tensorflow<2.14,>=2.13.0->tensorflow-text) (1.4.0)\n",
            "Requirement already satisfied: astunparse>=1.6.0 in /usr/local/lib/python3.10/dist-packages (from tensorflow<2.14,>=2.13.0->tensorflow-text) (1.6.3)\n",
            "Requirement already satisfied: flatbuffers>=23.1.21 in /usr/local/lib/python3.10/dist-packages (from tensorflow<2.14,>=2.13.0->tensorflow-text) (23.5.26)\n",
            "Requirement already satisfied: gast<=0.4.0,>=0.2.1 in /usr/local/lib/python3.10/dist-packages (from tensorflow<2.14,>=2.13.0->tensorflow-text) (0.4.0)\n",
            "Requirement already satisfied: google-pasta>=0.1.1 in /usr/local/lib/python3.10/dist-packages (from tensorflow<2.14,>=2.13.0->tensorflow-text) (0.2.0)\n",
            "Requirement already satisfied: grpcio<2.0,>=1.24.3 in /usr/local/lib/python3.10/dist-packages (from tensorflow<2.14,>=2.13.0->tensorflow-text) (1.56.0)\n",
            "Requirement already satisfied: h5py>=2.9.0 in /usr/local/lib/python3.10/dist-packages (from tensorflow<2.14,>=2.13.0->tensorflow-text) (3.8.0)\n",
            "Requirement already satisfied: keras<2.14,>=2.13.1 in /usr/local/lib/python3.10/dist-packages (from tensorflow<2.14,>=2.13.0->tensorflow-text) (2.13.1)\n",
            "Requirement already satisfied: libclang>=13.0.0 in /usr/local/lib/python3.10/dist-packages (from tensorflow<2.14,>=2.13.0->tensorflow-text) (16.0.0)\n",
            "Requirement already satisfied: numpy<=1.24.3,>=1.22 in /usr/local/lib/python3.10/dist-packages (from tensorflow<2.14,>=2.13.0->tensorflow-text) (1.22.4)\n",
            "Requirement already satisfied: opt-einsum>=2.3.2 in /usr/local/lib/python3.10/dist-packages (from tensorflow<2.14,>=2.13.0->tensorflow-text) (3.3.0)\n",
            "Requirement already satisfied: packaging in /usr/local/lib/python3.10/dist-packages (from tensorflow<2.14,>=2.13.0->tensorflow-text) (23.1)\n",
            "Requirement already satisfied: protobuf!=4.21.0,!=4.21.1,!=4.21.2,!=4.21.3,!=4.21.4,!=4.21.5,<5.0.0dev,>=3.20.3 in /usr/local/lib/python3.10/dist-packages (from tensorflow<2.14,>=2.13.0->tensorflow-text) (3.20.3)\n",
            "Requirement already satisfied: setuptools in /usr/local/lib/python3.10/dist-packages (from tensorflow<2.14,>=2.13.0->tensorflow-text) (67.7.2)\n",
            "Requirement already satisfied: six>=1.12.0 in /usr/local/lib/python3.10/dist-packages (from tensorflow<2.14,>=2.13.0->tensorflow-text) (1.16.0)\n",
            "Requirement already satisfied: tensorboard<2.14,>=2.13 in /usr/local/lib/python3.10/dist-packages (from tensorflow<2.14,>=2.13.0->tensorflow-text) (2.13.0)\n",
            "Requirement already satisfied: tensorflow-estimator<2.14,>=2.13.0 in /usr/local/lib/python3.10/dist-packages (from tensorflow<2.14,>=2.13.0->tensorflow-text) (2.13.0)\n",
            "Requirement already satisfied: termcolor>=1.1.0 in /usr/local/lib/python3.10/dist-packages (from tensorflow<2.14,>=2.13.0->tensorflow-text) (2.3.0)\n",
            "Requirement already satisfied: typing-extensions<4.6.0,>=3.6.6 in /usr/local/lib/python3.10/dist-packages (from tensorflow<2.14,>=2.13.0->tensorflow-text) (4.5.0)\n",
            "Requirement already satisfied: wrapt>=1.11.0 in /usr/local/lib/python3.10/dist-packages (from tensorflow<2.14,>=2.13.0->tensorflow-text) (1.14.1)\n",
            "Requirement already satisfied: tensorflow-io-gcs-filesystem>=0.23.1 in /usr/local/lib/python3.10/dist-packages (from tensorflow<2.14,>=2.13.0->tensorflow-text) (0.32.0)\n",
            "Requirement already satisfied: wheel<1.0,>=0.23.0 in /usr/local/lib/python3.10/dist-packages (from astunparse>=1.6.0->tensorflow<2.14,>=2.13.0->tensorflow-text) (0.40.0)\n",
            "Requirement already satisfied: google-auth<3,>=1.6.3 in /usr/local/lib/python3.10/dist-packages (from tensorboard<2.14,>=2.13->tensorflow<2.14,>=2.13.0->tensorflow-text) (2.17.3)\n",
            "Requirement already satisfied: google-auth-oauthlib<1.1,>=0.5 in /usr/local/lib/python3.10/dist-packages (from tensorboard<2.14,>=2.13->tensorflow<2.14,>=2.13.0->tensorflow-text) (1.0.0)\n",
            "Requirement already satisfied: markdown>=2.6.8 in /usr/local/lib/python3.10/dist-packages (from tensorboard<2.14,>=2.13->tensorflow<2.14,>=2.13.0->tensorflow-text) (3.4.3)\n",
            "Requirement already satisfied: requests<3,>=2.21.0 in /usr/local/lib/python3.10/dist-packages (from tensorboard<2.14,>=2.13->tensorflow<2.14,>=2.13.0->tensorflow-text) (2.27.1)\n",
            "Requirement already satisfied: tensorboard-data-server<0.8.0,>=0.7.0 in /usr/local/lib/python3.10/dist-packages (from tensorboard<2.14,>=2.13->tensorflow<2.14,>=2.13.0->tensorflow-text) (0.7.1)\n",
            "Requirement already satisfied: werkzeug>=1.0.1 in /usr/local/lib/python3.10/dist-packages (from tensorboard<2.14,>=2.13->tensorflow<2.14,>=2.13.0->tensorflow-text) (2.3.6)\n",
            "Requirement already satisfied: cachetools<6.0,>=2.0.0 in /usr/local/lib/python3.10/dist-packages (from google-auth<3,>=1.6.3->tensorboard<2.14,>=2.13->tensorflow<2.14,>=2.13.0->tensorflow-text) (5.3.1)\n",
            "Requirement already satisfied: pyasn1-modules>=0.2.1 in /usr/local/lib/python3.10/dist-packages (from google-auth<3,>=1.6.3->tensorboard<2.14,>=2.13->tensorflow<2.14,>=2.13.0->tensorflow-text) (0.3.0)\n",
            "Requirement already satisfied: rsa<5,>=3.1.4 in /usr/local/lib/python3.10/dist-packages (from google-auth<3,>=1.6.3->tensorboard<2.14,>=2.13->tensorflow<2.14,>=2.13.0->tensorflow-text) (4.9)\n",
            "Requirement already satisfied: requests-oauthlib>=0.7.0 in /usr/local/lib/python3.10/dist-packages (from google-auth-oauthlib<1.1,>=0.5->tensorboard<2.14,>=2.13->tensorflow<2.14,>=2.13.0->tensorflow-text) (1.3.1)\n",
            "Requirement already satisfied: urllib3<1.27,>=1.21.1 in /usr/local/lib/python3.10/dist-packages (from requests<3,>=2.21.0->tensorboard<2.14,>=2.13->tensorflow<2.14,>=2.13.0->tensorflow-text) (1.26.16)\n",
            "Requirement already satisfied: certifi>=2017.4.17 in /usr/local/lib/python3.10/dist-packages (from requests<3,>=2.21.0->tensorboard<2.14,>=2.13->tensorflow<2.14,>=2.13.0->tensorflow-text) (2023.5.7)\n",
            "Requirement already satisfied: charset-normalizer~=2.0.0 in /usr/local/lib/python3.10/dist-packages (from requests<3,>=2.21.0->tensorboard<2.14,>=2.13->tensorflow<2.14,>=2.13.0->tensorflow-text) (2.0.12)\n",
            "Requirement already satisfied: idna<4,>=2.5 in /usr/local/lib/python3.10/dist-packages (from requests<3,>=2.21.0->tensorboard<2.14,>=2.13->tensorflow<2.14,>=2.13.0->tensorflow-text) (3.4)\n",
            "Requirement already satisfied: MarkupSafe>=2.1.1 in /usr/local/lib/python3.10/dist-packages (from werkzeug>=1.0.1->tensorboard<2.14,>=2.13->tensorflow<2.14,>=2.13.0->tensorflow-text) (2.1.3)\n",
            "Requirement already satisfied: pyasn1<0.6.0,>=0.4.6 in /usr/local/lib/python3.10/dist-packages (from pyasn1-modules>=0.2.1->google-auth<3,>=1.6.3->tensorboard<2.14,>=2.13->tensorflow<2.14,>=2.13.0->tensorflow-text) (0.5.0)\n",
            "Requirement already satisfied: oauthlib>=3.0.0 in /usr/local/lib/python3.10/dist-packages (from requests-oauthlib>=0.7.0->google-auth-oauthlib<1.1,>=0.5->tensorboard<2.14,>=2.13->tensorflow<2.14,>=2.13.0->tensorflow-text) (3.2.2)\n"
          ]
        }
      ]
    },
    {
      "cell_type": "code",
      "execution_count": 2,
      "metadata": {
        "id": "qiAfgit2WTGt"
      },
      "outputs": [],
      "source": [
        "import numpy as np\n",
        "import pandas as pd\n",
        "import pickle\n",
        "import os\n",
        "import gdown\n",
        "import zipfile\n",
        "import shutil\n",
        "import matplotlib.pyplot as plt\n",
        "from sklearn.model_selection import train_test_split\n",
        "import tensorflow as tf\n",
        "from tensorflow import keras\n",
        "from keras.layers import Dense, Dropout\n",
        "import tensorflow_hub as hub\n",
        "import tensorflow_text as text\n",
        "import warnings\n",
        "warnings.filterwarnings(\"ignore\")"
      ]
    },
    {
      "cell_type": "code",
      "source": [
        "CARGA_PESOS_MODELO_BIN = True\n",
        "CARGA_PESOS_MODELO_MLT = True\n",
        "#CARGA_PESOS_ZIP_URL_DRIVE = \"https://drive.google.com/u/0/uc?id=1IZEbgA3kCAwLh5JfOdRgewcGibVPUTWC&export=download\"\n",
        "CARGA_PESOS_ZIP_URL_DRIVE = \"https://drive.google.com/u/0/uc?id=1RVh7Q7_Debq_FNHi7dKssetPqfmmg3eJ&export=download\"\n",
        "ZIP_NAME_COLAB = 'pesos.zip'\n",
        "PATH_PESOS_COLAB_FILE_BIN = '/content/bert_mvp/pesos_modelo_bin.h5'\n",
        "PATH_PESOS_COLAB_FILE_MLT = '/content/bert_mvp/pesos_modelo_mlt.h5'\n",
        "PATH_PESOS_COLAB_FOLDER = '/content/bert_mvp/'"
      ],
      "metadata": {
        "id": "yjea69gslE7r"
      },
      "execution_count": 3,
      "outputs": []
    },
    {
      "cell_type": "code",
      "source": [
        "if os.path.exists(PATH_PESOS_COLAB_FOLDER):\n",
        "  shutil.rmtree(PATH_PESOS_COLAB_FOLDER)\n",
        "\n",
        "os.makedirs(PATH_PESOS_COLAB_FOLDER, exist_ok=True) # cria a pasta de destino se necessário"
      ],
      "metadata": {
        "id": "WhHoGMKroDYr"
      },
      "execution_count": 4,
      "outputs": []
    },
    {
      "cell_type": "code",
      "source": [
        "#Download dos dados de treinamento\n",
        "if CARGA_PESOS_MODELO_BIN or CARGA_PESOS_MODELO_MLT:\n",
        "  zip_file = PATH_PESOS_COLAB_FOLDER + ZIP_NAME_COLAB # especifique o nome do arquivo e a extensão do mesmo\n",
        "  gdown.download(CARGA_PESOS_ZIP_URL_DRIVE, zip_file)"
      ],
      "metadata": {
        "colab": {
          "base_uri": "https://localhost:8080/"
        },
        "id": "SUXrtVbDpC-9",
        "outputId": "b3532996-43e0-4946-c018-ad11d502fb81"
      },
      "execution_count": 5,
      "outputs": [
        {
          "output_type": "stream",
          "name": "stderr",
          "text": [
            "Downloading...\n",
            "From: https://drive.google.com/u/0/uc?id=1RVh7Q7_Debq_FNHi7dKssetPqfmmg3eJ&export=download\n",
            "To: /content/bert_mvp/pesos.zip\n",
            "100%|██████████| 811M/811M [00:06<00:00, 118MB/s]\n"
          ]
        }
      ]
    },
    {
      "cell_type": "code",
      "source": [
        "if CARGA_PESOS_MODELO_BIN or CARGA_PESOS_MODELO_MLT:\n",
        "  # Abre o arquivo ZIP\n",
        "  with zipfile.ZipFile(zip_file, 'r') as zip_ref:\n",
        "      # Extrai todo o conteúdo para a pasta de destino\n",
        "      zip_ref.extractall(PATH_PESOS_COLAB_FOLDER)"
      ],
      "metadata": {
        "id": "a21W32d3q4ky"
      },
      "execution_count": 6,
      "outputs": []
    },
    {
      "cell_type": "markdown",
      "source": [
        "# Importando DataSet Amazon Cell Phones Reviews.\n",
        "Vamos trabalhar com 2 instâncias do dataset, a primeira para classificação multiclasse (df_mult) e o segundo para classificação binária. O objetivo é comparar a performance das 2 abordagens."
      ],
      "metadata": {
        "id": "8mYg4uPfCpXd"
      }
    },
    {
      "cell_type": "code",
      "source": [
        "# Informa a URL de importação do dataset\n",
        "url = \"https://raw.githubusercontent.com/safreitas2000/ml-analytics-mvp/main/20191226-reviews.csv\"\n",
        "\n",
        "# Lê o arquivo\n",
        "df_mult = pd.read_csv(url, delimiter=',', encoding='latin-1')\n",
        "df_bin = pd.read_csv(url, delimiter=',', encoding='latin-1')\n",
        "\n",
        "df_bin.head(5)"
      ],
      "metadata": {
        "colab": {
          "base_uri": "https://localhost:8080/",
          "height": 337
        },
        "id": "LPNfI-bgW4Ha",
        "outputId": "d2c2c659-49ac-433a-c7b9-9dea00d138ef"
      },
      "execution_count": 7,
      "outputs": [
        {
          "output_type": "execute_result",
          "data": {
            "text/plain": [
              "         asin           name  rating               date  verified  \\\n",
              "0  B0000SX2UC          Janet       3   October 11, 2005     False   \n",
              "1  B0000SX2UC     Luke Wyatt       1    January 7, 2004     False   \n",
              "2  B0000SX2UC         Brooke       5  December 30, 2003     False   \n",
              "3  B0000SX2UC  amy m. teague       3     March 18, 2004     False   \n",
              "4  B0000SX2UC  tristazbimmer       4    August 28, 2005     False   \n",
              "\n",
              "                                          title  \\\n",
              "0                   Def not best, but not worst   \n",
              "1                   Text Messaging Doesn't Work   \n",
              "2                               Love This Phone   \n",
              "3                       Love the Phone, BUT...!   \n",
              "4  Great phone service and options, lousy case!   \n",
              "\n",
              "                                                body  helpfulVotes  \n",
              "0  I had the Samsung A600 for awhile which is abs...           1.0  \n",
              "1  Due to a software issue between Nokia and Spri...          17.0  \n",
              "2  This is a great, reliable phone. I also purcha...           5.0  \n",
              "3  I love the phone and all, because I really did...           1.0  \n",
              "4  The phone has been great for every purpose it ...           1.0  "
            ],
            "text/html": [
              "\n",
              "\n",
              "  <div id=\"df-d497e1af-fead-4805-8987-7b97237bd624\">\n",
              "    <div class=\"colab-df-container\">\n",
              "      <div>\n",
              "<style scoped>\n",
              "    .dataframe tbody tr th:only-of-type {\n",
              "        vertical-align: middle;\n",
              "    }\n",
              "\n",
              "    .dataframe tbody tr th {\n",
              "        vertical-align: top;\n",
              "    }\n",
              "\n",
              "    .dataframe thead th {\n",
              "        text-align: right;\n",
              "    }\n",
              "</style>\n",
              "<table border=\"1\" class=\"dataframe\">\n",
              "  <thead>\n",
              "    <tr style=\"text-align: right;\">\n",
              "      <th></th>\n",
              "      <th>asin</th>\n",
              "      <th>name</th>\n",
              "      <th>rating</th>\n",
              "      <th>date</th>\n",
              "      <th>verified</th>\n",
              "      <th>title</th>\n",
              "      <th>body</th>\n",
              "      <th>helpfulVotes</th>\n",
              "    </tr>\n",
              "  </thead>\n",
              "  <tbody>\n",
              "    <tr>\n",
              "      <th>0</th>\n",
              "      <td>B0000SX2UC</td>\n",
              "      <td>Janet</td>\n",
              "      <td>3</td>\n",
              "      <td>October 11, 2005</td>\n",
              "      <td>False</td>\n",
              "      <td>Def not best, but not worst</td>\n",
              "      <td>I had the Samsung A600 for awhile which is abs...</td>\n",
              "      <td>1.0</td>\n",
              "    </tr>\n",
              "    <tr>\n",
              "      <th>1</th>\n",
              "      <td>B0000SX2UC</td>\n",
              "      <td>Luke Wyatt</td>\n",
              "      <td>1</td>\n",
              "      <td>January 7, 2004</td>\n",
              "      <td>False</td>\n",
              "      <td>Text Messaging Doesn't Work</td>\n",
              "      <td>Due to a software issue between Nokia and Spri...</td>\n",
              "      <td>17.0</td>\n",
              "    </tr>\n",
              "    <tr>\n",
              "      <th>2</th>\n",
              "      <td>B0000SX2UC</td>\n",
              "      <td>Brooke</td>\n",
              "      <td>5</td>\n",
              "      <td>December 30, 2003</td>\n",
              "      <td>False</td>\n",
              "      <td>Love This Phone</td>\n",
              "      <td>This is a great, reliable phone. I also purcha...</td>\n",
              "      <td>5.0</td>\n",
              "    </tr>\n",
              "    <tr>\n",
              "      <th>3</th>\n",
              "      <td>B0000SX2UC</td>\n",
              "      <td>amy m. teague</td>\n",
              "      <td>3</td>\n",
              "      <td>March 18, 2004</td>\n",
              "      <td>False</td>\n",
              "      <td>Love the Phone, BUT...!</td>\n",
              "      <td>I love the phone and all, because I really did...</td>\n",
              "      <td>1.0</td>\n",
              "    </tr>\n",
              "    <tr>\n",
              "      <th>4</th>\n",
              "      <td>B0000SX2UC</td>\n",
              "      <td>tristazbimmer</td>\n",
              "      <td>4</td>\n",
              "      <td>August 28, 2005</td>\n",
              "      <td>False</td>\n",
              "      <td>Great phone service and options, lousy case!</td>\n",
              "      <td>The phone has been great for every purpose it ...</td>\n",
              "      <td>1.0</td>\n",
              "    </tr>\n",
              "  </tbody>\n",
              "</table>\n",
              "</div>\n",
              "      <button class=\"colab-df-convert\" onclick=\"convertToInteractive('df-d497e1af-fead-4805-8987-7b97237bd624')\"\n",
              "              title=\"Convert this dataframe to an interactive table.\"\n",
              "              style=\"display:none;\">\n",
              "\n",
              "  <svg xmlns=\"http://www.w3.org/2000/svg\" height=\"24px\"viewBox=\"0 0 24 24\"\n",
              "       width=\"24px\">\n",
              "    <path d=\"M0 0h24v24H0V0z\" fill=\"none\"/>\n",
              "    <path d=\"M18.56 5.44l.94 2.06.94-2.06 2.06-.94-2.06-.94-.94-2.06-.94 2.06-2.06.94zm-11 1L8.5 8.5l.94-2.06 2.06-.94-2.06-.94L8.5 2.5l-.94 2.06-2.06.94zm10 10l.94 2.06.94-2.06 2.06-.94-2.06-.94-.94-2.06-.94 2.06-2.06.94z\"/><path d=\"M17.41 7.96l-1.37-1.37c-.4-.4-.92-.59-1.43-.59-.52 0-1.04.2-1.43.59L10.3 9.45l-7.72 7.72c-.78.78-.78 2.05 0 2.83L4 21.41c.39.39.9.59 1.41.59.51 0 1.02-.2 1.41-.59l7.78-7.78 2.81-2.81c.8-.78.8-2.07 0-2.86zM5.41 20L4 18.59l7.72-7.72 1.47 1.35L5.41 20z\"/>\n",
              "  </svg>\n",
              "      </button>\n",
              "\n",
              "\n",
              "\n",
              "    <div id=\"df-fd681e0f-ef25-496b-84fe-434d52690b88\">\n",
              "      <button class=\"colab-df-quickchart\" onclick=\"quickchart('df-fd681e0f-ef25-496b-84fe-434d52690b88')\"\n",
              "              title=\"Suggest charts.\"\n",
              "              style=\"display:none;\">\n",
              "\n",
              "<svg xmlns=\"http://www.w3.org/2000/svg\" height=\"24px\"viewBox=\"0 0 24 24\"\n",
              "     width=\"24px\">\n",
              "    <g>\n",
              "        <path d=\"M19 3H5c-1.1 0-2 .9-2 2v14c0 1.1.9 2 2 2h14c1.1 0 2-.9 2-2V5c0-1.1-.9-2-2-2zM9 17H7v-7h2v7zm4 0h-2V7h2v10zm4 0h-2v-4h2v4z\"/>\n",
              "    </g>\n",
              "</svg>\n",
              "      </button>\n",
              "    </div>\n",
              "\n",
              "<style>\n",
              "  .colab-df-quickchart {\n",
              "    background-color: #E8F0FE;\n",
              "    border: none;\n",
              "    border-radius: 50%;\n",
              "    cursor: pointer;\n",
              "    display: none;\n",
              "    fill: #1967D2;\n",
              "    height: 32px;\n",
              "    padding: 0 0 0 0;\n",
              "    width: 32px;\n",
              "  }\n",
              "\n",
              "  .colab-df-quickchart:hover {\n",
              "    background-color: #E2EBFA;\n",
              "    box-shadow: 0px 1px 2px rgba(60, 64, 67, 0.3), 0px 1px 3px 1px rgba(60, 64, 67, 0.15);\n",
              "    fill: #174EA6;\n",
              "  }\n",
              "\n",
              "  [theme=dark] .colab-df-quickchart {\n",
              "    background-color: #3B4455;\n",
              "    fill: #D2E3FC;\n",
              "  }\n",
              "\n",
              "  [theme=dark] .colab-df-quickchart:hover {\n",
              "    background-color: #434B5C;\n",
              "    box-shadow: 0px 1px 3px 1px rgba(0, 0, 0, 0.15);\n",
              "    filter: drop-shadow(0px 1px 2px rgba(0, 0, 0, 0.3));\n",
              "    fill: #FFFFFF;\n",
              "  }\n",
              "</style>\n",
              "\n",
              "    <script>\n",
              "      async function quickchart(key) {\n",
              "        const containerElement = document.querySelector('#' + key);\n",
              "        const charts = await google.colab.kernel.invokeFunction(\n",
              "            'suggestCharts', [key], {});\n",
              "      }\n",
              "    </script>\n",
              "\n",
              "      <script>\n",
              "\n",
              "function displayQuickchartButton(domScope) {\n",
              "  let quickchartButtonEl =\n",
              "    domScope.querySelector('#df-fd681e0f-ef25-496b-84fe-434d52690b88 button.colab-df-quickchart');\n",
              "  quickchartButtonEl.style.display =\n",
              "    google.colab.kernel.accessAllowed ? 'block' : 'none';\n",
              "}\n",
              "\n",
              "        displayQuickchartButton(document);\n",
              "      </script>\n",
              "      <style>\n",
              "    .colab-df-container {\n",
              "      display:flex;\n",
              "      flex-wrap:wrap;\n",
              "      gap: 12px;\n",
              "    }\n",
              "\n",
              "    .colab-df-convert {\n",
              "      background-color: #E8F0FE;\n",
              "      border: none;\n",
              "      border-radius: 50%;\n",
              "      cursor: pointer;\n",
              "      display: none;\n",
              "      fill: #1967D2;\n",
              "      height: 32px;\n",
              "      padding: 0 0 0 0;\n",
              "      width: 32px;\n",
              "    }\n",
              "\n",
              "    .colab-df-convert:hover {\n",
              "      background-color: #E2EBFA;\n",
              "      box-shadow: 0px 1px 2px rgba(60, 64, 67, 0.3), 0px 1px 3px 1px rgba(60, 64, 67, 0.15);\n",
              "      fill: #174EA6;\n",
              "    }\n",
              "\n",
              "    [theme=dark] .colab-df-convert {\n",
              "      background-color: #3B4455;\n",
              "      fill: #D2E3FC;\n",
              "    }\n",
              "\n",
              "    [theme=dark] .colab-df-convert:hover {\n",
              "      background-color: #434B5C;\n",
              "      box-shadow: 0px 1px 3px 1px rgba(0, 0, 0, 0.15);\n",
              "      filter: drop-shadow(0px 1px 2px rgba(0, 0, 0, 0.3));\n",
              "      fill: #FFFFFF;\n",
              "    }\n",
              "  </style>\n",
              "\n",
              "      <script>\n",
              "        const buttonEl =\n",
              "          document.querySelector('#df-d497e1af-fead-4805-8987-7b97237bd624 button.colab-df-convert');\n",
              "        buttonEl.style.display =\n",
              "          google.colab.kernel.accessAllowed ? 'block' : 'none';\n",
              "\n",
              "        async function convertToInteractive(key) {\n",
              "          const element = document.querySelector('#df-d497e1af-fead-4805-8987-7b97237bd624');\n",
              "          const dataTable =\n",
              "            await google.colab.kernel.invokeFunction('convertToInteractive',\n",
              "                                                     [key], {});\n",
              "          if (!dataTable) return;\n",
              "\n",
              "          const docLinkHtml = 'Like what you see? Visit the ' +\n",
              "            '<a target=\"_blank\" href=https://colab.research.google.com/notebooks/data_table.ipynb>data table notebook</a>'\n",
              "            + ' to learn more about interactive tables.';\n",
              "          element.innerHTML = '';\n",
              "          dataTable['output_type'] = 'display_data';\n",
              "          await google.colab.output.renderOutput(dataTable, element);\n",
              "          const docLink = document.createElement('div');\n",
              "          docLink.innerHTML = docLinkHtml;\n",
              "          element.appendChild(docLink);\n",
              "        }\n",
              "      </script>\n",
              "    </div>\n",
              "  </div>\n"
            ]
          },
          "metadata": {},
          "execution_count": 7
        }
      ]
    },
    {
      "cell_type": "markdown",
      "source": [
        "# Preparação e pre-processamento dos Dados\n",
        "Realizamos algumas operações para simplificação dos dados e adequação antes de submeter para  pre-processamento e treinamento.\n",
        "*   Vamos trabalhar com um subconjunto de 10.000 registros\n",
        "*   Para o dataset utilizado na classificação binária vamos adaptar a coluna \"rating\" da seguinte forma: os valores 1 e 2 vão ser transformados em \"0\", os valores 4 e 5 serão convertidos em \"1\" e o valor 3 \"None\".\n",
        "*   Remover as linhas que contêm valores ausentes (NaN)\n",
        "*   Redefinir os índices do DataFrame após a remoção das linhas com valores ausentes.\n",
        "*   Remove caracteres especiais não reconhecidos, usando encode e decode entre os padrões ASCII e UTF-8\n",
        "*   Seleciona somente as colunas \"Body\" e \"Rating\" que vão ser parte do escopo do trabalho."
      ],
      "metadata": {
        "id": "B7vgxA1aDUpb"
      }
    },
    {
      "cell_type": "code",
      "source": [
        "# Utilize groupby para separar os registros por valor do rating\n",
        "grouped_bin = df_bin.groupby('rating')\n",
        "grouped_mlt = df_mult.groupby('rating')\n",
        "\n",
        "num_samples_per_rating = 3500        # Número desejado de registros de cada valor de rating\n",
        "sampled_dfs_bin = []\n",
        "sampled_dfs_mlt = []\n",
        "\n",
        "# Percorre cada grupo, fazendo o sampling de registros de cada grupo\n",
        "for rating, group in grouped_bin:\n",
        "    sampled_group_bin = group.sample(n=num_samples_per_rating, random_state=42)\n",
        "    sampled_dfs_bin.append(sampled_group_bin)\n",
        "\n",
        "for rating, group in grouped_mlt:\n",
        "    sampled_group_mlt = group.sample(n=num_samples_per_rating, random_state=42)\n",
        "    sampled_dfs_mlt.append(sampled_group_mlt)\n",
        "\n",
        "# Concatena os DataFrames amostrados em um único DataFrame final\n",
        "df_bin = pd.concat(sampled_dfs_bin)\n",
        "df_mult = pd.concat(sampled_dfs_mlt)\n",
        "\n",
        "# Embaralha os registros no DataFrame resultante\n",
        "df_bin = df_bin.sample(frac=1, random_state=42)\n",
        "df_mult = df_mult.sample(frac=1, random_state=42)"
      ],
      "metadata": {
        "id": "-Lwt5-1exHuX"
      },
      "execution_count": 8,
      "outputs": []
    },
    {
      "cell_type": "code",
      "source": [
        "#df_mult = df_mult.head(10000)\n",
        "#df_bin = df_bin.head(10000)"
      ],
      "metadata": {
        "id": "_IsbuUmfqyvA"
      },
      "execution_count": 9,
      "outputs": []
    },
    {
      "cell_type": "code",
      "source": [
        "mapping={1:0,2:0,3:None,4:1,5:1}\n",
        "df_bin.rating=df_bin.rating.map(mapping)\n",
        "df_bin=df_bin.dropna(subset='rating')"
      ],
      "metadata": {
        "id": "OcZif7m8spHL"
      },
      "execution_count": 10,
      "outputs": []
    },
    {
      "cell_type": "code",
      "source": [
        "df_bin.head(100)"
      ],
      "metadata": {
        "colab": {
          "base_uri": "https://localhost:8080/",
          "height": 606
        },
        "id": "8y7GETQ_DaEI",
        "outputId": "4d106b34-9ac6-4771-dda7-c69dad2a39e0"
      },
      "execution_count": 11,
      "outputs": [
        {
          "output_type": "execute_result",
          "data": {
            "text/plain": [
              "             asin                       name  rating                date  \\\n",
              "14052  B00OEK6TWU                  christina     0.0      April 21, 2017   \n",
              "45737  B079SQ5VHX              Michael Royer     0.0    November 6, 2018   \n",
              "33592  B06XZRH5ZC  Guillermo Ayala Alvarenga     0.0   November 23, 2017   \n",
              "21714  B01D0JV7AO                  Anonymous     0.0   September 6, 2016   \n",
              "8981   B00F9RRVUG                      CJ_NY     1.0  September 22, 2014   \n",
              "...           ...                        ...     ...                 ...   \n",
              "11450  B00KM10ITK              Jerome Romero     0.0      August 4, 2015   \n",
              "40512  B0766TPHSH               Lord_Theoden     0.0      March 20, 2018   \n",
              "41906  B0775451TT             Alexander Duff     1.0       July 31, 2019   \n",
              "33802  B06Y16RL4W                        Vic     1.0    October 14, 2019   \n",
              "48695  B07D6TQP6F             Mario villegas     1.0     August 22, 2019   \n",
              "\n",
              "       verified                                              title  \\\n",
              "14052      True  I'd Recommend purchasing a phone from your car...   \n",
              "45737      True              Suspected LCD problem with galaxy s9.   \n",
              "33592      True                                   Worst phone EVER   \n",
              "21714      True          Take your business to a different company   \n",
              "8981       True                       A perfectly functional phone   \n",
              "...         ...                                                ...   \n",
              "11450      True                                          Two Stars   \n",
              "40512      True  So far the phone is fine but not being able to...   \n",
              "41906      True                                               good   \n",
              "33802      True                             Wont work with Xfinity   \n",
              "48695      True                                          Earphones   \n",
              "\n",
              "                                                    body  helpfulVotes  \n",
              "14052  This phone freezes. It doesn't allow me to dow...           1.0  \n",
              "45737  Quite attracted to the product first hand. Qui...           9.0  \n",
              "33592  Worst phone EVER! the wifi setting suddendly s...           2.0  \n",
              "21714  Save your money and never buy from this sham o...         372.0  \n",
              "8981   A great drop phone for those times you need to...           3.0  \n",
              "...                                                  ...           ...  \n",
              "11450                                 Phone doesn't work           NaN  \n",
              "40512  I'm only giving this a 2 star because when I g...           4.0  \n",
              "41906                                               good           NaN  \n",
              "33802  Great Phone But if you want to use it with wit...           NaN  \n",
              "48695            I didnât receive the iPhone earphones           NaN  \n",
              "\n",
              "[100 rows x 8 columns]"
            ],
            "text/html": [
              "\n",
              "\n",
              "  <div id=\"df-f012acaf-d4d3-487b-bdc4-9f8d09efea84\">\n",
              "    <div class=\"colab-df-container\">\n",
              "      <div>\n",
              "<style scoped>\n",
              "    .dataframe tbody tr th:only-of-type {\n",
              "        vertical-align: middle;\n",
              "    }\n",
              "\n",
              "    .dataframe tbody tr th {\n",
              "        vertical-align: top;\n",
              "    }\n",
              "\n",
              "    .dataframe thead th {\n",
              "        text-align: right;\n",
              "    }\n",
              "</style>\n",
              "<table border=\"1\" class=\"dataframe\">\n",
              "  <thead>\n",
              "    <tr style=\"text-align: right;\">\n",
              "      <th></th>\n",
              "      <th>asin</th>\n",
              "      <th>name</th>\n",
              "      <th>rating</th>\n",
              "      <th>date</th>\n",
              "      <th>verified</th>\n",
              "      <th>title</th>\n",
              "      <th>body</th>\n",
              "      <th>helpfulVotes</th>\n",
              "    </tr>\n",
              "  </thead>\n",
              "  <tbody>\n",
              "    <tr>\n",
              "      <th>14052</th>\n",
              "      <td>B00OEK6TWU</td>\n",
              "      <td>christina</td>\n",
              "      <td>0.0</td>\n",
              "      <td>April 21, 2017</td>\n",
              "      <td>True</td>\n",
              "      <td>I'd Recommend purchasing a phone from your car...</td>\n",
              "      <td>This phone freezes. It doesn't allow me to dow...</td>\n",
              "      <td>1.0</td>\n",
              "    </tr>\n",
              "    <tr>\n",
              "      <th>45737</th>\n",
              "      <td>B079SQ5VHX</td>\n",
              "      <td>Michael Royer</td>\n",
              "      <td>0.0</td>\n",
              "      <td>November 6, 2018</td>\n",
              "      <td>True</td>\n",
              "      <td>Suspected LCD problem with galaxy s9.</td>\n",
              "      <td>Quite attracted to the product first hand. Qui...</td>\n",
              "      <td>9.0</td>\n",
              "    </tr>\n",
              "    <tr>\n",
              "      <th>33592</th>\n",
              "      <td>B06XZRH5ZC</td>\n",
              "      <td>Guillermo Ayala Alvarenga</td>\n",
              "      <td>0.0</td>\n",
              "      <td>November 23, 2017</td>\n",
              "      <td>True</td>\n",
              "      <td>Worst phone EVER</td>\n",
              "      <td>Worst phone EVER! the wifi setting suddendly s...</td>\n",
              "      <td>2.0</td>\n",
              "    </tr>\n",
              "    <tr>\n",
              "      <th>21714</th>\n",
              "      <td>B01D0JV7AO</td>\n",
              "      <td>Anonymous</td>\n",
              "      <td>0.0</td>\n",
              "      <td>September 6, 2016</td>\n",
              "      <td>True</td>\n",
              "      <td>Take your business to a different company</td>\n",
              "      <td>Save your money and never buy from this sham o...</td>\n",
              "      <td>372.0</td>\n",
              "    </tr>\n",
              "    <tr>\n",
              "      <th>8981</th>\n",
              "      <td>B00F9RRVUG</td>\n",
              "      <td>CJ_NY</td>\n",
              "      <td>1.0</td>\n",
              "      <td>September 22, 2014</td>\n",
              "      <td>True</td>\n",
              "      <td>A perfectly functional phone</td>\n",
              "      <td>A great drop phone for those times you need to...</td>\n",
              "      <td>3.0</td>\n",
              "    </tr>\n",
              "    <tr>\n",
              "      <th>...</th>\n",
              "      <td>...</td>\n",
              "      <td>...</td>\n",
              "      <td>...</td>\n",
              "      <td>...</td>\n",
              "      <td>...</td>\n",
              "      <td>...</td>\n",
              "      <td>...</td>\n",
              "      <td>...</td>\n",
              "    </tr>\n",
              "    <tr>\n",
              "      <th>11450</th>\n",
              "      <td>B00KM10ITK</td>\n",
              "      <td>Jerome Romero</td>\n",
              "      <td>0.0</td>\n",
              "      <td>August 4, 2015</td>\n",
              "      <td>True</td>\n",
              "      <td>Two Stars</td>\n",
              "      <td>Phone doesn't work</td>\n",
              "      <td>NaN</td>\n",
              "    </tr>\n",
              "    <tr>\n",
              "      <th>40512</th>\n",
              "      <td>B0766TPHSH</td>\n",
              "      <td>Lord_Theoden</td>\n",
              "      <td>0.0</td>\n",
              "      <td>March 20, 2018</td>\n",
              "      <td>True</td>\n",
              "      <td>So far the phone is fine but not being able to...</td>\n",
              "      <td>I'm only giving this a 2 star because when I g...</td>\n",
              "      <td>4.0</td>\n",
              "    </tr>\n",
              "    <tr>\n",
              "      <th>41906</th>\n",
              "      <td>B0775451TT</td>\n",
              "      <td>Alexander Duff</td>\n",
              "      <td>1.0</td>\n",
              "      <td>July 31, 2019</td>\n",
              "      <td>True</td>\n",
              "      <td>good</td>\n",
              "      <td>good</td>\n",
              "      <td>NaN</td>\n",
              "    </tr>\n",
              "    <tr>\n",
              "      <th>33802</th>\n",
              "      <td>B06Y16RL4W</td>\n",
              "      <td>Vic</td>\n",
              "      <td>1.0</td>\n",
              "      <td>October 14, 2019</td>\n",
              "      <td>True</td>\n",
              "      <td>Wont work with Xfinity</td>\n",
              "      <td>Great Phone But if you want to use it with wit...</td>\n",
              "      <td>NaN</td>\n",
              "    </tr>\n",
              "    <tr>\n",
              "      <th>48695</th>\n",
              "      <td>B07D6TQP6F</td>\n",
              "      <td>Mario villegas</td>\n",
              "      <td>1.0</td>\n",
              "      <td>August 22, 2019</td>\n",
              "      <td>True</td>\n",
              "      <td>Earphones</td>\n",
              "      <td>I didnât receive the iPhone earphones</td>\n",
              "      <td>NaN</td>\n",
              "    </tr>\n",
              "  </tbody>\n",
              "</table>\n",
              "<p>100 rows × 8 columns</p>\n",
              "</div>\n",
              "      <button class=\"colab-df-convert\" onclick=\"convertToInteractive('df-f012acaf-d4d3-487b-bdc4-9f8d09efea84')\"\n",
              "              title=\"Convert this dataframe to an interactive table.\"\n",
              "              style=\"display:none;\">\n",
              "\n",
              "  <svg xmlns=\"http://www.w3.org/2000/svg\" height=\"24px\"viewBox=\"0 0 24 24\"\n",
              "       width=\"24px\">\n",
              "    <path d=\"M0 0h24v24H0V0z\" fill=\"none\"/>\n",
              "    <path d=\"M18.56 5.44l.94 2.06.94-2.06 2.06-.94-2.06-.94-.94-2.06-.94 2.06-2.06.94zm-11 1L8.5 8.5l.94-2.06 2.06-.94-2.06-.94L8.5 2.5l-.94 2.06-2.06.94zm10 10l.94 2.06.94-2.06 2.06-.94-2.06-.94-.94-2.06-.94 2.06-2.06.94z\"/><path d=\"M17.41 7.96l-1.37-1.37c-.4-.4-.92-.59-1.43-.59-.52 0-1.04.2-1.43.59L10.3 9.45l-7.72 7.72c-.78.78-.78 2.05 0 2.83L4 21.41c.39.39.9.59 1.41.59.51 0 1.02-.2 1.41-.59l7.78-7.78 2.81-2.81c.8-.78.8-2.07 0-2.86zM5.41 20L4 18.59l7.72-7.72 1.47 1.35L5.41 20z\"/>\n",
              "  </svg>\n",
              "      </button>\n",
              "\n",
              "\n",
              "\n",
              "    <div id=\"df-e27ea12b-0540-443b-b275-bb4960f093d0\">\n",
              "      <button class=\"colab-df-quickchart\" onclick=\"quickchart('df-e27ea12b-0540-443b-b275-bb4960f093d0')\"\n",
              "              title=\"Suggest charts.\"\n",
              "              style=\"display:none;\">\n",
              "\n",
              "<svg xmlns=\"http://www.w3.org/2000/svg\" height=\"24px\"viewBox=\"0 0 24 24\"\n",
              "     width=\"24px\">\n",
              "    <g>\n",
              "        <path d=\"M19 3H5c-1.1 0-2 .9-2 2v14c0 1.1.9 2 2 2h14c1.1 0 2-.9 2-2V5c0-1.1-.9-2-2-2zM9 17H7v-7h2v7zm4 0h-2V7h2v10zm4 0h-2v-4h2v4z\"/>\n",
              "    </g>\n",
              "</svg>\n",
              "      </button>\n",
              "    </div>\n",
              "\n",
              "<style>\n",
              "  .colab-df-quickchart {\n",
              "    background-color: #E8F0FE;\n",
              "    border: none;\n",
              "    border-radius: 50%;\n",
              "    cursor: pointer;\n",
              "    display: none;\n",
              "    fill: #1967D2;\n",
              "    height: 32px;\n",
              "    padding: 0 0 0 0;\n",
              "    width: 32px;\n",
              "  }\n",
              "\n",
              "  .colab-df-quickchart:hover {\n",
              "    background-color: #E2EBFA;\n",
              "    box-shadow: 0px 1px 2px rgba(60, 64, 67, 0.3), 0px 1px 3px 1px rgba(60, 64, 67, 0.15);\n",
              "    fill: #174EA6;\n",
              "  }\n",
              "\n",
              "  [theme=dark] .colab-df-quickchart {\n",
              "    background-color: #3B4455;\n",
              "    fill: #D2E3FC;\n",
              "  }\n",
              "\n",
              "  [theme=dark] .colab-df-quickchart:hover {\n",
              "    background-color: #434B5C;\n",
              "    box-shadow: 0px 1px 3px 1px rgba(0, 0, 0, 0.15);\n",
              "    filter: drop-shadow(0px 1px 2px rgba(0, 0, 0, 0.3));\n",
              "    fill: #FFFFFF;\n",
              "  }\n",
              "</style>\n",
              "\n",
              "    <script>\n",
              "      async function quickchart(key) {\n",
              "        const containerElement = document.querySelector('#' + key);\n",
              "        const charts = await google.colab.kernel.invokeFunction(\n",
              "            'suggestCharts', [key], {});\n",
              "      }\n",
              "    </script>\n",
              "\n",
              "      <script>\n",
              "\n",
              "function displayQuickchartButton(domScope) {\n",
              "  let quickchartButtonEl =\n",
              "    domScope.querySelector('#df-e27ea12b-0540-443b-b275-bb4960f093d0 button.colab-df-quickchart');\n",
              "  quickchartButtonEl.style.display =\n",
              "    google.colab.kernel.accessAllowed ? 'block' : 'none';\n",
              "}\n",
              "\n",
              "        displayQuickchartButton(document);\n",
              "      </script>\n",
              "      <style>\n",
              "    .colab-df-container {\n",
              "      display:flex;\n",
              "      flex-wrap:wrap;\n",
              "      gap: 12px;\n",
              "    }\n",
              "\n",
              "    .colab-df-convert {\n",
              "      background-color: #E8F0FE;\n",
              "      border: none;\n",
              "      border-radius: 50%;\n",
              "      cursor: pointer;\n",
              "      display: none;\n",
              "      fill: #1967D2;\n",
              "      height: 32px;\n",
              "      padding: 0 0 0 0;\n",
              "      width: 32px;\n",
              "    }\n",
              "\n",
              "    .colab-df-convert:hover {\n",
              "      background-color: #E2EBFA;\n",
              "      box-shadow: 0px 1px 2px rgba(60, 64, 67, 0.3), 0px 1px 3px 1px rgba(60, 64, 67, 0.15);\n",
              "      fill: #174EA6;\n",
              "    }\n",
              "\n",
              "    [theme=dark] .colab-df-convert {\n",
              "      background-color: #3B4455;\n",
              "      fill: #D2E3FC;\n",
              "    }\n",
              "\n",
              "    [theme=dark] .colab-df-convert:hover {\n",
              "      background-color: #434B5C;\n",
              "      box-shadow: 0px 1px 3px 1px rgba(0, 0, 0, 0.15);\n",
              "      filter: drop-shadow(0px 1px 2px rgba(0, 0, 0, 0.3));\n",
              "      fill: #FFFFFF;\n",
              "    }\n",
              "  </style>\n",
              "\n",
              "      <script>\n",
              "        const buttonEl =\n",
              "          document.querySelector('#df-f012acaf-d4d3-487b-bdc4-9f8d09efea84 button.colab-df-convert');\n",
              "        buttonEl.style.display =\n",
              "          google.colab.kernel.accessAllowed ? 'block' : 'none';\n",
              "\n",
              "        async function convertToInteractive(key) {\n",
              "          const element = document.querySelector('#df-f012acaf-d4d3-487b-bdc4-9f8d09efea84');\n",
              "          const dataTable =\n",
              "            await google.colab.kernel.invokeFunction('convertToInteractive',\n",
              "                                                     [key], {});\n",
              "          if (!dataTable) return;\n",
              "\n",
              "          const docLinkHtml = 'Like what you see? Visit the ' +\n",
              "            '<a target=\"_blank\" href=https://colab.research.google.com/notebooks/data_table.ipynb>data table notebook</a>'\n",
              "            + ' to learn more about interactive tables.';\n",
              "          element.innerHTML = '';\n",
              "          dataTable['output_type'] = 'display_data';\n",
              "          await google.colab.output.renderOutput(dataTable, element);\n",
              "          const docLink = document.createElement('div');\n",
              "          docLink.innerHTML = docLinkHtml;\n",
              "          element.appendChild(docLink);\n",
              "        }\n",
              "      </script>\n",
              "    </div>\n",
              "  </div>\n"
            ]
          },
          "metadata": {},
          "execution_count": 11
        }
      ]
    },
    {
      "cell_type": "code",
      "source": [
        "df_bin = df_bin[[\"body\", \"rating\"]]\n",
        "df_mult = df_mult[[\"body\", \"rating\"]]\n",
        "df_mult.loc[:, \"rating\"] = df_mult[\"rating\"].astype(float)"
      ],
      "metadata": {
        "id": "eNTZG0DzDmK4"
      },
      "execution_count": 12,
      "outputs": []
    },
    {
      "cell_type": "code",
      "source": [
        "df_mult = df_mult.dropna()\n",
        "df_mult = df_mult.reset_index(drop=True)\n",
        "\n",
        "df_bin = df_bin.dropna()\n",
        "df_bin = df_bin.reset_index(drop=True)"
      ],
      "metadata": {
        "id": "WM9aUdZ24YGS"
      },
      "execution_count": 13,
      "outputs": []
    },
    {
      "cell_type": "code",
      "source": [
        "rat_bin=df_bin.rating.value_counts()\n",
        "rat_mult=df_mult.rating.value_counts()"
      ],
      "metadata": {
        "id": "95iqbJxEXOmE"
      },
      "execution_count": 14,
      "outputs": []
    },
    {
      "cell_type": "code",
      "source": [
        "import matplotlib.pyplot as plt\n",
        "\n",
        "# Criação da grade de subplots\n",
        "fig, axes = plt.subplots(1, 2, figsize=(10, 5))\n",
        "\n",
        "# Plotagem do primeiro gráfico\n",
        "axes[0].bar(rat_bin.index, rat_bin.values)\n",
        "axes[0].set_xticks(rat_bin.index)\n",
        "axes[0].set_xlabel('Target')\n",
        "axes[0].set_ylabel('Values')\n",
        "axes[0].set_title('Classificação Binária')\n",
        "\n",
        "# Plotagem do segundo gráfico\n",
        "axes[1].bar(rat_mult.index, rat_mult.values)\n",
        "axes[1].set_xlabel('Target')\n",
        "axes[1].set_ylabel('Values')\n",
        "axes[1].set_title('Classificação Multiclasse')\n",
        "\n",
        "# Ajuste de layout e exibição dos gráficos\n",
        "plt.tight_layout()\n",
        "plt.show()"
      ],
      "metadata": {
        "colab": {
          "base_uri": "https://localhost:8080/",
          "height": 507
        },
        "id": "FqTxzTS_Wvck",
        "outputId": "46e5c863-ef3f-46a0-8e99-e43ed5dc1204"
      },
      "execution_count": 15,
      "outputs": [
        {
          "output_type": "display_data",
          "data": {
            "text/plain": [
              "<Figure size 1000x500 with 2 Axes>"
            ],
            "image/png": "[encoded data removed]"
          },
          "metadata": {}
        }
      ]
    },
    {
      "cell_type": "code",
      "source": [
        "df_bin.loc[:, \"body\"] = df_bin[\"body\"].str.encode(\"ascii\", \"ignore\").str.decode(\"utf-8\")\n",
        "df_mult.loc[:, \"body\"] = df_mult[\"body\"].str.encode(\"ascii\", \"ignore\").str.decode(\"utf-8\")"
      ],
      "metadata": {
        "id": "2jueuuQNYH4f"
      },
      "execution_count": 16,
      "outputs": []
    },
    {
      "cell_type": "code",
      "source": [
        "df_mult.head(10)"
      ],
      "metadata": {
        "colab": {
          "base_uri": "https://localhost:8080/",
          "height": 363
        },
        "id": "-oenB4TZYN12",
        "outputId": "4849d5eb-86d0-49cd-93ac-30ee252c64e2"
      },
      "execution_count": 17,
      "outputs": [
        {
          "output_type": "execute_result",
          "data": {
            "text/plain": [
              "                                                body  rating\n",
              "0  This phone freezes. It doesn't allow me to dow...     1.0\n",
              "1  Ive had this phone for about 8 months now and ...     3.0\n",
              "2  Quite attracted to the product first hand. Qui...     2.0\n",
              "3  Although this phone looks good, there are cert...     3.0\n",
              "4  Worst phone EVER! the wifi setting suddendly s...     1.0\n",
              "5  Save your money and never buy from this sham o...     1.0\n",
              "6  A great drop phone for those times you need to...     4.0\n",
              "7  This has been the worst phone I've ever owned....     1.0\n",
              "8  I really loved this phone at first, but I only...     3.0\n",
              "9  THE PHONE IS SUPPOSED TO BE UNLOCKED PHONE. UN...     2.0"
            ],
            "text/html": [
              "\n",
              "\n",
              "  <div id=\"df-986ff942-416a-4c8c-ad13-3402e339ecf2\">\n",
              "    <div class=\"colab-df-container\">\n",
              "      <div>\n",
              "<style scoped>\n",
              "    .dataframe tbody tr th:only-of-type {\n",
              "        vertical-align: middle;\n",
              "    }\n",
              "\n",
              "    .dataframe tbody tr th {\n",
              "        vertical-align: top;\n",
              "    }\n",
              "\n",
              "    .dataframe thead th {\n",
              "        text-align: right;\n",
              "    }\n",
              "</style>\n",
              "<table border=\"1\" class=\"dataframe\">\n",
              "  <thead>\n",
              "    <tr style=\"text-align: right;\">\n",
              "      <th></th>\n",
              "      <th>body</th>\n",
              "      <th>rating</th>\n",
              "    </tr>\n",
              "  </thead>\n",
              "  <tbody>\n",
              "    <tr>\n",
              "      <th>0</th>\n",
              "      <td>This phone freezes. It doesn't allow me to dow...</td>\n",
              "      <td>1.0</td>\n",
              "    </tr>\n",
              "    <tr>\n",
              "      <th>1</th>\n",
              "      <td>Ive had this phone for about 8 months now and ...</td>\n",
              "      <td>3.0</td>\n",
              "    </tr>\n",
              "    <tr>\n",
              "      <th>2</th>\n",
              "      <td>Quite attracted to the product first hand. Qui...</td>\n",
              "      <td>2.0</td>\n",
              "    </tr>\n",
              "    <tr>\n",
              "      <th>3</th>\n",
              "      <td>Although this phone looks good, there are cert...</td>\n",
              "      <td>3.0</td>\n",
              "    </tr>\n",
              "    <tr>\n",
              "      <th>4</th>\n",
              "      <td>Worst phone EVER! the wifi setting suddendly s...</td>\n",
              "      <td>1.0</td>\n",
              "    </tr>\n",
              "    <tr>\n",
              "      <th>5</th>\n",
              "      <td>Save your money and never buy from this sham o...</td>\n",
              "      <td>1.0</td>\n",
              "    </tr>\n",
              "    <tr>\n",
              "      <th>6</th>\n",
              "      <td>A great drop phone for those times you need to...</td>\n",
              "      <td>4.0</td>\n",
              "    </tr>\n",
              "    <tr>\n",
              "      <th>7</th>\n",
              "      <td>This has been the worst phone I've ever owned....</td>\n",
              "      <td>1.0</td>\n",
              "    </tr>\n",
              "    <tr>\n",
              "      <th>8</th>\n",
              "      <td>I really loved this phone at first, but I only...</td>\n",
              "      <td>3.0</td>\n",
              "    </tr>\n",
              "    <tr>\n",
              "      <th>9</th>\n",
              "      <td>THE PHONE IS SUPPOSED TO BE UNLOCKED PHONE. UN...</td>\n",
              "      <td>2.0</td>\n",
              "    </tr>\n",
              "  </tbody>\n",
              "</table>\n",
              "</div>\n",
              "      <button class=\"colab-df-convert\" onclick=\"convertToInteractive('df-986ff942-416a-4c8c-ad13-3402e339ecf2')\"\n",
              "              title=\"Convert this dataframe to an interactive table.\"\n",
              "              style=\"display:none;\">\n",
              "\n",
              "  <svg xmlns=\"http://www.w3.org/2000/svg\" height=\"24px\"viewBox=\"0 0 24 24\"\n",
              "       width=\"24px\">\n",
              "    <path d=\"M0 0h24v24H0V0z\" fill=\"none\"/>\n",
              "    <path d=\"M18.56 5.44l.94 2.06.94-2.06 2.06-.94-2.06-.94-.94-2.06-.94 2.06-2.06.94zm-11 1L8.5 8.5l.94-2.06 2.06-.94-2.06-.94L8.5 2.5l-.94 2.06-2.06.94zm10 10l.94 2.06.94-2.06 2.06-.94-2.06-.94-.94-2.06-.94 2.06-2.06.94z\"/><path d=\"M17.41 7.96l-1.37-1.37c-.4-.4-.92-.59-1.43-.59-.52 0-1.04.2-1.43.59L10.3 9.45l-7.72 7.72c-.78.78-.78 2.05 0 2.83L4 21.41c.39.39.9.59 1.41.59.51 0 1.02-.2 1.41-.59l7.78-7.78 2.81-2.81c.8-.78.8-2.07 0-2.86zM5.41 20L4 18.59l7.72-7.72 1.47 1.35L5.41 20z\"/>\n",
              "  </svg>\n",
              "      </button>\n",
              "\n",
              "\n",
              "\n",
              "    <div id=\"df-b3ef5028-cea1-4248-90f7-a8f18e7c0af1\">\n",
              "      <button class=\"colab-df-quickchart\" onclick=\"quickchart('df-b3ef5028-cea1-4248-90f7-a8f18e7c0af1')\"\n",
              "              title=\"Suggest charts.\"\n",
              "              style=\"display:none;\">\n",
              "\n",
              "<svg xmlns=\"http://www.w3.org/2000/svg\" height=\"24px\"viewBox=\"0 0 24 24\"\n",
              "     width=\"24px\">\n",
              "    <g>\n",
              "        <path d=\"M19 3H5c-1.1 0-2 .9-2 2v14c0 1.1.9 2 2 2h14c1.1 0 2-.9 2-2V5c0-1.1-.9-2-2-2zM9 17H7v-7h2v7zm4 0h-2V7h2v10zm4 0h-2v-4h2v4z\"/>\n",
              "    </g>\n",
              "</svg>\n",
              "      </button>\n",
              "    </div>\n",
              "\n",
              "<style>\n",
              "  .colab-df-quickchart {\n",
              "    background-color: #E8F0FE;\n",
              "    border: none;\n",
              "    border-radius: 50%;\n",
              "    cursor: pointer;\n",
              "    display: none;\n",
              "    fill: #1967D2;\n",
              "    height: 32px;\n",
              "    padding: 0 0 0 0;\n",
              "    width: 32px;\n",
              "  }\n",
              "\n",
              "  .colab-df-quickchart:hover {\n",
              "    background-color: #E2EBFA;\n",
              "    box-shadow: 0px 1px 2px rgba(60, 64, 67, 0.3), 0px 1px 3px 1px rgba(60, 64, 67, 0.15);\n",
              "    fill: #174EA6;\n",
              "  }\n",
              "\n",
              "  [theme=dark] .colab-df-quickchart {\n",
              "    background-color: #3B4455;\n",
              "    fill: #D2E3FC;\n",
              "  }\n",
              "\n",
              "  [theme=dark] .colab-df-quickchart:hover {\n",
              "    background-color: #434B5C;\n",
              "    box-shadow: 0px 1px 3px 1px rgba(0, 0, 0, 0.15);\n",
              "    filter: drop-shadow(0px 1px 2px rgba(0, 0, 0, 0.3));\n",
              "    fill: #FFFFFF;\n",
              "  }\n",
              "</style>\n",
              "\n",
              "    <script>\n",
              "      async function quickchart(key) {\n",
              "        const containerElement = document.querySelector('#' + key);\n",
              "        const charts = await google.colab.kernel.invokeFunction(\n",
              "            'suggestCharts', [key], {});\n",
              "      }\n",
              "    </script>\n",
              "\n",
              "      <script>\n",
              "\n",
              "function displayQuickchartButton(domScope) {\n",
              "  let quickchartButtonEl =\n",
              "    domScope.querySelector('#df-b3ef5028-cea1-4248-90f7-a8f18e7c0af1 button.colab-df-quickchart');\n",
              "  quickchartButtonEl.style.display =\n",
              "    google.colab.kernel.accessAllowed ? 'block' : 'none';\n",
              "}\n",
              "\n",
              "        displayQuickchartButton(document);\n",
              "      </script>\n",
              "      <style>\n",
              "    .colab-df-container {\n",
              "      display:flex;\n",
              "      flex-wrap:wrap;\n",
              "      gap: 12px;\n",
              "    }\n",
              "\n",
              "    .colab-df-convert {\n",
              "      background-color: #E8F0FE;\n",
              "      border: none;\n",
              "      border-radius: 50%;\n",
              "      cursor: pointer;\n",
              "      display: none;\n",
              "      fill: #1967D2;\n",
              "      height: 32px;\n",
              "      padding: 0 0 0 0;\n",
              "      width: 32px;\n",
              "    }\n",
              "\n",
              "    .colab-df-convert:hover {\n",
              "      background-color: #E2EBFA;\n",
              "      box-shadow: 0px 1px 2px rgba(60, 64, 67, 0.3), 0px 1px 3px 1px rgba(60, 64, 67, 0.15);\n",
              "      fill: #174EA6;\n",
              "    }\n",
              "\n",
              "    [theme=dark] .colab-df-convert {\n",
              "      background-color: #3B4455;\n",
              "      fill: #D2E3FC;\n",
              "    }\n",
              "\n",
              "    [theme=dark] .colab-df-convert:hover {\n",
              "      background-color: #434B5C;\n",
              "      box-shadow: 0px 1px 3px 1px rgba(0, 0, 0, 0.15);\n",
              "      filter: drop-shadow(0px 1px 2px rgba(0, 0, 0, 0.3));\n",
              "      fill: #FFFFFF;\n",
              "    }\n",
              "  </style>\n",
              "\n",
              "      <script>\n",
              "        const buttonEl =\n",
              "          document.querySelector('#df-986ff942-416a-4c8c-ad13-3402e339ecf2 button.colab-df-convert');\n",
              "        buttonEl.style.display =\n",
              "          google.colab.kernel.accessAllowed ? 'block' : 'none';\n",
              "\n",
              "        async function convertToInteractive(key) {\n",
              "          const element = document.querySelector('#df-986ff942-416a-4c8c-ad13-3402e339ecf2');\n",
              "          const dataTable =\n",
              "            await google.colab.kernel.invokeFunction('convertToInteractive',\n",
              "                                                     [key], {});\n",
              "          if (!dataTable) return;\n",
              "\n",
              "          const docLinkHtml = 'Like what you see? Visit the ' +\n",
              "            '<a target=\"_blank\" href=https://colab.research.google.com/notebooks/data_table.ipynb>data table notebook</a>'\n",
              "            + ' to learn more about interactive tables.';\n",
              "          element.innerHTML = '';\n",
              "          dataTable['output_type'] = 'display_data';\n",
              "          await google.colab.output.renderOutput(dataTable, element);\n",
              "          const docLink = document.createElement('div');\n",
              "          docLink.innerHTML = docLinkHtml;\n",
              "          element.appendChild(docLink);\n",
              "        }\n",
              "      </script>\n",
              "    </div>\n",
              "  </div>\n"
            ]
          },
          "metadata": {},
          "execution_count": 17
        }
      ]
    },
    {
      "cell_type": "markdown",
      "source": [
        "# Separação em base de treino e teste"
      ],
      "metadata": {
        "id": "oItu2BZdEXnJ"
      }
    },
    {
      "cell_type": "code",
      "source": [
        "X_train, X_test, y_train, y_test = train_test_split(df_bin.body,df_bin.rating,test_size=0.2)\n",
        "R_train, R_test, t_train, t_test = train_test_split(df_mult.body,df_mult.rating,test_size=0.2)"
      ],
      "metadata": {
        "id": "5nK8C3DPYo9P"
      },
      "execution_count": 18,
      "outputs": []
    },
    {
      "cell_type": "code",
      "source": [
        "R_train.head(10)"
      ],
      "metadata": {
        "colab": {
          "base_uri": "https://localhost:8080/"
        },
        "id": "6n3Gwv17O43b",
        "outputId": "a26cbdbc-cd9f-4ef2-cfc8-87c139eff214"
      },
      "execution_count": 19,
      "outputs": [
        {
          "output_type": "execute_result",
          "data": {
            "text/plain": [
              "5307                                        so far so good\n",
              "6747                                   Phone box came open\n",
              "3573     Very basic no frills phone. It's an okay phone...\n",
              "17402    I bought this phone 12/2017, and it was a bran...\n",
              "11021    Bought this as a gift for someone and the phon...\n",
              "4778     The battery life is not great. Have to recharg...\n",
              "8734     I ordered this product because the front displ...\n",
              "4325                                        good for price\n",
              "9745     This product arrived as scheduled. It would no...\n",
              "11209                                             Excelent\n",
              "Name: body, dtype: object"
            ]
          },
          "metadata": {},
          "execution_count": 19
        }
      ]
    },
    {
      "cell_type": "markdown",
      "source": [
        "# Carrega o BERT preprocessor e encoder\n",
        "O modelo BERT (Bidirectional Encoder Representations from Transformers) é um modelo de linguagem pré-treinado desenvolvido pelo Google que possui uma arquitetura baseada em transformers. No escopo desse trabalho o BERT foi utilizado para classificação de texto."
      ],
      "metadata": {
        "id": "wsggmXbMF9Tp"
      }
    },
    {
      "cell_type": "code",
      "source": [
        "bert_preprocess = hub.KerasLayer(\"https://tfhub.dev/tensorflow/bert_en_uncased_preprocess/3\")\n",
        "bert_encoder = hub.KerasLayer(\"https://tfhub.dev/tensorflow/bert_en_uncased_L-12_H-768_A-12/4\")"
      ],
      "metadata": {
        "id": "gPxWP4eVZPYN"
      },
      "execution_count": 20,
      "outputs": []
    },
    {
      "cell_type": "code",
      "source": [
        "#1 neuronio de saída com ativação sigmoid\n",
        "text_input=tf.keras.layers.Input(shape=(),dtype=tf.string,name='text')\n",
        "preprocessed_text=bert_preprocess(text_input)\n",
        "outputs=bert_encoder(preprocessed_text)\n",
        "l=tf.keras.layers.Dropout(0.1,name='dropout')(outputs['pooled_output'])\n",
        "l=tf.keras.layers.Dense(1,activation='sigmoid',name='output')(l)\n",
        "model_bin=tf.keras.Model(inputs=[text_input],outputs=[l])\n",
        "\n",
        "\n",
        "#Alterado para considerar as 5 classses e ativação softmax\n",
        "text_input=tf.keras.layers.Input(shape=(),dtype=tf.string,name='text')\n",
        "preprocessed_text=bert_preprocess(text_input)\n",
        "outputs=bert_encoder(preprocessed_text)\n",
        "l=tf.keras.layers.Dropout(0.1,name='dropout')(outputs['pooled_output'])\n",
        "l=tf.keras.layers.Dense(5,activation='softmax',name='output')(l)\n",
        "model_mult=tf.keras.Model(inputs=[text_input],outputs=[l])"
      ],
      "metadata": {
        "id": "NS4Lw_lwZZT_"
      },
      "execution_count": 21,
      "outputs": []
    },
    {
      "cell_type": "code",
      "source": [
        "#model_bin.summary()"
      ],
      "metadata": {
        "id": "ecLuFW2-ZcEV"
      },
      "execution_count": 22,
      "outputs": []
    },
    {
      "cell_type": "code",
      "source": [
        "METRICS_BIN=[\n",
        "    tf.keras.metrics.BinaryAccuracy(name='accuracy'),\n",
        "    tf.keras.metrics.Precision(name='precision'),\n",
        "    tf.keras.metrics.Recall(name='recall')\n",
        "]\n",
        "\n",
        "METRICS_MULT=[\n",
        "    tf.keras.metrics.CategoricalAccuracy(name='accuracy'),\n",
        "    tf.keras.metrics.Precision(name='precision'),\n",
        "    tf.keras.metrics.Recall(name='recall')\n",
        "]\n",
        "\n",
        "learning_rate = 0.001\n",
        "optimizer = tf.keras.optimizers.Adam(learning_rate=learning_rate)\n",
        "\n",
        "model_mult.compile(optimizer='adam',loss='categorical_crossentropy',metrics=METRICS_MULT)\n",
        "model_bin.compile(optimizer=optimizer,loss='binary_crossentropy',metrics=METRICS_BIN)\n",
        "#model_mult.compile(optimizer='adam',loss='categorical_crossentropy',metrics=METRICS_MULT)\n",
        "#model_bin.compile(optimizer='adam',loss='binary_crossentropy',metrics=METRICS_BIN)"
      ],
      "metadata": {
        "id": "WA5JyZcBdZO-"
      },
      "execution_count": 23,
      "outputs": []
    },
    {
      "cell_type": "code",
      "source": [
        "if CARGA_PESOS_MODELO_BIN:\n",
        "  model_bin.load_weights(PATH_PESOS_COLAB_FILE_BIN) #Carrega os pesos do modelo\n",
        "  history = keras.callbacks.History()\n",
        "  path = PATH_PESOS_COLAB_FOLDER + 'history_bin.pkl'\n",
        "  with open(path, 'rb') as f:\n",
        "    history.history = pickle.load(f)\n",
        "else:\n",
        "  history = model_bin.fit(X_train,y_train,epochs=10)\n",
        "  model_bin.save_weights(PATH_PESOS_COLAB_FILE_BIN) #Salva os pesos do modelo\n",
        "  # Salvar o histórico de treinamento\n",
        "  path = PATH_PESOS_COLAB_FOLDER + 'history_bin.pkl'\n",
        "  with open(path, 'wb') as f:\n",
        "      pickle.dump(history.history, f)"
      ],
      "metadata": {
        "id": "0RLbNJlhdgd6"
      },
      "execution_count": 24,
      "outputs": []
    },
    {
      "cell_type": "code",
      "source": [
        "if CARGA_PESOS_MODELO_MLT:\n",
        "  model_mult.load_weights(PATH_PESOS_COLAB_FILE_MLT) #Carrega os pesos do modelo\n",
        "  history_mult = keras.callbacks.History()\n",
        "  path = PATH_PESOS_COLAB_FOLDER + 'history_mlt.pkl'\n",
        "  with open(path, 'rb') as f:\n",
        "    history_mult.history = pickle.load(f)\n",
        "else:\n",
        "  #Converta os rótulos de classe em codificação one-hot\n",
        "  t_train_adjusted = t_train - 1\n",
        "  t_train_one_hot = tf.keras.utils.to_categorical(t_train_adjusted, num_classes=5)\n",
        "  #Treinamento do modelo com 5 classes\n",
        "  history_mult = model_mult.fit(R_train,t_train_one_hot,epochs=10)\n",
        "  model_mult.save_weights(PATH_PESOS_COLAB_FILE_MLT) #Salva os pesos do modelo\n",
        "  # Salvar o histórico de treinamento\n",
        "  path = PATH_PESOS_COLAB_FOLDER + 'history_mlt.pkl'\n",
        "  with open(path, 'wb') as f:\n",
        "      pickle.dump(history_mult.history, f)"
      ],
      "metadata": {
        "id": "iHEmVpZWwDcT"
      },
      "execution_count": 25,
      "outputs": []
    },
    {
      "cell_type": "code",
      "source": [
        "import matplotlib.pyplot as plt\n",
        "\n",
        "# Criação da grade de subplots\n",
        "fig, axes = plt.subplots(1, 2, figsize=(10, 5))\n",
        "\n",
        "# Obtendo os scores de treinamento do histórico\n",
        "train_scores_mult = history_mult.history['accuracy']\n",
        "train_scores = history.history['accuracy']\n",
        "\n",
        "# Plotando a curva de aprendizado\n",
        "axes[0].plot(range(1, 11), train_scores, label='Treinamento')\n",
        "axes[0].set_xlabel('Época')\n",
        "axes[0].set_ylabel('Acurácia')\n",
        "axes[0].set_title('Curva de Aprendizado Binário')\n",
        "axes[0].legend()\n",
        "\n",
        "\n",
        "# Plotando a curva de aprendizado\n",
        "axes[1].plot(range(1, 11), train_scores_mult, label='Treinamento')\n",
        "axes[1].set_xlabel('Época')\n",
        "axes[1].set_ylabel('Acurácia')\n",
        "axes[1].set_title('Curva de Aprendizado 5 Classes')\n",
        "axes[1].legend()\n",
        "\n",
        "plt.show()\n"
      ],
      "metadata": {
        "id": "beLde0-WJQAl",
        "colab": {
          "base_uri": "https://localhost:8080/",
          "height": 490
        },
        "outputId": "c40d8357-1a8f-46e5-e1cc-873c9aa5557a"
      },
      "execution_count": 26,
      "outputs": [
        {
          "output_type": "display_data",
          "data": {
            "text/plain": [
              "<Figure size 1000x500 with 2 Axes>"
            ],
            "image/png": "[encoded data removed]"
          },
          "metadata": {}
        }
      ]
    },
    {
      "cell_type": "code",
      "source": [
        "model_bin.evaluate(X_test,y_test)"
      ],
      "metadata": {
        "id": "swm5kHhJhLd3",
        "colab": {
          "base_uri": "https://localhost:8080/"
        },
        "outputId": "ab5f7956-6d80-4183-95b6-827790ee659c"
      },
      "execution_count": 27,
      "outputs": [
        {
          "output_type": "stream",
          "name": "stdout",
          "text": [
            "88/88 [==============================] - 29s 308ms/step - loss: 0.4204 - accuracy: 0.8174 - precision: 0.7842 - recall: 0.8775\n"
          ]
        },
        {
          "output_type": "execute_result",
          "data": {
            "text/plain": [
              "[0.42036235332489014,\n",
              " 0.8174347877502441,\n",
              " 0.7842139005661011,\n",
              " 0.8774929046630859]"
            ]
          },
          "metadata": {},
          "execution_count": 27
        }
      ]
    },
    {
      "cell_type": "code",
      "source": [
        "#Converta os rótulos de classe em codificação one-hot\n",
        "t_test_adjusted = t_test - 1\n",
        "t_test_one_hot = tf.keras.utils.to_categorical(t_test_adjusted, num_classes=5)\n",
        "model_mult.evaluate(R_test,t_test_one_hot)"
      ],
      "metadata": {
        "id": "UXM5HqdUmcNx",
        "colab": {
          "base_uri": "https://localhost:8080/"
        },
        "outputId": "408d964c-5546-434e-a988-21f3b55ea2da"
      },
      "execution_count": 28,
      "outputs": [
        {
          "output_type": "stream",
          "name": "stdout",
          "text": [
            "110/110 [==============================] - 36s 318ms/step - loss: 1.3404 - accuracy: 0.3990 - precision: 0.6364 - recall: 0.0780\n"
          ]
        },
        {
          "output_type": "execute_result",
          "data": {
            "text/plain": [
              "[1.3403677940368652,\n",
              " 0.3989711403846741,\n",
              " 0.6363636255264282,\n",
              " 0.0780222937464714]"
            ]
          },
          "metadata": {},
          "execution_count": 28
        }
      ]
    },
    {
      "cell_type": "code",
      "source": [
        "y_pred=model_bin.predict(X_test)\n",
        "y_pred=y_pred.flatten()"
      ],
      "metadata": {
        "id": "Z8JrJ3oQhkOY",
        "colab": {
          "base_uri": "https://localhost:8080/"
        },
        "outputId": "18bf7d15-f729-4ba8-b5cb-e996004996af"
      },
      "execution_count": 29,
      "outputs": [
        {
          "output_type": "stream",
          "name": "stdout",
          "text": [
            "88/88 [==============================] - 29s 317ms/step\n"
          ]
        }
      ]
    },
    {
      "cell_type": "code",
      "source": [
        "t_pred=model_mult.predict(R_test)\n",
        "#t_pred=y_pred.flatten()\n",
        "print(t_pred)"
      ],
      "metadata": {
        "id": "46-iySJjrGTM",
        "colab": {
          "base_uri": "https://localhost:8080/"
        },
        "outputId": "09dc639a-2e49-48ab-dd17-d20fa263f15c"
      },
      "execution_count": 30,
      "outputs": [
        {
          "output_type": "stream",
          "name": "stdout",
          "text": [
            "110/110 [==============================] - 35s 312ms/step\n",
            "[[0.6100351  0.15230249 0.13569242 0.06057236 0.04139753]\n",
            " [0.24620695 0.25168958 0.38522214 0.08644957 0.03043185]\n",
            " [0.29156417 0.2896325  0.3163012  0.07899287 0.02350927]\n",
            " ...\n",
            " [0.21785986 0.10934367 0.22524092 0.24116868 0.20638686]\n",
            " [0.19161186 0.24694115 0.40239224 0.13747346 0.0215813 ]\n",
            " [0.05163634 0.13151596 0.4476884  0.28677514 0.08238423]]\n"
          ]
        }
      ]
    },
    {
      "cell_type": "code",
      "source": [
        "t_pred_classes = np.argmax(t_pred, axis=1)\n",
        "print(t_pred_classes)"
      ],
      "metadata": {
        "id": "YjnrVpXKpJOE",
        "colab": {
          "base_uri": "https://localhost:8080/"
        },
        "outputId": "bda4e02a-597a-4e75-ba5d-5e6c78ed6ff0"
      },
      "execution_count": 31,
      "outputs": [
        {
          "output_type": "stream",
          "name": "stdout",
          "text": [
            "[0 2 2 ... 3 2 2]\n"
          ]
        }
      ]
    },
    {
      "cell_type": "code",
      "source": [
        "# Imprime os valores únicos somente para certificar o domínio\n",
        "t_test = t_test -1\n",
        "array = t_test.values\n",
        "unique_values = np.unique(array)\n",
        "print(unique_values)"
      ],
      "metadata": {
        "colab": {
          "base_uri": "https://localhost:8080/"
        },
        "id": "YGhqx3WmDhSv",
        "outputId": "36e0f5d5-758e-4bff-db7d-c7d212ae0397"
      },
      "execution_count": 32,
      "outputs": [
        {
          "output_type": "stream",
          "name": "stdout",
          "text": [
            "[0. 1. 2. 3. 4.]\n"
          ]
        }
      ]
    },
    {
      "cell_type": "code",
      "source": [
        "# Imprime os valores únicos somente para certificar o domínio\n",
        "unique_values = np.unique(t_pred_classes)\n",
        "print(unique_values)"
      ],
      "metadata": {
        "colab": {
          "base_uri": "https://localhost:8080/"
        },
        "id": "teU5aLEtCONp",
        "outputId": "ee7f0a9a-b4f3-4fc2-8c0d-06439833ac3c"
      },
      "execution_count": 33,
      "outputs": [
        {
          "output_type": "stream",
          "name": "stdout",
          "text": [
            "[0 1 2 3 4]\n"
          ]
        }
      ]
    },
    {
      "cell_type": "code",
      "source": [
        "y_pred=np.where(y_pred>0.5,1,0)\n",
        "y_pred"
      ],
      "metadata": {
        "id": "uBZe1GxliAuy",
        "colab": {
          "base_uri": "https://localhost:8080/"
        },
        "outputId": "110ae257-cf6e-46c2-a702-3f98b90a4108"
      },
      "execution_count": 34,
      "outputs": [
        {
          "output_type": "execute_result",
          "data": {
            "text/plain": [
              "array([0, 1, 1, ..., 1, 1, 1])"
            ]
          },
          "metadata": {},
          "execution_count": 34
        }
      ]
    },
    {
      "cell_type": "code",
      "source": [
        "from sklearn.metrics import confusion_matrix, classification_report\n",
        "cm=confusion_matrix(y_test,y_pred)\n",
        "#t_test = t_test - 1\n",
        "cm_mult=confusion_matrix(t_test,t_pred_classes)"
      ],
      "metadata": {
        "id": "3NFlDhDIiM2e"
      },
      "execution_count": 35,
      "outputs": []
    },
    {
      "cell_type": "code",
      "source": [
        "from matplotlib import pyplot as plt\n",
        "import seaborn as sns\n",
        "sns.heatmap(cm_mult,annot=True,fmt='d')\n",
        "\n",
        "plt.xlabel(\"Predicted\")\n",
        "plt.ylabel(\"Truth\")"
      ],
      "metadata": {
        "id": "oIvYSiQ4tDaX",
        "colab": {
          "base_uri": "https://localhost:8080/",
          "height": 466
        },
        "outputId": "e72ee1fa-bdb2-4149-9f35-3e6e4b65513f"
      },
      "execution_count": 36,
      "outputs": [
        {
          "output_type": "execute_result",
          "data": {
            "text/plain": [
              "Text(50.722222222222214, 0.5, 'Truth')"
            ]
          },
          "metadata": {},
          "execution_count": 36
        },
        {
          "output_type": "display_data",
          "data": {
            "text/plain": [
              "<Figure size 640x480 with 2 Axes>"
            ],
            "image/png": "[encoded data removed]"
          },
          "metadata": {}
        }
      ]
    },
    {
      "cell_type": "code",
      "source": [
        "print(classification_report(t_test,t_pred_classes,zero_division=1))"
      ],
      "metadata": {
        "id": "usEJmR-AcksZ",
        "colab": {
          "base_uri": "https://localhost:8080/"
        },
        "outputId": "f30d25ec-8e14-4203-98db-b91ddfa75374"
      },
      "execution_count": 37,
      "outputs": [
        {
          "output_type": "stream",
          "name": "stdout",
          "text": [
            "              precision    recall  f1-score   support\n",
            "\n",
            "         0.0       0.58      0.40      0.48       689\n",
            "         1.0       0.47      0.02      0.04       681\n",
            "         2.0       0.28      0.64      0.39       708\n",
            "         3.0       0.37      0.48      0.41       706\n",
            "         4.0       0.68      0.44      0.54       715\n",
            "\n",
            "    accuracy                           0.40      3499\n",
            "   macro avg       0.48      0.40      0.37      3499\n",
            "weighted avg       0.48      0.40      0.37      3499\n",
            "\n"
          ]
        }
      ]
    },
    {
      "cell_type": "code",
      "source": [
        "from matplotlib import pyplot as plt\n",
        "import seaborn as sns\n",
        "sns.heatmap(cm,annot=True,fmt='d')\n",
        "\n",
        "plt.xlabel(\"Predicted\")\n",
        "plt.ylabel(\"Truth\")"
      ],
      "metadata": {
        "id": "UQzllGjjtXrV",
        "colab": {
          "base_uri": "https://localhost:8080/",
          "height": 466
        },
        "outputId": "6e1ae782-9446-483c-a9a7-d9173c9ac730"
      },
      "execution_count": 38,
      "outputs": [
        {
          "output_type": "execute_result",
          "data": {
            "text/plain": [
              "Text(50.722222222222214, 0.5, 'Truth')"
            ]
          },
          "metadata": {},
          "execution_count": 38
        },
        {
          "output_type": "display_data",
          "data": {
            "text/plain": [
              "<Figure size 640x480 with 2 Axes>"
            ],
            "image/png": "[encoded data removed]"
          },
          "metadata": {}
        }
      ]
    },
    {
      "cell_type": "code",
      "source": [
        "print(classification_report(y_test,y_pred))"
      ],
      "metadata": {
        "id": "k2rQUS7Ptdpo",
        "colab": {
          "base_uri": "https://localhost:8080/"
        },
        "outputId": "f9162b3c-9bb1-40a3-b0f6-60ba1b2efa89"
      },
      "execution_count": 39,
      "outputs": [
        {
          "output_type": "stream",
          "name": "stdout",
          "text": [
            "              precision    recall  f1-score   support\n",
            "\n",
            "         0.0       0.86      0.76      0.81      1395\n",
            "         1.0       0.78      0.88      0.83      1404\n",
            "\n",
            "    accuracy                           0.82      2799\n",
            "   macro avg       0.82      0.82      0.82      2799\n",
            "weighted avg       0.82      0.82      0.82      2799\n",
            "\n"
          ]
        }
      ]
    },
    {
      "cell_type": "code",
      "source": [
        "from sklearn.metrics import roc_curve, auc\n",
        "import matplotlib.pyplot as plt"
      ],
      "metadata": {
        "id": "maI39LSwnwrh"
      },
      "execution_count": 40,
      "outputs": []
    },
    {
      "cell_type": "code",
      "source": [
        "fpr, tpr, thresholds = roc_curve(y_test,y_pred)\n",
        "roc_auc = auc(fpr, tpr)\n",
        "\n",
        "# Plotar a curva ROC\n",
        "plt.plot(fpr, tpr, label='Curva ROC (AUC = %0.2f)' % roc_auc)\n",
        "plt.plot([0, 1], [0, 1], 'k--')\n",
        "plt.xlim([0.0, 1.0])\n",
        "plt.ylim([0.0, 1.05])\n",
        "plt.xlabel('Taxa de Falsos Positivos')\n",
        "plt.ylabel('Taxa de Verdadeiros Positivos')\n",
        "plt.title('Curva ROC')\n",
        "plt.legend(loc=\"lower right\")\n",
        "plt.show()\n",
        "\n",
        "# Imprimir o valor da AUC\n",
        "print('Área sob a curva (AUC):', roc_auc)"
      ],
      "metadata": {
        "id": "egCv2VNJn1hI",
        "colab": {
          "base_uri": "https://localhost:8080/",
          "height": 489
        },
        "outputId": "8b133020-0528-4409-f4a0-ac2326136a26"
      },
      "execution_count": 41,
      "outputs": [
        {
          "output_type": "display_data",
          "data": {
            "text/plain": [
              "<Figure size 640x480 with 1 Axes>"
            ],
            "image/png": "[encoded data removed]"
          },
          "metadata": {}
        },
        {
          "output_type": "stream",
          "name": "stdout",
          "text": [
            "Área sob a curva (AUC): 0.8172410624023527\n"
          ]
        }
      ]
    }
  ]
}