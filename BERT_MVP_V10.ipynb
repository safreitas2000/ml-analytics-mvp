{
  "nbformat": 4,
  "nbformat_minor": 0,
  "metadata": {
    "colab": {
      "provenance": [],
      "gpuType": "T4",
      "machine_shape": "hm",
      "authorship_tag": "ABX9TyP3pyL1pHJbCU0vXh981pIO",
      "include_colab_link": true
    },
    "kernelspec": {
      "name": "python3",
      "display_name": "Python 3"
    },
    "language_info": {
      "name": "python"
    },
    "accelerator": "GPU"
  },
  "cells": [
    {
      "cell_type": "markdown",
      "metadata": {
        "id": "view-in-github",
        "colab_type": "text"
      },
      "source": [
        "<a href=\"https://colab.research.google.com/github/safreitas2000/ml-analytics-mvp/blob/main/BERT_MVP_V10.ipynb\" target=\"_parent\"><img src=\"https://colab.research.google.com/assets/colab-badge.svg\" alt=\"Open In Colab\"/></a>"
      ]
    },
    {
      "cell_type": "markdown",
      "source": [
        "# MVP | Disciplina Machine Learning & Analytics - Modelo Deep Learning - Letra b.\n",
        "Aluno: Sérgio Augusto Freitas Filho </br></br>\n",
        "\n",
        "**Qual é a descrição do problema?**</br>\n",
        "Para elaboração desse trabalho escolhi o DataSet da Amazon Cell Phones Reviews https://www.kaggle.com/datasets/grikomsn/amazon-cell-phones-reviews. É uma base de avaliação de celulares, foi escolhida por questão didática para ilustrar um problema de classificação de texto e análise de sentimento. O dataset possui um conjunto de informações sobre as avaliações, como por exemplo: nome do avaliador, data, utilidade, body e rating. Para o escopo desse trabalho selecionamos 2 atributos do dataset: body e rating, sendo o body a avaliação do celular e o rating uma nota atribuída pelo avaliador que pode variar de 1 até 5, sendo 1 muito ruim e 5 excelente.</br>\n",
        "**Você tem premissas ou hipóteses sobre o problema? Quais?** Neste problema, temos a hipótese de que as avaliações 1 e 2 são mais negativas, enquanto as avaliações 4 e 5 são mais positivas. Por isso, optamos por realizar a classificação categórica com 5 classes para avaliar os resultados, mas também implementamos a classificação binária para determinar se a avaliação é positiva ou negativa.\n",
        "Ao longo do trabalho, testamos essa hipótese e constatamos que a classificação binária é mais adequada para resolver esse problema, considerando a diferenciação clara entre avaliações negativas e positivas.</br>"
      ],
      "metadata": {
        "id": "WRMtLK4QCqsV"
      }
    },
    {
      "cell_type": "code",
      "source": [
        "!pip install tensorflow-text"
      ],
      "metadata": {
        "colab": {
          "base_uri": "https://localhost:8080/"
        },
        "id": "UU9h8pNVWcKx",
        "outputId": "6d9988d4-5708-481f-b918-e0b08545b4c3"
      },
      "execution_count": 1,
      "outputs": [
        {
          "output_type": "stream",
          "name": "stdout",
          "text": [
            "Collecting tensorflow-text\n",
            "  Downloading tensorflow_text-2.13.0-cp310-cp310-manylinux_2_17_x86_64.manylinux2014_x86_64.whl (6.5 MB)\n",
            "\u001b[2K     \u001b[90m━━━━━━━━━━━━━━━━━━━━━━━━━━━━━━━━━━━━━━━━\u001b[0m \u001b[32m6.5/6.5 MB\u001b[0m \u001b[31m17.0 MB/s\u001b[0m eta \u001b[36m0:00:00\u001b[0m\n",
            "\u001b[?25hRequirement already satisfied: tensorflow-hub>=0.8.0 in /usr/local/lib/python3.10/dist-packages (from tensorflow-text) (0.14.0)\n",
            "Collecting tensorflow<2.14,>=2.13.0 (from tensorflow-text)\n",
            "  Downloading tensorflow-2.13.0-cp310-cp310-manylinux_2_17_x86_64.manylinux2014_x86_64.whl (524.1 MB)\n",
            "\u001b[2K     \u001b[90m━━━━━━━━━━━━━━━━━━━━━━━━━━━━━━━━━━━━━━━\u001b[0m \u001b[32m524.1/524.1 MB\u001b[0m \u001b[31m2.3 MB/s\u001b[0m eta \u001b[36m0:00:00\u001b[0m\n",
            "\u001b[?25hRequirement already satisfied: absl-py>=1.0.0 in /usr/local/lib/python3.10/dist-packages (from tensorflow<2.14,>=2.13.0->tensorflow-text) (1.4.0)\n",
            "Requirement already satisfied: astunparse>=1.6.0 in /usr/local/lib/python3.10/dist-packages (from tensorflow<2.14,>=2.13.0->tensorflow-text) (1.6.3)\n",
            "Requirement already satisfied: flatbuffers>=23.1.21 in /usr/local/lib/python3.10/dist-packages (from tensorflow<2.14,>=2.13.0->tensorflow-text) (23.5.26)\n",
            "Requirement already satisfied: gast<=0.4.0,>=0.2.1 in /usr/local/lib/python3.10/dist-packages (from tensorflow<2.14,>=2.13.0->tensorflow-text) (0.4.0)\n",
            "Requirement already satisfied: google-pasta>=0.1.1 in /usr/local/lib/python3.10/dist-packages (from tensorflow<2.14,>=2.13.0->tensorflow-text) (0.2.0)\n",
            "Requirement already satisfied: grpcio<2.0,>=1.24.3 in /usr/local/lib/python3.10/dist-packages (from tensorflow<2.14,>=2.13.0->tensorflow-text) (1.56.0)\n",
            "Requirement already satisfied: h5py>=2.9.0 in /usr/local/lib/python3.10/dist-packages (from tensorflow<2.14,>=2.13.0->tensorflow-text) (3.8.0)\n",
            "Collecting keras<2.14,>=2.13.1 (from tensorflow<2.14,>=2.13.0->tensorflow-text)\n",
            "  Downloading keras-2.13.1-py3-none-any.whl (1.7 MB)\n",
            "\u001b[2K     \u001b[90m━━━━━━━━━━━━━━━━━━━━━━━━━━━━━━━━━━━━━━━━\u001b[0m \u001b[32m1.7/1.7 MB\u001b[0m \u001b[31m69.3 MB/s\u001b[0m eta \u001b[36m0:00:00\u001b[0m\n",
            "\u001b[?25hRequirement already satisfied: libclang>=13.0.0 in /usr/local/lib/python3.10/dist-packages (from tensorflow<2.14,>=2.13.0->tensorflow-text) (16.0.6)\n",
            "Requirement already satisfied: numpy<=1.24.3,>=1.22 in /usr/local/lib/python3.10/dist-packages (from tensorflow<2.14,>=2.13.0->tensorflow-text) (1.22.4)\n",
            "Requirement already satisfied: opt-einsum>=2.3.2 in /usr/local/lib/python3.10/dist-packages (from tensorflow<2.14,>=2.13.0->tensorflow-text) (3.3.0)\n",
            "Requirement already satisfied: packaging in /usr/local/lib/python3.10/dist-packages (from tensorflow<2.14,>=2.13.0->tensorflow-text) (23.1)\n",
            "Requirement already satisfied: protobuf!=4.21.0,!=4.21.1,!=4.21.2,!=4.21.3,!=4.21.4,!=4.21.5,<5.0.0dev,>=3.20.3 in /usr/local/lib/python3.10/dist-packages (from tensorflow<2.14,>=2.13.0->tensorflow-text) (3.20.3)\n",
            "Requirement already satisfied: setuptools in /usr/local/lib/python3.10/dist-packages (from tensorflow<2.14,>=2.13.0->tensorflow-text) (67.7.2)\n",
            "Requirement already satisfied: six>=1.12.0 in /usr/local/lib/python3.10/dist-packages (from tensorflow<2.14,>=2.13.0->tensorflow-text) (1.16.0)\n",
            "Collecting tensorboard<2.14,>=2.13 (from tensorflow<2.14,>=2.13.0->tensorflow-text)\n",
            "  Downloading tensorboard-2.13.0-py3-none-any.whl (5.6 MB)\n",
            "\u001b[2K     \u001b[90m━━━━━━━━━━━━━━━━━━━━━━━━━━━━━━━━━━━━━━━━\u001b[0m \u001b[32m5.6/5.6 MB\u001b[0m \u001b[31m63.9 MB/s\u001b[0m eta \u001b[36m0:00:00\u001b[0m\n",
            "\u001b[?25hCollecting tensorflow-estimator<2.14,>=2.13.0 (from tensorflow<2.14,>=2.13.0->tensorflow-text)\n",
            "  Downloading tensorflow_estimator-2.13.0-py2.py3-none-any.whl (440 kB)\n",
            "\u001b[2K     \u001b[90m━━━━━━━━━━━━━━━━━━━━━━━━━━━━━━━━━━━━━━\u001b[0m \u001b[32m440.8/440.8 kB\u001b[0m \u001b[31m23.7 MB/s\u001b[0m eta \u001b[36m0:00:00\u001b[0m\n",
            "\u001b[?25hRequirement already satisfied: termcolor>=1.1.0 in /usr/local/lib/python3.10/dist-packages (from tensorflow<2.14,>=2.13.0->tensorflow-text) (2.3.0)\n",
            "Collecting typing-extensions<4.6.0,>=3.6.6 (from tensorflow<2.14,>=2.13.0->tensorflow-text)\n",
            "  Downloading typing_extensions-4.5.0-py3-none-any.whl (27 kB)\n",
            "Requirement already satisfied: wrapt>=1.11.0 in /usr/local/lib/python3.10/dist-packages (from tensorflow<2.14,>=2.13.0->tensorflow-text) (1.14.1)\n",
            "Requirement already satisfied: tensorflow-io-gcs-filesystem>=0.23.1 in /usr/local/lib/python3.10/dist-packages (from tensorflow<2.14,>=2.13.0->tensorflow-text) (0.32.0)\n",
            "Requirement already satisfied: wheel<1.0,>=0.23.0 in /usr/local/lib/python3.10/dist-packages (from astunparse>=1.6.0->tensorflow<2.14,>=2.13.0->tensorflow-text) (0.40.0)\n",
            "Requirement already satisfied: google-auth<3,>=1.6.3 in /usr/local/lib/python3.10/dist-packages (from tensorboard<2.14,>=2.13->tensorflow<2.14,>=2.13.0->tensorflow-text) (2.17.3)\n",
            "Requirement already satisfied: google-auth-oauthlib<1.1,>=0.5 in /usr/local/lib/python3.10/dist-packages (from tensorboard<2.14,>=2.13->tensorflow<2.14,>=2.13.0->tensorflow-text) (1.0.0)\n",
            "Requirement already satisfied: markdown>=2.6.8 in /usr/local/lib/python3.10/dist-packages (from tensorboard<2.14,>=2.13->tensorflow<2.14,>=2.13.0->tensorflow-text) (3.4.3)\n",
            "Requirement already satisfied: requests<3,>=2.21.0 in /usr/local/lib/python3.10/dist-packages (from tensorboard<2.14,>=2.13->tensorflow<2.14,>=2.13.0->tensorflow-text) (2.27.1)\n",
            "Requirement already satisfied: tensorboard-data-server<0.8.0,>=0.7.0 in /usr/local/lib/python3.10/dist-packages (from tensorboard<2.14,>=2.13->tensorflow<2.14,>=2.13.0->tensorflow-text) (0.7.1)\n",
            "Requirement already satisfied: werkzeug>=1.0.1 in /usr/local/lib/python3.10/dist-packages (from tensorboard<2.14,>=2.13->tensorflow<2.14,>=2.13.0->tensorflow-text) (2.3.6)\n",
            "Requirement already satisfied: cachetools<6.0,>=2.0.0 in /usr/local/lib/python3.10/dist-packages (from google-auth<3,>=1.6.3->tensorboard<2.14,>=2.13->tensorflow<2.14,>=2.13.0->tensorflow-text) (5.3.1)\n",
            "Requirement already satisfied: pyasn1-modules>=0.2.1 in /usr/local/lib/python3.10/dist-packages (from google-auth<3,>=1.6.3->tensorboard<2.14,>=2.13->tensorflow<2.14,>=2.13.0->tensorflow-text) (0.3.0)\n",
            "Requirement already satisfied: rsa<5,>=3.1.4 in /usr/local/lib/python3.10/dist-packages (from google-auth<3,>=1.6.3->tensorboard<2.14,>=2.13->tensorflow<2.14,>=2.13.0->tensorflow-text) (4.9)\n",
            "Requirement already satisfied: requests-oauthlib>=0.7.0 in /usr/local/lib/python3.10/dist-packages (from google-auth-oauthlib<1.1,>=0.5->tensorboard<2.14,>=2.13->tensorflow<2.14,>=2.13.0->tensorflow-text) (1.3.1)\n",
            "Requirement already satisfied: urllib3<1.27,>=1.21.1 in /usr/local/lib/python3.10/dist-packages (from requests<3,>=2.21.0->tensorboard<2.14,>=2.13->tensorflow<2.14,>=2.13.0->tensorflow-text) (1.26.16)\n",
            "Requirement already satisfied: certifi>=2017.4.17 in /usr/local/lib/python3.10/dist-packages (from requests<3,>=2.21.0->tensorboard<2.14,>=2.13->tensorflow<2.14,>=2.13.0->tensorflow-text) (2023.5.7)\n",
            "Requirement already satisfied: charset-normalizer~=2.0.0 in /usr/local/lib/python3.10/dist-packages (from requests<3,>=2.21.0->tensorboard<2.14,>=2.13->tensorflow<2.14,>=2.13.0->tensorflow-text) (2.0.12)\n",
            "Requirement already satisfied: idna<4,>=2.5 in /usr/local/lib/python3.10/dist-packages (from requests<3,>=2.21.0->tensorboard<2.14,>=2.13->tensorflow<2.14,>=2.13.0->tensorflow-text) (3.4)\n",
            "Requirement already satisfied: MarkupSafe>=2.1.1 in /usr/local/lib/python3.10/dist-packages (from werkzeug>=1.0.1->tensorboard<2.14,>=2.13->tensorflow<2.14,>=2.13.0->tensorflow-text) (2.1.3)\n",
            "Requirement already satisfied: pyasn1<0.6.0,>=0.4.6 in /usr/local/lib/python3.10/dist-packages (from pyasn1-modules>=0.2.1->google-auth<3,>=1.6.3->tensorboard<2.14,>=2.13->tensorflow<2.14,>=2.13.0->tensorflow-text) (0.5.0)\n",
            "Requirement already satisfied: oauthlib>=3.0.0 in /usr/local/lib/python3.10/dist-packages (from requests-oauthlib>=0.7.0->google-auth-oauthlib<1.1,>=0.5->tensorboard<2.14,>=2.13->tensorflow<2.14,>=2.13.0->tensorflow-text) (3.2.2)\n",
            "Installing collected packages: typing-extensions, tensorflow-estimator, keras, tensorboard, tensorflow, tensorflow-text\n",
            "  Attempting uninstall: typing-extensions\n",
            "    Found existing installation: typing_extensions 4.7.1\n",
            "    Uninstalling typing_extensions-4.7.1:\n",
            "      Successfully uninstalled typing_extensions-4.7.1\n",
            "  Attempting uninstall: tensorflow-estimator\n",
            "    Found existing installation: tensorflow-estimator 2.12.0\n",
            "    Uninstalling tensorflow-estimator-2.12.0:\n",
            "      Successfully uninstalled tensorflow-estimator-2.12.0\n",
            "  Attempting uninstall: keras\n",
            "    Found existing installation: keras 2.12.0\n",
            "    Uninstalling keras-2.12.0:\n",
            "      Successfully uninstalled keras-2.12.0\n",
            "  Attempting uninstall: tensorboard\n",
            "    Found existing installation: tensorboard 2.12.3\n",
            "    Uninstalling tensorboard-2.12.3:\n",
            "      Successfully uninstalled tensorboard-2.12.3\n",
            "  Attempting uninstall: tensorflow\n",
            "    Found existing installation: tensorflow 2.12.0\n",
            "    Uninstalling tensorflow-2.12.0:\n",
            "      Successfully uninstalled tensorflow-2.12.0\n",
            "Successfully installed keras-2.13.1 tensorboard-2.13.0 tensorflow-2.13.0 tensorflow-estimator-2.13.0 tensorflow-text-2.13.0 typing-extensions-4.5.0\n"
          ]
        }
      ]
    },
    {
      "cell_type": "code",
      "execution_count": 2,
      "metadata": {
        "id": "qiAfgit2WTGt"
      },
      "outputs": [],
      "source": [
        "import numpy as np\n",
        "import pandas as pd\n",
        "import pickle\n",
        "import os\n",
        "import gdown\n",
        "import zipfile\n",
        "import shutil\n",
        "import matplotlib.pyplot as plt\n",
        "from sklearn.model_selection import train_test_split\n",
        "import tensorflow as tf\n",
        "from tensorflow import keras\n",
        "from keras.layers import Dense, Dropout\n",
        "import tensorflow_hub as hub\n",
        "import tensorflow_text as text\n",
        "import warnings\n",
        "warnings.filterwarnings(\"ignore\")"
      ]
    },
    {
      "cell_type": "markdown",
      "source": [
        "**##ATENÇÃO##** </BR>\n",
        "As constantes CARGA_PESOS_MODELO_BIN e CARGA_PESOS_MODELO_MLT devem ser atribuídas \"True\" para acelerar a execução e evitar a necessidade de realizar todo treinamento."
      ],
      "metadata": {
        "id": "dMZaYDIZrlfb"
      }
    },
    {
      "cell_type": "code",
      "source": [
        "CARGA_PESOS_MODELO_BIN = True   #Carrega os pesos e histórico de treinamento salvo previamente no google drive.\n",
        "CARGA_PESOS_MODELO_MLT = True   #Carrega os pesos e histórico de treinamento salvo previamente no google drive.\n",
        "#CARGA_PESOS_ZIP_URL_DRIVE = \"https://drive.google.com/u/0/uc?id=1IZEbgA3kCAwLh5JfOdRgewcGibVPUTWC&export=download\"\n",
        "CARGA_PESOS_ZIP_URL_DRIVE = \"https://drive.google.com/u/0/uc?id=1RVh7Q7_Debq_FNHi7dKssetPqfmmg3eJ&export=download\"\n",
        "ZIP_NAME_COLAB = 'pesos.zip'\n",
        "PATH_PESOS_COLAB_FILE_BIN = '/content/bert_mvp/pesos_modelo_bin.h5'\n",
        "PATH_PESOS_COLAB_FILE_MLT = '/content/bert_mvp/pesos_modelo_mlt.h5'\n",
        "PATH_PESOS_COLAB_FOLDER = '/content/bert_mvp/'"
      ],
      "metadata": {
        "id": "yjea69gslE7r"
      },
      "execution_count": 3,
      "outputs": []
    },
    {
      "cell_type": "code",
      "source": [
        "#Cria pasta no COLAB\n",
        "if os.path.exists(PATH_PESOS_COLAB_FOLDER):\n",
        "  shutil.rmtree(PATH_PESOS_COLAB_FOLDER)\n",
        "\n",
        "os.makedirs(PATH_PESOS_COLAB_FOLDER, exist_ok=True)"
      ],
      "metadata": {
        "id": "WhHoGMKroDYr"
      },
      "execution_count": 4,
      "outputs": []
    },
    {
      "cell_type": "code",
      "source": [
        "#Download dos dados de treinamento\n",
        "if CARGA_PESOS_MODELO_BIN or CARGA_PESOS_MODELO_MLT:\n",
        "  zip_file = PATH_PESOS_COLAB_FOLDER + ZIP_NAME_COLAB\n",
        "  gdown.download(CARGA_PESOS_ZIP_URL_DRIVE, zip_file)"
      ],
      "metadata": {
        "colab": {
          "base_uri": "https://localhost:8080/"
        },
        "id": "SUXrtVbDpC-9",
        "outputId": "91db7642-8338-4fb6-c110-34608576f72a"
      },
      "execution_count": 5,
      "outputs": [
        {
          "output_type": "stream",
          "name": "stderr",
          "text": [
            "Downloading...\n",
            "From: https://drive.google.com/u/0/uc?id=1RVh7Q7_Debq_FNHi7dKssetPqfmmg3eJ&export=download\n",
            "To: /content/bert_mvp/pesos.zip\n",
            "100%|██████████| 811M/811M [00:12<00:00, 66.0MB/s]\n"
          ]
        }
      ]
    },
    {
      "cell_type": "code",
      "source": [
        "if CARGA_PESOS_MODELO_BIN or CARGA_PESOS_MODELO_MLT:\n",
        "  # Abre o arquivo ZIP\n",
        "  with zipfile.ZipFile(zip_file, 'r') as zip_ref:\n",
        "      # Extrai todo o conteúdo para a pasta de destino\n",
        "      zip_ref.extractall(PATH_PESOS_COLAB_FOLDER)"
      ],
      "metadata": {
        "id": "a21W32d3q4ky"
      },
      "execution_count": 6,
      "outputs": []
    },
    {
      "cell_type": "markdown",
      "source": [
        "# Importando DataSet Amazon Cell Phones Reviews\n",
        "https://www.kaggle.com/datasets/grikomsn/amazon-cell-phones-reviews</BR>\n",
        "Vamos trabalhar com 2 instâncias do DataSet, em ambas selecionamos as features \"body\" e \"rating\" que correspondem ao texto de avaliação dos celulares e a nota de avaliação. No primeiro dataset(df_mult) utilizamos os dados originais com o target (nota de avaliação) variando de 1 até 5 e no segundo DataSet(df_bin) adaptamos o target para trasfomar o problema em uma classificação binária, conforme demonstrado na seção subsequente de Preparação e Pre-processamento dos dados."
      ],
      "metadata": {
        "id": "8mYg4uPfCpXd"
      }
    },
    {
      "cell_type": "code",
      "source": [
        "# Informa a URL de importação do dataset\n",
        "url = \"https://raw.githubusercontent.com/safreitas2000/ml-analytics-mvp/main/20191226-reviews.csv\"\n",
        "\n",
        "# Lê o arquivo\n",
        "df_mult = pd.read_csv(url, delimiter=',', encoding='latin-1')\n",
        "df_bin = pd.read_csv(url, delimiter=',', encoding='latin-1')\n",
        "\n",
        "df_bin.head(5)"
      ],
      "metadata": {
        "colab": {
          "base_uri": "https://localhost:8080/",
          "height": 206
        },
        "id": "LPNfI-bgW4Ha",
        "outputId": "01a1cf16-c316-4e91-f199-601809107708"
      },
      "execution_count": 7,
      "outputs": [
        {
          "output_type": "execute_result",
          "data": {
            "text/plain": [
              "         asin           name  rating               date  verified  \\\n",
              "0  B0000SX2UC          Janet       3   October 11, 2005     False   \n",
              "1  B0000SX2UC     Luke Wyatt       1    January 7, 2004     False   \n",
              "2  B0000SX2UC         Brooke       5  December 30, 2003     False   \n",
              "3  B0000SX2UC  amy m. teague       3     March 18, 2004     False   \n",
              "4  B0000SX2UC  tristazbimmer       4    August 28, 2005     False   \n",
              "\n",
              "                                          title  \\\n",
              "0                   Def not best, but not worst   \n",
              "1                   Text Messaging Doesn't Work   \n",
              "2                               Love This Phone   \n",
              "3                       Love the Phone, BUT...!   \n",
              "4  Great phone service and options, lousy case!   \n",
              "\n",
              "                                                body  helpfulVotes  \n",
              "0  I had the Samsung A600 for awhile which is abs...           1.0  \n",
              "1  Due to a software issue between Nokia and Spri...          17.0  \n",
              "2  This is a great, reliable phone. I also purcha...           5.0  \n",
              "3  I love the phone and all, because I really did...           1.0  \n",
              "4  The phone has been great for every purpose it ...           1.0  "
            ],
            "text/html": [
              "\n",
              "\n",
              "  <div id=\"df-62cb0b56-7268-48e6-9e78-f5f62edd8368\">\n",
              "    <div class=\"colab-df-container\">\n",
              "      <div>\n",
              "<style scoped>\n",
              "    .dataframe tbody tr th:only-of-type {\n",
              "        vertical-align: middle;\n",
              "    }\n",
              "\n",
              "    .dataframe tbody tr th {\n",
              "        vertical-align: top;\n",
              "    }\n",
              "\n",
              "    .dataframe thead th {\n",
              "        text-align: right;\n",
              "    }\n",
              "</style>\n",
              "<table border=\"1\" class=\"dataframe\">\n",
              "  <thead>\n",
              "    <tr style=\"text-align: right;\">\n",
              "      <th></th>\n",
              "      <th>asin</th>\n",
              "      <th>name</th>\n",
              "      <th>rating</th>\n",
              "      <th>date</th>\n",
              "      <th>verified</th>\n",
              "      <th>title</th>\n",
              "      <th>body</th>\n",
              "      <th>helpfulVotes</th>\n",
              "    </tr>\n",
              "  </thead>\n",
              "  <tbody>\n",
              "    <tr>\n",
              "      <th>0</th>\n",
              "      <td>B0000SX2UC</td>\n",
              "      <td>Janet</td>\n",
              "      <td>3</td>\n",
              "      <td>October 11, 2005</td>\n",
              "      <td>False</td>\n",
              "      <td>Def not best, but not worst</td>\n",
              "      <td>I had the Samsung A600 for awhile which is abs...</td>\n",
              "      <td>1.0</td>\n",
              "    </tr>\n",
              "    <tr>\n",
              "      <th>1</th>\n",
              "      <td>B0000SX2UC</td>\n",
              "      <td>Luke Wyatt</td>\n",
              "      <td>1</td>\n",
              "      <td>January 7, 2004</td>\n",
              "      <td>False</td>\n",
              "      <td>Text Messaging Doesn't Work</td>\n",
              "      <td>Due to a software issue between Nokia and Spri...</td>\n",
              "      <td>17.0</td>\n",
              "    </tr>\n",
              "    <tr>\n",
              "      <th>2</th>\n",
              "      <td>B0000SX2UC</td>\n",
              "      <td>Brooke</td>\n",
              "      <td>5</td>\n",
              "      <td>December 30, 2003</td>\n",
              "      <td>False</td>\n",
              "      <td>Love This Phone</td>\n",
              "      <td>This is a great, reliable phone. I also purcha...</td>\n",
              "      <td>5.0</td>\n",
              "    </tr>\n",
              "    <tr>\n",
              "      <th>3</th>\n",
              "      <td>B0000SX2UC</td>\n",
              "      <td>amy m. teague</td>\n",
              "      <td>3</td>\n",
              "      <td>March 18, 2004</td>\n",
              "      <td>False</td>\n",
              "      <td>Love the Phone, BUT...!</td>\n",
              "      <td>I love the phone and all, because I really did...</td>\n",
              "      <td>1.0</td>\n",
              "    </tr>\n",
              "    <tr>\n",
              "      <th>4</th>\n",
              "      <td>B0000SX2UC</td>\n",
              "      <td>tristazbimmer</td>\n",
              "      <td>4</td>\n",
              "      <td>August 28, 2005</td>\n",
              "      <td>False</td>\n",
              "      <td>Great phone service and options, lousy case!</td>\n",
              "      <td>The phone has been great for every purpose it ...</td>\n",
              "      <td>1.0</td>\n",
              "    </tr>\n",
              "  </tbody>\n",
              "</table>\n",
              "</div>\n",
              "      <button class=\"colab-df-convert\" onclick=\"convertToInteractive('df-62cb0b56-7268-48e6-9e78-f5f62edd8368')\"\n",
              "              title=\"Convert this dataframe to an interactive table.\"\n",
              "              style=\"display:none;\">\n",
              "\n",
              "  <svg xmlns=\"http://www.w3.org/2000/svg\" height=\"24px\"viewBox=\"0 0 24 24\"\n",
              "       width=\"24px\">\n",
              "    <path d=\"M0 0h24v24H0V0z\" fill=\"none\"/>\n",
              "    <path d=\"M18.56 5.44l.94 2.06.94-2.06 2.06-.94-2.06-.94-.94-2.06-.94 2.06-2.06.94zm-11 1L8.5 8.5l.94-2.06 2.06-.94-2.06-.94L8.5 2.5l-.94 2.06-2.06.94zm10 10l.94 2.06.94-2.06 2.06-.94-2.06-.94-.94-2.06-.94 2.06-2.06.94z\"/><path d=\"M17.41 7.96l-1.37-1.37c-.4-.4-.92-.59-1.43-.59-.52 0-1.04.2-1.43.59L10.3 9.45l-7.72 7.72c-.78.78-.78 2.05 0 2.83L4 21.41c.39.39.9.59 1.41.59.51 0 1.02-.2 1.41-.59l7.78-7.78 2.81-2.81c.8-.78.8-2.07 0-2.86zM5.41 20L4 18.59l7.72-7.72 1.47 1.35L5.41 20z\"/>\n",
              "  </svg>\n",
              "      </button>\n",
              "\n",
              "\n",
              "\n",
              "    <div id=\"df-8a388d86-0320-4c8e-8be7-df518b6398ba\">\n",
              "      <button class=\"colab-df-quickchart\" onclick=\"quickchart('df-8a388d86-0320-4c8e-8be7-df518b6398ba')\"\n",
              "              title=\"Suggest charts.\"\n",
              "              style=\"display:none;\">\n",
              "\n",
              "<svg xmlns=\"http://www.w3.org/2000/svg\" height=\"24px\"viewBox=\"0 0 24 24\"\n",
              "     width=\"24px\">\n",
              "    <g>\n",
              "        <path d=\"M19 3H5c-1.1 0-2 .9-2 2v14c0 1.1.9 2 2 2h14c1.1 0 2-.9 2-2V5c0-1.1-.9-2-2-2zM9 17H7v-7h2v7zm4 0h-2V7h2v10zm4 0h-2v-4h2v4z\"/>\n",
              "    </g>\n",
              "</svg>\n",
              "      </button>\n",
              "    </div>\n",
              "\n",
              "<style>\n",
              "  .colab-df-quickchart {\n",
              "    background-color: #E8F0FE;\n",
              "    border: none;\n",
              "    border-radius: 50%;\n",
              "    cursor: pointer;\n",
              "    display: none;\n",
              "    fill: #1967D2;\n",
              "    height: 32px;\n",
              "    padding: 0 0 0 0;\n",
              "    width: 32px;\n",
              "  }\n",
              "\n",
              "  .colab-df-quickchart:hover {\n",
              "    background-color: #E2EBFA;\n",
              "    box-shadow: 0px 1px 2px rgba(60, 64, 67, 0.3), 0px 1px 3px 1px rgba(60, 64, 67, 0.15);\n",
              "    fill: #174EA6;\n",
              "  }\n",
              "\n",
              "  [theme=dark] .colab-df-quickchart {\n",
              "    background-color: #3B4455;\n",
              "    fill: #D2E3FC;\n",
              "  }\n",
              "\n",
              "  [theme=dark] .colab-df-quickchart:hover {\n",
              "    background-color: #434B5C;\n",
              "    box-shadow: 0px 1px 3px 1px rgba(0, 0, 0, 0.15);\n",
              "    filter: drop-shadow(0px 1px 2px rgba(0, 0, 0, 0.3));\n",
              "    fill: #FFFFFF;\n",
              "  }\n",
              "</style>\n",
              "\n",
              "    <script>\n",
              "      async function quickchart(key) {\n",
              "        const containerElement = document.querySelector('#' + key);\n",
              "        const charts = await google.colab.kernel.invokeFunction(\n",
              "            'suggestCharts', [key], {});\n",
              "      }\n",
              "    </script>\n",
              "\n",
              "      <script>\n",
              "\n",
              "function displayQuickchartButton(domScope) {\n",
              "  let quickchartButtonEl =\n",
              "    domScope.querySelector('#df-8a388d86-0320-4c8e-8be7-df518b6398ba button.colab-df-quickchart');\n",
              "  quickchartButtonEl.style.display =\n",
              "    google.colab.kernel.accessAllowed ? 'block' : 'none';\n",
              "}\n",
              "\n",
              "        displayQuickchartButton(document);\n",
              "      </script>\n",
              "      <style>\n",
              "    .colab-df-container {\n",
              "      display:flex;\n",
              "      flex-wrap:wrap;\n",
              "      gap: 12px;\n",
              "    }\n",
              "\n",
              "    .colab-df-convert {\n",
              "      background-color: #E8F0FE;\n",
              "      border: none;\n",
              "      border-radius: 50%;\n",
              "      cursor: pointer;\n",
              "      display: none;\n",
              "      fill: #1967D2;\n",
              "      height: 32px;\n",
              "      padding: 0 0 0 0;\n",
              "      width: 32px;\n",
              "    }\n",
              "\n",
              "    .colab-df-convert:hover {\n",
              "      background-color: #E2EBFA;\n",
              "      box-shadow: 0px 1px 2px rgba(60, 64, 67, 0.3), 0px 1px 3px 1px rgba(60, 64, 67, 0.15);\n",
              "      fill: #174EA6;\n",
              "    }\n",
              "\n",
              "    [theme=dark] .colab-df-convert {\n",
              "      background-color: #3B4455;\n",
              "      fill: #D2E3FC;\n",
              "    }\n",
              "\n",
              "    [theme=dark] .colab-df-convert:hover {\n",
              "      background-color: #434B5C;\n",
              "      box-shadow: 0px 1px 3px 1px rgba(0, 0, 0, 0.15);\n",
              "      filter: drop-shadow(0px 1px 2px rgba(0, 0, 0, 0.3));\n",
              "      fill: #FFFFFF;\n",
              "    }\n",
              "  </style>\n",
              "\n",
              "      <script>\n",
              "        const buttonEl =\n",
              "          document.querySelector('#df-62cb0b56-7268-48e6-9e78-f5f62edd8368 button.colab-df-convert');\n",
              "        buttonEl.style.display =\n",
              "          google.colab.kernel.accessAllowed ? 'block' : 'none';\n",
              "\n",
              "        async function convertToInteractive(key) {\n",
              "          const element = document.querySelector('#df-62cb0b56-7268-48e6-9e78-f5f62edd8368');\n",
              "          const dataTable =\n",
              "            await google.colab.kernel.invokeFunction('convertToInteractive',\n",
              "                                                     [key], {});\n",
              "          if (!dataTable) return;\n",
              "\n",
              "          const docLinkHtml = 'Like what you see? Visit the ' +\n",
              "            '<a target=\"_blank\" href=https://colab.research.google.com/notebooks/data_table.ipynb>data table notebook</a>'\n",
              "            + ' to learn more about interactive tables.';\n",
              "          element.innerHTML = '';\n",
              "          dataTable['output_type'] = 'display_data';\n",
              "          await google.colab.output.renderOutput(dataTable, element);\n",
              "          const docLink = document.createElement('div');\n",
              "          docLink.innerHTML = docLinkHtml;\n",
              "          element.appendChild(docLink);\n",
              "        }\n",
              "      </script>\n",
              "    </div>\n",
              "  </div>\n"
            ]
          },
          "metadata": {},
          "execution_count": 7
        }
      ]
    },
    {
      "cell_type": "markdown",
      "source": [
        "# Preparação e pre-processamento dos Dados\n",
        "Realizamos algumas adequações nos dados antes de submeter para  pre-processamento e treinamento no BERT. O BERT já possui seu próprio processo de pré-processamento de texto, que envolve tokenização e embeddings de palavras. Portanto, o próprio BERT já incorpora a normalização e a padronização de texto por meio de seus embeddings. Não é necessário realizar essas etapas manualmente.\n",
        "*   Selecionamos uma amostragem balanceada dos dados onde cada valor do target deverá possuir o mesmo número de amostras.\n",
        "*   Utilizamos 3500 registros para cada valor do Target em ambos DataSets (Binário e Multiclasse)\n",
        "*   Para o dataset utilizado na classificação binária vamos adaptar a coluna \"rating\" da seguinte forma: os valores 1 e 2 vão ser transformados em \"0\", os valores 4 e 5 serão convertidos em \"1\" e o valor 3 \"None\".\n",
        "*   Remover as linhas que contêm valores ausentes (NaN)\n",
        "*   Redefinir os índices do DataFrame após a remoção das linhas com valores ausentes.\n",
        "*   Remove caracteres especiais não reconhecidos, usando encode e decode entre os padrões ASCII e UTF-8\n",
        "*   Seleciona somente as colunas \"Body\" e \"Rating\" que vão ser parte do escopo do trabalho.\n",
        "*   Utilizamos train_test_split da biblioteca do sklearn para separação dos DataSets em teste e treino, com 20% das amostras para teste e 80% para treino."
      ],
      "metadata": {
        "id": "B7vgxA1aDUpb"
      }
    },
    {
      "cell_type": "code",
      "source": [
        "# Separar registros por valor do rating\n",
        "grouped_bin = df_bin.groupby('rating')\n",
        "grouped_mlt = df_mult.groupby('rating')\n",
        "\n",
        "num_samples_per_rating = 3500 # Número desejado de registros de cada valor de rating\n",
        "sampled_dfs_bin = []\n",
        "sampled_dfs_mlt = []\n",
        "\n",
        "# Percorre cada grupo, fazendo o sampling de registros de cada grupo\n",
        "for rating, group in grouped_bin:\n",
        "    sampled_group_bin = group.sample(n=num_samples_per_rating, random_state=42)\n",
        "    sampled_dfs_bin.append(sampled_group_bin)\n",
        "\n",
        "for rating, group in grouped_mlt:\n",
        "    sampled_group_mlt = group.sample(n=num_samples_per_rating, random_state=42)\n",
        "    sampled_dfs_mlt.append(sampled_group_mlt)\n",
        "\n",
        "# Concatena os DataFrames amostrados em um único DataFrame final\n",
        "df_bin = pd.concat(sampled_dfs_bin)\n",
        "df_mult = pd.concat(sampled_dfs_mlt)\n",
        "\n",
        "# Embaralha os registros no DataFrame resultante\n",
        "df_bin = df_bin.sample(frac=1, random_state=42)\n",
        "df_mult = df_mult.sample(frac=1, random_state=42)"
      ],
      "metadata": {
        "id": "-Lwt5-1exHuX"
      },
      "execution_count": 8,
      "outputs": []
    },
    {
      "cell_type": "code",
      "source": [
        "#df_mult = df_mult.head(10000)\n",
        "#df_bin = df_bin.head(10000)"
      ],
      "metadata": {
        "id": "_IsbuUmfqyvA"
      },
      "execution_count": 9,
      "outputs": []
    },
    {
      "cell_type": "code",
      "source": [
        "mapping={1:0,2:0,3:None,4:1,5:1}\n",
        "df_bin.rating=df_bin.rating.map(mapping)\n",
        "df_bin=df_bin.dropna(subset='rating')"
      ],
      "metadata": {
        "id": "OcZif7m8spHL"
      },
      "execution_count": 10,
      "outputs": []
    },
    {
      "cell_type": "code",
      "source": [
        "df_bin.head(100)"
      ],
      "metadata": {
        "colab": {
          "base_uri": "https://localhost:8080/",
          "height": 467
        },
        "id": "8y7GETQ_DaEI",
        "outputId": "b95a2878-bb3c-4c19-d4d3-afb44def0621"
      },
      "execution_count": 11,
      "outputs": [
        {
          "output_type": "execute_result",
          "data": {
            "text/plain": [
              "             asin                       name  rating                date  \\\n",
              "14052  B00OEK6TWU                  christina     0.0      April 21, 2017   \n",
              "45737  B079SQ5VHX              Michael Royer     0.0    November 6, 2018   \n",
              "33592  B06XZRH5ZC  Guillermo Ayala Alvarenga     0.0   November 23, 2017   \n",
              "21714  B01D0JV7AO                  Anonymous     0.0   September 6, 2016   \n",
              "8981   B00F9RRVUG                      CJ_NY     1.0  September 22, 2014   \n",
              "...           ...                        ...     ...                 ...   \n",
              "11450  B00KM10ITK              Jerome Romero     0.0      August 4, 2015   \n",
              "40512  B0766TPHSH               Lord_Theoden     0.0      March 20, 2018   \n",
              "41906  B0775451TT             Alexander Duff     1.0       July 31, 2019   \n",
              "33802  B06Y16RL4W                        Vic     1.0    October 14, 2019   \n",
              "48695  B07D6TQP6F             Mario villegas     1.0     August 22, 2019   \n",
              "\n",
              "       verified                                              title  \\\n",
              "14052      True  I'd Recommend purchasing a phone from your car...   \n",
              "45737      True              Suspected LCD problem with galaxy s9.   \n",
              "33592      True                                   Worst phone EVER   \n",
              "21714      True          Take your business to a different company   \n",
              "8981       True                       A perfectly functional phone   \n",
              "...         ...                                                ...   \n",
              "11450      True                                          Two Stars   \n",
              "40512      True  So far the phone is fine but not being able to...   \n",
              "41906      True                                               good   \n",
              "33802      True                             Wont work with Xfinity   \n",
              "48695      True                                          Earphones   \n",
              "\n",
              "                                                    body  helpfulVotes  \n",
              "14052  This phone freezes. It doesn't allow me to dow...           1.0  \n",
              "45737  Quite attracted to the product first hand. Qui...           9.0  \n",
              "33592  Worst phone EVER! the wifi setting suddendly s...           2.0  \n",
              "21714  Save your money and never buy from this sham o...         372.0  \n",
              "8981   A great drop phone for those times you need to...           3.0  \n",
              "...                                                  ...           ...  \n",
              "11450                                 Phone doesn't work           NaN  \n",
              "40512  I'm only giving this a 2 star because when I g...           4.0  \n",
              "41906                                               good           NaN  \n",
              "33802  Great Phone But if you want to use it with wit...           NaN  \n",
              "48695            I didnât receive the iPhone earphones           NaN  \n",
              "\n",
              "[100 rows x 8 columns]"
            ],
            "text/html": [
              "\n",
              "\n",
              "  <div id=\"df-f4afd126-0125-476c-a752-cfd698d1b659\">\n",
              "    <div class=\"colab-df-container\">\n",
              "      <div>\n",
              "<style scoped>\n",
              "    .dataframe tbody tr th:only-of-type {\n",
              "        vertical-align: middle;\n",
              "    }\n",
              "\n",
              "    .dataframe tbody tr th {\n",
              "        vertical-align: top;\n",
              "    }\n",
              "\n",
              "    .dataframe thead th {\n",
              "        text-align: right;\n",
              "    }\n",
              "</style>\n",
              "<table border=\"1\" class=\"dataframe\">\n",
              "  <thead>\n",
              "    <tr style=\"text-align: right;\">\n",
              "      <th></th>\n",
              "      <th>asin</th>\n",
              "      <th>name</th>\n",
              "      <th>rating</th>\n",
              "      <th>date</th>\n",
              "      <th>verified</th>\n",
              "      <th>title</th>\n",
              "      <th>body</th>\n",
              "      <th>helpfulVotes</th>\n",
              "    </tr>\n",
              "  </thead>\n",
              "  <tbody>\n",
              "    <tr>\n",
              "      <th>14052</th>\n",
              "      <td>B00OEK6TWU</td>\n",
              "      <td>christina</td>\n",
              "      <td>0.0</td>\n",
              "      <td>April 21, 2017</td>\n",
              "      <td>True</td>\n",
              "      <td>I'd Recommend purchasing a phone from your car...</td>\n",
              "      <td>This phone freezes. It doesn't allow me to dow...</td>\n",
              "      <td>1.0</td>\n",
              "    </tr>\n",
              "    <tr>\n",
              "      <th>45737</th>\n",
              "      <td>B079SQ5VHX</td>\n",
              "      <td>Michael Royer</td>\n",
              "      <td>0.0</td>\n",
              "      <td>November 6, 2018</td>\n",
              "      <td>True</td>\n",
              "      <td>Suspected LCD problem with galaxy s9.</td>\n",
              "      <td>Quite attracted to the product first hand. Qui...</td>\n",
              "      <td>9.0</td>\n",
              "    </tr>\n",
              "    <tr>\n",
              "      <th>33592</th>\n",
              "      <td>B06XZRH5ZC</td>\n",
              "      <td>Guillermo Ayala Alvarenga</td>\n",
              "      <td>0.0</td>\n",
              "      <td>November 23, 2017</td>\n",
              "      <td>True</td>\n",
              "      <td>Worst phone EVER</td>\n",
              "      <td>Worst phone EVER! the wifi setting suddendly s...</td>\n",
              "      <td>2.0</td>\n",
              "    </tr>\n",
              "    <tr>\n",
              "      <th>21714</th>\n",
              "      <td>B01D0JV7AO</td>\n",
              "      <td>Anonymous</td>\n",
              "      <td>0.0</td>\n",
              "      <td>September 6, 2016</td>\n",
              "      <td>True</td>\n",
              "      <td>Take your business to a different company</td>\n",
              "      <td>Save your money and never buy from this sham o...</td>\n",
              "      <td>372.0</td>\n",
              "    </tr>\n",
              "    <tr>\n",
              "      <th>8981</th>\n",
              "      <td>B00F9RRVUG</td>\n",
              "      <td>CJ_NY</td>\n",
              "      <td>1.0</td>\n",
              "      <td>September 22, 2014</td>\n",
              "      <td>True</td>\n",
              "      <td>A perfectly functional phone</td>\n",
              "      <td>A great drop phone for those times you need to...</td>\n",
              "      <td>3.0</td>\n",
              "    </tr>\n",
              "    <tr>\n",
              "      <th>...</th>\n",
              "      <td>...</td>\n",
              "      <td>...</td>\n",
              "      <td>...</td>\n",
              "      <td>...</td>\n",
              "      <td>...</td>\n",
              "      <td>...</td>\n",
              "      <td>...</td>\n",
              "      <td>...</td>\n",
              "    </tr>\n",
              "    <tr>\n",
              "      <th>11450</th>\n",
              "      <td>B00KM10ITK</td>\n",
              "      <td>Jerome Romero</td>\n",
              "      <td>0.0</td>\n",
              "      <td>August 4, 2015</td>\n",
              "      <td>True</td>\n",
              "      <td>Two Stars</td>\n",
              "      <td>Phone doesn't work</td>\n",
              "      <td>NaN</td>\n",
              "    </tr>\n",
              "    <tr>\n",
              "      <th>40512</th>\n",
              "      <td>B0766TPHSH</td>\n",
              "      <td>Lord_Theoden</td>\n",
              "      <td>0.0</td>\n",
              "      <td>March 20, 2018</td>\n",
              "      <td>True</td>\n",
              "      <td>So far the phone is fine but not being able to...</td>\n",
              "      <td>I'm only giving this a 2 star because when I g...</td>\n",
              "      <td>4.0</td>\n",
              "    </tr>\n",
              "    <tr>\n",
              "      <th>41906</th>\n",
              "      <td>B0775451TT</td>\n",
              "      <td>Alexander Duff</td>\n",
              "      <td>1.0</td>\n",
              "      <td>July 31, 2019</td>\n",
              "      <td>True</td>\n",
              "      <td>good</td>\n",
              "      <td>good</td>\n",
              "      <td>NaN</td>\n",
              "    </tr>\n",
              "    <tr>\n",
              "      <th>33802</th>\n",
              "      <td>B06Y16RL4W</td>\n",
              "      <td>Vic</td>\n",
              "      <td>1.0</td>\n",
              "      <td>October 14, 2019</td>\n",
              "      <td>True</td>\n",
              "      <td>Wont work with Xfinity</td>\n",
              "      <td>Great Phone But if you want to use it with wit...</td>\n",
              "      <td>NaN</td>\n",
              "    </tr>\n",
              "    <tr>\n",
              "      <th>48695</th>\n",
              "      <td>B07D6TQP6F</td>\n",
              "      <td>Mario villegas</td>\n",
              "      <td>1.0</td>\n",
              "      <td>August 22, 2019</td>\n",
              "      <td>True</td>\n",
              "      <td>Earphones</td>\n",
              "      <td>I didnât receive the iPhone earphones</td>\n",
              "      <td>NaN</td>\n",
              "    </tr>\n",
              "  </tbody>\n",
              "</table>\n",
              "<p>100 rows × 8 columns</p>\n",
              "</div>\n",
              "      <button class=\"colab-df-convert\" onclick=\"convertToInteractive('df-f4afd126-0125-476c-a752-cfd698d1b659')\"\n",
              "              title=\"Convert this dataframe to an interactive table.\"\n",
              "              style=\"display:none;\">\n",
              "\n",
              "  <svg xmlns=\"http://www.w3.org/2000/svg\" height=\"24px\"viewBox=\"0 0 24 24\"\n",
              "       width=\"24px\">\n",
              "    <path d=\"M0 0h24v24H0V0z\" fill=\"none\"/>\n",
              "    <path d=\"M18.56 5.44l.94 2.06.94-2.06 2.06-.94-2.06-.94-.94-2.06-.94 2.06-2.06.94zm-11 1L8.5 8.5l.94-2.06 2.06-.94-2.06-.94L8.5 2.5l-.94 2.06-2.06.94zm10 10l.94 2.06.94-2.06 2.06-.94-2.06-.94-.94-2.06-.94 2.06-2.06.94z\"/><path d=\"M17.41 7.96l-1.37-1.37c-.4-.4-.92-.59-1.43-.59-.52 0-1.04.2-1.43.59L10.3 9.45l-7.72 7.72c-.78.78-.78 2.05 0 2.83L4 21.41c.39.39.9.59 1.41.59.51 0 1.02-.2 1.41-.59l7.78-7.78 2.81-2.81c.8-.78.8-2.07 0-2.86zM5.41 20L4 18.59l7.72-7.72 1.47 1.35L5.41 20z\"/>\n",
              "  </svg>\n",
              "      </button>\n",
              "\n",
              "\n",
              "\n",
              "    <div id=\"df-3ce8b748-f5a9-4e91-9362-d6a07d245746\">\n",
              "      <button class=\"colab-df-quickchart\" onclick=\"quickchart('df-3ce8b748-f5a9-4e91-9362-d6a07d245746')\"\n",
              "              title=\"Suggest charts.\"\n",
              "              style=\"display:none;\">\n",
              "\n",
              "<svg xmlns=\"http://www.w3.org/2000/svg\" height=\"24px\"viewBox=\"0 0 24 24\"\n",
              "     width=\"24px\">\n",
              "    <g>\n",
              "        <path d=\"M19 3H5c-1.1 0-2 .9-2 2v14c0 1.1.9 2 2 2h14c1.1 0 2-.9 2-2V5c0-1.1-.9-2-2-2zM9 17H7v-7h2v7zm4 0h-2V7h2v10zm4 0h-2v-4h2v4z\"/>\n",
              "    </g>\n",
              "</svg>\n",
              "      </button>\n",
              "    </div>\n",
              "\n",
              "<style>\n",
              "  .colab-df-quickchart {\n",
              "    background-color: #E8F0FE;\n",
              "    border: none;\n",
              "    border-radius: 50%;\n",
              "    cursor: pointer;\n",
              "    display: none;\n",
              "    fill: #1967D2;\n",
              "    height: 32px;\n",
              "    padding: 0 0 0 0;\n",
              "    width: 32px;\n",
              "  }\n",
              "\n",
              "  .colab-df-quickchart:hover {\n",
              "    background-color: #E2EBFA;\n",
              "    box-shadow: 0px 1px 2px rgba(60, 64, 67, 0.3), 0px 1px 3px 1px rgba(60, 64, 67, 0.15);\n",
              "    fill: #174EA6;\n",
              "  }\n",
              "\n",
              "  [theme=dark] .colab-df-quickchart {\n",
              "    background-color: #3B4455;\n",
              "    fill: #D2E3FC;\n",
              "  }\n",
              "\n",
              "  [theme=dark] .colab-df-quickchart:hover {\n",
              "    background-color: #434B5C;\n",
              "    box-shadow: 0px 1px 3px 1px rgba(0, 0, 0, 0.15);\n",
              "    filter: drop-shadow(0px 1px 2px rgba(0, 0, 0, 0.3));\n",
              "    fill: #FFFFFF;\n",
              "  }\n",
              "</style>\n",
              "\n",
              "    <script>\n",
              "      async function quickchart(key) {\n",
              "        const containerElement = document.querySelector('#' + key);\n",
              "        const charts = await google.colab.kernel.invokeFunction(\n",
              "            'suggestCharts', [key], {});\n",
              "      }\n",
              "    </script>\n",
              "\n",
              "      <script>\n",
              "\n",
              "function displayQuickchartButton(domScope) {\n",
              "  let quickchartButtonEl =\n",
              "    domScope.querySelector('#df-3ce8b748-f5a9-4e91-9362-d6a07d245746 button.colab-df-quickchart');\n",
              "  quickchartButtonEl.style.display =\n",
              "    google.colab.kernel.accessAllowed ? 'block' : 'none';\n",
              "}\n",
              "\n",
              "        displayQuickchartButton(document);\n",
              "      </script>\n",
              "      <style>\n",
              "    .colab-df-container {\n",
              "      display:flex;\n",
              "      flex-wrap:wrap;\n",
              "      gap: 12px;\n",
              "    }\n",
              "\n",
              "    .colab-df-convert {\n",
              "      background-color: #E8F0FE;\n",
              "      border: none;\n",
              "      border-radius: 50%;\n",
              "      cursor: pointer;\n",
              "      display: none;\n",
              "      fill: #1967D2;\n",
              "      height: 32px;\n",
              "      padding: 0 0 0 0;\n",
              "      width: 32px;\n",
              "    }\n",
              "\n",
              "    .colab-df-convert:hover {\n",
              "      background-color: #E2EBFA;\n",
              "      box-shadow: 0px 1px 2px rgba(60, 64, 67, 0.3), 0px 1px 3px 1px rgba(60, 64, 67, 0.15);\n",
              "      fill: #174EA6;\n",
              "    }\n",
              "\n",
              "    [theme=dark] .colab-df-convert {\n",
              "      background-color: #3B4455;\n",
              "      fill: #D2E3FC;\n",
              "    }\n",
              "\n",
              "    [theme=dark] .colab-df-convert:hover {\n",
              "      background-color: #434B5C;\n",
              "      box-shadow: 0px 1px 3px 1px rgba(0, 0, 0, 0.15);\n",
              "      filter: drop-shadow(0px 1px 2px rgba(0, 0, 0, 0.3));\n",
              "      fill: #FFFFFF;\n",
              "    }\n",
              "  </style>\n",
              "\n",
              "      <script>\n",
              "        const buttonEl =\n",
              "          document.querySelector('#df-f4afd126-0125-476c-a752-cfd698d1b659 button.colab-df-convert');\n",
              "        buttonEl.style.display =\n",
              "          google.colab.kernel.accessAllowed ? 'block' : 'none';\n",
              "\n",
              "        async function convertToInteractive(key) {\n",
              "          const element = document.querySelector('#df-f4afd126-0125-476c-a752-cfd698d1b659');\n",
              "          const dataTable =\n",
              "            await google.colab.kernel.invokeFunction('convertToInteractive',\n",
              "                                                     [key], {});\n",
              "          if (!dataTable) return;\n",
              "\n",
              "          const docLinkHtml = 'Like what you see? Visit the ' +\n",
              "            '<a target=\"_blank\" href=https://colab.research.google.com/notebooks/data_table.ipynb>data table notebook</a>'\n",
              "            + ' to learn more about interactive tables.';\n",
              "          element.innerHTML = '';\n",
              "          dataTable['output_type'] = 'display_data';\n",
              "          await google.colab.output.renderOutput(dataTable, element);\n",
              "          const docLink = document.createElement('div');\n",
              "          docLink.innerHTML = docLinkHtml;\n",
              "          element.appendChild(docLink);\n",
              "        }\n",
              "      </script>\n",
              "    </div>\n",
              "  </div>\n"
            ]
          },
          "metadata": {},
          "execution_count": 11
        }
      ]
    },
    {
      "cell_type": "code",
      "source": [
        "df_bin = df_bin[[\"body\", \"rating\"]]\n",
        "df_mult = df_mult[[\"body\", \"rating\"]]\n",
        "df_mult.loc[:, \"rating\"] = df_mult[\"rating\"].astype(float)"
      ],
      "metadata": {
        "id": "eNTZG0DzDmK4"
      },
      "execution_count": 12,
      "outputs": []
    },
    {
      "cell_type": "code",
      "source": [
        "df_mult = df_mult.dropna()\n",
        "df_mult = df_mult.reset_index(drop=True)\n",
        "\n",
        "df_bin = df_bin.dropna()\n",
        "df_bin = df_bin.reset_index(drop=True)"
      ],
      "metadata": {
        "id": "WM9aUdZ24YGS"
      },
      "execution_count": 13,
      "outputs": []
    },
    {
      "cell_type": "code",
      "source": [
        "rat_bin=df_bin.rating.value_counts()\n",
        "rat_mult=df_mult.rating.value_counts()"
      ],
      "metadata": {
        "id": "95iqbJxEXOmE"
      },
      "execution_count": 14,
      "outputs": []
    },
    {
      "cell_type": "code",
      "source": [
        "import matplotlib.pyplot as plt\n",
        "\n",
        "# Criação da grade de subplots\n",
        "fig, axes = plt.subplots(1, 2, figsize=(10, 5))\n",
        "\n",
        "# Plotagem do primeiro gráfico\n",
        "axes[0].bar(rat_bin.index, rat_bin.values)\n",
        "axes[0].set_xticks(rat_bin.index)\n",
        "axes[0].set_xlabel('Target')\n",
        "axes[0].set_ylabel('Values')\n",
        "axes[0].set_title('Classificação Binária')\n",
        "\n",
        "# Plotagem do segundo gráfico\n",
        "axes[1].bar(rat_mult.index, rat_mult.values)\n",
        "axes[1].set_xlabel('Target')\n",
        "axes[1].set_ylabel('Values')\n",
        "axes[1].set_title('Classificação Multiclasse')\n",
        "\n",
        "# Ajuste de layout e exibição dos gráficos\n",
        "plt.tight_layout()\n",
        "plt.show()"
      ],
      "metadata": {
        "colab": {
          "base_uri": "https://localhost:8080/",
          "height": 507
        },
        "id": "FqTxzTS_Wvck",
        "outputId": "49c044ec-02bf-4a71-a397-a75bc2b2f615"
      },
      "execution_count": 15,
      "outputs": [
        {
          "output_type": "display_data",
          "data": {
            "text/plain": [
              "<Figure size 1000x500 with 2 Axes>"
            ],
            "image/png": "[encoded data removed]"
          },
          "metadata": {}
        }
      ]
    },
    {
      "cell_type": "code",
      "source": [
        "df_bin.loc[:, \"body\"] = df_bin[\"body\"].str.encode(\"ascii\", \"ignore\").str.decode(\"utf-8\")\n",
        "df_mult.loc[:, \"body\"] = df_mult[\"body\"].str.encode(\"ascii\", \"ignore\").str.decode(\"utf-8\")"
      ],
      "metadata": {
        "id": "2jueuuQNYH4f"
      },
      "execution_count": 16,
      "outputs": []
    },
    {
      "cell_type": "code",
      "source": [
        "df_mult.head(10)"
      ],
      "metadata": {
        "colab": {
          "base_uri": "https://localhost:8080/",
          "height": 363
        },
        "id": "-oenB4TZYN12",
        "outputId": "4819729d-0691-4c6e-f5c5-d59c23a04ba5"
      },
      "execution_count": 17,
      "outputs": [
        {
          "output_type": "execute_result",
          "data": {
            "text/plain": [
              "                                                body  rating\n",
              "0  This phone freezes. It doesn't allow me to dow...     1.0\n",
              "1  Ive had this phone for about 8 months now and ...     3.0\n",
              "2  Quite attracted to the product first hand. Qui...     2.0\n",
              "3  Although this phone looks good, there are cert...     3.0\n",
              "4  Worst phone EVER! the wifi setting suddendly s...     1.0\n",
              "5  Save your money and never buy from this sham o...     1.0\n",
              "6  A great drop phone for those times you need to...     4.0\n",
              "7  This has been the worst phone I've ever owned....     1.0\n",
              "8  I really loved this phone at first, but I only...     3.0\n",
              "9  THE PHONE IS SUPPOSED TO BE UNLOCKED PHONE. UN...     2.0"
            ],
            "text/html": [
              "\n",
              "\n",
              "  <div id=\"df-8f8a50c3-93b1-4846-8eea-d7bcc643a75a\">\n",
              "    <div class=\"colab-df-container\">\n",
              "      <div>\n",
              "<style scoped>\n",
              "    .dataframe tbody tr th:only-of-type {\n",
              "        vertical-align: middle;\n",
              "    }\n",
              "\n",
              "    .dataframe tbody tr th {\n",
              "        vertical-align: top;\n",
              "    }\n",
              "\n",
              "    .dataframe thead th {\n",
              "        text-align: right;\n",
              "    }\n",
              "</style>\n",
              "<table border=\"1\" class=\"dataframe\">\n",
              "  <thead>\n",
              "    <tr style=\"text-align: right;\">\n",
              "      <th></th>\n",
              "      <th>body</th>\n",
              "      <th>rating</th>\n",
              "    </tr>\n",
              "  </thead>\n",
              "  <tbody>\n",
              "    <tr>\n",
              "      <th>0</th>\n",
              "      <td>This phone freezes. It doesn't allow me to dow...</td>\n",
              "      <td>1.0</td>\n",
              "    </tr>\n",
              "    <tr>\n",
              "      <th>1</th>\n",
              "      <td>Ive had this phone for about 8 months now and ...</td>\n",
              "      <td>3.0</td>\n",
              "    </tr>\n",
              "    <tr>\n",
              "      <th>2</th>\n",
              "      <td>Quite attracted to the product first hand. Qui...</td>\n",
              "      <td>2.0</td>\n",
              "    </tr>\n",
              "    <tr>\n",
              "      <th>3</th>\n",
              "      <td>Although this phone looks good, there are cert...</td>\n",
              "      <td>3.0</td>\n",
              "    </tr>\n",
              "    <tr>\n",
              "      <th>4</th>\n",
              "      <td>Worst phone EVER! the wifi setting suddendly s...</td>\n",
              "      <td>1.0</td>\n",
              "    </tr>\n",
              "    <tr>\n",
              "      <th>5</th>\n",
              "      <td>Save your money and never buy from this sham o...</td>\n",
              "      <td>1.0</td>\n",
              "    </tr>\n",
              "    <tr>\n",
              "      <th>6</th>\n",
              "      <td>A great drop phone for those times you need to...</td>\n",
              "      <td>4.0</td>\n",
              "    </tr>\n",
              "    <tr>\n",
              "      <th>7</th>\n",
              "      <td>This has been the worst phone I've ever owned....</td>\n",
              "      <td>1.0</td>\n",
              "    </tr>\n",
              "    <tr>\n",
              "      <th>8</th>\n",
              "      <td>I really loved this phone at first, but I only...</td>\n",
              "      <td>3.0</td>\n",
              "    </tr>\n",
              "    <tr>\n",
              "      <th>9</th>\n",
              "      <td>THE PHONE IS SUPPOSED TO BE UNLOCKED PHONE. UN...</td>\n",
              "      <td>2.0</td>\n",
              "    </tr>\n",
              "  </tbody>\n",
              "</table>\n",
              "</div>\n",
              "      <button class=\"colab-df-convert\" onclick=\"convertToInteractive('df-8f8a50c3-93b1-4846-8eea-d7bcc643a75a')\"\n",
              "              title=\"Convert this dataframe to an interactive table.\"\n",
              "              style=\"display:none;\">\n",
              "\n",
              "  <svg xmlns=\"http://www.w3.org/2000/svg\" height=\"24px\"viewBox=\"0 0 24 24\"\n",
              "       width=\"24px\">\n",
              "    <path d=\"M0 0h24v24H0V0z\" fill=\"none\"/>\n",
              "    <path d=\"M18.56 5.44l.94 2.06.94-2.06 2.06-.94-2.06-.94-.94-2.06-.94 2.06-2.06.94zm-11 1L8.5 8.5l.94-2.06 2.06-.94-2.06-.94L8.5 2.5l-.94 2.06-2.06.94zm10 10l.94 2.06.94-2.06 2.06-.94-2.06-.94-.94-2.06-.94 2.06-2.06.94z\"/><path d=\"M17.41 7.96l-1.37-1.37c-.4-.4-.92-.59-1.43-.59-.52 0-1.04.2-1.43.59L10.3 9.45l-7.72 7.72c-.78.78-.78 2.05 0 2.83L4 21.41c.39.39.9.59 1.41.59.51 0 1.02-.2 1.41-.59l7.78-7.78 2.81-2.81c.8-.78.8-2.07 0-2.86zM5.41 20L4 18.59l7.72-7.72 1.47 1.35L5.41 20z\"/>\n",
              "  </svg>\n",
              "      </button>\n",
              "\n",
              "\n",
              "\n",
              "    <div id=\"df-96acba54-3016-4c16-b912-fd1d6462b0f8\">\n",
              "      <button class=\"colab-df-quickchart\" onclick=\"quickchart('df-96acba54-3016-4c16-b912-fd1d6462b0f8')\"\n",
              "              title=\"Suggest charts.\"\n",
              "              style=\"display:none;\">\n",
              "\n",
              "<svg xmlns=\"http://www.w3.org/2000/svg\" height=\"24px\"viewBox=\"0 0 24 24\"\n",
              "     width=\"24px\">\n",
              "    <g>\n",
              "        <path d=\"M19 3H5c-1.1 0-2 .9-2 2v14c0 1.1.9 2 2 2h14c1.1 0 2-.9 2-2V5c0-1.1-.9-2-2-2zM9 17H7v-7h2v7zm4 0h-2V7h2v10zm4 0h-2v-4h2v4z\"/>\n",
              "    </g>\n",
              "</svg>\n",
              "      </button>\n",
              "    </div>\n",
              "\n",
              "<style>\n",
              "  .colab-df-quickchart {\n",
              "    background-color: #E8F0FE;\n",
              "    border: none;\n",
              "    border-radius: 50%;\n",
              "    cursor: pointer;\n",
              "    display: none;\n",
              "    fill: #1967D2;\n",
              "    height: 32px;\n",
              "    padding: 0 0 0 0;\n",
              "    width: 32px;\n",
              "  }\n",
              "\n",
              "  .colab-df-quickchart:hover {\n",
              "    background-color: #E2EBFA;\n",
              "    box-shadow: 0px 1px 2px rgba(60, 64, 67, 0.3), 0px 1px 3px 1px rgba(60, 64, 67, 0.15);\n",
              "    fill: #174EA6;\n",
              "  }\n",
              "\n",
              "  [theme=dark] .colab-df-quickchart {\n",
              "    background-color: #3B4455;\n",
              "    fill: #D2E3FC;\n",
              "  }\n",
              "\n",
              "  [theme=dark] .colab-df-quickchart:hover {\n",
              "    background-color: #434B5C;\n",
              "    box-shadow: 0px 1px 3px 1px rgba(0, 0, 0, 0.15);\n",
              "    filter: drop-shadow(0px 1px 2px rgba(0, 0, 0, 0.3));\n",
              "    fill: #FFFFFF;\n",
              "  }\n",
              "</style>\n",
              "\n",
              "    <script>\n",
              "      async function quickchart(key) {\n",
              "        const containerElement = document.querySelector('#' + key);\n",
              "        const charts = await google.colab.kernel.invokeFunction(\n",
              "            'suggestCharts', [key], {});\n",
              "      }\n",
              "    </script>\n",
              "\n",
              "      <script>\n",
              "\n",
              "function displayQuickchartButton(domScope) {\n",
              "  let quickchartButtonEl =\n",
              "    domScope.querySelector('#df-96acba54-3016-4c16-b912-fd1d6462b0f8 button.colab-df-quickchart');\n",
              "  quickchartButtonEl.style.display =\n",
              "    google.colab.kernel.accessAllowed ? 'block' : 'none';\n",
              "}\n",
              "\n",
              "        displayQuickchartButton(document);\n",
              "      </script>\n",
              "      <style>\n",
              "    .colab-df-container {\n",
              "      display:flex;\n",
              "      flex-wrap:wrap;\n",
              "      gap: 12px;\n",
              "    }\n",
              "\n",
              "    .colab-df-convert {\n",
              "      background-color: #E8F0FE;\n",
              "      border: none;\n",
              "      border-radius: 50%;\n",
              "      cursor: pointer;\n",
              "      display: none;\n",
              "      fill: #1967D2;\n",
              "      height: 32px;\n",
              "      padding: 0 0 0 0;\n",
              "      width: 32px;\n",
              "    }\n",
              "\n",
              "    .colab-df-convert:hover {\n",
              "      background-color: #E2EBFA;\n",
              "      box-shadow: 0px 1px 2px rgba(60, 64, 67, 0.3), 0px 1px 3px 1px rgba(60, 64, 67, 0.15);\n",
              "      fill: #174EA6;\n",
              "    }\n",
              "\n",
              "    [theme=dark] .colab-df-convert {\n",
              "      background-color: #3B4455;\n",
              "      fill: #D2E3FC;\n",
              "    }\n",
              "\n",
              "    [theme=dark] .colab-df-convert:hover {\n",
              "      background-color: #434B5C;\n",
              "      box-shadow: 0px 1px 3px 1px rgba(0, 0, 0, 0.15);\n",
              "      filter: drop-shadow(0px 1px 2px rgba(0, 0, 0, 0.3));\n",
              "      fill: #FFFFFF;\n",
              "    }\n",
              "  </style>\n",
              "\n",
              "      <script>\n",
              "        const buttonEl =\n",
              "          document.querySelector('#df-8f8a50c3-93b1-4846-8eea-d7bcc643a75a button.colab-df-convert');\n",
              "        buttonEl.style.display =\n",
              "          google.colab.kernel.accessAllowed ? 'block' : 'none';\n",
              "\n",
              "        async function convertToInteractive(key) {\n",
              "          const element = document.querySelector('#df-8f8a50c3-93b1-4846-8eea-d7bcc643a75a');\n",
              "          const dataTable =\n",
              "            await google.colab.kernel.invokeFunction('convertToInteractive',\n",
              "                                                     [key], {});\n",
              "          if (!dataTable) return;\n",
              "\n",
              "          const docLinkHtml = 'Like what you see? Visit the ' +\n",
              "            '<a target=\"_blank\" href=https://colab.research.google.com/notebooks/data_table.ipynb>data table notebook</a>'\n",
              "            + ' to learn more about interactive tables.';\n",
              "          element.innerHTML = '';\n",
              "          dataTable['output_type'] = 'display_data';\n",
              "          await google.colab.output.renderOutput(dataTable, element);\n",
              "          const docLink = document.createElement('div');\n",
              "          docLink.innerHTML = docLinkHtml;\n",
              "          element.appendChild(docLink);\n",
              "        }\n",
              "      </script>\n",
              "    </div>\n",
              "  </div>\n"
            ]
          },
          "metadata": {},
          "execution_count": 17
        }
      ]
    },
    {
      "cell_type": "markdown",
      "source": [
        "**Separação em base de treino e teste**, não achamos necessário trabalhar com conjunto de validação."
      ],
      "metadata": {
        "id": "oItu2BZdEXnJ"
      }
    },
    {
      "cell_type": "code",
      "source": [
        "# Separação em base de treino e teste\n",
        "X_train, X_test, y_train, y_test = train_test_split(df_bin.body,df_bin.rating,test_size=0.2)\n",
        "R_train, R_test, t_train, t_test = train_test_split(df_mult.body,df_mult.rating,test_size=0.2)"
      ],
      "metadata": {
        "id": "5nK8C3DPYo9P"
      },
      "execution_count": 18,
      "outputs": []
    },
    {
      "cell_type": "markdown",
      "source": [
        "# Definição do Modelo e Treinamento\n",
        "Optei por trabalhar com a arquitetura do BERT (Bidirectional Encoder Representations from Transformers), que é um poderoso modelo pré-treinado para o processamento de linguagem natural. O BERT é capaz de capturar relações semânticas complexas entre palavras em um texto, e seu desempenho tem sido muito bem-sucedido em várias tarefas de processamento de linguagem natural, incluindo classificação de texto. Sendo assim entendo o modelo como sendo adequado para resolver o problema de classificação de texto e realizar a predição da avaliação como positiva ou negativa. </br>\n",
        "\n",
        "**No código abaixo definimos duas camadas do modelo BERT (Bidirectional Encoder Representations from Transformers) usando o TensorFlow Hub. Vamos analisar cada uma dessas camadas:**\n",
        "\n",
        "**bert_preprocess:** Essa camada do TensorFlow Hub realiza o pré-processamento dos dados de texto para o formato que o modelo BERT espera como entrada. O BERT requer uma tokenização específica e o mapeamento dos tokens para os índices do vocabulário do BERT. O modelo \"bert_en_uncased_preprocess/3\" é uma versão específica do BERT que foi pré-treinada em texto em inglês e é case-insensitive (não diferencia maiúsculas de minúsculas). Essa camada é responsável por transformar os textos brutos em tensores que podem ser usados como entrada para o BERT.\n",
        "\n",
        "**bert_encoder:** Essa camada do TensorFlow Hub carrega a arquitetura do modelo BERT pré-treinado. O modelo \"bert_en_uncased_L-12_H-768_A-12/4\" é uma versão específica do BERT com 12 camadas de codificador, 768 dimensões de embeddings ocultos e 12 cabeças de atenção (multi-head attention). Ele é pré-treinado em um grande corpus de texto em inglês e é capaz de aprender representações ricas de palavras que capturam o contexto semântico das frases."
      ],
      "metadata": {
        "id": "wsggmXbMF9Tp"
      }
    },
    {
      "cell_type": "code",
      "source": [
        "bert_preprocess = hub.KerasLayer(\"https://tfhub.dev/tensorflow/bert_en_uncased_preprocess/3\")\n",
        "bert_encoder = hub.KerasLayer(\"https://tfhub.dev/tensorflow/bert_en_uncased_L-12_H-768_A-12/4\")"
      ],
      "metadata": {
        "id": "gPxWP4eVZPYN"
      },
      "execution_count": 19,
      "outputs": []
    },
    {
      "cell_type": "markdown",
      "source": [
        "## Ações para melhoria da Performance do Modelo e Otimização dos Hiperparametros\n",
        "Na busca por melhorar a performance dos modelos realizamos algumas ações com o objetivo de otimização de Hiperparametro. Uma tentativa foi a utilização do otimizador AdamW que possui uma taxa de aprendizado adaptativa mas não houve melhora nos resultados. Outra tentativa foi a manipulação do dropout. Também não obtivemos êxito. A melhoria dos resultados foi obtida primordialmente com ações diretas no dataset, como: removendo caracteres não desejados, eliminando linhas em branco, balanceando a amostra dos dados  e finalmente, alcançamos o resultado de acurácia de 0.81 considerando a classificação binária optando por capturar somente o sentimento da avaliação como positivo ou negativo."
      ],
      "metadata": {
        "id": "ffmXzBi-SpMz"
      }
    },
    {
      "cell_type": "markdown",
      "source": [
        "##Definição dos Modelos BERT para Classificação Binária e Categórica\n",
        "\n",
        "**Etapas comuns aos 2 modelos:**\n",
        "*   text_input: É a camada de entrada do modelo, que recebe os textos a serem classificados.\n",
        "*   bert_preprocess: É uma camada de pré-processamento específica para o BERT, que realiza tokenização e outras transformações no texto de entrada.\n",
        "*   bert_encoder: É a camada do BERT responsável por codificar o texto em uma representação numérica. Essa camada utiliza uma arquitetura de rede neural pré-treinada no BERT.\n",
        "\n",
        "**Etapas específicas para os modelos de classificação binária e categórica:**\n",
        "*   Classificação binária: camada densa (fully connected) com 1 neurônio e função de ativação sigmoid para a classificação binária.\n",
        "*   Classificação categórica: camada densa (fully connected) com 5 neurônios e função de ativação softmax para classificação categórica."
      ],
      "metadata": {
        "id": "8RflbPuUGXxl"
      }
    },
    {
      "cell_type": "code",
      "source": [
        "#Definição do modelo de classificação binária utilizando a arquitetura do modelo BERT.\n",
        "text_input=tf.keras.layers.Input(shape=(),dtype=tf.string,name='text')\n",
        "preprocessed_text=bert_preprocess(text_input)\n",
        "outputs=bert_encoder(preprocessed_text)\n",
        "l=tf.keras.layers.Dropout(0.001,name='dropout')(outputs['pooled_output'])\n",
        "l=tf.keras.layers.Dense(1,activation='sigmoid',name='output')(l)\n",
        "model_bin=tf.keras.Model(inputs=[text_input],outputs=[l])\n",
        "\n",
        "\n",
        "#Alterado para considerar as 5 classses e ativação softmax\n",
        "text_input=tf.keras.layers.Input(shape=(),dtype=tf.string,name='text')\n",
        "preprocessed_text=bert_preprocess(text_input)\n",
        "outputs=bert_encoder(preprocessed_text)\n",
        "l=tf.keras.layers.Dropout(0.001,name='dropout')(outputs['pooled_output'])\n",
        "l=tf.keras.layers.Dense(5,activation='softmax',name='output')(l)\n",
        "model_mult=tf.keras.Model(inputs=[text_input],outputs=[l])"
      ],
      "metadata": {
        "id": "NS4Lw_lwZZT_"
      },
      "execution_count": 20,
      "outputs": []
    },
    {
      "cell_type": "code",
      "source": [
        "#model_bin.summary()"
      ],
      "metadata": {
        "id": "ecLuFW2-ZcEV"
      },
      "execution_count": 21,
      "outputs": []
    },
    {
      "cell_type": "code",
      "source": [
        "METRICS_BIN=[\n",
        "    tf.keras.metrics.BinaryAccuracy(name='accuracy'),\n",
        "    tf.keras.metrics.Precision(name='precision'),\n",
        "    tf.keras.metrics.Recall(name='recall')\n",
        "]\n",
        "\n",
        "METRICS_MULT=[\n",
        "    tf.keras.metrics.CategoricalAccuracy(name='accuracy'),\n",
        "    tf.keras.metrics.Precision(name='precision'),\n",
        "    tf.keras.metrics.Recall(name='recall')\n",
        "]\n",
        "\n",
        "#optimizer = tf.keras.optimizers.AdamW(learning_rate=1e-3, weight_decay=1e-4)\n",
        "\n",
        "#model_mult.compile(optimizer=optimizer,loss='categorical_crossentropy',metrics=METRICS_MULT)\n",
        "#model_bin.compile(optimizer=optimizer,loss='binary_crossentropy',metrics=METRICS_BIN)\n",
        "model_mult.compile(optimizer='adam',loss='categorical_crossentropy',metrics=METRICS_MULT)\n",
        "model_bin.compile(optimizer='adam',loss='binary_crossentropy',metrics=METRICS_BIN)"
      ],
      "metadata": {
        "id": "WA5JyZcBdZO-"
      },
      "execution_count": 22,
      "outputs": []
    },
    {
      "cell_type": "code",
      "source": [
        "if CARGA_PESOS_MODELO_BIN:\n",
        "  model_bin.load_weights(PATH_PESOS_COLAB_FILE_BIN) #Carrega os pesos do modelo\n",
        "  history = keras.callbacks.History()\n",
        "  path = PATH_PESOS_COLAB_FOLDER + 'history_bin.pkl'\n",
        "  with open(path, 'rb') as f:\n",
        "    history.history = pickle.load(f)\n",
        "else:\n",
        "  history = model_bin.fit(X_train,y_train,epochs=10)\n",
        "  model_bin.save_weights(PATH_PESOS_COLAB_FILE_BIN) #Salva os pesos do modelo\n",
        "  # Salvar o histórico de treinamento\n",
        "  path = PATH_PESOS_COLAB_FOLDER + 'history_bin.pkl'\n",
        "  with open(path, 'wb') as f:\n",
        "      pickle.dump(history.history, f)"
      ],
      "metadata": {
        "id": "0RLbNJlhdgd6"
      },
      "execution_count": 23,
      "outputs": []
    },
    {
      "cell_type": "code",
      "source": [
        "if CARGA_PESOS_MODELO_MLT:\n",
        "  model_mult.load_weights(PATH_PESOS_COLAB_FILE_MLT) #Carrega os pesos do modelo\n",
        "  history_mult = keras.callbacks.History()\n",
        "  path = PATH_PESOS_COLAB_FOLDER + 'history_mlt.pkl'\n",
        "  with open(path, 'rb') as f:\n",
        "    history_mult.history = pickle.load(f)\n",
        "else:\n",
        "  #Converta os rótulos de classe em codificação one-hot\n",
        "  t_train_adjusted = t_train - 1\n",
        "  t_train_one_hot = tf.keras.utils.to_categorical(t_train_adjusted, num_classes=5)\n",
        "  #Treinamento do modelo com 5 classes\n",
        "  history_mult = model_mult.fit(R_train,t_train_one_hot,epochs=10)\n",
        "  model_mult.save_weights(PATH_PESOS_COLAB_FILE_MLT) #Salva os pesos do modelo\n",
        "  # Salvar o histórico de treinamento\n",
        "  path = PATH_PESOS_COLAB_FOLDER + 'history_mlt.pkl'\n",
        "  with open(path, 'wb') as f:\n",
        "      pickle.dump(history_mult.history, f)"
      ],
      "metadata": {
        "id": "iHEmVpZWwDcT"
      },
      "execution_count": 24,
      "outputs": []
    },
    {
      "cell_type": "code",
      "source": [
        "import matplotlib.pyplot as plt\n",
        "\n",
        "# Criação da grade de subplots\n",
        "fig, axes = plt.subplots(1, 2, figsize=(10, 5))\n",
        "\n",
        "# Obtendo os scores de treinamento do histórico\n",
        "train_scores_mult = history_mult.history['accuracy']\n",
        "train_scores = history.history['accuracy']\n",
        "\n",
        "# Obtendo os valores de Loss do histórico\n",
        "train_loss = history.history['loss']\n",
        "train_loss_mult = history_mult.history['loss']\n",
        "\n",
        "# Plotando a curva de aprendizado\n",
        "axes[0].plot(range(1, 11), train_scores, label='Treinamento Binário')\n",
        "axes[0].plot(range(1, 11), train_scores_mult, label='Treinamento 5 Classes')\n",
        "axes[0].set_xlabel('Época')\n",
        "axes[0].set_ylabel('Acurácia')\n",
        "axes[0].set_title('Curva de Aprendizado (Acurácia)')\n",
        "axes[0].legend()\n",
        "\n",
        "\n",
        "# Plotando a curva de aprendizado\n",
        "axes[1].plot(range(1, 11), train_loss, label='Treinamento Binário')\n",
        "axes[1].plot(range(1, 11), train_loss_mult, label='Treinamento 5 Classes')\n",
        "axes[1].set_xlabel('Época')\n",
        "axes[1].set_ylabel('Loss')\n",
        "axes[1].set_title('Curva de Aprendizado (Loss)')\n",
        "axes[1].legend()\n",
        "\n",
        "plt.show()\n"
      ],
      "metadata": {
        "id": "beLde0-WJQAl",
        "colab": {
          "base_uri": "https://localhost:8080/",
          "height": 490
        },
        "outputId": "9d946a25-9847-41c1-f63a-9affb7073f08"
      },
      "execution_count": 25,
      "outputs": [
        {
          "output_type": "display_data",
          "data": {
            "text/plain": [
              "<Figure size 1000x500 with 2 Axes>"
            ],
            "image/png": "[encoded data removed]"
          },
          "metadata": {}
        }
      ]
    },
    {
      "cell_type": "markdown",
      "source": [
        "## Avaliando a performance dos modelos com a base de teste"
      ],
      "metadata": {
        "id": "miyaH4Hxg89w"
      }
    },
    {
      "cell_type": "code",
      "source": [
        "model_bin.evaluate(X_test,y_test)"
      ],
      "metadata": {
        "id": "swm5kHhJhLd3",
        "colab": {
          "base_uri": "https://localhost:8080/"
        },
        "outputId": "5083f83c-2899-4abd-d3cf-4f67c7585ef2"
      },
      "execution_count": 26,
      "outputs": [
        {
          "output_type": "stream",
          "name": "stdout",
          "text": [
            "88/88 [==============================] - 1384s 16s/step - loss: 0.4275 - accuracy: 0.8192 - precision: 0.7885 - recall: 0.8701\n"
          ]
        },
        {
          "output_type": "execute_result",
          "data": {
            "text/plain": [
              "[0.42746612429618835,\n",
              " 0.8192211389541626,\n",
              " 0.7885491251945496,\n",
              " 0.8700646162033081]"
            ]
          },
          "metadata": {},
          "execution_count": 26
        }
      ]
    },
    {
      "cell_type": "code",
      "source": [
        "#Converte os rótulos de classe em codificação one-hot, transforma variável categórica em vetores binários de dimensão igual ao número de classes.\n",
        "t_test_adjusted = t_test - 1\n",
        "t_test_one_hot = tf.keras.utils.to_categorical(t_test_adjusted, num_classes=5)\n",
        "model_mult.evaluate(R_test,t_test_one_hot)"
      ],
      "metadata": {
        "id": "UXM5HqdUmcNx",
        "colab": {
          "base_uri": "https://localhost:8080/"
        },
        "outputId": "7f621aab-eb43-481c-d025-d046a3b2522f"
      },
      "execution_count": 27,
      "outputs": [
        {
          "output_type": "stream",
          "name": "stdout",
          "text": [
            "110/110 [==============================] - 1728s 16s/step - loss: 1.3408 - accuracy: 0.3915 - precision: 0.6881 - recall: 0.0795\n"
          ]
        },
        {
          "output_type": "execute_result",
          "data": {
            "text/plain": [
              "[1.3408299684524536,\n",
              " 0.39154043793678284,\n",
              " 0.6881188154220581,\n",
              " 0.07945127040147781]"
            ]
          },
          "metadata": {},
          "execution_count": 27
        }
      ]
    },
    {
      "cell_type": "markdown",
      "source": [
        "#Utiliza os modelos para predição"
      ],
      "metadata": {
        "id": "O5xy6ZH-ieZ6"
      }
    },
    {
      "cell_type": "code",
      "source": [
        "#Realiza predição para base de teste utilizando o modelo de classificação binário .\n",
        "y_pred=model_bin.predict(X_test)\n",
        "y_pred=y_pred.flatten() #converte em vetor unidimensional para comparadar com o vetor de rótulos reais"
      ],
      "metadata": {
        "id": "Z8JrJ3oQhkOY",
        "colab": {
          "base_uri": "https://localhost:8080/"
        },
        "outputId": "2c22e302-4575-4f9b-e1d3-928fda55407b"
      },
      "execution_count": 28,
      "outputs": [
        {
          "output_type": "stream",
          "name": "stdout",
          "text": [
            "88/88 [==============================] - 1390s 16s/step\n"
          ]
        }
      ]
    },
    {
      "cell_type": "code",
      "source": [
        "#Realiza predição para base de teste utilizando o modelo de classificação categórico .\n",
        "t_pred=model_mult.predict(R_test)\n",
        "t_pred_classes = np.argmax(t_pred, axis=1) #Obtém as classes previstas a partir das probabilidades preditas\n",
        "print(t_pred_classes)"
      ],
      "metadata": {
        "id": "46-iySJjrGTM",
        "colab": {
          "base_uri": "https://localhost:8080/"
        },
        "outputId": "8aa5cac8-23e3-4229-e64d-65969e212870"
      },
      "execution_count": 29,
      "outputs": [
        {
          "output_type": "stream",
          "name": "stdout",
          "text": [
            "110/110 [==============================] - 1734s 16s/step\n",
            "[2 3 4 ... 0 2 3]\n"
          ]
        }
      ]
    },
    {
      "cell_type": "code",
      "source": [
        "# Imprime os valores únicos somente para certificar o domínio\n",
        "t_test = t_test -1\n",
        "array = t_test.values\n",
        "unique_values = np.unique(array)\n",
        "print(unique_values)"
      ],
      "metadata": {
        "id": "YGhqx3WmDhSv",
        "outputId": "45f66458-54ad-469b-bb63-9f5bce7833d3",
        "colab": {
          "base_uri": "https://localhost:8080/"
        }
      },
      "execution_count": 30,
      "outputs": [
        {
          "output_type": "stream",
          "name": "stdout",
          "text": [
            "[0. 1. 2. 3. 4.]\n"
          ]
        }
      ]
    },
    {
      "cell_type": "code",
      "source": [
        "# Imprime os valores únicos somente para certificar o domínio\n",
        "unique_values = np.unique(t_pred_classes)\n",
        "print(unique_values)"
      ],
      "metadata": {
        "id": "teU5aLEtCONp",
        "outputId": "97a42f52-3cd7-4ad1-8f5e-8f881345d03f",
        "colab": {
          "base_uri": "https://localhost:8080/"
        }
      },
      "execution_count": 31,
      "outputs": [
        {
          "output_type": "stream",
          "name": "stdout",
          "text": [
            "[0 1 2 3 4]\n"
          ]
        }
      ]
    },
    {
      "cell_type": "code",
      "source": [
        "y_pred=np.where(y_pred>0.5,1,0)\n",
        "#y_pred"
      ],
      "metadata": {
        "id": "uBZe1GxliAuy"
      },
      "execution_count": 35,
      "outputs": []
    },
    {
      "cell_type": "code",
      "source": [
        "from sklearn.metrics import confusion_matrix, classification_report, roc_curve, auc\n",
        "import matplotlib.pyplot as plt\n",
        "import seaborn as sns\n",
        "#from IPython.display import display, HTML"
      ],
      "metadata": {
        "id": "e34xaxT3GA2q"
      },
      "execution_count": 37,
      "outputs": []
    },
    {
      "cell_type": "code",
      "source": [
        "cm=confusion_matrix(y_test,y_pred)\n",
        "cm_mult=confusion_matrix(t_test,t_pred_classes)\n",
        "\n",
        "# Criação da figura e dos dois subplots lado a lado\n",
        "fig, axs = plt.subplots(1, 2, figsize=(12, 6))\n",
        "\n",
        "# Plotagem da primeira matriz de confusão no primeiro subplot\n",
        "sns.heatmap(cm_mult, annot=True, fmt='d', ax=axs[0])\n",
        "axs[0].set_xlabel(\"Predicted\")\n",
        "axs[0].set_ylabel(\"Truth\")\n",
        "axs[0].set_title(\"Matriz de Confusão Multiclasse\")\n",
        "\n",
        "# Plotagem da segunda matriz de confusão no segundo subplot\n",
        "sns.heatmap(cm, annot=True, fmt='d', ax=axs[1])\n",
        "axs[1].set_xlabel(\"Predicted\")\n",
        "axs[1].set_ylabel(\"Truth\")\n",
        "axs[1].set_title(\"Matriz de Confusão Binária\")\n",
        "\n",
        "# Ajuste do layout para evitar sobreposição de rótulos e títulos\n",
        "plt.tight_layout()\n",
        "\n",
        "# Mostrar a figura com os subplots lado a lado\n",
        "plt.show()\n",
        "\n",
        "print(\"\\n\\n\")  # Espaçamento (pular linha)\n",
        "\n",
        "fpr, tpr, thresholds = roc_curve(y_test,y_pred)\n",
        "roc_auc = auc(fpr, tpr)\n",
        "\n",
        "# Plotar a curva ROC\n",
        "plt.plot(fpr, tpr, label='Curva ROC (AUC = %0.2f)' % roc_auc)\n",
        "plt.plot([0, 1], [0, 1], 'k--')\n",
        "plt.xlim([0.0, 1.0])\n",
        "plt.ylim([0.0, 1.05])\n",
        "plt.xlabel('Taxa de Falsos Positivos')\n",
        "plt.ylabel('Taxa de Verdadeiros Positivos')\n",
        "plt.title('Curva ROC')\n",
        "plt.legend(loc=\"lower right\")\n",
        "plt.show()\n",
        "\n",
        "# Imprimir o valor da AUC\n",
        "print('Área sob a curva (AUC):', roc_auc)"
      ],
      "metadata": {
        "id": "rfJN2wuqGKi_",
        "outputId": "cfca670a-ffa7-4266-d60b-f911e54f6fd6",
        "colab": {
          "base_uri": "https://localhost:8080/",
          "height": 1000
        }
      },
      "execution_count": 38,
      "outputs": [
        {
          "output_type": "display_data",
          "data": {
            "text/plain": [
              "<Figure size 1200x600 with 4 Axes>"
            ],
            "image/png": "[encoded data removed]"
          },
          "metadata": {}
        },
        {
          "output_type": "stream",
          "name": "stdout",
          "text": [
            "\n",
            "\n",
            "\n"
          ]
        },
        {
          "output_type": "display_data",
          "data": {
            "text/plain": [
              "<Figure size 640x480 with 1 Axes>"
            ],
            "image/png": "[encoded data removed]"
          },
          "metadata": {}
        },
        {
          "output_type": "stream",
          "name": "stdout",
          "text": [
            "Área sob a curva (AUC): 0.8194562019608304\n"
          ]
        }
      ]
    },
    {
      "cell_type": "code",
      "source": [
        "print(classification_report(t_test,t_pred_classes,zero_division=1))"
      ],
      "metadata": {
        "id": "usEJmR-AcksZ",
        "outputId": "3380bfa9-aa11-4bf8-d404-d538f624221f",
        "colab": {
          "base_uri": "https://localhost:8080/"
        }
      },
      "execution_count": 39,
      "outputs": [
        {
          "output_type": "stream",
          "name": "stdout",
          "text": [
            "              precision    recall  f1-score   support\n",
            "\n",
            "         0.0       0.57      0.40      0.47       712\n",
            "         1.0       0.36      0.01      0.02       710\n",
            "         2.0       0.28      0.66      0.40       709\n",
            "         3.0       0.36      0.45      0.40       686\n",
            "         4.0       0.65      0.43      0.52       682\n",
            "\n",
            "    accuracy                           0.39      3499\n",
            "   macro avg       0.45      0.39      0.36      3499\n",
            "weighted avg       0.44      0.39      0.36      3499\n",
            "\n"
          ]
        }
      ]
    },
    {
      "cell_type": "code",
      "source": [
        "print(classification_report(y_test,y_pred))"
      ],
      "metadata": {
        "id": "k2rQUS7Ptdpo",
        "outputId": "bee1e8cd-3d6c-47fa-c5b8-ae73acb09753",
        "colab": {
          "base_uri": "https://localhost:8080/"
        }
      },
      "execution_count": 40,
      "outputs": [
        {
          "output_type": "stream",
          "name": "stdout",
          "text": [
            "              precision    recall  f1-score   support\n",
            "\n",
            "         0.0       0.86      0.77      0.81      1406\n",
            "         1.0       0.79      0.87      0.83      1393\n",
            "\n",
            "    accuracy                           0.82      2799\n",
            "   macro avg       0.82      0.82      0.82      2799\n",
            "weighted avg       0.82      0.82      0.82      2799\n",
            "\n"
          ]
        }
      ]
    }
  ]
}