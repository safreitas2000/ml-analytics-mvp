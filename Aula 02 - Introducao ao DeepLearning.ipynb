{
  "cells": [
    {
      "cell_type": "markdown",
      "id": "ce57c7a4",
      "metadata": {
        "id": "ce57c7a4"
      },
      "source": [
        "## LSTM"
      ]
    },
    {
      "cell_type": "code",
      "source": [
        "!pip install datapackage"
      ],
      "metadata": {
        "colab": {
          "base_uri": "https://localhost:8080/"
        },
        "id": "HrbSUYOfljsQ",
        "outputId": "52ff826e-24b0-42c5-bc72-7947ddb4f615"
      },
      "id": "HrbSUYOfljsQ",
      "execution_count": null,
      "outputs": [
        {
          "output_type": "stream",
          "name": "stdout",
          "text": [
            "Collecting datapackage\n",
            "  Downloading datapackage-1.15.2-py2.py3-none-any.whl (85 kB)\n",
            "\u001b[?25l     \u001b[90m━━━━━━━━━━━━━━━━━━━━━━━━━━━━━━━━━━━━━━━━\u001b[0m \u001b[32m0.0/85.8 kB\u001b[0m \u001b[31m?\u001b[0m eta \u001b[36m-:--:--\u001b[0m\r\u001b[2K     \u001b[90m━━━━━━━━━━━━━━━━━━━━━━━━━━━━━━━━━━━━━━━━\u001b[0m \u001b[32m85.8/85.8 kB\u001b[0m \u001b[31m2.9 MB/s\u001b[0m eta \u001b[36m0:00:00\u001b[0m\n",
            "\u001b[?25hRequirement already satisfied: six>=1.10 in /usr/local/lib/python3.10/dist-packages (from datapackage) (1.16.0)\n",
            "Requirement already satisfied: click>=6.7 in /usr/local/lib/python3.10/dist-packages (from datapackage) (8.1.3)\n",
            "Requirement already satisfied: chardet>=3.0 in /usr/local/lib/python3.10/dist-packages (from datapackage) (4.0.0)\n",
            "Requirement already satisfied: requests>=2.8 in /usr/local/lib/python3.10/dist-packages (from datapackage) (2.27.1)\n",
            "Requirement already satisfied: jsonschema>=2.5 in /usr/local/lib/python3.10/dist-packages (from datapackage) (4.3.3)\n",
            "Collecting unicodecsv>=0.14 (from datapackage)\n",
            "  Downloading unicodecsv-0.14.1.tar.gz (10 kB)\n",
            "  Preparing metadata (setup.py) ... \u001b[?25l\u001b[?25hdone\n",
            "Collecting jsonpointer>=1.10 (from datapackage)\n",
            "  Downloading jsonpointer-2.4-py2.py3-none-any.whl (7.8 kB)\n",
            "Collecting tableschema>=1.12.1 (from datapackage)\n",
            "  Downloading tableschema-1.20.2-py2.py3-none-any.whl (68 kB)\n",
            "\u001b[2K     \u001b[90m━━━━━━━━━━━━━━━━━━━━━━━━━━━━━━━━━━━━━━━━\u001b[0m \u001b[32m68.9/68.9 kB\u001b[0m \u001b[31m7.0 MB/s\u001b[0m eta \u001b[36m0:00:00\u001b[0m\n",
            "\u001b[?25hCollecting tabulator>=1.29 (from datapackage)\n",
            "  Downloading tabulator-1.53.5-py2.py3-none-any.whl (72 kB)\n",
            "\u001b[2K     \u001b[90m━━━━━━━━━━━━━━━━━━━━━━━━━━━━━━━━━━━━━━━━\u001b[0m \u001b[32m72.1/72.1 kB\u001b[0m \u001b[31m7.4 MB/s\u001b[0m eta \u001b[36m0:00:00\u001b[0m\n",
            "\u001b[?25hRequirement already satisfied: attrs>=17.4.0 in /usr/local/lib/python3.10/dist-packages (from jsonschema>=2.5->datapackage) (23.1.0)\n",
            "Requirement already satisfied: pyrsistent!=0.17.0,!=0.17.1,!=0.17.2,>=0.14.0 in /usr/local/lib/python3.10/dist-packages (from jsonschema>=2.5->datapackage) (0.19.3)\n",
            "Requirement already satisfied: urllib3<1.27,>=1.21.1 in /usr/local/lib/python3.10/dist-packages (from requests>=2.8->datapackage) (1.26.16)\n",
            "Requirement already satisfied: certifi>=2017.4.17 in /usr/local/lib/python3.10/dist-packages (from requests>=2.8->datapackage) (2023.5.7)\n",
            "Requirement already satisfied: charset-normalizer~=2.0.0 in /usr/local/lib/python3.10/dist-packages (from requests>=2.8->datapackage) (2.0.12)\n",
            "Requirement already satisfied: idna<4,>=2.5 in /usr/local/lib/python3.10/dist-packages (from requests>=2.8->datapackage) (3.4)\n",
            "Requirement already satisfied: cached-property>=1.5 in /usr/local/lib/python3.10/dist-packages (from tableschema>=1.12.1->datapackage) (1.5.2)\n",
            "Requirement already satisfied: python-dateutil>=2.4 in /usr/local/lib/python3.10/dist-packages (from tableschema>=1.12.1->datapackage) (2.8.2)\n",
            "Collecting isodate>=0.5.4 (from tableschema>=1.12.1->datapackage)\n",
            "  Downloading isodate-0.6.1-py2.py3-none-any.whl (41 kB)\n",
            "\u001b[2K     \u001b[90m━━━━━━━━━━━━━━━━━━━━━━━━━━━━━━━━━━━━━━━━\u001b[0m \u001b[32m41.7/41.7 kB\u001b[0m \u001b[31m4.5 MB/s\u001b[0m eta \u001b[36m0:00:00\u001b[0m\n",
            "\u001b[?25hCollecting rfc3986>=1.1.0 (from tableschema>=1.12.1->datapackage)\n",
            "  Downloading rfc3986-2.0.0-py2.py3-none-any.whl (31 kB)\n",
            "Collecting boto3>=1.9 (from tabulator>=1.29->datapackage)\n",
            "  Downloading boto3-1.26.165-py3-none-any.whl (135 kB)\n",
            "\u001b[2K     \u001b[90m━━━━━━━━━━━━━━━━━━━━━━━━━━━━━━━━━━━━━━\u001b[0m \u001b[32m135.9/135.9 kB\u001b[0m \u001b[31m12.7 MB/s\u001b[0m eta \u001b[36m0:00:00\u001b[0m\n",
            "\u001b[?25hCollecting ijson>=3.0.3 (from tabulator>=1.29->datapackage)\n",
            "  Downloading ijson-3.2.2-cp310-cp310-manylinux_2_17_x86_64.manylinux2014_x86_64.whl (112 kB)\n",
            "\u001b[2K     \u001b[90m━━━━━━━━━━━━━━━━━━━━━━━━━━━━━━━━━━━━━━\u001b[0m \u001b[32m112.7/112.7 kB\u001b[0m \u001b[31m12.0 MB/s\u001b[0m eta \u001b[36m0:00:00\u001b[0m\n",
            "\u001b[?25hCollecting jsonlines>=1.1 (from tabulator>=1.29->datapackage)\n",
            "  Downloading jsonlines-3.1.0-py3-none-any.whl (8.6 kB)\n",
            "Requirement already satisfied: sqlalchemy>=0.9.6 in /usr/local/lib/python3.10/dist-packages (from tabulator>=1.29->datapackage) (2.0.16)\n",
            "Collecting linear-tsv>=1.0 (from tabulator>=1.29->datapackage)\n",
            "  Downloading linear-tsv-1.1.0.tar.gz (9.6 kB)\n",
            "  Preparing metadata (setup.py) ... \u001b[?25l\u001b[?25hdone\n",
            "Requirement already satisfied: xlrd>=1.0 in /usr/local/lib/python3.10/dist-packages (from tabulator>=1.29->datapackage) (2.0.1)\n",
            "Requirement already satisfied: openpyxl>=2.6 in /usr/local/lib/python3.10/dist-packages (from tabulator>=1.29->datapackage) (3.0.10)\n",
            "Collecting botocore<1.30.0,>=1.29.165 (from boto3>=1.9->tabulator>=1.29->datapackage)\n",
            "  Downloading botocore-1.29.165-py3-none-any.whl (11.0 MB)\n",
            "\u001b[2K     \u001b[90m━━━━━━━━━━━━━━━━━━━━━━━━━━━━━━━━━━━━━━━━\u001b[0m \u001b[32m11.0/11.0 MB\u001b[0m \u001b[31m79.3 MB/s\u001b[0m eta \u001b[36m0:00:00\u001b[0m\n",
            "\u001b[?25hCollecting jmespath<2.0.0,>=0.7.1 (from boto3>=1.9->tabulator>=1.29->datapackage)\n",
            "  Downloading jmespath-1.0.1-py3-none-any.whl (20 kB)\n",
            "Collecting s3transfer<0.7.0,>=0.6.0 (from boto3>=1.9->tabulator>=1.29->datapackage)\n",
            "  Downloading s3transfer-0.6.1-py3-none-any.whl (79 kB)\n",
            "\u001b[2K     \u001b[90m━━━━━━━━━━━━━━━━━━━━━━━━━━━━━━━━━━━━━━━━\u001b[0m \u001b[32m79.8/79.8 kB\u001b[0m \u001b[31m9.8 MB/s\u001b[0m eta \u001b[36m0:00:00\u001b[0m\n",
            "\u001b[?25hRequirement already satisfied: et-xmlfile in /usr/local/lib/python3.10/dist-packages (from openpyxl>=2.6->tabulator>=1.29->datapackage) (1.1.0)\n",
            "Requirement already satisfied: typing-extensions>=4.2.0 in /usr/local/lib/python3.10/dist-packages (from sqlalchemy>=0.9.6->tabulator>=1.29->datapackage) (4.6.3)\n",
            "Requirement already satisfied: greenlet!=0.4.17 in /usr/local/lib/python3.10/dist-packages (from sqlalchemy>=0.9.6->tabulator>=1.29->datapackage) (2.0.2)\n",
            "Building wheels for collected packages: unicodecsv, linear-tsv\n",
            "  Building wheel for unicodecsv (setup.py) ... \u001b[?25l\u001b[?25hdone\n",
            "  Created wheel for unicodecsv: filename=unicodecsv-0.14.1-py3-none-any.whl size=10745 sha256=6ecd553c81ca87a55e944cca24b6d105607c96a8f69f54af64996db719b722dd\n",
            "  Stored in directory: /root/.cache/pip/wheels/9c/ea/66/8e45247b09052a933eb1a680b7c64802298faba58aac9b346b\n",
            "  Building wheel for linear-tsv (setup.py) ... \u001b[?25l\u001b[?25hdone\n",
            "  Created wheel for linear-tsv: filename=linear_tsv-1.1.0-py3-none-any.whl size=7382 sha256=85e04eb66752c7ff7b7c9e32fbbd6c614b4aec1fa4efbb9034f282575bde2643\n",
            "  Stored in directory: /root/.cache/pip/wheels/23/48/78/150e3d7e444b9950aca72218794076a117b6b6afa3d5f077a0\n",
            "Successfully built unicodecsv linear-tsv\n",
            "Installing collected packages: unicodecsv, ijson, rfc3986, linear-tsv, jsonpointer, jsonlines, jmespath, isodate, botocore, s3transfer, boto3, tabulator, tableschema, datapackage\n",
            "Successfully installed boto3-1.26.165 botocore-1.29.165 datapackage-1.15.2 ijson-3.2.2 isodate-0.6.1 jmespath-1.0.1 jsonlines-3.1.0 jsonpointer-2.4 linear-tsv-1.1.0 rfc3986-2.0.0 s3transfer-0.6.1 tableschema-1.20.2 tabulator-1.53.5 unicodecsv-0.14.1\n"
          ]
        }
      ]
    },
    {
      "cell_type": "code",
      "execution_count": null,
      "id": "129fa2a1",
      "metadata": {
        "colab": {
          "base_uri": "https://localhost:8080/",
          "height": 206
        },
        "id": "129fa2a1",
        "outputId": "95ade837-ceae-4bb3-f68b-44f6f8df0673"
      },
      "outputs": [
        {
          "output_type": "execute_result",
          "data": {
            "text/plain": [
              "   GCAG        Year Mean Temperature\n",
              "0  GCAG  1880-01-06           0.0009\n",
              "1  GCAG  1880-02-06          -0.1229\n",
              "2  GCAG  1880-03-06          -0.1357\n",
              "3  GCAG  1880-04-06          -0.0499\n",
              "4  GCAG  1880-05-06          -0.0738"
            ],
            "text/html": [
              "\n",
              "  <div id=\"df-fc1db4a0-6079-43c5-9572-9311aaeb8203\">\n",
              "    <div class=\"colab-df-container\">\n",
              "      <div>\n",
              "<style scoped>\n",
              "    .dataframe tbody tr th:only-of-type {\n",
              "        vertical-align: middle;\n",
              "    }\n",
              "\n",
              "    .dataframe tbody tr th {\n",
              "        vertical-align: top;\n",
              "    }\n",
              "\n",
              "    .dataframe thead th {\n",
              "        text-align: right;\n",
              "    }\n",
              "</style>\n",
              "<table border=\"1\" class=\"dataframe\">\n",
              "  <thead>\n",
              "    <tr style=\"text-align: right;\">\n",
              "      <th></th>\n",
              "      <th>GCAG</th>\n",
              "      <th>Year</th>\n",
              "      <th>Mean Temperature</th>\n",
              "    </tr>\n",
              "  </thead>\n",
              "  <tbody>\n",
              "    <tr>\n",
              "      <th>0</th>\n",
              "      <td>GCAG</td>\n",
              "      <td>1880-01-06</td>\n",
              "      <td>0.0009</td>\n",
              "    </tr>\n",
              "    <tr>\n",
              "      <th>1</th>\n",
              "      <td>GCAG</td>\n",
              "      <td>1880-02-06</td>\n",
              "      <td>-0.1229</td>\n",
              "    </tr>\n",
              "    <tr>\n",
              "      <th>2</th>\n",
              "      <td>GCAG</td>\n",
              "      <td>1880-03-06</td>\n",
              "      <td>-0.1357</td>\n",
              "    </tr>\n",
              "    <tr>\n",
              "      <th>3</th>\n",
              "      <td>GCAG</td>\n",
              "      <td>1880-04-06</td>\n",
              "      <td>-0.0499</td>\n",
              "    </tr>\n",
              "    <tr>\n",
              "      <th>4</th>\n",
              "      <td>GCAG</td>\n",
              "      <td>1880-05-06</td>\n",
              "      <td>-0.0738</td>\n",
              "    </tr>\n",
              "  </tbody>\n",
              "</table>\n",
              "</div>\n",
              "      <button class=\"colab-df-convert\" onclick=\"convertToInteractive('df-fc1db4a0-6079-43c5-9572-9311aaeb8203')\"\n",
              "              title=\"Convert this dataframe to an interactive table.\"\n",
              "              style=\"display:none;\">\n",
              "        \n",
              "  <svg xmlns=\"http://www.w3.org/2000/svg\" height=\"24px\"viewBox=\"0 0 24 24\"\n",
              "       width=\"24px\">\n",
              "    <path d=\"M0 0h24v24H0V0z\" fill=\"none\"/>\n",
              "    <path d=\"M18.56 5.44l.94 2.06.94-2.06 2.06-.94-2.06-.94-.94-2.06-.94 2.06-2.06.94zm-11 1L8.5 8.5l.94-2.06 2.06-.94-2.06-.94L8.5 2.5l-.94 2.06-2.06.94zm10 10l.94 2.06.94-2.06 2.06-.94-2.06-.94-.94-2.06-.94 2.06-2.06.94z\"/><path d=\"M17.41 7.96l-1.37-1.37c-.4-.4-.92-.59-1.43-.59-.52 0-1.04.2-1.43.59L10.3 9.45l-7.72 7.72c-.78.78-.78 2.05 0 2.83L4 21.41c.39.39.9.59 1.41.59.51 0 1.02-.2 1.41-.59l7.78-7.78 2.81-2.81c.8-.78.8-2.07 0-2.86zM5.41 20L4 18.59l7.72-7.72 1.47 1.35L5.41 20z\"/>\n",
              "  </svg>\n",
              "      </button>\n",
              "      \n",
              "  <style>\n",
              "    .colab-df-container {\n",
              "      display:flex;\n",
              "      flex-wrap:wrap;\n",
              "      gap: 12px;\n",
              "    }\n",
              "\n",
              "    .colab-df-convert {\n",
              "      background-color: #E8F0FE;\n",
              "      border: none;\n",
              "      border-radius: 50%;\n",
              "      cursor: pointer;\n",
              "      display: none;\n",
              "      fill: #1967D2;\n",
              "      height: 32px;\n",
              "      padding: 0 0 0 0;\n",
              "      width: 32px;\n",
              "    }\n",
              "\n",
              "    .colab-df-convert:hover {\n",
              "      background-color: #E2EBFA;\n",
              "      box-shadow: 0px 1px 2px rgba(60, 64, 67, 0.3), 0px 1px 3px 1px rgba(60, 64, 67, 0.15);\n",
              "      fill: #174EA6;\n",
              "    }\n",
              "\n",
              "    [theme=dark] .colab-df-convert {\n",
              "      background-color: #3B4455;\n",
              "      fill: #D2E3FC;\n",
              "    }\n",
              "\n",
              "    [theme=dark] .colab-df-convert:hover {\n",
              "      background-color: #434B5C;\n",
              "      box-shadow: 0px 1px 3px 1px rgba(0, 0, 0, 0.15);\n",
              "      filter: drop-shadow(0px 1px 2px rgba(0, 0, 0, 0.3));\n",
              "      fill: #FFFFFF;\n",
              "    }\n",
              "  </style>\n",
              "\n",
              "      <script>\n",
              "        const buttonEl =\n",
              "          document.querySelector('#df-fc1db4a0-6079-43c5-9572-9311aaeb8203 button.colab-df-convert');\n",
              "        buttonEl.style.display =\n",
              "          google.colab.kernel.accessAllowed ? 'block' : 'none';\n",
              "\n",
              "        async function convertToInteractive(key) {\n",
              "          const element = document.querySelector('#df-fc1db4a0-6079-43c5-9572-9311aaeb8203');\n",
              "          const dataTable =\n",
              "            await google.colab.kernel.invokeFunction('convertToInteractive',\n",
              "                                                     [key], {});\n",
              "          if (!dataTable) return;\n",
              "\n",
              "          const docLinkHtml = 'Like what you see? Visit the ' +\n",
              "            '<a target=\"_blank\" href=https://colab.research.google.com/notebooks/data_table.ipynb>data table notebook</a>'\n",
              "            + ' to learn more about interactive tables.';\n",
              "          element.innerHTML = '';\n",
              "          dataTable['output_type'] = 'display_data';\n",
              "          await google.colab.output.renderOutput(dataTable, element);\n",
              "          const docLink = document.createElement('div');\n",
              "          docLink.innerHTML = docLinkHtml;\n",
              "          element.appendChild(docLink);\n",
              "        }\n",
              "      </script>\n",
              "    </div>\n",
              "  </div>\n",
              "  "
            ]
          },
          "metadata": {},
          "execution_count": 2
        }
      ],
      "source": [
        "import pandas as pd\n",
        "\n",
        "#Vamos ver como funcionam as LSTM\n",
        "#Para estudar as Redes Long Short Term Memory vamos precisar de séries temporais\n",
        "\n",
        "from datapackage import Package # a biblioteca datapackage oferece uma coleção de dados que podem ser baixados diretamente da internet\n",
        "\n",
        "package = Package('https://datahub.io/core/global-temp/datapackage.json') # vamos carregar a base com as médias de temperatura global ao longo dos últimos anos\n",
        "\n",
        "for resource in package.resources: # de todos os recursos disponíveis no pacote autor, informações, etc\n",
        "    if resource.descriptor['datahub']['type'] == 'derived/csv': #vamos selecionar o arquivo CSV para carregá-lo\n",
        "        data = resource.read()\n",
        "\n",
        "data_gcag = data[0:len(data):2][::-1]\n",
        "\n",
        "df_gcag = pd.DataFrame(data_gcag, columns=['GCAG','Year', 'Mean Temperature'])\n",
        "\n",
        "df_gcag.head()\n"
      ]
    },
    {
      "cell_type": "code",
      "execution_count": null,
      "id": "74a1440d",
      "metadata": {
        "colab": {
          "base_uri": "https://localhost:8080/",
          "height": 423
        },
        "id": "74a1440d",
        "outputId": "913a33ff-4463-4e8d-fd1e-7d7b63b7c02e"
      },
      "outputs": [
        {
          "output_type": "display_data",
          "data": {
            "text/plain": [
              "      Mean Temperature\n",
              "0            -0.415262\n",
              "1            -0.428706\n",
              "2            -0.338585\n",
              "3            -0.363689\n",
              "4            -0.463894\n",
              "...                ...\n",
              "1639          0.634683\n",
              "1640          0.479754\n",
              "1641          0.502022\n",
              "1642          0.543091\n",
              "1643         -0.285227\n",
              "\n",
              "[1644 rows x 1 columns]"
            ],
            "text/html": [
              "\n",
              "  <div id=\"df-27815ee2-65fd-4b51-84a7-bea7e9c82619\">\n",
              "    <div class=\"colab-df-container\">\n",
              "      <div>\n",
              "<style scoped>\n",
              "    .dataframe tbody tr th:only-of-type {\n",
              "        vertical-align: middle;\n",
              "    }\n",
              "\n",
              "    .dataframe tbody tr th {\n",
              "        vertical-align: top;\n",
              "    }\n",
              "\n",
              "    .dataframe thead th {\n",
              "        text-align: right;\n",
              "    }\n",
              "</style>\n",
              "<table border=\"1\" class=\"dataframe\">\n",
              "  <thead>\n",
              "    <tr style=\"text-align: right;\">\n",
              "      <th></th>\n",
              "      <th>Mean Temperature</th>\n",
              "    </tr>\n",
              "  </thead>\n",
              "  <tbody>\n",
              "    <tr>\n",
              "      <th>0</th>\n",
              "      <td>-0.415262</td>\n",
              "    </tr>\n",
              "    <tr>\n",
              "      <th>1</th>\n",
              "      <td>-0.428706</td>\n",
              "    </tr>\n",
              "    <tr>\n",
              "      <th>2</th>\n",
              "      <td>-0.338585</td>\n",
              "    </tr>\n",
              "    <tr>\n",
              "      <th>3</th>\n",
              "      <td>-0.363689</td>\n",
              "    </tr>\n",
              "    <tr>\n",
              "      <th>4</th>\n",
              "      <td>-0.463894</td>\n",
              "    </tr>\n",
              "    <tr>\n",
              "      <th>...</th>\n",
              "      <td>...</td>\n",
              "    </tr>\n",
              "    <tr>\n",
              "      <th>1639</th>\n",
              "      <td>0.634683</td>\n",
              "    </tr>\n",
              "    <tr>\n",
              "      <th>1640</th>\n",
              "      <td>0.479754</td>\n",
              "    </tr>\n",
              "    <tr>\n",
              "      <th>1641</th>\n",
              "      <td>0.502022</td>\n",
              "    </tr>\n",
              "    <tr>\n",
              "      <th>1642</th>\n",
              "      <td>0.543091</td>\n",
              "    </tr>\n",
              "    <tr>\n",
              "      <th>1643</th>\n",
              "      <td>-0.285227</td>\n",
              "    </tr>\n",
              "  </tbody>\n",
              "</table>\n",
              "<p>1644 rows × 1 columns</p>\n",
              "</div>\n",
              "      <button class=\"colab-df-convert\" onclick=\"convertToInteractive('df-27815ee2-65fd-4b51-84a7-bea7e9c82619')\"\n",
              "              title=\"Convert this dataframe to an interactive table.\"\n",
              "              style=\"display:none;\">\n",
              "        \n",
              "  <svg xmlns=\"http://www.w3.org/2000/svg\" height=\"24px\"viewBox=\"0 0 24 24\"\n",
              "       width=\"24px\">\n",
              "    <path d=\"M0 0h24v24H0V0z\" fill=\"none\"/>\n",
              "    <path d=\"M18.56 5.44l.94 2.06.94-2.06 2.06-.94-2.06-.94-.94-2.06-.94 2.06-2.06.94zm-11 1L8.5 8.5l.94-2.06 2.06-.94-2.06-.94L8.5 2.5l-.94 2.06-2.06.94zm10 10l.94 2.06.94-2.06 2.06-.94-2.06-.94-.94-2.06-.94 2.06-2.06.94z\"/><path d=\"M17.41 7.96l-1.37-1.37c-.4-.4-.92-.59-1.43-.59-.52 0-1.04.2-1.43.59L10.3 9.45l-7.72 7.72c-.78.78-.78 2.05 0 2.83L4 21.41c.39.39.9.59 1.41.59.51 0 1.02-.2 1.41-.59l7.78-7.78 2.81-2.81c.8-.78.8-2.07 0-2.86zM5.41 20L4 18.59l7.72-7.72 1.47 1.35L5.41 20z\"/>\n",
              "  </svg>\n",
              "      </button>\n",
              "      \n",
              "  <style>\n",
              "    .colab-df-container {\n",
              "      display:flex;\n",
              "      flex-wrap:wrap;\n",
              "      gap: 12px;\n",
              "    }\n",
              "\n",
              "    .colab-df-convert {\n",
              "      background-color: #E8F0FE;\n",
              "      border: none;\n",
              "      border-radius: 50%;\n",
              "      cursor: pointer;\n",
              "      display: none;\n",
              "      fill: #1967D2;\n",
              "      height: 32px;\n",
              "      padding: 0 0 0 0;\n",
              "      width: 32px;\n",
              "    }\n",
              "\n",
              "    .colab-df-convert:hover {\n",
              "      background-color: #E2EBFA;\n",
              "      box-shadow: 0px 1px 2px rgba(60, 64, 67, 0.3), 0px 1px 3px 1px rgba(60, 64, 67, 0.15);\n",
              "      fill: #174EA6;\n",
              "    }\n",
              "\n",
              "    [theme=dark] .colab-df-convert {\n",
              "      background-color: #3B4455;\n",
              "      fill: #D2E3FC;\n",
              "    }\n",
              "\n",
              "    [theme=dark] .colab-df-convert:hover {\n",
              "      background-color: #434B5C;\n",
              "      box-shadow: 0px 1px 3px 1px rgba(0, 0, 0, 0.15);\n",
              "      filter: drop-shadow(0px 1px 2px rgba(0, 0, 0, 0.3));\n",
              "      fill: #FFFFFF;\n",
              "    }\n",
              "  </style>\n",
              "\n",
              "      <script>\n",
              "        const buttonEl =\n",
              "          document.querySelector('#df-27815ee2-65fd-4b51-84a7-bea7e9c82619 button.colab-df-convert');\n",
              "        buttonEl.style.display =\n",
              "          google.colab.kernel.accessAllowed ? 'block' : 'none';\n",
              "\n",
              "        async function convertToInteractive(key) {\n",
              "          const element = document.querySelector('#df-27815ee2-65fd-4b51-84a7-bea7e9c82619');\n",
              "          const dataTable =\n",
              "            await google.colab.kernel.invokeFunction('convertToInteractive',\n",
              "                                                     [key], {});\n",
              "          if (!dataTable) return;\n",
              "\n",
              "          const docLinkHtml = 'Like what you see? Visit the ' +\n",
              "            '<a target=\"_blank\" href=https://colab.research.google.com/notebooks/data_table.ipynb>data table notebook</a>'\n",
              "            + ' to learn more about interactive tables.';\n",
              "          element.innerHTML = '';\n",
              "          dataTable['output_type'] = 'display_data';\n",
              "          await google.colab.output.renderOutput(dataTable, element);\n",
              "          const docLink = document.createElement('div');\n",
              "          docLink.innerHTML = docLinkHtml;\n",
              "          element.appendChild(docLink);\n",
              "        }\n",
              "      </script>\n",
              "    </div>\n",
              "  </div>\n",
              "  "
            ]
          },
          "metadata": {}
        }
      ],
      "source": [
        "import numpy as np\n",
        "from sklearn.preprocessing import MinMaxScaler\n",
        "\n",
        "Y = np.zeros(shape=(len(data_gcag), 1), dtype=np.float32)\n",
        "\n",
        "for i, y in enumerate(data_gcag):\n",
        "    Y[i - 1, 0] = y[2] #valores de Y serão preenchidos sequencialmente com os valores da coluna 2(temperatura media) de data_gcag\n",
        "\n",
        "mmscaler = MinMaxScaler((-1.0, 1.0))\n",
        "Y = mmscaler.fit_transform(Y)  #vamos transformar os dados para escala -1 e 1\n",
        "\n",
        "df_gcag = pd.DataFrame(Y, columns=['Mean Temperature'])\n",
        "\n",
        "display(df_gcag)\n"
      ]
    },
    {
      "cell_type": "code",
      "execution_count": null,
      "id": "08a98eda",
      "metadata": {
        "id": "08a98eda"
      },
      "outputs": [],
      "source": [
        "nb_samples = 1600      #são 1600 linhas\n",
        "nb_test_samples = 200  #estamos separando as últimas 200 para teste\n",
        "sequence_length = 20   #janela que será usada para prever o próximo valor.\n",
        "\n",
        "# matrizes X_ts e Y_ts com formatos adequados para armazenar as amostras e os rótulos(saídas) das séries temporais.\n",
        "X_ts = np.zeros(shape=(nb_samples - sequence_length, sequence_length, 1), dtype=np.float32)\n",
        "Y_ts = np.zeros(shape=(nb_samples - sequence_length, 1), dtype=np.float32)\n",
        "\n",
        "#cria pares de sequências de entrada e saída correspondentes para o modelo de previsão de séries temporais.\n",
        "#Os 20 primeiros valores é a amostra de entrada (X_ts) e o 21° valor é o valor a ser predito de saida (Y_ts)\n",
        "for i in range(0, nb_samples - sequence_length):\n",
        "    X_ts[i] = Y[i:i + sequence_length]  #Entrada -> pega os valores de 0 até 19\n",
        "    Y_ts[i] = Y[i + sequence_length]     #Saida -> pega o vigesimo valor a ser predito\n",
        "\n",
        "#prepara o conjunto de treinamento e teste para serem usados em um modelo de previsão de séries temporais.\n",
        "X_ts_train = X_ts[0:nb_samples - nb_test_samples, :]\n",
        "Y_ts_train = Y_ts[0:nb_samples - nb_test_samples]\n",
        "\n",
        "X_ts_test = X_ts[nb_samples - nb_test_samples:, :]\n",
        "Y_ts_test = Y_ts[nb_samples - nb_test_samples:]\n"
      ]
    },
    {
      "cell_type": "code",
      "execution_count": null,
      "id": "890be11b",
      "metadata": {
        "id": "890be11b"
      },
      "outputs": [],
      "source": [
        "from keras.models import Sequential #permite adicionar camadas sequencialmente.\n",
        "from keras.layers import LSTM, Dense, Activation,Flatten\n",
        "\n",
        "model = Sequential() # vamos criar um modelo sequencial p/ a rede neural\n",
        "\n",
        "#Quando uma LSTM é seguida por outra camada LSTM, a primeira deve ter o parâmetro return_sequences=True.\n",
        "#model.add(LSTM(8, stateful=True, return_sequences=True, batch_input_shape=(20, sequence_length, 1)))\n",
        "\n",
        "#stateful=True indica que as conexões de estado serão mantidas entre os batches de treinamento.\n",
        "#Uma unidade (8 unidades abaixo) em uma camada LSTM representa um bloco de processamento que contém células de memória, portões de entrada, portões de esquecimento e portões de saída. Cada unidade é responsável por armazenar e atualizar informações de estado ao longo do tempo, permitindo que a rede neural aprenda dependências de longo prazo em sequências.\n",
        "#define um bloco LSTM com 8 unidades (blocos)\n",
        "#batch_input_shape: define o formato do lote de entrada, com dimensões (20, sequence_length, 1), indicando que cada lote terá 20 sequências\n",
        "#de tamanho sequence_length, com 1 valor em cada sequência.\n",
        "model.add(LSTM(8, stateful=True, batch_input_shape=(20, sequence_length, 1)))\n",
        "model.add(Flatten()) # a saída é transformada em um único vetor de entrada\n",
        "model.add(Dense(1))  # para um único perceptron\n",
        "model.add(Activation('linear')) #com ativação linear"
      ]
    },
    {
      "cell_type": "markdown",
      "source": [
        "Compila a rede neural com o otimizador Adam, usando uma taxa de aprendizado de 0.001 e uma taxa de decaimento (decay) de 0.0001.\n",
        "A função de perda ou métrica usada é o MSE (Mean Squared Error). É uma forma de quantificar o quão próximo as previsões estão dos valores reais.\n",
        "A métrica MSE é comumente utilizada em problemas de regressão, nos quais o objetivo é prever um valor numérico contínuo. Ela mede a média dos erros ao quadrado entre as previsões do modelo e os valores reais."
      ],
      "metadata": {
        "id": "Xe1T5dKpmS4C"
      },
      "id": "Xe1T5dKpmS4C"
    },
    {
      "cell_type": "code",
      "execution_count": null,
      "id": "5ba8a4a1",
      "metadata": {
        "id": "5ba8a4a1"
      },
      "outputs": [],
      "source": [
        "from keras.optimizers import Adam\n",
        "\n",
        "model.compile(optimizer=Adam(learning_rate=0.001, decay=0.0001), #treinada com taxa de aprendizado 0.001\n",
        "              loss='mse', # e função de perda/métrica MSE\n",
        "              metrics=['mse'])"
      ]
    },
    {
      "cell_type": "code",
      "execution_count": null,
      "id": "9e040edf",
      "metadata": {
        "scrolled": true,
        "colab": {
          "base_uri": "https://localhost:8080/"
        },
        "id": "9e040edf",
        "outputId": "eee5e828-ee91-48a5-9e98-9d6ec42af867"
      },
      "outputs": [
        {
          "output_type": "stream",
          "name": "stdout",
          "text": [
            "Epoch 1/100\n",
            "70/70 [==============================] - 3s 16ms/step - loss: 0.0728 - mse: 0.0728 - val_loss: 0.1210 - val_mse: 0.1210\n",
            "Epoch 2/100\n",
            "70/70 [==============================] - 1s 8ms/step - loss: 0.0245 - mse: 0.0245 - val_loss: 0.0934 - val_mse: 0.0934\n",
            "Epoch 3/100\n",
            "70/70 [==============================] - 1s 8ms/step - loss: 0.0186 - mse: 0.0186 - val_loss: 0.0695 - val_mse: 0.0695\n",
            "Epoch 4/100\n",
            "70/70 [==============================] - 1s 8ms/step - loss: 0.0159 - mse: 0.0159 - val_loss: 0.0537 - val_mse: 0.0537\n",
            "Epoch 5/100\n",
            "70/70 [==============================] - 1s 9ms/step - loss: 0.0143 - mse: 0.0143 - val_loss: 0.0440 - val_mse: 0.0440\n",
            "Epoch 6/100\n",
            "70/70 [==============================] - 1s 18ms/step - loss: 0.0136 - mse: 0.0136 - val_loss: 0.0381 - val_mse: 0.0381\n",
            "Epoch 7/100\n",
            "70/70 [==============================] - 1s 11ms/step - loss: 0.0132 - mse: 0.0132 - val_loss: 0.0344 - val_mse: 0.0344\n",
            "Epoch 8/100\n",
            "70/70 [==============================] - 1s 8ms/step - loss: 0.0130 - mse: 0.0130 - val_loss: 0.0317 - val_mse: 0.0317\n",
            "Epoch 9/100\n",
            "70/70 [==============================] - 1s 13ms/step - loss: 0.0128 - mse: 0.0128 - val_loss: 0.0296 - val_mse: 0.0296\n",
            "Epoch 10/100\n",
            "70/70 [==============================] - 1s 12ms/step - loss: 0.0126 - mse: 0.0126 - val_loss: 0.0278 - val_mse: 0.0278\n",
            "Epoch 11/100\n",
            "70/70 [==============================] - 1s 10ms/step - loss: 0.0124 - mse: 0.0124 - val_loss: 0.0263 - val_mse: 0.0263\n",
            "Epoch 12/100\n",
            "70/70 [==============================] - 1s 11ms/step - loss: 0.0123 - mse: 0.0123 - val_loss: 0.0249 - val_mse: 0.0249\n",
            "Epoch 13/100\n",
            "70/70 [==============================] - 1s 11ms/step - loss: 0.0121 - mse: 0.0121 - val_loss: 0.0236 - val_mse: 0.0236\n",
            "Epoch 14/100\n",
            "70/70 [==============================] - 1s 11ms/step - loss: 0.0120 - mse: 0.0120 - val_loss: 0.0225 - val_mse: 0.0225\n",
            "Epoch 15/100\n",
            "70/70 [==============================] - 1s 8ms/step - loss: 0.0118 - mse: 0.0118 - val_loss: 0.0214 - val_mse: 0.0214\n",
            "Epoch 16/100\n",
            "70/70 [==============================] - 1s 8ms/step - loss: 0.0117 - mse: 0.0117 - val_loss: 0.0205 - val_mse: 0.0205\n",
            "Epoch 17/100\n",
            "70/70 [==============================] - 1s 8ms/step - loss: 0.0115 - mse: 0.0115 - val_loss: 0.0196 - val_mse: 0.0196\n",
            "Epoch 18/100\n",
            "70/70 [==============================] - 1s 8ms/step - loss: 0.0114 - mse: 0.0114 - val_loss: 0.0188 - val_mse: 0.0188\n",
            "Epoch 19/100\n",
            "70/70 [==============================] - 1s 8ms/step - loss: 0.0113 - mse: 0.0113 - val_loss: 0.0181 - val_mse: 0.0181\n",
            "Epoch 20/100\n",
            "70/70 [==============================] - 1s 8ms/step - loss: 0.0112 - mse: 0.0112 - val_loss: 0.0174 - val_mse: 0.0174\n",
            "Epoch 21/100\n",
            "70/70 [==============================] - 1s 8ms/step - loss: 0.0111 - mse: 0.0111 - val_loss: 0.0168 - val_mse: 0.0168\n",
            "Epoch 22/100\n",
            "70/70 [==============================] - 1s 8ms/step - loss: 0.0110 - mse: 0.0110 - val_loss: 0.0162 - val_mse: 0.0162\n",
            "Epoch 23/100\n",
            "70/70 [==============================] - 1s 8ms/step - loss: 0.0109 - mse: 0.0109 - val_loss: 0.0157 - val_mse: 0.0157\n",
            "Epoch 24/100\n",
            "70/70 [==============================] - 1s 8ms/step - loss: 0.0108 - mse: 0.0108 - val_loss: 0.0152 - val_mse: 0.0152\n",
            "Epoch 25/100\n",
            "70/70 [==============================] - 1s 8ms/step - loss: 0.0107 - mse: 0.0107 - val_loss: 0.0147 - val_mse: 0.0147\n",
            "Epoch 26/100\n",
            "70/70 [==============================] - 1s 8ms/step - loss: 0.0107 - mse: 0.0107 - val_loss: 0.0142 - val_mse: 0.0142\n",
            "Epoch 27/100\n",
            "70/70 [==============================] - 1s 7ms/step - loss: 0.0106 - mse: 0.0106 - val_loss: 0.0138 - val_mse: 0.0138\n",
            "Epoch 28/100\n",
            "70/70 [==============================] - 1s 8ms/step - loss: 0.0106 - mse: 0.0106 - val_loss: 0.0135 - val_mse: 0.0135\n",
            "Epoch 29/100\n",
            "70/70 [==============================] - 1s 8ms/step - loss: 0.0105 - mse: 0.0105 - val_loss: 0.0131 - val_mse: 0.0131\n",
            "Epoch 30/100\n",
            "70/70 [==============================] - 1s 8ms/step - loss: 0.0105 - mse: 0.0105 - val_loss: 0.0128 - val_mse: 0.0128\n",
            "Epoch 31/100\n",
            "70/70 [==============================] - 1s 8ms/step - loss: 0.0105 - mse: 0.0105 - val_loss: 0.0126 - val_mse: 0.0126\n",
            "Epoch 32/100\n",
            "70/70 [==============================] - 1s 9ms/step - loss: 0.0104 - mse: 0.0104 - val_loss: 0.0123 - val_mse: 0.0123\n",
            "Epoch 33/100\n",
            "70/70 [==============================] - 1s 11ms/step - loss: 0.0104 - mse: 0.0104 - val_loss: 0.0121 - val_mse: 0.0121\n",
            "Epoch 34/100\n",
            "70/70 [==============================] - 1s 11ms/step - loss: 0.0104 - mse: 0.0104 - val_loss: 0.0119 - val_mse: 0.0119\n",
            "Epoch 35/100\n",
            "70/70 [==============================] - 1s 11ms/step - loss: 0.0104 - mse: 0.0104 - val_loss: 0.0118 - val_mse: 0.0118\n",
            "Epoch 36/100\n",
            "70/70 [==============================] - 1s 11ms/step - loss: 0.0103 - mse: 0.0103 - val_loss: 0.0116 - val_mse: 0.0116\n",
            "Epoch 37/100\n",
            "70/70 [==============================] - 1s 9ms/step - loss: 0.0103 - mse: 0.0103 - val_loss: 0.0114 - val_mse: 0.0114\n",
            "Epoch 38/100\n",
            "70/70 [==============================] - 1s 8ms/step - loss: 0.0103 - mse: 0.0103 - val_loss: 0.0113 - val_mse: 0.0113\n",
            "Epoch 39/100\n",
            "70/70 [==============================] - 1s 8ms/step - loss: 0.0103 - mse: 0.0103 - val_loss: 0.0112 - val_mse: 0.0112\n",
            "Epoch 40/100\n",
            "70/70 [==============================] - 1s 8ms/step - loss: 0.0103 - mse: 0.0103 - val_loss: 0.0111 - val_mse: 0.0111\n",
            "Epoch 41/100\n",
            "70/70 [==============================] - 1s 10ms/step - loss: 0.0102 - mse: 0.0102 - val_loss: 0.0110 - val_mse: 0.0110\n",
            "Epoch 42/100\n",
            "70/70 [==============================] - 1s 9ms/step - loss: 0.0102 - mse: 0.0102 - val_loss: 0.0109 - val_mse: 0.0109\n",
            "Epoch 43/100\n",
            "70/70 [==============================] - 1s 8ms/step - loss: 0.0102 - mse: 0.0102 - val_loss: 0.0108 - val_mse: 0.0108\n",
            "Epoch 44/100\n",
            "70/70 [==============================] - 1s 8ms/step - loss: 0.0102 - mse: 0.0102 - val_loss: 0.0107 - val_mse: 0.0107\n",
            "Epoch 45/100\n",
            "70/70 [==============================] - 1s 8ms/step - loss: 0.0102 - mse: 0.0102 - val_loss: 0.0106 - val_mse: 0.0106\n",
            "Epoch 46/100\n",
            "70/70 [==============================] - 1s 8ms/step - loss: 0.0102 - mse: 0.0102 - val_loss: 0.0106 - val_mse: 0.0106\n",
            "Epoch 47/100\n",
            "70/70 [==============================] - 1s 8ms/step - loss: 0.0102 - mse: 0.0102 - val_loss: 0.0105 - val_mse: 0.0105\n",
            "Epoch 48/100\n",
            "70/70 [==============================] - 1s 8ms/step - loss: 0.0102 - mse: 0.0102 - val_loss: 0.0104 - val_mse: 0.0104\n",
            "Epoch 49/100\n",
            "70/70 [==============================] - 1s 9ms/step - loss: 0.0101 - mse: 0.0101 - val_loss: 0.0104 - val_mse: 0.0104\n",
            "Epoch 50/100\n",
            "70/70 [==============================] - 1s 8ms/step - loss: 0.0101 - mse: 0.0101 - val_loss: 0.0103 - val_mse: 0.0103\n",
            "Epoch 51/100\n",
            "70/70 [==============================] - 1s 8ms/step - loss: 0.0101 - mse: 0.0101 - val_loss: 0.0103 - val_mse: 0.0103\n",
            "Epoch 52/100\n",
            "70/70 [==============================] - 1s 8ms/step - loss: 0.0101 - mse: 0.0101 - val_loss: 0.0102 - val_mse: 0.0102\n",
            "Epoch 53/100\n",
            "70/70 [==============================] - 1s 8ms/step - loss: 0.0101 - mse: 0.0101 - val_loss: 0.0102 - val_mse: 0.0102\n",
            "Epoch 54/100\n",
            "70/70 [==============================] - 1s 9ms/step - loss: 0.0101 - mse: 0.0101 - val_loss: 0.0102 - val_mse: 0.0102\n",
            "Epoch 55/100\n",
            "70/70 [==============================] - 1s 11ms/step - loss: 0.0101 - mse: 0.0101 - val_loss: 0.0101 - val_mse: 0.0101\n",
            "Epoch 56/100\n",
            "70/70 [==============================] - 1s 10ms/step - loss: 0.0101 - mse: 0.0101 - val_loss: 0.0101 - val_mse: 0.0101\n",
            "Epoch 57/100\n",
            "70/70 [==============================] - 1s 13ms/step - loss: 0.0101 - mse: 0.0101 - val_loss: 0.0101 - val_mse: 0.0101\n",
            "Epoch 58/100\n",
            "70/70 [==============================] - 1s 11ms/step - loss: 0.0101 - mse: 0.0101 - val_loss: 0.0100 - val_mse: 0.0100\n",
            "Epoch 59/100\n",
            "70/70 [==============================] - 1s 8ms/step - loss: 0.0101 - mse: 0.0101 - val_loss: 0.0100 - val_mse: 0.0100\n",
            "Epoch 60/100\n",
            "70/70 [==============================] - 1s 7ms/step - loss: 0.0101 - mse: 0.0101 - val_loss: 0.0100 - val_mse: 0.0100\n",
            "Epoch 61/100\n",
            "70/70 [==============================] - 1s 8ms/step - loss: 0.0101 - mse: 0.0101 - val_loss: 0.0100 - val_mse: 0.0100\n",
            "Epoch 62/100\n",
            "70/70 [==============================] - 1s 9ms/step - loss: 0.0100 - mse: 0.0100 - val_loss: 0.0100 - val_mse: 0.0100\n",
            "Epoch 63/100\n",
            "70/70 [==============================] - 1s 9ms/step - loss: 0.0100 - mse: 0.0100 - val_loss: 0.0100 - val_mse: 0.0100\n",
            "Epoch 64/100\n",
            "70/70 [==============================] - 1s 18ms/step - loss: 0.0100 - mse: 0.0100 - val_loss: 0.0099 - val_mse: 0.0099\n",
            "Epoch 65/100\n",
            "70/70 [==============================] - 1s 14ms/step - loss: 0.0100 - mse: 0.0100 - val_loss: 0.0099 - val_mse: 0.0099\n",
            "Epoch 66/100\n",
            "70/70 [==============================] - 1s 9ms/step - loss: 0.0100 - mse: 0.0100 - val_loss: 0.0099 - val_mse: 0.0099\n",
            "Epoch 67/100\n",
            "70/70 [==============================] - 1s 9ms/step - loss: 0.0100 - mse: 0.0100 - val_loss: 0.0099 - val_mse: 0.0099\n",
            "Epoch 68/100\n",
            "70/70 [==============================] - 1s 8ms/step - loss: 0.0100 - mse: 0.0100 - val_loss: 0.0099 - val_mse: 0.0099\n",
            "Epoch 69/100\n",
            "70/70 [==============================] - 1s 10ms/step - loss: 0.0100 - mse: 0.0100 - val_loss: 0.0099 - val_mse: 0.0099\n",
            "Epoch 70/100\n",
            "70/70 [==============================] - 1s 8ms/step - loss: 0.0100 - mse: 0.0100 - val_loss: 0.0099 - val_mse: 0.0099\n",
            "Epoch 71/100\n",
            "70/70 [==============================] - 1s 8ms/step - loss: 0.0100 - mse: 0.0100 - val_loss: 0.0099 - val_mse: 0.0099\n",
            "Epoch 72/100\n",
            "70/70 [==============================] - 1s 9ms/step - loss: 0.0100 - mse: 0.0100 - val_loss: 0.0099 - val_mse: 0.0099\n",
            "Epoch 73/100\n",
            "70/70 [==============================] - 1s 8ms/step - loss: 0.0100 - mse: 0.0100 - val_loss: 0.0099 - val_mse: 0.0099\n",
            "Epoch 74/100\n",
            "70/70 [==============================] - 1s 11ms/step - loss: 0.0100 - mse: 0.0100 - val_loss: 0.0099 - val_mse: 0.0099\n",
            "Epoch 75/100\n",
            "70/70 [==============================] - 1s 11ms/step - loss: 0.0100 - mse: 0.0100 - val_loss: 0.0099 - val_mse: 0.0099\n",
            "Epoch 76/100\n",
            "70/70 [==============================] - 1s 11ms/step - loss: 0.0100 - mse: 0.0100 - val_loss: 0.0099 - val_mse: 0.0099\n",
            "Epoch 77/100\n",
            "70/70 [==============================] - 1s 11ms/step - loss: 0.0100 - mse: 0.0100 - val_loss: 0.0098 - val_mse: 0.0098\n",
            "Epoch 78/100\n",
            "70/70 [==============================] - 1s 11ms/step - loss: 0.0100 - mse: 0.0100 - val_loss: 0.0098 - val_mse: 0.0098\n",
            "Epoch 79/100\n",
            "70/70 [==============================] - 1s 11ms/step - loss: 0.0100 - mse: 0.0100 - val_loss: 0.0098 - val_mse: 0.0098\n",
            "Epoch 80/100\n",
            "70/70 [==============================] - 1s 9ms/step - loss: 0.0100 - mse: 0.0100 - val_loss: 0.0098 - val_mse: 0.0098\n",
            "Epoch 81/100\n",
            "70/70 [==============================] - 1s 8ms/step - loss: 0.0100 - mse: 0.0100 - val_loss: 0.0098 - val_mse: 0.0098\n",
            "Epoch 82/100\n",
            "70/70 [==============================] - 1s 8ms/step - loss: 0.0100 - mse: 0.0100 - val_loss: 0.0098 - val_mse: 0.0098\n",
            "Epoch 83/100\n",
            "70/70 [==============================] - 1s 8ms/step - loss: 0.0100 - mse: 0.0100 - val_loss: 0.0098 - val_mse: 0.0098\n",
            "Epoch 84/100\n",
            "70/70 [==============================] - 1s 8ms/step - loss: 0.0100 - mse: 0.0100 - val_loss: 0.0098 - val_mse: 0.0098\n",
            "Epoch 85/100\n",
            "70/70 [==============================] - 1s 8ms/step - loss: 0.0100 - mse: 0.0100 - val_loss: 0.0098 - val_mse: 0.0098\n",
            "Epoch 86/100\n",
            "70/70 [==============================] - 1s 8ms/step - loss: 0.0100 - mse: 0.0100 - val_loss: 0.0098 - val_mse: 0.0098\n",
            "Epoch 87/100\n",
            "70/70 [==============================] - 1s 8ms/step - loss: 0.0100 - mse: 0.0100 - val_loss: 0.0098 - val_mse: 0.0098\n",
            "Epoch 88/100\n",
            "70/70 [==============================] - 1s 9ms/step - loss: 0.0100 - mse: 0.0100 - val_loss: 0.0098 - val_mse: 0.0098\n",
            "Epoch 89/100\n",
            "70/70 [==============================] - 1s 8ms/step - loss: 0.0100 - mse: 0.0100 - val_loss: 0.0098 - val_mse: 0.0098\n",
            "Epoch 90/100\n",
            "70/70 [==============================] - 1s 9ms/step - loss: 0.0100 - mse: 0.0100 - val_loss: 0.0098 - val_mse: 0.0098\n",
            "Epoch 91/100\n",
            "70/70 [==============================] - 1s 8ms/step - loss: 0.0100 - mse: 0.0100 - val_loss: 0.0098 - val_mse: 0.0098\n",
            "Epoch 92/100\n",
            "70/70 [==============================] - 1s 8ms/step - loss: 0.0100 - mse: 0.0100 - val_loss: 0.0098 - val_mse: 0.0098\n",
            "Epoch 93/100\n",
            "70/70 [==============================] - 1s 8ms/step - loss: 0.0100 - mse: 0.0100 - val_loss: 0.0098 - val_mse: 0.0098\n",
            "Epoch 94/100\n",
            "70/70 [==============================] - 1s 8ms/step - loss: 0.0100 - mse: 0.0100 - val_loss: 0.0098 - val_mse: 0.0098\n",
            "Epoch 95/100\n",
            "70/70 [==============================] - 1s 8ms/step - loss: 0.0100 - mse: 0.0100 - val_loss: 0.0098 - val_mse: 0.0098\n",
            "Epoch 96/100\n",
            "70/70 [==============================] - 1s 10ms/step - loss: 0.0100 - mse: 0.0100 - val_loss: 0.0098 - val_mse: 0.0098\n",
            "Epoch 97/100\n",
            "70/70 [==============================] - 1s 10ms/step - loss: 0.0100 - mse: 0.0100 - val_loss: 0.0098 - val_mse: 0.0098\n",
            "Epoch 98/100\n",
            "70/70 [==============================] - 1s 10ms/step - loss: 0.0100 - mse: 0.0100 - val_loss: 0.0098 - val_mse: 0.0098\n",
            "Epoch 99/100\n",
            "70/70 [==============================] - 1s 11ms/step - loss: 0.0099 - mse: 0.0099 - val_loss: 0.0098 - val_mse: 0.0098\n",
            "Epoch 100/100\n",
            "70/70 [==============================] - 1s 10ms/step - loss: 0.0099 - mse: 0.0099 - val_loss: 0.0098 - val_mse: 0.0098\n"
          ]
        }
      ],
      "source": [
        "# vamos executar o treinamento\n",
        "\n",
        "history = model.fit(X_ts_train, Y_ts_train,\n",
        "          batch_size=20, #para lotes de 20 em 20\n",
        "          epochs=100, # por 100 épocas\n",
        "          shuffle=False, #sem embaralhar os dados de treinamento a cada época\n",
        "          validation_data=(X_ts_test, Y_ts_test)) #fazendo a validação com o conjunto separado para testes\n"
      ]
    },
    {
      "cell_type": "markdown",
      "source": [
        "Loss ou função de perda é uma medida utilizada durante o treinamento do modelo para ajustar os pesos dos neurônios e otimizar a rede neural. A função de perda representa o erro entre as previsões do modelo e os valores reais, e seu objetivo é ser minimizada durante o treinamento.\n",
        "MSE é uma métrica de avaliação que calcula o erro médio ao quadrado entre as previsões do modelo e os valores reais. Ela é usada para medir o desempenho do modelo em problemas de regressão, onde o objetivo é prever um valor numérico contínuo. O MSE é calculado como a média dos quadrados das diferenças entre cada previsão e o valor real correspondente.\n",
        "Em resumo, MSE é uma métrica de avaliação que calcula o erro médio ao quadrado, enquanto Loss é uma função utilizada para otimizar o modelo durante o treinamento. O MSE pode ser usado tanto como métrica quanto como função de perda, dependendo do contexto em que é aplicado."
      ],
      "metadata": {
        "id": "yz4kYlaFqvYJ"
      },
      "id": "yz4kYlaFqvYJ"
    },
    {
      "cell_type": "code",
      "execution_count": null,
      "id": "b3cb19b5",
      "metadata": {
        "id": "b3cb19b5"
      },
      "outputs": [],
      "source": [
        "import matplotlib.pyplot as plt\n",
        "\n",
        "# lista todos os dados contidos no histórico de treinamento\n",
        "print(history.history.keys())\n",
        "\n",
        "# plotamos o erro calculado a partir do histórico\n",
        "plt.plot(history.history['mse'])  # erro médio quadrático (treinamento)\n",
        "plt.plot(history.history['val_mse']) # erro médio quadrático (teste)\n",
        "plt.title('MSE do Modelo')\n",
        "plt.ylabel('mse')\n",
        "plt.xlabel('época')\n",
        "plt.legend(['treino', 'teste'], loc='upper left')\n",
        "plt.show()\n",
        "\n",
        "# plotamos o erro/perda a partir do histórico\n",
        "plt.plot(history.history['loss']) # perda/erro durante o treinamento\n",
        "plt.plot(history.history['val_loss']) #perda/erro durante a validação (teste)\n",
        "plt.title('Perda do modelo')\n",
        "plt.ylabel('perda')\n",
        "plt.xlabel('época')\n",
        "plt.legend(['treino', 'teste'], loc='upper left')\n",
        "plt.show()\n",
        "\n",
        "\n"
      ]
    },
    {
      "cell_type": "code",
      "execution_count": null,
      "id": "59dfd0bf",
      "metadata": {
        "colab": {
          "base_uri": "https://localhost:8080/",
          "height": 447
        },
        "id": "59dfd0bf",
        "outputId": "71fe281b-3687-42ff-a3fe-beb8efa947e9"
      },
      "outputs": [
        {
          "output_type": "stream",
          "name": "stdout",
          "text": [
            "70/70 [==============================] - 1s 3ms/step\n"
          ]
        },
        {
          "output_type": "display_data",
          "data": {
            "text/plain": [
              "<Figure size 640x480 with 1 Axes>"
            ],
            "image/png": "[encoded data removed]"
          },
          "metadata": {}
        }
      ],
      "source": [
        "# Agora, vamos visualizar os dados reais vs os dados calculados na predição (usando os dados de treinamento)\n",
        "plt.plot(Y_ts_train)\n",
        "plt.plot(model.predict(X_ts_train, batch_size=20))\n",
        "plt.legend(['Dado Real', 'Predição'], loc='upper left')\n",
        "plt.show()"
      ]
    },
    {
      "cell_type": "code",
      "execution_count": null,
      "id": "3e47ffe5",
      "metadata": {
        "colab": {
          "base_uri": "https://localhost:8080/",
          "height": 447
        },
        "id": "3e47ffe5",
        "outputId": "05aa183b-158c-4c1a-e8bb-2ec5865c7d9e"
      },
      "outputs": [
        {
          "output_type": "stream",
          "name": "stdout",
          "text": [
            "9/9 [==============================] - 0s 3ms/step\n"
          ]
        },
        {
          "output_type": "display_data",
          "data": {
            "text/plain": [
              "<Figure size 640x480 with 1 Axes>"
            ],
            "image/png": "[encoded data removed]"
          },
          "metadata": {}
        }
      ],
      "source": [
        "# e vamos visualizar os dados reais vs os dados calculados na predição (usando os dados de validação)\n",
        "plt.plot(Y_ts_test)\n",
        "plt.plot(model.predict(X_ts_test, batch_size=20))\n",
        "plt.legend(['Dado Real', 'Predição'], loc='upper left')\n",
        "plt.show()"
      ]
    },
    {
      "cell_type": "markdown",
      "id": "81d98d9b",
      "metadata": {
        "id": "81d98d9b"
      },
      "source": [
        "## Autoencoder\n",
        "Não supervisionado"
      ]
    },
    {
      "cell_type": "markdown",
      "id": "e8f1c33c",
      "metadata": {
        "id": "e8f1c33c"
      },
      "source": [
        "### Standard Autoencoder Não supervisionado\n"
      ]
    },
    {
      "cell_type": "code",
      "execution_count": 28,
      "id": "0aa37155",
      "metadata": {
        "id": "0aa37155",
        "outputId": "e7222dc8-727b-46c2-fe7c-d26dcae6e4cf",
        "colab": {
          "base_uri": "https://localhost:8080/",
          "height": 447
        }
      },
      "outputs": [
        {
          "output_type": "execute_result",
          "data": {
            "text/plain": [
              "<matplotlib.image.AxesImage at 0x7f21d9a77e20>"
            ]
          },
          "metadata": {},
          "execution_count": 28
        },
        {
          "output_type": "display_data",
          "data": {
            "text/plain": [
              "<Figure size 640x480 with 1 Axes>"
            ],
            "image/png": "[encoded data removed]"
          },
          "metadata": {}
        }
      ],
      "source": [
        "import numpy as np\n",
        "from PIL import Image\n",
        "\n",
        "from keras.datasets import fashion_mnist\n",
        "\n",
        "(X_train, _), (_, _) = fashion_mnist.load_data()\n",
        "\n",
        "nb_samples = 1000\n",
        "nb_epochs = 400\n",
        "batch_size = 200\n",
        "code_length = 256\n",
        "\n",
        "X_train = X_train.astype(np.float32)[0:nb_samples] / 255.0\n",
        "\n",
        "width = X_train.shape[1]\n",
        "height = X_train.shape[2]\n",
        "\n",
        "plt.imshow(X_train[1], cmap=\"gray\")"
      ]
    },
    {
      "cell_type": "code",
      "execution_count": null,
      "id": "f25941cf",
      "metadata": {
        "id": "f25941cf"
      },
      "outputs": [],
      "source": [
        "from keras.layers import Dense, Flatten, Conv2D,Conv2DTranspose\n",
        "import tensorflow.compat.v1 as tf\n",
        "tf.disable_v2_behavior()\n",
        "\n",
        "graph = tf.Graph()\n",
        "\n",
        "with graph.as_default():\n",
        "    input_images = tf.placeholder(tf.float32, shape=(None, width, height, 1))\n",
        "\n",
        "    r_input_images = tf.image.resize_images(input_images, (32, 32))\n",
        "\n",
        "    # Encoder\n",
        "    conv_0 = Conv2D(filters=32,\n",
        "                      kernel_size=(3, 3),\n",
        "                      strides=(2, 2),\n",
        "                      activation=tf.nn.relu,\n",
        "                      padding='same')(r_input_images)\n",
        "\n",
        "    conv_1 = Conv2D(filters=64,\n",
        "                      kernel_size=(3, 3),\n",
        "                      activation=tf.nn.relu,\n",
        "                      padding='same')(conv_0)\n",
        "\n",
        "    conv_2 = Conv2D(filters=128,\n",
        "                      kernel_size=(3, 3),\n",
        "                      activation=tf.nn.relu,\n",
        "                      padding='same')(conv_1)\n",
        "\n",
        "    # Code layer\n",
        "    code_input = Flatten()(conv_2)\n",
        "\n",
        "    code_layer = Dense(units=code_length,\n",
        "                         activation=tf.nn.sigmoid)(code_input)\n",
        "\n",
        "    # Decoder\n",
        "    decoder_input = tf.reshape(code_layer, (-1, 16, 16, 1))\n",
        "\n",
        "    convt_0 = Conv2DTranspose(filters=128,\n",
        "                                 kernel_size=(3, 3),\n",
        "                                 strides=(2, 2),\n",
        "                                 activation=tf.nn.relu,\n",
        "                                 padding='same')(decoder_input)\n",
        "\n",
        "    convt_1 = Conv2DTranspose(filters=64,\n",
        "                                 kernel_size=(3, 3),\n",
        "                                 activation=tf.nn.relu,\n",
        "                                 padding='same')(convt_0)\n",
        "\n",
        "    convt_2 = Conv2DTranspose(filters=32,\n",
        "                                 kernel_size=(3, 3),\n",
        "                                 activation=tf.nn.relu,\n",
        "                                 padding='same')(convt_1)\n",
        "\n",
        "    convt_3 = Conv2DTranspose(filters=1,\n",
        "                                 kernel_size=(3, 3),\n",
        "                                 activation=tf.sigmoid,\n",
        "                                 padding='same')(convt_2)\n",
        "\n",
        "    # Loss\n",
        "    loss = tf.nn.l2_loss(convt_3 - r_input_images)\n",
        "\n",
        "    # Training step\n",
        "    training_step = tf.train.AdamOptimizer(0.001).minimize(loss)"
      ]
    },
    {
      "cell_type": "code",
      "execution_count": 25,
      "id": "73e3182f",
      "metadata": {
        "id": "73e3182f",
        "outputId": "71ea19d7-8b89-463b-cb5e-9c63d391a46e",
        "colab": {
          "base_uri": "https://localhost:8080/",
          "height": 990
        }
      },
      "outputs": [
        {
          "metadata": {
            "tags": null
          },
          "name": "stderr",
          "output_type": "stream",
          "text": [
            "/usr/local/lib/python3.10/dist-packages/tensorflow/python/client/session.py:1769: UserWarning: An interactive session is already active. This can cause out-of-memory errors in some cases. You must explicitly call `InteractiveSession.close()` to release resources held by the other session(s).\n",
            "  warnings.warn('An interactive session is already active. This can '\n"
          ]
        },
        {
          "output_type": "stream",
          "name": "stdout",
          "text": [
            "Epoch 1) Total loss: 57112.033203125\n",
            "Epoch 2) Total loss: 38061.3505859375\n",
            "Epoch 3) Total loss: 34543.716796875\n",
            "Epoch 4) Total loss: 31153.77099609375\n",
            "Epoch 5) Total loss: 30646.9482421875\n",
            "Epoch 6) Total loss: 29641.2080078125\n",
            "Epoch 7) Total loss: 28780.8544921875\n",
            "Epoch 8) Total loss: 28163.60302734375\n",
            "Epoch 9) Total loss: 27364.41748046875\n",
            "Epoch 10) Total loss: 26359.2578125\n",
            "Epoch 11) Total loss: 25407.69775390625\n",
            "Epoch 12) Total loss: 23987.7763671875\n",
            "Epoch 13) Total loss: 22009.9541015625\n",
            "Epoch 14) Total loss: 20499.7314453125\n",
            "Epoch 15) Total loss: 20113.85400390625\n",
            "Epoch 16) Total loss: 18608.400390625\n",
            "Epoch 17) Total loss: 17976.14013671875\n",
            "Epoch 18) Total loss: 16854.400634765625\n",
            "Epoch 19) Total loss: 16303.0283203125\n",
            "Epoch 20) Total loss: 15767.921875\n",
            "Epoch 21) Total loss: 15087.5771484375\n",
            "Epoch 22) Total loss: 14576.270263671875\n",
            "Epoch 23) Total loss: 14133.46728515625\n",
            "Epoch 24) Total loss: 13724.697021484375\n",
            "Epoch 25) Total loss: 13412.957763671875\n",
            "Epoch 26) Total loss: 12994.9501953125\n",
            "Epoch 27) Total loss: 12207.307373046875\n",
            "Epoch 28) Total loss: 12889.499755859375\n",
            "Epoch 29) Total loss: 12355.038818359375\n",
            "Epoch 30) Total loss: 11716.825439453125\n",
            "Epoch 31) Total loss: 11213.739501953125\n",
            "Epoch 32) Total loss: 10772.27099609375\n"
          ]
        },
        {
          "output_type": "error",
          "ename": "KeyboardInterrupt",
          "evalue": "ignored",
          "traceback": [
            "\u001b[0;31m---------------------------------------------------------------------------\u001b[0m",
            "\u001b[0;31mKeyboardInterrupt\u001b[0m                         Traceback (most recent call last)",
            "\u001b[0;32m<ipython-input-25-6d8d7877ac7d>\u001b[0m in \u001b[0;36m<cell line: 9>\u001b[0;34m()\u001b[0m\n\u001b[1;32m     17\u001b[0m         \u001b[0mX\u001b[0m\u001b[0;34m[\u001b[0m\u001b[0;34m:\u001b[0m\u001b[0;34m,\u001b[0m \u001b[0;34m:\u001b[0m\u001b[0;34m,\u001b[0m \u001b[0;34m:\u001b[0m\u001b[0;34m,\u001b[0m \u001b[0;36m0\u001b[0m\u001b[0;34m]\u001b[0m \u001b[0;34m=\u001b[0m \u001b[0mX_train\u001b[0m\u001b[0;34m[\u001b[0m\u001b[0mi\u001b[0m\u001b[0;34m:\u001b[0m\u001b[0mi\u001b[0m \u001b[0;34m+\u001b[0m \u001b[0mbatch_size\u001b[0m\u001b[0;34m,\u001b[0m \u001b[0;34m:\u001b[0m\u001b[0;34m,\u001b[0m \u001b[0;34m:\u001b[0m\u001b[0;34m]\u001b[0m   \u001b[0;31m#vetor X é o input da rede\u001b[0m\u001b[0;34m\u001b[0m\u001b[0;34m\u001b[0m\u001b[0m\n\u001b[1;32m     18\u001b[0m \u001b[0;34m\u001b[0m\u001b[0m\n\u001b[0;32m---> 19\u001b[0;31m         _, n_loss = session.run([training_step, loss], \n\u001b[0m\u001b[1;32m     20\u001b[0m                                 feed_dict={\n\u001b[1;32m     21\u001b[0m                                     \u001b[0minput_images\u001b[0m\u001b[0;34m:\u001b[0m \u001b[0mX\u001b[0m\u001b[0;34m\u001b[0m\u001b[0;34m\u001b[0m\u001b[0m\n",
            "\u001b[0;32m/usr/local/lib/python3.10/dist-packages/tensorflow/python/client/session.py\u001b[0m in \u001b[0;36mrun\u001b[0;34m(self, fetches, feed_dict, options, run_metadata)\u001b[0m\n\u001b[1;32m    966\u001b[0m \u001b[0;34m\u001b[0m\u001b[0m\n\u001b[1;32m    967\u001b[0m     \u001b[0;32mtry\u001b[0m\u001b[0;34m:\u001b[0m\u001b[0;34m\u001b[0m\u001b[0;34m\u001b[0m\u001b[0m\n\u001b[0;32m--> 968\u001b[0;31m       result = self._run(None, fetches, feed_dict, options_ptr,\n\u001b[0m\u001b[1;32m    969\u001b[0m                          run_metadata_ptr)\n\u001b[1;32m    970\u001b[0m       \u001b[0;32mif\u001b[0m \u001b[0mrun_metadata\u001b[0m\u001b[0;34m:\u001b[0m\u001b[0;34m\u001b[0m\u001b[0;34m\u001b[0m\u001b[0m\n",
            "\u001b[0;32m/usr/local/lib/python3.10/dist-packages/tensorflow/python/client/session.py\u001b[0m in \u001b[0;36m_run\u001b[0;34m(self, handle, fetches, feed_dict, options, run_metadata)\u001b[0m\n\u001b[1;32m   1189\u001b[0m     \u001b[0;31m# or if the call is a partial run that specifies feeds.\u001b[0m\u001b[0;34m\u001b[0m\u001b[0;34m\u001b[0m\u001b[0m\n\u001b[1;32m   1190\u001b[0m     \u001b[0;32mif\u001b[0m \u001b[0mfinal_fetches\u001b[0m \u001b[0;32mor\u001b[0m \u001b[0mfinal_targets\u001b[0m \u001b[0;32mor\u001b[0m \u001b[0;34m(\u001b[0m\u001b[0mhandle\u001b[0m \u001b[0;32mand\u001b[0m \u001b[0mfeed_dict_tensor\u001b[0m\u001b[0;34m)\u001b[0m\u001b[0;34m:\u001b[0m\u001b[0;34m\u001b[0m\u001b[0;34m\u001b[0m\u001b[0m\n\u001b[0;32m-> 1191\u001b[0;31m       results = self._do_run(handle, final_targets, final_fetches,\n\u001b[0m\u001b[1;32m   1192\u001b[0m                              feed_dict_tensor, options, run_metadata)\n\u001b[1;32m   1193\u001b[0m     \u001b[0;32melse\u001b[0m\u001b[0;34m:\u001b[0m\u001b[0;34m\u001b[0m\u001b[0;34m\u001b[0m\u001b[0m\n",
            "\u001b[0;32m/usr/local/lib/python3.10/dist-packages/tensorflow/python/client/session.py\u001b[0m in \u001b[0;36m_do_run\u001b[0;34m(self, handle, target_list, fetch_list, feed_dict, options, run_metadata)\u001b[0m\n\u001b[1;32m   1369\u001b[0m \u001b[0;34m\u001b[0m\u001b[0m\n\u001b[1;32m   1370\u001b[0m     \u001b[0;32mif\u001b[0m \u001b[0mhandle\u001b[0m \u001b[0;32mis\u001b[0m \u001b[0;32mNone\u001b[0m\u001b[0;34m:\u001b[0m\u001b[0;34m\u001b[0m\u001b[0;34m\u001b[0m\u001b[0m\n\u001b[0;32m-> 1371\u001b[0;31m       return self._do_call(_run_fn, feeds, fetches, targets, options,\n\u001b[0m\u001b[1;32m   1372\u001b[0m                            run_metadata)\n\u001b[1;32m   1373\u001b[0m     \u001b[0;32melse\u001b[0m\u001b[0;34m:\u001b[0m\u001b[0;34m\u001b[0m\u001b[0;34m\u001b[0m\u001b[0m\n",
            "\u001b[0;32m/usr/local/lib/python3.10/dist-packages/tensorflow/python/client/session.py\u001b[0m in \u001b[0;36m_do_call\u001b[0;34m(self, fn, *args)\u001b[0m\n\u001b[1;32m   1376\u001b[0m   \u001b[0;32mdef\u001b[0m \u001b[0m_do_call\u001b[0m\u001b[0;34m(\u001b[0m\u001b[0mself\u001b[0m\u001b[0;34m,\u001b[0m \u001b[0mfn\u001b[0m\u001b[0;34m,\u001b[0m \u001b[0;34m*\u001b[0m\u001b[0margs\u001b[0m\u001b[0;34m)\u001b[0m\u001b[0;34m:\u001b[0m\u001b[0;34m\u001b[0m\u001b[0;34m\u001b[0m\u001b[0m\n\u001b[1;32m   1377\u001b[0m     \u001b[0;32mtry\u001b[0m\u001b[0;34m:\u001b[0m\u001b[0;34m\u001b[0m\u001b[0;34m\u001b[0m\u001b[0m\n\u001b[0;32m-> 1378\u001b[0;31m       \u001b[0;32mreturn\u001b[0m \u001b[0mfn\u001b[0m\u001b[0;34m(\u001b[0m\u001b[0;34m*\u001b[0m\u001b[0margs\u001b[0m\u001b[0;34m)\u001b[0m\u001b[0;34m\u001b[0m\u001b[0;34m\u001b[0m\u001b[0m\n\u001b[0m\u001b[1;32m   1379\u001b[0m     \u001b[0;32mexcept\u001b[0m \u001b[0merrors\u001b[0m\u001b[0;34m.\u001b[0m\u001b[0mOpError\u001b[0m \u001b[0;32mas\u001b[0m \u001b[0me\u001b[0m\u001b[0;34m:\u001b[0m\u001b[0;34m\u001b[0m\u001b[0;34m\u001b[0m\u001b[0m\n\u001b[1;32m   1380\u001b[0m       \u001b[0mmessage\u001b[0m \u001b[0;34m=\u001b[0m \u001b[0mcompat\u001b[0m\u001b[0;34m.\u001b[0m\u001b[0mas_text\u001b[0m\u001b[0;34m(\u001b[0m\u001b[0me\u001b[0m\u001b[0;34m.\u001b[0m\u001b[0mmessage\u001b[0m\u001b[0;34m)\u001b[0m\u001b[0;34m\u001b[0m\u001b[0;34m\u001b[0m\u001b[0m\n",
            "\u001b[0;32m/usr/local/lib/python3.10/dist-packages/tensorflow/python/client/session.py\u001b[0m in \u001b[0;36m_run_fn\u001b[0;34m(feed_dict, fetch_list, target_list, options, run_metadata)\u001b[0m\n\u001b[1;32m   1359\u001b[0m       \u001b[0;31m# Ensure any changes to the graph are reflected in the runtime.\u001b[0m\u001b[0;34m\u001b[0m\u001b[0;34m\u001b[0m\u001b[0m\n\u001b[1;32m   1360\u001b[0m       \u001b[0mself\u001b[0m\u001b[0;34m.\u001b[0m\u001b[0m_extend_graph\u001b[0m\u001b[0;34m(\u001b[0m\u001b[0;34m)\u001b[0m\u001b[0;34m\u001b[0m\u001b[0;34m\u001b[0m\u001b[0m\n\u001b[0;32m-> 1361\u001b[0;31m       return self._call_tf_sessionrun(options, feed_dict, fetch_list,\n\u001b[0m\u001b[1;32m   1362\u001b[0m                                       target_list, run_metadata)\n\u001b[1;32m   1363\u001b[0m \u001b[0;34m\u001b[0m\u001b[0m\n",
            "\u001b[0;32m/usr/local/lib/python3.10/dist-packages/tensorflow/python/client/session.py\u001b[0m in \u001b[0;36m_call_tf_sessionrun\u001b[0;34m(self, options, feed_dict, fetch_list, target_list, run_metadata)\u001b[0m\n\u001b[1;32m   1452\u001b[0m   def _call_tf_sessionrun(self, options, feed_dict, fetch_list, target_list,\n\u001b[1;32m   1453\u001b[0m                           run_metadata):\n\u001b[0;32m-> 1454\u001b[0;31m     return tf_session.TF_SessionRun_wrapper(self._session, options, feed_dict,\n\u001b[0m\u001b[1;32m   1455\u001b[0m                                             \u001b[0mfetch_list\u001b[0m\u001b[0;34m,\u001b[0m \u001b[0mtarget_list\u001b[0m\u001b[0;34m,\u001b[0m\u001b[0;34m\u001b[0m\u001b[0;34m\u001b[0m\u001b[0m\n\u001b[1;32m   1456\u001b[0m                                             run_metadata)\n",
            "\u001b[0;31mKeyboardInterrupt\u001b[0m: "
          ]
        }
      ],
      "source": [
        "import numpy as np\n",
        "import tensorflow.compat.v1 as tf\n",
        "tf.disable_v2_behavior()\n",
        "\n",
        "session = tf.InteractiveSession(graph=graph)\n",
        "tf.global_variables_initializer().run()\n",
        "\n",
        "for e in range(nb_epochs):\n",
        "    np.random.shuffle(X_train)\n",
        "\n",
        "    total_loss = 0.0\n",
        "\n",
        "    for i in range(0, nb_samples - batch_size, batch_size):\n",
        "        X = np.zeros((batch_size, width, height, 1), dtype=np.float32)\n",
        "        X[:, :, :, 0] = X_train[i:i + batch_size, :, :]\n",
        "\n",
        "        _, n_loss = session.run([training_step, loss],\n",
        "                                feed_dict={\n",
        "                                    input_images: X\n",
        "                                })\n",
        "        total_loss += n_loss\n",
        "\n",
        "    print('Epoch {}) Total loss: {}'.format(e + 1, total_loss))"
      ]
    },
    {
      "cell_type": "code",
      "execution_count": null,
      "id": "544a5b47",
      "metadata": {
        "id": "544a5b47",
        "outputId": "9c5cdf99-126b-43e8-c6c2-d39fdc31723d"
      },
      "outputs": [
        {
          "name": "stdout",
          "output_type": "stream",
          "text": [
            "0.5324642\n"
          ]
        }
      ],
      "source": [
        "import numpy as np\n",
        "\n",
        "codes = session.run([code_layer],\n",
        "                    feed_dict={\n",
        "                        input_images: np.expand_dims(X_train, axis=3),\n",
        "                    })[0]\n",
        "\n",
        "print(np.mean(codes))"
      ]
    },
    {
      "cell_type": "code",
      "execution_count": null,
      "id": "ccfd374f",
      "metadata": {
        "id": "ccfd374f"
      },
      "outputs": [],
      "source": [
        "import numpy as np\n",
        "\n",
        "Xs = np.reshape(X_train[0:10], (10, width, height, 1))\n",
        "\n",
        "Ys = session.run([convt_3],\n",
        "                 feed_dict={\n",
        "                     input_images: Xs\n",
        "                })\n",
        "\n",
        "Ys = np.squeeze(Ys[0] * 255.0)"
      ]
    },
    {
      "cell_type": "code",
      "execution_count": null,
      "id": "c33ced51",
      "metadata": {
        "id": "c33ced51",
        "outputId": "17ba6bdc-5906-4a1c-ad19-1b1300cf329c"
      },
      "outputs": [
        {
          "data": {
            "image/png": "[encoded data removed]",
            "text/plain": [
              "<PIL.Image.Image image mode=RGB size=28x28>"
            ]
          },
          "metadata": {},
          "output_type": "display_data"
        },
        {
          "data": {
            "image/png": "[encoded data removed]",
            "text/plain": [
              "<PIL.Image.Image image mode=RGB size=28x28>"
            ]
          },
          "metadata": {},
          "output_type": "display_data"
        },
        {
          "data": {
            "image/png": "[encoded data removed]",
            "text/plain": [
              "<PIL.Image.Image image mode=RGB size=28x28>"
            ]
          },
          "metadata": {},
          "output_type": "display_data"
        },
        {
          "data": {
            "image/png": "[encoded data removed]",
            "text/plain": [
              "<PIL.Image.Image image mode=RGB size=28x28>"
            ]
          },
          "metadata": {},
          "output_type": "display_data"
        },
        {
          "data": {
            "image/png": "[encoded data removed]",
            "text/plain": [
              "<PIL.Image.Image image mode=RGB size=28x28>"
            ]
          },
          "metadata": {},
          "output_type": "display_data"
        },
        {
          "data": {
            "image/png": "[encoded data removed]",
            "text/plain": [
              "<PIL.Image.Image image mode=RGB size=28x28>"
            ]
          },
          "metadata": {},
          "output_type": "display_data"
        },
        {
          "data": {
            "image/png": "[encoded data removed]",
            "text/plain": [
              "<PIL.Image.Image image mode=RGB size=28x28>"
            ]
          },
          "metadata": {},
          "output_type": "display_data"
        },
        {
          "data": {
            "image/png": "[encoded data removed]",
            "text/plain": [
              "<PIL.Image.Image image mode=RGB size=28x28>"
            ]
          },
          "metadata": {},
          "output_type": "display_data"
        },
        {
          "data": {
            "image/png": "[encoded data removed]",
            "text/plain": [
              "<PIL.Image.Image image mode=RGB size=28x28>"
            ]
          },
          "metadata": {},
          "output_type": "display_data"
        },
        {
          "data": {
            "image/png": "[encoded data removed]",
            "text/plain": [
              "<PIL.Image.Image image mode=RGB size=28x28>"
            ]
          },
          "metadata": {},
          "output_type": "display_data"
        },
        {
          "data": {
            "image/png": "[encoded data removed]",
            "text/plain": [
              "<PIL.Image.Image image mode=RGB size=28x28>"
            ]
          },
          "metadata": {},
          "output_type": "display_data"
        },
        {
          "data": {
            "image/png": "[encoded data removed]",
            "text/plain": [
              "<PIL.Image.Image image mode=RGB size=28x28>"
            ]
          },
          "metadata": {},
          "output_type": "display_data"
        },
        {
          "data": {
            "image/png": "[encoded data removed]",
            "text/plain": [
              "<PIL.Image.Image image mode=RGB size=28x28>"
            ]
          },
          "metadata": {},
          "output_type": "display_data"
        },
        {
          "data": {
            "image/png": "[encoded data removed]",
            "text/plain": [
              "<PIL.Image.Image image mode=RGB size=28x28>"
            ]
          },
          "metadata": {},
          "output_type": "display_data"
        },
        {
          "data": {
            "image/png": "[encoded data removed]",
            "text/plain": [
              "<PIL.Image.Image image mode=RGB size=28x28>"
            ]
          },
          "metadata": {},
          "output_type": "display_data"
        },
        {
          "data": {
            "image/png": "[encoded data removed]",
            "text/plain": [
              "<PIL.Image.Image image mode=RGB size=28x28>"
            ]
          },
          "metadata": {},
          "output_type": "display_data"
        },
        {
          "data": {
            "image/png": "[encoded data removed]",
            "text/plain": [
              "<PIL.Image.Image image mode=RGB size=28x28>"
            ]
          },
          "metadata": {},
          "output_type": "display_data"
        },
        {
          "data": {
            "image/png": "[encoded data removed]",
            "text/plain": [
              "<PIL.Image.Image image mode=RGB size=28x28>"
            ]
          },
          "metadata": {},
          "output_type": "display_data"
        },
        {
          "data": {
            "image/png": "[encoded data removed]",
            "text/plain": [
              "<PIL.Image.Image image mode=RGB size=28x28>"
            ]
          },
          "metadata": {},
          "output_type": "display_data"
        },
        {
          "data": {
            "image/png": "[encoded data removed]",
            "text/plain": [
              "<PIL.Image.Image image mode=RGB size=28x28>"
            ]
          },
          "metadata": {},
          "output_type": "display_data"
        }
      ],
      "source": [
        "    for i in range(0,10):\n",
        "        im = Image.fromarray(X_train[i] * 255.0)\n",
        "        if im.mode != 'RGB':\n",
        "            im = im.convert('RGB')\n",
        "        IPython.display.display(im)\n",
        "\n",
        "        im = Image.fromarray(Ys[i])\n",
        "        if im.mode != 'RGB':\n",
        "            im = im.convert('RGB')\n",
        "        IPython.display.display(im)"
      ]
    },
    {
      "cell_type": "markdown",
      "id": "d9743c1a",
      "metadata": {
        "id": "d9743c1a"
      },
      "source": [
        "### denoising autoencoder"
      ]
    },
    {
      "cell_type": "code",
      "execution_count": 26,
      "id": "71007f05",
      "metadata": {
        "id": "71007f05"
      },
      "outputs": [],
      "source": [
        "import tensorflow.compat.v1 as tf\n",
        "tf.disable_v2_behavior()\n",
        "\n",
        "graph = tf.Graph()\n",
        "\n",
        "with graph.as_default():\n",
        "    input_noisy_images = tf.placeholder(tf.float32, shape=(None, width, height, 1))\n",
        "    input_images = tf.placeholder(tf.float32, shape=(None, width, height, 1))\n",
        "\n",
        "    # Encoder\n",
        "    conv_0 = Conv2D(filters=32,\n",
        "                      kernel_size=(3, 3),\n",
        "                      activation=tf.nn.relu,\n",
        "                      padding='same')(input_noisy_images)\n",
        "\n",
        "    conv_1 = Conv2D(filters=64,\n",
        "                      kernel_size=(3, 3),\n",
        "                      activation=tf.nn.relu,\n",
        "                      padding='same')(conv_0)\n",
        "\n",
        "    conv_2 = Conv2D(filters=128,\n",
        "                      kernel_size=(3, 3),\n",
        "                      activation=tf.nn.relu,\n",
        "                      padding='same')(conv_1)\n",
        "\n",
        "    # Code layer\n",
        "    code_input = Flatten()(conv_2)\n",
        "\n",
        "    code_layer = Dense(units=width * height,\n",
        "                         activation=tf.nn.sigmoid)(code_input)\n",
        "    # Decoder\n",
        "    decoder_input = tf.reshape(code_layer, (-1, width, height, 1))\n",
        "\n",
        "    convt_0 = Conv2DTranspose(filters=128,\n",
        "                                 kernel_size=(3, 3),\n",
        "                                 activation=tf.nn.relu,\n",
        "                                 padding='same')(decoder_input)\n",
        "\n",
        "    convt_1 = Conv2DTranspose(filters=64,\n",
        "                                 kernel_size=(3, 3),\n",
        "                                 activation=tf.nn.relu,\n",
        "                                 padding='same')(convt_0)\n",
        "\n",
        "    convt_2 = Conv2DTranspose(filters=32,\n",
        "                                 kernel_size=(3, 3),\n",
        "                                 activation=tf.nn.relu,\n",
        "                                 padding='same')(convt_1)\n",
        "\n",
        "    convt_3 = Conv2DTranspose(filters=1,\n",
        "                                 kernel_size=(3, 3),\n",
        "                                 activation=tf.sigmoid,\n",
        "                                 padding='same')(convt_2)\n",
        "\n",
        "    # Loss\n",
        "    loss = tf.nn.l2_loss(convt_3 - input_images)\n",
        "\n",
        "    # Training step\n",
        "    training_step = tf.train.AdamOptimizer(0.001).minimize(loss)"
      ]
    },
    {
      "cell_type": "code",
      "execution_count": null,
      "id": "ba092a87",
      "metadata": {
        "id": "ba092a87",
        "outputId": "c01c802b-3f3d-46cc-cc86-01aff59fdfdb"
      },
      "outputs": [
        {
          "name": "stdout",
          "output_type": "stream",
          "text": [
            "Epoch 1) Total loss: 45172.6357421875\n",
            "Epoch 2) Total loss: 32639.70751953125\n"
          ]
        },
        {
          "ename": "KeyboardInterrupt",
          "evalue": "",
          "output_type": "error",
          "traceback": [
            "\u001b[1;31m---------------------------------------------------------------------------\u001b[0m",
            "\u001b[1;31mKeyboardInterrupt\u001b[0m                         Traceback (most recent call last)",
            "\u001b[1;32m~\\AppData\\Local\\Temp\\ipykernel_20348\\3901172720.py\u001b[0m in \u001b[0;36m<module>\u001b[1;34m\u001b[0m\n\u001b[0;32m     18\u001b[0m                                 feed_dict={\n\u001b[0;32m     19\u001b[0m                                     \u001b[0minput_images\u001b[0m\u001b[1;33m:\u001b[0m \u001b[0mX\u001b[0m\u001b[1;33m,\u001b[0m\u001b[1;33m\u001b[0m\u001b[1;33m\u001b[0m\u001b[0m\n\u001b[1;32m---> 20\u001b[1;33m                                     \u001b[0minput_noisy_images\u001b[0m\u001b[1;33m:\u001b[0m \u001b[0mXn\u001b[0m\u001b[1;33m\u001b[0m\u001b[1;33m\u001b[0m\u001b[0m\n\u001b[0m\u001b[0;32m     21\u001b[0m                                 })\n\u001b[0;32m     22\u001b[0m         \u001b[0mtotal_loss\u001b[0m \u001b[1;33m+=\u001b[0m \u001b[0mn_loss\u001b[0m\u001b[1;33m\u001b[0m\u001b[1;33m\u001b[0m\u001b[0m\n",
            "\u001b[1;32mD:\\Backup\\Dropbox\\Jupyter\\venv\\lib\\site-packages\\tensorflow\\python\\client\\session.py\u001b[0m in \u001b[0;36mrun\u001b[1;34m(self, fetches, feed_dict, options, run_metadata)\u001b[0m\n\u001b[0;32m    967\u001b[0m     \u001b[1;32mtry\u001b[0m\u001b[1;33m:\u001b[0m\u001b[1;33m\u001b[0m\u001b[1;33m\u001b[0m\u001b[0m\n\u001b[0;32m    968\u001b[0m       result = self._run(None, fetches, feed_dict, options_ptr,\n\u001b[1;32m--> 969\u001b[1;33m                          run_metadata_ptr)\n\u001b[0m\u001b[0;32m    970\u001b[0m       \u001b[1;32mif\u001b[0m \u001b[0mrun_metadata\u001b[0m\u001b[1;33m:\u001b[0m\u001b[1;33m\u001b[0m\u001b[1;33m\u001b[0m\u001b[0m\n\u001b[0;32m    971\u001b[0m         \u001b[0mproto_data\u001b[0m \u001b[1;33m=\u001b[0m \u001b[0mtf_session\u001b[0m\u001b[1;33m.\u001b[0m\u001b[0mTF_GetBuffer\u001b[0m\u001b[1;33m(\u001b[0m\u001b[0mrun_metadata_ptr\u001b[0m\u001b[1;33m)\u001b[0m\u001b[1;33m\u001b[0m\u001b[1;33m\u001b[0m\u001b[0m\n",
            "\u001b[1;32mD:\\Backup\\Dropbox\\Jupyter\\venv\\lib\\site-packages\\tensorflow\\python\\client\\session.py\u001b[0m in \u001b[0;36m_run\u001b[1;34m(self, handle, fetches, feed_dict, options, run_metadata)\u001b[0m\n\u001b[0;32m   1190\u001b[0m     \u001b[1;32mif\u001b[0m \u001b[0mfinal_fetches\u001b[0m \u001b[1;32mor\u001b[0m \u001b[0mfinal_targets\u001b[0m \u001b[1;32mor\u001b[0m \u001b[1;33m(\u001b[0m\u001b[0mhandle\u001b[0m \u001b[1;32mand\u001b[0m \u001b[0mfeed_dict_tensor\u001b[0m\u001b[1;33m)\u001b[0m\u001b[1;33m:\u001b[0m\u001b[1;33m\u001b[0m\u001b[1;33m\u001b[0m\u001b[0m\n\u001b[0;32m   1191\u001b[0m       results = self._do_run(handle, final_targets, final_fetches,\n\u001b[1;32m-> 1192\u001b[1;33m                              feed_dict_tensor, options, run_metadata)\n\u001b[0m\u001b[0;32m   1193\u001b[0m     \u001b[1;32melse\u001b[0m\u001b[1;33m:\u001b[0m\u001b[1;33m\u001b[0m\u001b[1;33m\u001b[0m\u001b[0m\n\u001b[0;32m   1194\u001b[0m       \u001b[0mresults\u001b[0m \u001b[1;33m=\u001b[0m \u001b[1;33m[\u001b[0m\u001b[1;33m]\u001b[0m\u001b[1;33m\u001b[0m\u001b[1;33m\u001b[0m\u001b[0m\n",
            "\u001b[1;32mD:\\Backup\\Dropbox\\Jupyter\\venv\\lib\\site-packages\\tensorflow\\python\\client\\session.py\u001b[0m in \u001b[0;36m_do_run\u001b[1;34m(self, handle, target_list, fetch_list, feed_dict, options, run_metadata)\u001b[0m\n\u001b[0;32m   1370\u001b[0m     \u001b[1;32mif\u001b[0m \u001b[0mhandle\u001b[0m \u001b[1;32mis\u001b[0m \u001b[1;32mNone\u001b[0m\u001b[1;33m:\u001b[0m\u001b[1;33m\u001b[0m\u001b[1;33m\u001b[0m\u001b[0m\n\u001b[0;32m   1371\u001b[0m       return self._do_call(_run_fn, feeds, fetches, targets, options,\n\u001b[1;32m-> 1372\u001b[1;33m                            run_metadata)\n\u001b[0m\u001b[0;32m   1373\u001b[0m     \u001b[1;32melse\u001b[0m\u001b[1;33m:\u001b[0m\u001b[1;33m\u001b[0m\u001b[1;33m\u001b[0m\u001b[0m\n\u001b[0;32m   1374\u001b[0m       \u001b[1;32mreturn\u001b[0m \u001b[0mself\u001b[0m\u001b[1;33m.\u001b[0m\u001b[0m_do_call\u001b[0m\u001b[1;33m(\u001b[0m\u001b[0m_prun_fn\u001b[0m\u001b[1;33m,\u001b[0m \u001b[0mhandle\u001b[0m\u001b[1;33m,\u001b[0m \u001b[0mfeeds\u001b[0m\u001b[1;33m,\u001b[0m \u001b[0mfetches\u001b[0m\u001b[1;33m)\u001b[0m\u001b[1;33m\u001b[0m\u001b[1;33m\u001b[0m\u001b[0m\n",
            "\u001b[1;32mD:\\Backup\\Dropbox\\Jupyter\\venv\\lib\\site-packages\\tensorflow\\python\\client\\session.py\u001b[0m in \u001b[0;36m_do_call\u001b[1;34m(self, fn, *args)\u001b[0m\n\u001b[0;32m   1376\u001b[0m   \u001b[1;32mdef\u001b[0m \u001b[0m_do_call\u001b[0m\u001b[1;33m(\u001b[0m\u001b[0mself\u001b[0m\u001b[1;33m,\u001b[0m \u001b[0mfn\u001b[0m\u001b[1;33m,\u001b[0m \u001b[1;33m*\u001b[0m\u001b[0margs\u001b[0m\u001b[1;33m)\u001b[0m\u001b[1;33m:\u001b[0m\u001b[1;33m\u001b[0m\u001b[1;33m\u001b[0m\u001b[0m\n\u001b[0;32m   1377\u001b[0m     \u001b[1;32mtry\u001b[0m\u001b[1;33m:\u001b[0m\u001b[1;33m\u001b[0m\u001b[1;33m\u001b[0m\u001b[0m\n\u001b[1;32m-> 1378\u001b[1;33m       \u001b[1;32mreturn\u001b[0m \u001b[0mfn\u001b[0m\u001b[1;33m(\u001b[0m\u001b[1;33m*\u001b[0m\u001b[0margs\u001b[0m\u001b[1;33m)\u001b[0m\u001b[1;33m\u001b[0m\u001b[1;33m\u001b[0m\u001b[0m\n\u001b[0m\u001b[0;32m   1379\u001b[0m     \u001b[1;32mexcept\u001b[0m \u001b[0merrors\u001b[0m\u001b[1;33m.\u001b[0m\u001b[0mOpError\u001b[0m \u001b[1;32mas\u001b[0m \u001b[0me\u001b[0m\u001b[1;33m:\u001b[0m\u001b[1;33m\u001b[0m\u001b[1;33m\u001b[0m\u001b[0m\n\u001b[0;32m   1380\u001b[0m       \u001b[0mmessage\u001b[0m \u001b[1;33m=\u001b[0m \u001b[0mcompat\u001b[0m\u001b[1;33m.\u001b[0m\u001b[0mas_text\u001b[0m\u001b[1;33m(\u001b[0m\u001b[0me\u001b[0m\u001b[1;33m.\u001b[0m\u001b[0mmessage\u001b[0m\u001b[1;33m)\u001b[0m\u001b[1;33m\u001b[0m\u001b[1;33m\u001b[0m\u001b[0m\n",
            "\u001b[1;32mD:\\Backup\\Dropbox\\Jupyter\\venv\\lib\\site-packages\\tensorflow\\python\\client\\session.py\u001b[0m in \u001b[0;36m_run_fn\u001b[1;34m(feed_dict, fetch_list, target_list, options, run_metadata)\u001b[0m\n\u001b[0;32m   1360\u001b[0m       \u001b[0mself\u001b[0m\u001b[1;33m.\u001b[0m\u001b[0m_extend_graph\u001b[0m\u001b[1;33m(\u001b[0m\u001b[1;33m)\u001b[0m\u001b[1;33m\u001b[0m\u001b[1;33m\u001b[0m\u001b[0m\n\u001b[0;32m   1361\u001b[0m       return self._call_tf_sessionrun(options, feed_dict, fetch_list,\n\u001b[1;32m-> 1362\u001b[1;33m                                       target_list, run_metadata)\n\u001b[0m\u001b[0;32m   1363\u001b[0m \u001b[1;33m\u001b[0m\u001b[0m\n\u001b[0;32m   1364\u001b[0m     \u001b[1;32mdef\u001b[0m \u001b[0m_prun_fn\u001b[0m\u001b[1;33m(\u001b[0m\u001b[0mhandle\u001b[0m\u001b[1;33m,\u001b[0m \u001b[0mfeed_dict\u001b[0m\u001b[1;33m,\u001b[0m \u001b[0mfetch_list\u001b[0m\u001b[1;33m)\u001b[0m\u001b[1;33m:\u001b[0m\u001b[1;33m\u001b[0m\u001b[1;33m\u001b[0m\u001b[0m\n",
            "\u001b[1;32mD:\\Backup\\Dropbox\\Jupyter\\venv\\lib\\site-packages\\tensorflow\\python\\client\\session.py\u001b[0m in \u001b[0;36m_call_tf_sessionrun\u001b[1;34m(self, options, feed_dict, fetch_list, target_list, run_metadata)\u001b[0m\n\u001b[0;32m   1454\u001b[0m     return tf_session.TF_SessionRun_wrapper(self._session, options, feed_dict,\n\u001b[0;32m   1455\u001b[0m                                             \u001b[0mfetch_list\u001b[0m\u001b[1;33m,\u001b[0m \u001b[0mtarget_list\u001b[0m\u001b[1;33m,\u001b[0m\u001b[1;33m\u001b[0m\u001b[1;33m\u001b[0m\u001b[0m\n\u001b[1;32m-> 1456\u001b[1;33m                                             run_metadata)\n\u001b[0m\u001b[0;32m   1457\u001b[0m \u001b[1;33m\u001b[0m\u001b[0m\n\u001b[0;32m   1458\u001b[0m   \u001b[1;32mdef\u001b[0m \u001b[0m_call_tf_sessionprun\u001b[0m\u001b[1;33m(\u001b[0m\u001b[0mself\u001b[0m\u001b[1;33m,\u001b[0m \u001b[0mhandle\u001b[0m\u001b[1;33m,\u001b[0m \u001b[0mfeed_dict\u001b[0m\u001b[1;33m,\u001b[0m \u001b[0mfetch_list\u001b[0m\u001b[1;33m)\u001b[0m\u001b[1;33m:\u001b[0m\u001b[1;33m\u001b[0m\u001b[1;33m\u001b[0m\u001b[0m\n",
            "\u001b[1;31mKeyboardInterrupt\u001b[0m: "
          ]
        }
      ],
      "source": [
        "import numpy as np\n",
        "import tensorflow.compat.v1 as tf\n",
        "tf.disable_v2_behavior()\n",
        "\n",
        "\n",
        "session = tf.InteractiveSession(graph=graph)\n",
        "tf.global_variables_initializer().run()\n",
        "\n",
        "for e in range(nb_epochs):\n",
        "    total_loss = 0.0\n",
        "\n",
        "    for i in range(0, nb_samples - batch_size, batch_size):\n",
        "        X = np.zeros((batch_size, width, height, 1), dtype=np.float32)\n",
        "        X[:, :, :, 0] = X_train[i:i + batch_size, :, :]\n",
        "        Xn = np.clip(X + np.random.normal(0.0, 0.2, size=(batch_size, width, height, 1)), 0.0, 1.0)\n",
        "\n",
        "        _, n_loss = session.run([training_step, loss],\n",
        "                                feed_dict={\n",
        "                                    input_images: X,\n",
        "                                    input_noisy_images: Xn\n",
        "                                })\n",
        "        total_loss += n_loss\n",
        "\n",
        "    print('Epoch {}) Total loss: {}'.format(e + 1, total_loss))"
      ]
    },
    {
      "cell_type": "code",
      "execution_count": null,
      "id": "475da81e",
      "metadata": {
        "id": "475da81e",
        "outputId": "9bc217a2-5123-40c2-e84b-ebe5c73e7eee"
      },
      "outputs": [
        {
          "name": "stdout",
          "output_type": "stream",
          "text": [
            "0.6577547\n"
          ]
        }
      ],
      "source": [
        "import numpy as np\n",
        "\n",
        "\n",
        "#Generate Noisy dataset\n",
        "X = np.zeros((len(X_train), width, height, 1), dtype=np.float32)\n",
        "X[:, :, :, 0] = X_train\n",
        "Xn = np.clip(X + np.random.normal(0.0, 0.2, size=(len(X), width, height, 1)), 0.0, 1.0)\n",
        "\n",
        "\n",
        "codes = session.run([code_layer],\n",
        "                    feed_dict={\n",
        "                        input_noisy_images: Xn\n",
        "                    })[0]\n",
        "\n",
        "print(np.mean(codes))"
      ]
    },
    {
      "cell_type": "code",
      "execution_count": null,
      "id": "8d5bdb7b",
      "metadata": {
        "id": "8d5bdb7b"
      },
      "outputs": [],
      "source": [
        "import numpy as np\n",
        "\n",
        "Xs = np.reshape(Xn[0:10], (10, width, height, 1))\n",
        "\n",
        "Ys = session.run([convt_3],\n",
        "                 feed_dict={\n",
        "                     input_noisy_images: Xs\n",
        "                })\n",
        "\n",
        "Ys = np.squeeze(Ys[0] * 255.0)"
      ]
    },
    {
      "cell_type": "code",
      "execution_count": null,
      "id": "3a5274fe",
      "metadata": {
        "id": "3a5274fe",
        "outputId": "2e3f1e6f-64e3-4b62-817b-7c5572b88e71"
      },
      "outputs": [
        {
          "data": {
            "image/png": "[encoded data removed]",
            "text/plain": [
              "<PIL.Image.Image image mode=RGB size=28x28>"
            ]
          },
          "metadata": {},
          "output_type": "display_data"
        },
        {
          "data": {
            "image/png": "[encoded data removed]",
            "text/plain": [
              "<PIL.Image.Image image mode=RGB size=28x28>"
            ]
          },
          "metadata": {},
          "output_type": "display_data"
        },
        {
          "data": {
            "image/png": "[encoded data removed]",
            "text/plain": [
              "<PIL.Image.Image image mode=RGB size=28x28>"
            ]
          },
          "metadata": {},
          "output_type": "display_data"
        },
        {
          "data": {
            "image/png": "[encoded data removed]",
            "text/plain": [
              "<PIL.Image.Image image mode=RGB size=28x28>"
            ]
          },
          "metadata": {},
          "output_type": "display_data"
        },
        {
          "data": {
            "image/png": "[encoded data removed]",
            "text/plain": [
              "<PIL.Image.Image image mode=RGB size=28x28>"
            ]
          },
          "metadata": {},
          "output_type": "display_data"
        },
        {
          "data": {
            "image/png": "[encoded data removed]",
            "text/plain": [
              "<PIL.Image.Image image mode=RGB size=28x28>"
            ]
          },
          "metadata": {},
          "output_type": "display_data"
        },
        {
          "data": {
            "image/png": "[encoded data removed]",
            "text/plain": [
              "<PIL.Image.Image image mode=RGB size=28x28>"
            ]
          },
          "metadata": {},
          "output_type": "display_data"
        },
        {
          "data": {
            "image/png": "[encoded data removed]",
            "text/plain": [
              "<PIL.Image.Image image mode=RGB size=28x28>"
            ]
          },
          "metadata": {},
          "output_type": "display_data"
        },
        {
          "data": {
            "image/png": "[encoded data removed]",
            "text/plain": [
              "<PIL.Image.Image image mode=RGB size=28x28>"
            ]
          },
          "metadata": {},
          "output_type": "display_data"
        },
        {
          "data": {
            "image/png": "[encoded data removed]",
            "text/plain": [
              "<PIL.Image.Image image mode=RGB size=28x28>"
            ]
          },
          "metadata": {},
          "output_type": "display_data"
        },
        {
          "data": {
            "image/png": "[encoded data removed]",
            "text/plain": [
              "<PIL.Image.Image image mode=RGB size=28x28>"
            ]
          },
          "metadata": {},
          "output_type": "display_data"
        },
        {
          "data": {
            "image/png": "[encoded data removed]",
            "text/plain": [
              "<PIL.Image.Image image mode=RGB size=28x28>"
            ]
          },
          "metadata": {},
          "output_type": "display_data"
        },
        {
          "data": {
            "image/png": "[encoded data removed]",
            "text/plain": [
              "<PIL.Image.Image image mode=RGB size=28x28>"
            ]
          },
          "metadata": {},
          "output_type": "display_data"
        },
        {
          "data": {
            "image/png": "[encoded data removed]",
            "text/plain": [
              "<PIL.Image.Image image mode=RGB size=28x28>"
            ]
          },
          "metadata": {},
          "output_type": "display_data"
        },
        {
          "data": {
            "image/png": "[encoded data removed]",
            "text/plain": [
              "<PIL.Image.Image image mode=RGB size=28x28>"
            ]
          },
          "metadata": {},
          "output_type": "display_data"
        },
        {
          "data": {
            "image/png": "[encoded data removed]",
            "text/plain": [
              "<PIL.Image.Image image mode=RGB size=28x28>"
            ]
          },
          "metadata": {},
          "output_type": "display_data"
        },
        {
          "data": {
            "image/png": "[encoded data removed]",
            "text/plain": [
              "<PIL.Image.Image image mode=RGB size=28x28>"
            ]
          },
          "metadata": {},
          "output_type": "display_data"
        },
        {
          "data": {
            "image/png": "[encoded data removed]",
            "text/plain": [
              "<PIL.Image.Image image mode=RGB size=28x28>"
            ]
          },
          "metadata": {},
          "output_type": "display_data"
        },
        {
          "data": {
            "image/png": "[encoded data removed]",
            "text/plain": [
              "<PIL.Image.Image image mode=RGB size=28x28>"
            ]
          },
          "metadata": {},
          "output_type": "display_data"
        },
        {
          "data": {
            "image/png": "[encoded data removed]",
            "text/plain": [
              "<PIL.Image.Image image mode=RGB size=28x28>"
            ]
          },
          "metadata": {},
          "output_type": "display_data"
        }
      ],
      "source": [
        "for i in range(0,10):\n",
        "    im = Image.fromarray(X_train[i] * 255.0)\n",
        "    if im.mode != 'RGB':\n",
        "        im = im.convert('RGB')\n",
        "    IPython.display.display(im)\n",
        "\n",
        "    im = Image.fromarray(Ys[i])\n",
        "    if im.mode != 'RGB':\n",
        "        im = im.convert('RGB')\n",
        "    IPython.display.display(im)"
      ]
    },
    {
      "cell_type": "markdown",
      "id": "62827e17",
      "metadata": {
        "id": "62827e17"
      },
      "source": [
        "### Sparse autoencoder"
      ]
    },
    {
      "cell_type": "code",
      "execution_count": null,
      "id": "94262c3c",
      "metadata": {
        "id": "94262c3c"
      },
      "outputs": [],
      "source": [
        "import numpy as np\n",
        "\n",
        "from keras.datasets import fashion_mnist\n",
        "\n",
        "(X_train, _), (_, _) = fashion_mnist.load_data()\n",
        "\n",
        "nb_samples = 1000\n",
        "nb_epochs = 400\n",
        "batch_size = 200\n",
        "code_length = 256\n",
        "\n",
        "X_train = X_train.astype(np.float32)[0:nb_samples] / 255.0\n",
        "\n",
        "width = X_train.shape[1]\n",
        "height = X_train.shape[2]"
      ]
    },
    {
      "cell_type": "code",
      "execution_count": null,
      "id": "f10cf881",
      "metadata": {
        "id": "f10cf881"
      },
      "outputs": [],
      "source": [
        "from keras.layers import Dense, Flatten, Conv2D,Conv2DTranspose\n",
        "import tensorflow.compat.v1 as tf\n",
        "tf.disable_v2_behavior()\n",
        "\n",
        "graph = tf.Graph()\n",
        "\n",
        "with graph.as_default():\n",
        "    input_images = tf.placeholder(tf.float32, shape=(None, width, height, 1))\n",
        "\n",
        "    r_input_images = tf.image.resize_images(input_images, (32, 32))\n",
        "\n",
        "    # Encoder\n",
        "    conv_0 = Conv2D(filters=32,\n",
        "                      kernel_size=(3, 3),\n",
        "                      strides=(2, 2),\n",
        "                      activation=tf.nn.relu,\n",
        "                      padding='same')(r_input_images)\n",
        "\n",
        "    conv_1 = Conv2D(filters=64,\n",
        "                      kernel_size=(3, 3),\n",
        "                      activation=tf.nn.relu,\n",
        "                      padding='same')(conv_0)\n",
        "\n",
        "    conv_2 = Conv2D(filters=128,\n",
        "                      kernel_size=(3, 3),\n",
        "                      activation=tf.nn.relu,\n",
        "                      padding='same')(conv_1)\n",
        "\n",
        "    # Code layer\n",
        "    code_input = Flatten()(conv_2)\n",
        "\n",
        "    code_layer = Dense(units=code_length,\n",
        "                         activation=tf.nn.sigmoid)(code_input)\n",
        "\n",
        "    # Decoder\n",
        "    decoder_input = tf.reshape(code_layer, (-1, 16, 16, 1))\n",
        "\n",
        "    convt_0 = Conv2DTranspose(filters=128,\n",
        "                                 kernel_size=(3, 3),\n",
        "                                 strides=(2, 2),\n",
        "                                 activation=tf.nn.relu,\n",
        "                                 padding='same')(decoder_input)\n",
        "\n",
        "    convt_1 = Conv2DTranspose(filters=64,\n",
        "                                 kernel_size=(3, 3),\n",
        "                                 activation=tf.nn.relu,\n",
        "                                 padding='same')(convt_0)\n",
        "\n",
        "    convt_2 = Conv2DTranspose(filters=32,\n",
        "                                 kernel_size=(3, 3),\n",
        "                                 activation=tf.nn.relu,\n",
        "                                 padding='same')(convt_1)\n",
        "\n",
        "    convt_3 = Conv2DTranspose(filters=1,\n",
        "                                 kernel_size=(3, 3),\n",
        "                                 activation=tf.sigmoid,\n",
        "                                 padding='same')(convt_2)\n",
        "\n",
        "    # Loss\n",
        "    sparsity_constraint = tf.reduce_sum(0.001 * tf.norm(code_layer, ord=1, axis=1))\n",
        "    loss = tf.nn.l2_loss(convt_3 - r_input_images) + sparsity_constraint\n",
        "\n",
        "\n",
        "    # Training step\n",
        "    training_step = tf.train.AdamOptimizer(0.001).minimize(loss)"
      ]
    },
    {
      "cell_type": "code",
      "execution_count": null,
      "id": "56983afb",
      "metadata": {
        "scrolled": true,
        "id": "56983afb",
        "outputId": "b941c5d0-4a3d-4ad3-8b80-e0f22c06f8c2"
      },
      "outputs": [
        {
          "name": "stdout",
          "output_type": "stream",
          "text": [
            "Epoch 1) Total loss: 60323.5048828125\n",
            "Epoch 2) Total loss: 39640.9921875\n",
            "Epoch 3) Total loss: 36335.1806640625\n"
          ]
        },
        {
          "ename": "KeyboardInterrupt",
          "evalue": "",
          "output_type": "error",
          "traceback": [
            "\u001b[1;31m---------------------------------------------------------------------------\u001b[0m",
            "\u001b[1;31mKeyboardInterrupt\u001b[0m                         Traceback (most recent call last)",
            "\u001b[1;32m~\\AppData\\Local\\Temp\\ipykernel_20348\\137464787.py\u001b[0m in \u001b[0;36m<module>\u001b[1;34m\u001b[0m\n\u001b[0;32m     17\u001b[0m         _, n_loss = session.run([training_step, loss], \n\u001b[0;32m     18\u001b[0m                                 feed_dict={\n\u001b[1;32m---> 19\u001b[1;33m                                     \u001b[0minput_images\u001b[0m\u001b[1;33m:\u001b[0m \u001b[0mX\u001b[0m\u001b[1;33m\u001b[0m\u001b[1;33m\u001b[0m\u001b[0m\n\u001b[0m\u001b[0;32m     20\u001b[0m                                 })\n\u001b[0;32m     21\u001b[0m         \u001b[0mtotal_loss\u001b[0m \u001b[1;33m+=\u001b[0m \u001b[0mn_loss\u001b[0m\u001b[1;33m\u001b[0m\u001b[1;33m\u001b[0m\u001b[0m\n",
            "\u001b[1;32mD:\\Backup\\Dropbox\\Jupyter\\venv\\lib\\site-packages\\tensorflow\\python\\client\\session.py\u001b[0m in \u001b[0;36mrun\u001b[1;34m(self, fetches, feed_dict, options, run_metadata)\u001b[0m\n\u001b[0;32m    967\u001b[0m     \u001b[1;32mtry\u001b[0m\u001b[1;33m:\u001b[0m\u001b[1;33m\u001b[0m\u001b[1;33m\u001b[0m\u001b[0m\n\u001b[0;32m    968\u001b[0m       result = self._run(None, fetches, feed_dict, options_ptr,\n\u001b[1;32m--> 969\u001b[1;33m                          run_metadata_ptr)\n\u001b[0m\u001b[0;32m    970\u001b[0m       \u001b[1;32mif\u001b[0m \u001b[0mrun_metadata\u001b[0m\u001b[1;33m:\u001b[0m\u001b[1;33m\u001b[0m\u001b[1;33m\u001b[0m\u001b[0m\n\u001b[0;32m    971\u001b[0m         \u001b[0mproto_data\u001b[0m \u001b[1;33m=\u001b[0m \u001b[0mtf_session\u001b[0m\u001b[1;33m.\u001b[0m\u001b[0mTF_GetBuffer\u001b[0m\u001b[1;33m(\u001b[0m\u001b[0mrun_metadata_ptr\u001b[0m\u001b[1;33m)\u001b[0m\u001b[1;33m\u001b[0m\u001b[1;33m\u001b[0m\u001b[0m\n",
            "\u001b[1;32mD:\\Backup\\Dropbox\\Jupyter\\venv\\lib\\site-packages\\tensorflow\\python\\client\\session.py\u001b[0m in \u001b[0;36m_run\u001b[1;34m(self, handle, fetches, feed_dict, options, run_metadata)\u001b[0m\n\u001b[0;32m   1190\u001b[0m     \u001b[1;32mif\u001b[0m \u001b[0mfinal_fetches\u001b[0m \u001b[1;32mor\u001b[0m \u001b[0mfinal_targets\u001b[0m \u001b[1;32mor\u001b[0m \u001b[1;33m(\u001b[0m\u001b[0mhandle\u001b[0m \u001b[1;32mand\u001b[0m \u001b[0mfeed_dict_tensor\u001b[0m\u001b[1;33m)\u001b[0m\u001b[1;33m:\u001b[0m\u001b[1;33m\u001b[0m\u001b[1;33m\u001b[0m\u001b[0m\n\u001b[0;32m   1191\u001b[0m       results = self._do_run(handle, final_targets, final_fetches,\n\u001b[1;32m-> 1192\u001b[1;33m                              feed_dict_tensor, options, run_metadata)\n\u001b[0m\u001b[0;32m   1193\u001b[0m     \u001b[1;32melse\u001b[0m\u001b[1;33m:\u001b[0m\u001b[1;33m\u001b[0m\u001b[1;33m\u001b[0m\u001b[0m\n\u001b[0;32m   1194\u001b[0m       \u001b[0mresults\u001b[0m \u001b[1;33m=\u001b[0m \u001b[1;33m[\u001b[0m\u001b[1;33m]\u001b[0m\u001b[1;33m\u001b[0m\u001b[1;33m\u001b[0m\u001b[0m\n",
            "\u001b[1;32mD:\\Backup\\Dropbox\\Jupyter\\venv\\lib\\site-packages\\tensorflow\\python\\client\\session.py\u001b[0m in \u001b[0;36m_do_run\u001b[1;34m(self, handle, target_list, fetch_list, feed_dict, options, run_metadata)\u001b[0m\n\u001b[0;32m   1370\u001b[0m     \u001b[1;32mif\u001b[0m \u001b[0mhandle\u001b[0m \u001b[1;32mis\u001b[0m \u001b[1;32mNone\u001b[0m\u001b[1;33m:\u001b[0m\u001b[1;33m\u001b[0m\u001b[1;33m\u001b[0m\u001b[0m\n\u001b[0;32m   1371\u001b[0m       return self._do_call(_run_fn, feeds, fetches, targets, options,\n\u001b[1;32m-> 1372\u001b[1;33m                            run_metadata)\n\u001b[0m\u001b[0;32m   1373\u001b[0m     \u001b[1;32melse\u001b[0m\u001b[1;33m:\u001b[0m\u001b[1;33m\u001b[0m\u001b[1;33m\u001b[0m\u001b[0m\n\u001b[0;32m   1374\u001b[0m       \u001b[1;32mreturn\u001b[0m \u001b[0mself\u001b[0m\u001b[1;33m.\u001b[0m\u001b[0m_do_call\u001b[0m\u001b[1;33m(\u001b[0m\u001b[0m_prun_fn\u001b[0m\u001b[1;33m,\u001b[0m \u001b[0mhandle\u001b[0m\u001b[1;33m,\u001b[0m \u001b[0mfeeds\u001b[0m\u001b[1;33m,\u001b[0m \u001b[0mfetches\u001b[0m\u001b[1;33m)\u001b[0m\u001b[1;33m\u001b[0m\u001b[1;33m\u001b[0m\u001b[0m\n",
            "\u001b[1;32mD:\\Backup\\Dropbox\\Jupyter\\venv\\lib\\site-packages\\tensorflow\\python\\client\\session.py\u001b[0m in \u001b[0;36m_do_call\u001b[1;34m(self, fn, *args)\u001b[0m\n\u001b[0;32m   1376\u001b[0m   \u001b[1;32mdef\u001b[0m \u001b[0m_do_call\u001b[0m\u001b[1;33m(\u001b[0m\u001b[0mself\u001b[0m\u001b[1;33m,\u001b[0m \u001b[0mfn\u001b[0m\u001b[1;33m,\u001b[0m \u001b[1;33m*\u001b[0m\u001b[0margs\u001b[0m\u001b[1;33m)\u001b[0m\u001b[1;33m:\u001b[0m\u001b[1;33m\u001b[0m\u001b[1;33m\u001b[0m\u001b[0m\n\u001b[0;32m   1377\u001b[0m     \u001b[1;32mtry\u001b[0m\u001b[1;33m:\u001b[0m\u001b[1;33m\u001b[0m\u001b[1;33m\u001b[0m\u001b[0m\n\u001b[1;32m-> 1378\u001b[1;33m       \u001b[1;32mreturn\u001b[0m \u001b[0mfn\u001b[0m\u001b[1;33m(\u001b[0m\u001b[1;33m*\u001b[0m\u001b[0margs\u001b[0m\u001b[1;33m)\u001b[0m\u001b[1;33m\u001b[0m\u001b[1;33m\u001b[0m\u001b[0m\n\u001b[0m\u001b[0;32m   1379\u001b[0m     \u001b[1;32mexcept\u001b[0m \u001b[0merrors\u001b[0m\u001b[1;33m.\u001b[0m\u001b[0mOpError\u001b[0m \u001b[1;32mas\u001b[0m \u001b[0me\u001b[0m\u001b[1;33m:\u001b[0m\u001b[1;33m\u001b[0m\u001b[1;33m\u001b[0m\u001b[0m\n\u001b[0;32m   1380\u001b[0m       \u001b[0mmessage\u001b[0m \u001b[1;33m=\u001b[0m \u001b[0mcompat\u001b[0m\u001b[1;33m.\u001b[0m\u001b[0mas_text\u001b[0m\u001b[1;33m(\u001b[0m\u001b[0me\u001b[0m\u001b[1;33m.\u001b[0m\u001b[0mmessage\u001b[0m\u001b[1;33m)\u001b[0m\u001b[1;33m\u001b[0m\u001b[1;33m\u001b[0m\u001b[0m\n",
            "\u001b[1;32mD:\\Backup\\Dropbox\\Jupyter\\venv\\lib\\site-packages\\tensorflow\\python\\client\\session.py\u001b[0m in \u001b[0;36m_run_fn\u001b[1;34m(feed_dict, fetch_list, target_list, options, run_metadata)\u001b[0m\n\u001b[0;32m   1360\u001b[0m       \u001b[0mself\u001b[0m\u001b[1;33m.\u001b[0m\u001b[0m_extend_graph\u001b[0m\u001b[1;33m(\u001b[0m\u001b[1;33m)\u001b[0m\u001b[1;33m\u001b[0m\u001b[1;33m\u001b[0m\u001b[0m\n\u001b[0;32m   1361\u001b[0m       return self._call_tf_sessionrun(options, feed_dict, fetch_list,\n\u001b[1;32m-> 1362\u001b[1;33m                                       target_list, run_metadata)\n\u001b[0m\u001b[0;32m   1363\u001b[0m \u001b[1;33m\u001b[0m\u001b[0m\n\u001b[0;32m   1364\u001b[0m     \u001b[1;32mdef\u001b[0m \u001b[0m_prun_fn\u001b[0m\u001b[1;33m(\u001b[0m\u001b[0mhandle\u001b[0m\u001b[1;33m,\u001b[0m \u001b[0mfeed_dict\u001b[0m\u001b[1;33m,\u001b[0m \u001b[0mfetch_list\u001b[0m\u001b[1;33m)\u001b[0m\u001b[1;33m:\u001b[0m\u001b[1;33m\u001b[0m\u001b[1;33m\u001b[0m\u001b[0m\n",
            "\u001b[1;32mD:\\Backup\\Dropbox\\Jupyter\\venv\\lib\\site-packages\\tensorflow\\python\\client\\session.py\u001b[0m in \u001b[0;36m_call_tf_sessionrun\u001b[1;34m(self, options, feed_dict, fetch_list, target_list, run_metadata)\u001b[0m\n\u001b[0;32m   1454\u001b[0m     return tf_session.TF_SessionRun_wrapper(self._session, options, feed_dict,\n\u001b[0;32m   1455\u001b[0m                                             \u001b[0mfetch_list\u001b[0m\u001b[1;33m,\u001b[0m \u001b[0mtarget_list\u001b[0m\u001b[1;33m,\u001b[0m\u001b[1;33m\u001b[0m\u001b[1;33m\u001b[0m\u001b[0m\n\u001b[1;32m-> 1456\u001b[1;33m                                             run_metadata)\n\u001b[0m\u001b[0;32m   1457\u001b[0m \u001b[1;33m\u001b[0m\u001b[0m\n\u001b[0;32m   1458\u001b[0m   \u001b[1;32mdef\u001b[0m \u001b[0m_call_tf_sessionprun\u001b[0m\u001b[1;33m(\u001b[0m\u001b[0mself\u001b[0m\u001b[1;33m,\u001b[0m \u001b[0mhandle\u001b[0m\u001b[1;33m,\u001b[0m \u001b[0mfeed_dict\u001b[0m\u001b[1;33m,\u001b[0m \u001b[0mfetch_list\u001b[0m\u001b[1;33m)\u001b[0m\u001b[1;33m:\u001b[0m\u001b[1;33m\u001b[0m\u001b[1;33m\u001b[0m\u001b[0m\n",
            "\u001b[1;31mKeyboardInterrupt\u001b[0m: "
          ]
        }
      ],
      "source": [
        "import numpy as np\n",
        "import tensorflow.compat.v1 as tf\n",
        "tf.disable_v2_behavior()\n",
        "\n",
        "session = tf.InteractiveSession(graph=graph)\n",
        "tf.global_variables_initializer().run()\n",
        "\n",
        "for e in range(nb_epochs):\n",
        "    np.random.shuffle(X_train)\n",
        "\n",
        "    total_loss = 0.0\n",
        "\n",
        "    for i in range(0, nb_samples - batch_size, batch_size):\n",
        "        X = np.zeros((batch_size, width, height, 1), dtype=np.float32)\n",
        "        X[:, :, :, 0] = X_train[i:i + batch_size, :, :]\n",
        "\n",
        "        _, n_loss = session.run([training_step, loss],\n",
        "                                feed_dict={\n",
        "                                    input_images: X\n",
        "                                })\n",
        "        total_loss += n_loss\n",
        "\n",
        "    print('Epoch {}) Total loss: {}'.format(e + 1, total_loss))"
      ]
    },
    {
      "cell_type": "code",
      "execution_count": null,
      "id": "500f2968",
      "metadata": {
        "id": "500f2968",
        "outputId": "6b0abc28-366a-4ba6-a8fd-a8ca1b9d418c"
      },
      "outputs": [
        {
          "name": "stdout",
          "output_type": "stream",
          "text": [
            "0.61094445\n"
          ]
        }
      ],
      "source": [
        "import numpy as np\n",
        "\n",
        "codes = session.run([code_layer],\n",
        "                    feed_dict={\n",
        "                        input_images: np.expand_dims(X_train, axis=3),\n",
        "                    })[0]\n",
        "\n",
        "print(np.mean(codes))"
      ]
    },
    {
      "cell_type": "code",
      "execution_count": null,
      "id": "baabd1e9",
      "metadata": {
        "id": "baabd1e9"
      },
      "outputs": [],
      "source": [
        "import numpy as np\n",
        "\n",
        "Xs = np.reshape(X_train[0:10], (10, width, height, 1))\n",
        "\n",
        "Ys = session.run([convt_3],\n",
        "                 feed_dict={\n",
        "                     input_images: Xs\n",
        "                })\n",
        "\n",
        "Ys = np.squeeze(Ys[0] * 255.0)"
      ]
    },
    {
      "cell_type": "code",
      "execution_count": null,
      "id": "f5dbc8bf",
      "metadata": {
        "id": "f5dbc8bf",
        "outputId": "2008ef74-cd10-4cf3-de99-8c81ca540932"
      },
      "outputs": [
        {
          "data": {
            "image/png": "[encoded data removed]",
            "text/plain": [
              "<PIL.Image.Image image mode=RGB size=28x28>"
            ]
          },
          "metadata": {},
          "output_type": "display_data"
        },
        {
          "data": {
            "image/png": "[encoded data removed]",
            "text/plain": [
              "<PIL.Image.Image image mode=RGB size=32x32>"
            ]
          },
          "metadata": {},
          "output_type": "display_data"
        },
        {
          "data": {
            "image/png": "[encoded data removed]",
            "text/plain": [
              "<PIL.Image.Image image mode=RGB size=28x28>"
            ]
          },
          "metadata": {},
          "output_type": "display_data"
        },
        {
          "data": {
            "image/png": "[encoded data removed]",
            "text/plain": [
              "<PIL.Image.Image image mode=RGB size=32x32>"
            ]
          },
          "metadata": {},
          "output_type": "display_data"
        },
        {
          "data": {
            "image/png": "[encoded data removed]",
            "text/plain": [
              "<PIL.Image.Image image mode=RGB size=28x28>"
            ]
          },
          "metadata": {},
          "output_type": "display_data"
        },
        {
          "data": {
            "image/png": "[encoded data removed]",
            "text/plain": [
              "<PIL.Image.Image image mode=RGB size=32x32>"
            ]
          },
          "metadata": {},
          "output_type": "display_data"
        },
        {
          "data": {
            "image/png": "[encoded data removed]",
            "text/plain": [
              "<PIL.Image.Image image mode=RGB size=28x28>"
            ]
          },
          "metadata": {},
          "output_type": "display_data"
        },
        {
          "data": {
            "image/png": "[encoded data removed]",
            "text/plain": [
              "<PIL.Image.Image image mode=RGB size=32x32>"
            ]
          },
          "metadata": {},
          "output_type": "display_data"
        },
        {
          "data": {
            "image/png": "[encoded data removed]",
            "text/plain": [
              "<PIL.Image.Image image mode=RGB size=28x28>"
            ]
          },
          "metadata": {},
          "output_type": "display_data"
        },
        {
          "data": {
            "image/png": "[encoded data removed]",
            "text/plain": [
              "<PIL.Image.Image image mode=RGB size=32x32>"
            ]
          },
          "metadata": {},
          "output_type": "display_data"
        },
        {
          "data": {
            "image/png": "[encoded data removed]",
            "text/plain": [
              "<PIL.Image.Image image mode=RGB size=28x28>"
            ]
          },
          "metadata": {},
          "output_type": "display_data"
        },
        {
          "data": {
            "image/png": "[encoded data removed]",
            "text/plain": [
              "<PIL.Image.Image image mode=RGB size=32x32>"
            ]
          },
          "metadata": {},
          "output_type": "display_data"
        },
        {
          "data": {
            "image/png": "[encoded data removed]",
            "text/plain": [
              "<PIL.Image.Image image mode=RGB size=28x28>"
            ]
          },
          "metadata": {},
          "output_type": "display_data"
        },
        {
          "data": {
            "image/png": "[encoded data removed]",
            "text/plain": [
              "<PIL.Image.Image image mode=RGB size=32x32>"
            ]
          },
          "metadata": {},
          "output_type": "display_data"
        },
        {
          "data": {
            "image/png": "[encoded data removed]",
            "text/plain": [
              "<PIL.Image.Image image mode=RGB size=28x28>"
            ]
          },
          "metadata": {},
          "output_type": "display_data"
        },
        {
          "data": {
            "image/png": "[encoded data removed]",
            "text/plain": [
              "<PIL.Image.Image image mode=RGB size=32x32>"
            ]
          },
          "metadata": {},
          "output_type": "display_data"
        },
        {
          "data": {
            "image/png": "[encoded data removed]",
            "text/plain": [
              "<PIL.Image.Image image mode=RGB size=28x28>"
            ]
          },
          "metadata": {},
          "output_type": "display_data"
        },
        {
          "data": {
            "image/png": "[encoded data removed]",
            "text/plain": [
              "<PIL.Image.Image image mode=RGB size=32x32>"
            ]
          },
          "metadata": {},
          "output_type": "display_data"
        },
        {
          "data": {
            "image/png": "[encoded data removed]",
            "text/plain": [
              "<PIL.Image.Image image mode=RGB size=28x28>"
            ]
          },
          "metadata": {},
          "output_type": "display_data"
        },
        {
          "data": {
            "image/png": "[encoded data removed]",
            "text/plain": [
              "<PIL.Image.Image image mode=RGB size=32x32>"
            ]
          },
          "metadata": {},
          "output_type": "display_data"
        }
      ],
      "source": [
        "for i in range(0,10):\n",
        "    im = Image.fromarray(X_train[i] * 255.0)\n",
        "    if im.mode != 'RGB':\n",
        "        im = im.convert('RGB')\n",
        "    IPython.display.display(im)\n",
        "\n",
        "    im = Image.fromarray(Ys[i])\n",
        "    if im.mode != 'RGB':\n",
        "        im = im.convert('RGB')\n",
        "    IPython.display.display(im)"
      ]
    },
    {
      "cell_type": "markdown",
      "id": "c1fd3ce8",
      "metadata": {
        "id": "c1fd3ce8"
      },
      "source": [
        "### GAN"
      ]
    },
    {
      "cell_type": "code",
      "execution_count": null,
      "id": "31a09515",
      "metadata": {
        "id": "31a09515"
      },
      "outputs": [],
      "source": [
        "import numpy as np\n",
        "\n",
        "from keras.datasets import fashion_mnist\n",
        "\n",
        "nb_samples = 5000\n",
        "\n",
        "(X_train, _), (_, _) = fashion_mnist.load_data()\n",
        "X_train = X_train.astype(np.float32)[0:nb_samples] / 255.0\n",
        "X_train = (2.0 * X_train) - 1.0\n",
        "\n",
        "width = X_train.shape[1]\n",
        "height = X_train.shape[2]"
      ]
    },
    {
      "cell_type": "markdown",
      "id": "f93c9672",
      "metadata": {
        "id": "f93c9672"
      },
      "source": [
        "#### DCGAN"
      ]
    },
    {
      "cell_type": "code",
      "execution_count": null,
      "id": "af2dc61d",
      "metadata": {
        "id": "af2dc61d"
      },
      "outputs": [],
      "source": [
        "import tensorflow as tf\n",
        "from keras.layers import Dense, Flatten, Conv2D,Conv2DTranspose, BatchNormalization\n",
        "\n",
        "def generator(z, is_training=True):\n",
        "    with tf.variable_scope('generator'):\n",
        "        conv_0 = Conv2DTranspose(filters=1024,\n",
        "                                            kernel_size=(4, 4),\n",
        "                                            padding='valid')(z)\n",
        "\n",
        "        b_conv_0 = BatchNormalization()(conv_0,training=is_training)\n",
        "\n",
        "        conv_1 = Conv2DTranspose(filters=512,\n",
        "                                            kernel_size=(4, 4),\n",
        "                                            strides=(2, 2),\n",
        "                                            padding='same')(tf.nn.leaky_relu(b_conv_0))\n",
        "\n",
        "        b_conv_1 = BatchNormalization()(conv_1,training=is_training)\n",
        "\n",
        "        conv_2 = Conv2DTranspose(filters=256,\n",
        "                                            kernel_size=(4, 4),\n",
        "                                            strides=(2, 2),\n",
        "                                            padding='same')(tf.nn.leaky_relu(b_conv_1))\n",
        "\n",
        "        b_conv_2 = BatchNormalization()(conv_2,training=is_training)\n",
        "\n",
        "        conv_3 = Conv2DTranspose(filters=128,\n",
        "                                            kernel_size=(4, 4),\n",
        "                                            strides=(2, 2),\n",
        "                                            padding='same')(tf.nn.leaky_relu(b_conv_2))\n",
        "\n",
        "        b_conv_3 = BatchNormalization()(conv_3,training=is_training)\n",
        "\n",
        "        conv_4 = Conv2DTranspose(filters=1,\n",
        "                                            kernel_size=(4, 4),\n",
        "                                            strides=(2, 2),\n",
        "                                            padding='same')(tf.nn.leaky_relu(b_conv_3))\n",
        "\n",
        "        return tf.nn.tanh(conv_4)"
      ]
    },
    {
      "cell_type": "code",
      "execution_count": null,
      "id": "40fdd81b",
      "metadata": {
        "id": "40fdd81b"
      },
      "outputs": [],
      "source": [
        "import tensorflow as tf\n",
        "from keras.layers import Dense, Flatten, Conv2D,Conv2DTranspose, BatchNormalization\n",
        "\n",
        "def discriminator(x, is_training=True, reuse_variables=True):\n",
        "    with tf.variable_scope('discriminator', reuse=reuse_variables):\n",
        "        conv_0 = Conv2D(filters=128,\n",
        "                                  kernel_size=(4, 4),\n",
        "                                  strides=(2, 2),\n",
        "                                  padding='same')(x)\n",
        "\n",
        "        conv_1 = Conv2D(filters=256,\n",
        "                                  kernel_size=(4, 4),\n",
        "                                  strides=(2, 2),\n",
        "                                  padding='same')(tf.nn.leaky_relu(conv_0))\n",
        "\n",
        "        b_conv_1 = BatchNormalization()(conv_1, training=is_training)\n",
        "\n",
        "        conv_2 = Conv2D(filters=512,\n",
        "                                  kernel_size=(4, 4),\n",
        "                                  strides=(2, 2),\n",
        "                                  padding='same')(tf.nn.leaky_relu(b_conv_1))\n",
        "\n",
        "        b_conv_2 = BatchNormalization()(conv_2, training=is_training)\n",
        "\n",
        "        conv_3 = Conv2D(filters=1024,\n",
        "                                  kernel_size=(4, 4),\n",
        "                                  strides=(2, 2),\n",
        "                                  padding='same')(tf.nn.leaky_relu(b_conv_2))\n",
        "\n",
        "        b_conv_3 = BatchNormalization()(conv_3, training=is_training)\n",
        "\n",
        "        conv_4 = Conv2D(filters=1,\n",
        "                                  kernel_size=(4, 4),\n",
        "                                  padding='valid')(tf.nn.leaky_relu(b_conv_3))\n",
        "\n",
        "        return conv_4"
      ]
    },
    {
      "cell_type": "code",
      "execution_count": null,
      "id": "32409267",
      "metadata": {
        "id": "32409267",
        "outputId": "488c2e7e-3371-45c4-d73d-8e3d3646cae3"
      },
      "outputs": [
        {
          "name": "stdout",
          "output_type": "stream",
          "text": [
            "WARNING:tensorflow:From D:\\Backup\\Dropbox\\Jupyter\\venv\\lib\\site-packages\\tensorflow\\python\\compat\\v2_compat.py:107: disable_resource_variables (from tensorflow.python.ops.variable_scope) is deprecated and will be removed in a future version.\n",
            "Instructions for updating:\n",
            "non-resource variables are not supported in the long term\n",
            "WARNING:tensorflow:From D:\\Backup\\Dropbox\\Jupyter\\venv\\lib\\site-packages\\keras\\layers\\normalization\\batch_normalization.py:562: _colocate_with (from tensorflow.python.framework.ops) is deprecated and will be removed in a future version.\n",
            "Instructions for updating:\n",
            "Colocations handled automatically by placer.\n"
          ]
        }
      ],
      "source": [
        "import tensorflow.compat.v1 as tf\n",
        "tf.disable_v2_behavior()\n",
        "\n",
        "code_length = 100\n",
        "\n",
        "graph = tf.Graph()\n",
        "\n",
        "with graph.as_default():\n",
        "    input_x = tf.placeholder(tf.float32, shape=(None, width, height, 1))\n",
        "    input_z = tf.placeholder(tf.float32, shape=(None, code_length))\n",
        "    is_training = tf.placeholder(tf.bool)\n",
        "\n",
        "    gen = generator(z=tf.reshape(input_z, (-1, 1, 1, code_length)), is_training=is_training)\n",
        "\n",
        "    r_input_x = tf.image.resize_images(images=input_x, size=(64, 64))\n",
        "\n",
        "    discr_1_l = discriminator(x=r_input_x, is_training=is_training, reuse_variables=False)\n",
        "    discr_2_l = discriminator(x=gen, is_training=is_training, reuse_variables=True)\n",
        "\n",
        "    loss_d_1 = tf.reduce_mean(tf.nn.sigmoid_cross_entropy_with_logits(labels=tf.ones_like(discr_1_l), logits=discr_1_l))\n",
        "    loss_d_2 = tf.reduce_mean(tf.nn.sigmoid_cross_entropy_with_logits(labels=tf.zeros_like(discr_2_l), logits=discr_2_l))\n",
        "    loss_d = loss_d_1 + loss_d_2\n",
        "\n",
        "    loss_g = tf.reduce_mean(tf.nn.sigmoid_cross_entropy_with_logits(labels=tf.ones_like(discr_2_l), logits=discr_2_l))\n",
        "\n",
        "    variables_g = [variable for variable in tf.trainable_variables() if variable.name.startswith('generator')]\n",
        "    variables_d = [variable for variable in tf.trainable_variables() if variable.name.startswith('discriminator')]\n",
        "\n",
        "    with tf.control_dependencies(tf.get_collection(tf.GraphKeys.UPDATE_OPS)):\n",
        "        training_step_d = tf.train.AdamOptimizer(0.0002, beta1=0.5).minimize(loss=loss_d, var_list=variables_d)\n",
        "        training_step_g = tf.train.AdamOptimizer(0.0002, beta1=0.5).minimize(loss=loss_g, var_list=variables_g)"
      ]
    },
    {
      "cell_type": "code",
      "execution_count": null,
      "id": "80f44efa",
      "metadata": {
        "id": "80f44efa",
        "outputId": "7d8d6a40-a825-4895-a19f-711aa2c5f616"
      },
      "outputs": [
        {
          "name": "stderr",
          "output_type": "stream",
          "text": [
            "D:\\Backup\\Dropbox\\Jupyter\\venv\\lib\\site-packages\\tensorflow\\python\\client\\session.py:1769: UserWarning: An interactive session is already active. This can cause out-of-memory errors in some cases. You must explicitly call `InteractiveSession.close()` to release resources held by the other session(s).\n",
            "  warnings.warn('An interactive session is already active. This can '\n"
          ]
        },
        {
          "name": "stdout",
          "output_type": "stream",
          "text": [
            "0 / 39\n",
            "1 / 39\n",
            "2 / 39\n",
            "3 / 39\n",
            "4 / 39\n",
            "5 / 39\n",
            "6 / 39\n",
            "7 / 39\n",
            "8 / 39\n",
            "9 / 39\n",
            "10 / 39\n",
            "11 / 39\n",
            "12 / 39\n",
            "13 / 39\n",
            "14 / 39\n",
            "15 / 39\n"
          ]
        },
        {
          "ename": "KeyboardInterrupt",
          "evalue": "",
          "output_type": "error",
          "traceback": [
            "\u001b[1;31m---------------------------------------------------------------------------\u001b[0m",
            "\u001b[1;31mKeyboardInterrupt\u001b[0m                         Traceback (most recent call last)",
            "\u001b[1;32m~\\AppData\\Local\\Temp\\ipykernel_19140\\3258819916.py\u001b[0m in \u001b[0;36m<module>\u001b[1;34m\u001b[0m\n\u001b[0;32m     26\u001b[0m                                     \u001b[0minput_x\u001b[0m\u001b[1;33m:\u001b[0m \u001b[0mX\u001b[0m\u001b[1;33m,\u001b[0m\u001b[1;33m\u001b[0m\u001b[1;33m\u001b[0m\u001b[0m\n\u001b[0;32m     27\u001b[0m                                     \u001b[0minput_z\u001b[0m\u001b[1;33m:\u001b[0m \u001b[0mZ\u001b[0m\u001b[1;33m,\u001b[0m\u001b[1;33m\u001b[0m\u001b[1;33m\u001b[0m\u001b[0m\n\u001b[1;32m---> 28\u001b[1;33m                                     \u001b[0mis_training\u001b[0m\u001b[1;33m:\u001b[0m \u001b[1;32mTrue\u001b[0m\u001b[1;33m\u001b[0m\u001b[1;33m\u001b[0m\u001b[0m\n\u001b[0m\u001b[0;32m     29\u001b[0m                                 })\n\u001b[0;32m     30\u001b[0m         \u001b[0md_losses\u001b[0m\u001b[1;33m.\u001b[0m\u001b[0mappend\u001b[0m\u001b[1;33m(\u001b[0m\u001b[0md_loss\u001b[0m\u001b[1;33m)\u001b[0m\u001b[1;33m\u001b[0m\u001b[1;33m\u001b[0m\u001b[0m\n",
            "\u001b[1;32mD:\\Backup\\Dropbox\\Jupyter\\venv\\lib\\site-packages\\tensorflow\\python\\client\\session.py\u001b[0m in \u001b[0;36mrun\u001b[1;34m(self, fetches, feed_dict, options, run_metadata)\u001b[0m\n\u001b[0;32m    967\u001b[0m     \u001b[1;32mtry\u001b[0m\u001b[1;33m:\u001b[0m\u001b[1;33m\u001b[0m\u001b[1;33m\u001b[0m\u001b[0m\n\u001b[0;32m    968\u001b[0m       result = self._run(None, fetches, feed_dict, options_ptr,\n\u001b[1;32m--> 969\u001b[1;33m                          run_metadata_ptr)\n\u001b[0m\u001b[0;32m    970\u001b[0m       \u001b[1;32mif\u001b[0m \u001b[0mrun_metadata\u001b[0m\u001b[1;33m:\u001b[0m\u001b[1;33m\u001b[0m\u001b[1;33m\u001b[0m\u001b[0m\n\u001b[0;32m    971\u001b[0m         \u001b[0mproto_data\u001b[0m \u001b[1;33m=\u001b[0m \u001b[0mtf_session\u001b[0m\u001b[1;33m.\u001b[0m\u001b[0mTF_GetBuffer\u001b[0m\u001b[1;33m(\u001b[0m\u001b[0mrun_metadata_ptr\u001b[0m\u001b[1;33m)\u001b[0m\u001b[1;33m\u001b[0m\u001b[1;33m\u001b[0m\u001b[0m\n",
            "\u001b[1;32mD:\\Backup\\Dropbox\\Jupyter\\venv\\lib\\site-packages\\tensorflow\\python\\client\\session.py\u001b[0m in \u001b[0;36m_run\u001b[1;34m(self, handle, fetches, feed_dict, options, run_metadata)\u001b[0m\n\u001b[0;32m   1190\u001b[0m     \u001b[1;32mif\u001b[0m \u001b[0mfinal_fetches\u001b[0m \u001b[1;32mor\u001b[0m \u001b[0mfinal_targets\u001b[0m \u001b[1;32mor\u001b[0m \u001b[1;33m(\u001b[0m\u001b[0mhandle\u001b[0m \u001b[1;32mand\u001b[0m \u001b[0mfeed_dict_tensor\u001b[0m\u001b[1;33m)\u001b[0m\u001b[1;33m:\u001b[0m\u001b[1;33m\u001b[0m\u001b[1;33m\u001b[0m\u001b[0m\n\u001b[0;32m   1191\u001b[0m       results = self._do_run(handle, final_targets, final_fetches,\n\u001b[1;32m-> 1192\u001b[1;33m                              feed_dict_tensor, options, run_metadata)\n\u001b[0m\u001b[0;32m   1193\u001b[0m     \u001b[1;32melse\u001b[0m\u001b[1;33m:\u001b[0m\u001b[1;33m\u001b[0m\u001b[1;33m\u001b[0m\u001b[0m\n\u001b[0;32m   1194\u001b[0m       \u001b[0mresults\u001b[0m \u001b[1;33m=\u001b[0m \u001b[1;33m[\u001b[0m\u001b[1;33m]\u001b[0m\u001b[1;33m\u001b[0m\u001b[1;33m\u001b[0m\u001b[0m\n",
            "\u001b[1;32mD:\\Backup\\Dropbox\\Jupyter\\venv\\lib\\site-packages\\tensorflow\\python\\client\\session.py\u001b[0m in \u001b[0;36m_do_run\u001b[1;34m(self, handle, target_list, fetch_list, feed_dict, options, run_metadata)\u001b[0m\n\u001b[0;32m   1370\u001b[0m     \u001b[1;32mif\u001b[0m \u001b[0mhandle\u001b[0m \u001b[1;32mis\u001b[0m \u001b[1;32mNone\u001b[0m\u001b[1;33m:\u001b[0m\u001b[1;33m\u001b[0m\u001b[1;33m\u001b[0m\u001b[0m\n\u001b[0;32m   1371\u001b[0m       return self._do_call(_run_fn, feeds, fetches, targets, options,\n\u001b[1;32m-> 1372\u001b[1;33m                            run_metadata)\n\u001b[0m\u001b[0;32m   1373\u001b[0m     \u001b[1;32melse\u001b[0m\u001b[1;33m:\u001b[0m\u001b[1;33m\u001b[0m\u001b[1;33m\u001b[0m\u001b[0m\n\u001b[0;32m   1374\u001b[0m       \u001b[1;32mreturn\u001b[0m \u001b[0mself\u001b[0m\u001b[1;33m.\u001b[0m\u001b[0m_do_call\u001b[0m\u001b[1;33m(\u001b[0m\u001b[0m_prun_fn\u001b[0m\u001b[1;33m,\u001b[0m \u001b[0mhandle\u001b[0m\u001b[1;33m,\u001b[0m \u001b[0mfeeds\u001b[0m\u001b[1;33m,\u001b[0m \u001b[0mfetches\u001b[0m\u001b[1;33m)\u001b[0m\u001b[1;33m\u001b[0m\u001b[1;33m\u001b[0m\u001b[0m\n",
            "\u001b[1;32mD:\\Backup\\Dropbox\\Jupyter\\venv\\lib\\site-packages\\tensorflow\\python\\client\\session.py\u001b[0m in \u001b[0;36m_do_call\u001b[1;34m(self, fn, *args)\u001b[0m\n\u001b[0;32m   1376\u001b[0m   \u001b[1;32mdef\u001b[0m \u001b[0m_do_call\u001b[0m\u001b[1;33m(\u001b[0m\u001b[0mself\u001b[0m\u001b[1;33m,\u001b[0m \u001b[0mfn\u001b[0m\u001b[1;33m,\u001b[0m \u001b[1;33m*\u001b[0m\u001b[0margs\u001b[0m\u001b[1;33m)\u001b[0m\u001b[1;33m:\u001b[0m\u001b[1;33m\u001b[0m\u001b[1;33m\u001b[0m\u001b[0m\n\u001b[0;32m   1377\u001b[0m     \u001b[1;32mtry\u001b[0m\u001b[1;33m:\u001b[0m\u001b[1;33m\u001b[0m\u001b[1;33m\u001b[0m\u001b[0m\n\u001b[1;32m-> 1378\u001b[1;33m       \u001b[1;32mreturn\u001b[0m \u001b[0mfn\u001b[0m\u001b[1;33m(\u001b[0m\u001b[1;33m*\u001b[0m\u001b[0margs\u001b[0m\u001b[1;33m)\u001b[0m\u001b[1;33m\u001b[0m\u001b[1;33m\u001b[0m\u001b[0m\n\u001b[0m\u001b[0;32m   1379\u001b[0m     \u001b[1;32mexcept\u001b[0m \u001b[0merrors\u001b[0m\u001b[1;33m.\u001b[0m\u001b[0mOpError\u001b[0m \u001b[1;32mas\u001b[0m \u001b[0me\u001b[0m\u001b[1;33m:\u001b[0m\u001b[1;33m\u001b[0m\u001b[1;33m\u001b[0m\u001b[0m\n\u001b[0;32m   1380\u001b[0m       \u001b[0mmessage\u001b[0m \u001b[1;33m=\u001b[0m \u001b[0mcompat\u001b[0m\u001b[1;33m.\u001b[0m\u001b[0mas_text\u001b[0m\u001b[1;33m(\u001b[0m\u001b[0me\u001b[0m\u001b[1;33m.\u001b[0m\u001b[0mmessage\u001b[0m\u001b[1;33m)\u001b[0m\u001b[1;33m\u001b[0m\u001b[1;33m\u001b[0m\u001b[0m\n",
            "\u001b[1;32mD:\\Backup\\Dropbox\\Jupyter\\venv\\lib\\site-packages\\tensorflow\\python\\client\\session.py\u001b[0m in \u001b[0;36m_run_fn\u001b[1;34m(feed_dict, fetch_list, target_list, options, run_metadata)\u001b[0m\n\u001b[0;32m   1360\u001b[0m       \u001b[0mself\u001b[0m\u001b[1;33m.\u001b[0m\u001b[0m_extend_graph\u001b[0m\u001b[1;33m(\u001b[0m\u001b[1;33m)\u001b[0m\u001b[1;33m\u001b[0m\u001b[1;33m\u001b[0m\u001b[0m\n\u001b[0;32m   1361\u001b[0m       return self._call_tf_sessionrun(options, feed_dict, fetch_list,\n\u001b[1;32m-> 1362\u001b[1;33m                                       target_list, run_metadata)\n\u001b[0m\u001b[0;32m   1363\u001b[0m \u001b[1;33m\u001b[0m\u001b[0m\n\u001b[0;32m   1364\u001b[0m     \u001b[1;32mdef\u001b[0m \u001b[0m_prun_fn\u001b[0m\u001b[1;33m(\u001b[0m\u001b[0mhandle\u001b[0m\u001b[1;33m,\u001b[0m \u001b[0mfeed_dict\u001b[0m\u001b[1;33m,\u001b[0m \u001b[0mfetch_list\u001b[0m\u001b[1;33m)\u001b[0m\u001b[1;33m:\u001b[0m\u001b[1;33m\u001b[0m\u001b[1;33m\u001b[0m\u001b[0m\n",
            "\u001b[1;32mD:\\Backup\\Dropbox\\Jupyter\\venv\\lib\\site-packages\\tensorflow\\python\\client\\session.py\u001b[0m in \u001b[0;36m_call_tf_sessionrun\u001b[1;34m(self, options, feed_dict, fetch_list, target_list, run_metadata)\u001b[0m\n\u001b[0;32m   1454\u001b[0m     return tf_session.TF_SessionRun_wrapper(self._session, options, feed_dict,\n\u001b[0;32m   1455\u001b[0m                                             \u001b[0mfetch_list\u001b[0m\u001b[1;33m,\u001b[0m \u001b[0mtarget_list\u001b[0m\u001b[1;33m,\u001b[0m\u001b[1;33m\u001b[0m\u001b[1;33m\u001b[0m\u001b[0m\n\u001b[1;32m-> 1456\u001b[1;33m                                             run_metadata)\n\u001b[0m\u001b[0;32m   1457\u001b[0m \u001b[1;33m\u001b[0m\u001b[0m\n\u001b[0;32m   1458\u001b[0m   \u001b[1;32mdef\u001b[0m \u001b[0m_call_tf_sessionprun\u001b[0m\u001b[1;33m(\u001b[0m\u001b[0mself\u001b[0m\u001b[1;33m,\u001b[0m \u001b[0mhandle\u001b[0m\u001b[1;33m,\u001b[0m \u001b[0mfeed_dict\u001b[0m\u001b[1;33m,\u001b[0m \u001b[0mfetch_list\u001b[0m\u001b[1;33m)\u001b[0m\u001b[1;33m:\u001b[0m\u001b[1;33m\u001b[0m\u001b[1;33m\u001b[0m\u001b[0m\n",
            "\u001b[1;31mKeyboardInterrupt\u001b[0m: "
          ]
        }
      ],
      "source": [
        "import numpy as np\n",
        "import tensorflow.compat.v1 as tf\n",
        "tf.disable_v2_behavior()\n",
        "\n",
        "nb_epochs = 200\n",
        "batch_size = 128\n",
        "nb_iterations = int(nb_samples / batch_size)\n",
        "\n",
        "session = tf.InteractiveSession(graph=graph)\n",
        "tf.global_variables_initializer().run()\n",
        "\n",
        "samples_range = np.arange(nb_samples)\n",
        "\n",
        "for e in range(nb_epochs * 5):\n",
        "    d_losses = []\n",
        "    g_losses = []\n",
        "\n",
        "    for i in range(nb_iterations):\n",
        "        print(i,\"/\",nb_iterations)\n",
        "        Xi = np.random.choice(samples_range, size=batch_size)\n",
        "        X = np.expand_dims(X_train[Xi], axis=3)\n",
        "        Z = np.random.uniform(-1.0, 1.0, size=(batch_size, code_length)).astype(np.float32)\n",
        "\n",
        "        _, d_loss = session.run([training_step_d, loss_d],\n",
        "                                feed_dict={\n",
        "                                    input_x: X,\n",
        "                                    input_z: Z,\n",
        "                                    is_training: True\n",
        "                                })\n",
        "        d_losses.append(d_loss)\n",
        "\n",
        "        Z = np.random.uniform(-1.0, 1.0, size=(batch_size, code_length)).astype(np.float32)\n",
        "\n",
        "        _, g_loss = session.run([training_step_g, loss_g],\n",
        "                                feed_dict={\n",
        "                                    input_x: X,\n",
        "                                    input_z: Z,\n",
        "                                    is_training: True\n",
        "                                })\n",
        "\n",
        "        g_losses.append(g_loss)\n",
        "\n",
        "    print('Epoch {}) Avg. discriminator loss: {} - Avg. generator loss: {}'.format(e + 1, np.mean(d_losses), np.mean(g_losses)))\n"
      ]
    },
    {
      "cell_type": "code",
      "execution_count": null,
      "id": "f647f41f",
      "metadata": {
        "id": "f647f41f"
      },
      "outputs": [],
      "source": [
        "Z = np.random.uniform(-1.0, 1.0, size=(50, code_length)).astype(np.float32)\n",
        "\n",
        "Ys = session.run([gen],\n",
        "                 feed_dict={\n",
        "                     input_z: Z,\n",
        "                     is_training: False\n",
        "                })\n",
        "\n",
        "Ys = np.squeeze((Ys[0] + 1.0) * 0.5 * 255.0).astype(np.uint8)\n"
      ]
    },
    {
      "cell_type": "code",
      "execution_count": null,
      "id": "2f3dd732",
      "metadata": {
        "id": "2f3dd732",
        "outputId": "fa01a479-fab6-484a-cabb-4d3f370a645d"
      },
      "outputs": [
        {
          "data": {
            "image/png": "[encoded data removed]",
            "text/plain": [
              "<PIL.Image.Image image mode=RGB size=28x28>"
            ]
          },
          "metadata": {},
          "output_type": "display_data"
        },
        {
          "data": {
            "image/png": "[encoded data removed]",
            "text/plain": [
              "<PIL.Image.Image image mode=RGB size=64x64>"
            ]
          },
          "metadata": {},
          "output_type": "display_data"
        },
        {
          "name": "stdout",
          "output_type": "stream",
          "text": [
            "-\n"
          ]
        },
        {
          "data": {
            "image/png": "[encoded data removed]",
            "text/plain": [
              "<PIL.Image.Image image mode=RGB size=28x28>"
            ]
          },
          "metadata": {},
          "output_type": "display_data"
        },
        {
          "data": {
            "image/png": "[encoded data removed]",
            "text/plain": [
              "<PIL.Image.Image image mode=RGB size=64x64>"
            ]
          },
          "metadata": {},
          "output_type": "display_data"
        },
        {
          "name": "stdout",
          "output_type": "stream",
          "text": [
            "-\n"
          ]
        },
        {
          "data": {
            "image/png": "[encoded data removed]",
            "text/plain": [
              "<PIL.Image.Image image mode=RGB size=28x28>"
            ]
          },
          "metadata": {},
          "output_type": "display_data"
        },
        {
          "data": {
            "image/png": "[encoded data removed]",
            "text/plain": [
              "<PIL.Image.Image image mode=RGB size=64x64>"
            ]
          },
          "metadata": {},
          "output_type": "display_data"
        },
        {
          "name": "stdout",
          "output_type": "stream",
          "text": [
            "-\n"
          ]
        },
        {
          "data": {
            "image/png": "[encoded data removed]",
            "text/plain": [
              "<PIL.Image.Image image mode=RGB size=28x28>"
            ]
          },
          "metadata": {},
          "output_type": "display_data"
        },
        {
          "data": {
            "image/png": "[encoded data removed]",
            "text/plain": [
              "<PIL.Image.Image image mode=RGB size=64x64>"
            ]
          },
          "metadata": {},
          "output_type": "display_data"
        },
        {
          "name": "stdout",
          "output_type": "stream",
          "text": [
            "-\n"
          ]
        },
        {
          "data": {
            "image/png": "[encoded data removed]",
            "text/plain": [
              "<PIL.Image.Image image mode=RGB size=28x28>"
            ]
          },
          "metadata": {},
          "output_type": "display_data"
        },
        {
          "data": {
            "image/png": "[encoded data removed]",
            "text/plain": [
              "<PIL.Image.Image image mode=RGB size=64x64>"
            ]
          },
          "metadata": {},
          "output_type": "display_data"
        },
        {
          "name": "stdout",
          "output_type": "stream",
          "text": [
            "-\n"
          ]
        },
        {
          "data": {
            "image/png": "[encoded data removed]",
            "text/plain": [
              "<PIL.Image.Image image mode=RGB size=28x28>"
            ]
          },
          "metadata": {},
          "output_type": "display_data"
        },
        {
          "data": {
            "image/png": "[encoded data removed]",
            "text/plain": [
              "<PIL.Image.Image image mode=RGB size=64x64>"
            ]
          },
          "metadata": {},
          "output_type": "display_data"
        },
        {
          "name": "stdout",
          "output_type": "stream",
          "text": [
            "-\n"
          ]
        },
        {
          "data": {
            "image/png": "[encoded data removed]",
            "text/plain": [
              "<PIL.Image.Image image mode=RGB size=28x28>"
            ]
          },
          "metadata": {},
          "output_type": "display_data"
        },
        {
          "data": {
            "image/png": "[encoded data removed]",
            "text/plain": [
              "<PIL.Image.Image image mode=RGB size=64x64>"
            ]
          },
          "metadata": {},
          "output_type": "display_data"
        },
        {
          "name": "stdout",
          "output_type": "stream",
          "text": [
            "-\n"
          ]
        },
        {
          "data": {
            "image/png": "[encoded data removed]",
            "text/plain": [
              "<PIL.Image.Image image mode=RGB size=28x28>"
            ]
          },
          "metadata": {},
          "output_type": "display_data"
        },
        {
          "data": {
            "image/png": "[encoded data removed]",
            "text/plain": [
              "<PIL.Image.Image image mode=RGB size=64x64>"
            ]
          },
          "metadata": {},
          "output_type": "display_data"
        },
        {
          "name": "stdout",
          "output_type": "stream",
          "text": [
            "-\n"
          ]
        },
        {
          "data": {
            "image/png": "[encoded data removed]",
            "text/plain": [
              "<PIL.Image.Image image mode=RGB size=28x28>"
            ]
          },
          "metadata": {},
          "output_type": "display_data"
        },
        {
          "data": {
            "image/png": "[encoded data removed]",
            "text/plain": [
              "<PIL.Image.Image image mode=RGB size=64x64>"
            ]
          },
          "metadata": {},
          "output_type": "display_data"
        },
        {
          "name": "stdout",
          "output_type": "stream",
          "text": [
            "-\n"
          ]
        },
        {
          "data": {
            "image/png": "[encoded data removed]",
            "text/plain": [
              "<PIL.Image.Image image mode=RGB size=28x28>"
            ]
          },
          "metadata": {},
          "output_type": "display_data"
        },
        {
          "data": {
            "image/png": "[encoded data removed]",
            "text/plain": [
              "<PIL.Image.Image image mode=RGB size=64x64>"
            ]
          },
          "metadata": {},
          "output_type": "display_data"
        },
        {
          "name": "stdout",
          "output_type": "stream",
          "text": [
            "-\n"
          ]
        }
      ],
      "source": [
        "from PIL import Image\n",
        "\n",
        "for i in range(0,10):\n",
        "    im = Image.fromarray(X_train[i] * 255.0)\n",
        "    if im.mode != 'RGB':\n",
        "        im = im.convert('RGB')\n",
        "    display(im)\n",
        "\n",
        "    im = Image.fromarray(Ys[i])\n",
        "    if im.mode != 'RGB':\n",
        "        im = im.convert('RGB')\n",
        "    display(im)\n",
        "    print(\"-\")"
      ]
    },
    {
      "cell_type": "markdown",
      "id": "874dcedb",
      "metadata": {
        "id": "874dcedb"
      },
      "source": [
        "#### WGAN"
      ]
    },
    {
      "cell_type": "code",
      "execution_count": null,
      "id": "9f06c44a",
      "metadata": {
        "id": "9f06c44a"
      },
      "outputs": [],
      "source": [
        "import tensorflow as tf\n",
        "from keras.layers import Dense, Flatten, Conv2D,Conv2DTranspose, BatchNormalization\n",
        "\n",
        "def critic(x, is_training=True, reuse_variables=True):\n",
        "    with tf.variable_scope('critic', reuse=reuse_variables):\n",
        "        conv_0 = Conv2D(filters=128,\n",
        "                                  kernel_size=(4, 4),\n",
        "                                  strides=(2, 2),\n",
        "                                  padding='same')(x)\n",
        "\n",
        "        conv_1 = Conv2D(filters=256,\n",
        "                                  kernel_size=(4, 4),\n",
        "                                  strides=(2, 2),\n",
        "                                  padding='same')(tf.nn.leaky_relu(conv_0))\n",
        "\n",
        "        b_conv_1 = BatchNormalization()(conv_1, training=is_training)\n",
        "\n",
        "        conv_2 = Conv2D(filters=512,\n",
        "                                  kernel_size=(4, 4),\n",
        "                                  strides=(2, 2),\n",
        "                                  padding='same')(tf.nn.leaky_relu(b_conv_1))\n",
        "\n",
        "        b_conv_2 = BatchNormalization()(conv_2, training=is_training)\n",
        "\n",
        "        conv_3 = Conv2D(filters=1024,\n",
        "                                  kernel_size=(4, 4),\n",
        "                                  strides=(2, 2),\n",
        "                                  padding='same')(tf.nn.leaky_relu(b_conv_2))\n",
        "\n",
        "        b_conv_3 = BatchNormalization()(conv_3, training=is_training)\n",
        "\n",
        "        conv_4 = Conv2D(filters=1,\n",
        "                                  kernel_size=(4, 4),\n",
        "                                  padding='valid')(tf.nn.leaky_relu(b_conv_3))\n",
        "\n",
        "        return conv_4"
      ]
    },
    {
      "cell_type": "code",
      "execution_count": null,
      "id": "3684c8a7",
      "metadata": {
        "id": "3684c8a7"
      },
      "outputs": [],
      "source": [
        "import tensorflow.compat.v1 as tf\n",
        "tf.disable_v2_behavior()\n",
        "\n",
        "graph = tf.Graph()\n",
        "\n",
        "with graph.as_default():\n",
        "    input_x = tf.placeholder(tf.float32, shape=(None, width, height, 1))\n",
        "    input_z = tf.placeholder(tf.float32, shape=(None, code_length))\n",
        "    is_training = tf.placeholder(tf.bool)\n",
        "\n",
        "    gen = generator(z=tf.reshape(input_z, (-1, 1, 1, code_length)), is_training=is_training)\n",
        "\n",
        "    r_input_x = tf.image.resize_images(images=input_x, size=(64, 64))\n",
        "\n",
        "    crit_1_l = critic(x=r_input_x, is_training=is_training, reuse_variables=False)\n",
        "    crit_2_l = critic(x=gen, is_training=is_training, reuse_variables=True)\n",
        "\n",
        "    loss_c = tf.reduce_mean(crit_2_l - crit_1_l)\n",
        "    loss_g = tf.reduce_mean(-crit_2_l)\n",
        "\n",
        "    variables_g = [variable for variable in tf.trainable_variables() if variable.name.startswith('generator')]\n",
        "    variables_c = [variable for variable in tf.trainable_variables() if variable.name.startswith('critic')]\n",
        "\n",
        "    with tf.control_dependencies(tf.get_collection(tf.GraphKeys.UPDATE_OPS)):\n",
        "        optimizer_c = tf.train.AdamOptimizer(0.00005, beta1=0.5, beta2=0.9).minimize(loss=loss_c, var_list=variables_c)\n",
        "\n",
        "        with tf.control_dependencies([optimizer_c]):\n",
        "            training_step_c = tf.tuple(tensors=[tf.assign(variable, tf.clip_by_value(variable, -0.01, 0.01))\n",
        "                                                for variable in variables_c])\n",
        "\n",
        "        training_step_g = tf.train.AdamOptimizer(0.00005, beta1=0.5, beta2=0.9).minimize(loss=loss_g, var_list=variables_g)\n"
      ]
    },
    {
      "cell_type": "code",
      "execution_count": null,
      "id": "aa7fa868",
      "metadata": {
        "id": "aa7fa868",
        "outputId": "9c857675-40f6-498b-95eb-40c5eb5274d2"
      },
      "outputs": [
        {
          "name": "stdout",
          "output_type": "stream",
          "text": [
            "0 / 78 0 / 5\n",
            "0 / 78 1 / 5\n",
            "0 / 78 2 / 5\n"
          ]
        },
        {
          "ename": "KeyboardInterrupt",
          "evalue": "",
          "output_type": "error",
          "traceback": [
            "\u001b[1;31m---------------------------------------------------------------------------\u001b[0m",
            "\u001b[1;31mKeyboardInterrupt\u001b[0m                         Traceback (most recent call last)",
            "\u001b[1;32m~\\AppData\\Local\\Temp\\ipykernel_19140\\2345400009.py\u001b[0m in \u001b[0;36m<module>\u001b[1;34m\u001b[0m\n\u001b[0;32m     28\u001b[0m                                         \u001b[0minput_x\u001b[0m\u001b[1;33m:\u001b[0m \u001b[0mX\u001b[0m\u001b[1;33m,\u001b[0m\u001b[1;33m\u001b[0m\u001b[1;33m\u001b[0m\u001b[0m\n\u001b[0;32m     29\u001b[0m                                         \u001b[0minput_z\u001b[0m\u001b[1;33m:\u001b[0m \u001b[0mZ\u001b[0m\u001b[1;33m,\u001b[0m\u001b[1;33m\u001b[0m\u001b[1;33m\u001b[0m\u001b[0m\n\u001b[1;32m---> 30\u001b[1;33m                                         \u001b[0mis_training\u001b[0m\u001b[1;33m:\u001b[0m \u001b[1;32mTrue\u001b[0m\u001b[1;33m\u001b[0m\u001b[1;33m\u001b[0m\u001b[0m\n\u001b[0m\u001b[0;32m     31\u001b[0m                                     })\n\u001b[0;32m     32\u001b[0m             \u001b[0mc_losses\u001b[0m\u001b[1;33m.\u001b[0m\u001b[0mappend\u001b[0m\u001b[1;33m(\u001b[0m\u001b[0mc_loss\u001b[0m\u001b[1;33m)\u001b[0m\u001b[1;33m\u001b[0m\u001b[1;33m\u001b[0m\u001b[0m\n",
            "\u001b[1;32mD:\\Backup\\Dropbox\\Jupyter\\venv\\lib\\site-packages\\tensorflow\\python\\client\\session.py\u001b[0m in \u001b[0;36mrun\u001b[1;34m(self, fetches, feed_dict, options, run_metadata)\u001b[0m\n\u001b[0;32m    967\u001b[0m     \u001b[1;32mtry\u001b[0m\u001b[1;33m:\u001b[0m\u001b[1;33m\u001b[0m\u001b[1;33m\u001b[0m\u001b[0m\n\u001b[0;32m    968\u001b[0m       result = self._run(None, fetches, feed_dict, options_ptr,\n\u001b[1;32m--> 969\u001b[1;33m                          run_metadata_ptr)\n\u001b[0m\u001b[0;32m    970\u001b[0m       \u001b[1;32mif\u001b[0m \u001b[0mrun_metadata\u001b[0m\u001b[1;33m:\u001b[0m\u001b[1;33m\u001b[0m\u001b[1;33m\u001b[0m\u001b[0m\n\u001b[0;32m    971\u001b[0m         \u001b[0mproto_data\u001b[0m \u001b[1;33m=\u001b[0m \u001b[0mtf_session\u001b[0m\u001b[1;33m.\u001b[0m\u001b[0mTF_GetBuffer\u001b[0m\u001b[1;33m(\u001b[0m\u001b[0mrun_metadata_ptr\u001b[0m\u001b[1;33m)\u001b[0m\u001b[1;33m\u001b[0m\u001b[1;33m\u001b[0m\u001b[0m\n",
            "\u001b[1;32mD:\\Backup\\Dropbox\\Jupyter\\venv\\lib\\site-packages\\tensorflow\\python\\client\\session.py\u001b[0m in \u001b[0;36m_run\u001b[1;34m(self, handle, fetches, feed_dict, options, run_metadata)\u001b[0m\n\u001b[0;32m   1190\u001b[0m     \u001b[1;32mif\u001b[0m \u001b[0mfinal_fetches\u001b[0m \u001b[1;32mor\u001b[0m \u001b[0mfinal_targets\u001b[0m \u001b[1;32mor\u001b[0m \u001b[1;33m(\u001b[0m\u001b[0mhandle\u001b[0m \u001b[1;32mand\u001b[0m \u001b[0mfeed_dict_tensor\u001b[0m\u001b[1;33m)\u001b[0m\u001b[1;33m:\u001b[0m\u001b[1;33m\u001b[0m\u001b[1;33m\u001b[0m\u001b[0m\n\u001b[0;32m   1191\u001b[0m       results = self._do_run(handle, final_targets, final_fetches,\n\u001b[1;32m-> 1192\u001b[1;33m                              feed_dict_tensor, options, run_metadata)\n\u001b[0m\u001b[0;32m   1193\u001b[0m     \u001b[1;32melse\u001b[0m\u001b[1;33m:\u001b[0m\u001b[1;33m\u001b[0m\u001b[1;33m\u001b[0m\u001b[0m\n\u001b[0;32m   1194\u001b[0m       \u001b[0mresults\u001b[0m \u001b[1;33m=\u001b[0m \u001b[1;33m[\u001b[0m\u001b[1;33m]\u001b[0m\u001b[1;33m\u001b[0m\u001b[1;33m\u001b[0m\u001b[0m\n",
            "\u001b[1;32mD:\\Backup\\Dropbox\\Jupyter\\venv\\lib\\site-packages\\tensorflow\\python\\client\\session.py\u001b[0m in \u001b[0;36m_do_run\u001b[1;34m(self, handle, target_list, fetch_list, feed_dict, options, run_metadata)\u001b[0m\n\u001b[0;32m   1370\u001b[0m     \u001b[1;32mif\u001b[0m \u001b[0mhandle\u001b[0m \u001b[1;32mis\u001b[0m \u001b[1;32mNone\u001b[0m\u001b[1;33m:\u001b[0m\u001b[1;33m\u001b[0m\u001b[1;33m\u001b[0m\u001b[0m\n\u001b[0;32m   1371\u001b[0m       return self._do_call(_run_fn, feeds, fetches, targets, options,\n\u001b[1;32m-> 1372\u001b[1;33m                            run_metadata)\n\u001b[0m\u001b[0;32m   1373\u001b[0m     \u001b[1;32melse\u001b[0m\u001b[1;33m:\u001b[0m\u001b[1;33m\u001b[0m\u001b[1;33m\u001b[0m\u001b[0m\n\u001b[0;32m   1374\u001b[0m       \u001b[1;32mreturn\u001b[0m \u001b[0mself\u001b[0m\u001b[1;33m.\u001b[0m\u001b[0m_do_call\u001b[0m\u001b[1;33m(\u001b[0m\u001b[0m_prun_fn\u001b[0m\u001b[1;33m,\u001b[0m \u001b[0mhandle\u001b[0m\u001b[1;33m,\u001b[0m \u001b[0mfeeds\u001b[0m\u001b[1;33m,\u001b[0m \u001b[0mfetches\u001b[0m\u001b[1;33m)\u001b[0m\u001b[1;33m\u001b[0m\u001b[1;33m\u001b[0m\u001b[0m\n",
            "\u001b[1;32mD:\\Backup\\Dropbox\\Jupyter\\venv\\lib\\site-packages\\tensorflow\\python\\client\\session.py\u001b[0m in \u001b[0;36m_do_call\u001b[1;34m(self, fn, *args)\u001b[0m\n\u001b[0;32m   1376\u001b[0m   \u001b[1;32mdef\u001b[0m \u001b[0m_do_call\u001b[0m\u001b[1;33m(\u001b[0m\u001b[0mself\u001b[0m\u001b[1;33m,\u001b[0m \u001b[0mfn\u001b[0m\u001b[1;33m,\u001b[0m \u001b[1;33m*\u001b[0m\u001b[0margs\u001b[0m\u001b[1;33m)\u001b[0m\u001b[1;33m:\u001b[0m\u001b[1;33m\u001b[0m\u001b[1;33m\u001b[0m\u001b[0m\n\u001b[0;32m   1377\u001b[0m     \u001b[1;32mtry\u001b[0m\u001b[1;33m:\u001b[0m\u001b[1;33m\u001b[0m\u001b[1;33m\u001b[0m\u001b[0m\n\u001b[1;32m-> 1378\u001b[1;33m       \u001b[1;32mreturn\u001b[0m \u001b[0mfn\u001b[0m\u001b[1;33m(\u001b[0m\u001b[1;33m*\u001b[0m\u001b[0margs\u001b[0m\u001b[1;33m)\u001b[0m\u001b[1;33m\u001b[0m\u001b[1;33m\u001b[0m\u001b[0m\n\u001b[0m\u001b[0;32m   1379\u001b[0m     \u001b[1;32mexcept\u001b[0m \u001b[0merrors\u001b[0m\u001b[1;33m.\u001b[0m\u001b[0mOpError\u001b[0m \u001b[1;32mas\u001b[0m \u001b[0me\u001b[0m\u001b[1;33m:\u001b[0m\u001b[1;33m\u001b[0m\u001b[1;33m\u001b[0m\u001b[0m\n\u001b[0;32m   1380\u001b[0m       \u001b[0mmessage\u001b[0m \u001b[1;33m=\u001b[0m \u001b[0mcompat\u001b[0m\u001b[1;33m.\u001b[0m\u001b[0mas_text\u001b[0m\u001b[1;33m(\u001b[0m\u001b[0me\u001b[0m\u001b[1;33m.\u001b[0m\u001b[0mmessage\u001b[0m\u001b[1;33m)\u001b[0m\u001b[1;33m\u001b[0m\u001b[1;33m\u001b[0m\u001b[0m\n",
            "\u001b[1;32mD:\\Backup\\Dropbox\\Jupyter\\venv\\lib\\site-packages\\tensorflow\\python\\client\\session.py\u001b[0m in \u001b[0;36m_run_fn\u001b[1;34m(feed_dict, fetch_list, target_list, options, run_metadata)\u001b[0m\n\u001b[0;32m   1360\u001b[0m       \u001b[0mself\u001b[0m\u001b[1;33m.\u001b[0m\u001b[0m_extend_graph\u001b[0m\u001b[1;33m(\u001b[0m\u001b[1;33m)\u001b[0m\u001b[1;33m\u001b[0m\u001b[1;33m\u001b[0m\u001b[0m\n\u001b[0;32m   1361\u001b[0m       return self._call_tf_sessionrun(options, feed_dict, fetch_list,\n\u001b[1;32m-> 1362\u001b[1;33m                                       target_list, run_metadata)\n\u001b[0m\u001b[0;32m   1363\u001b[0m \u001b[1;33m\u001b[0m\u001b[0m\n\u001b[0;32m   1364\u001b[0m     \u001b[1;32mdef\u001b[0m \u001b[0m_prun_fn\u001b[0m\u001b[1;33m(\u001b[0m\u001b[0mhandle\u001b[0m\u001b[1;33m,\u001b[0m \u001b[0mfeed_dict\u001b[0m\u001b[1;33m,\u001b[0m \u001b[0mfetch_list\u001b[0m\u001b[1;33m)\u001b[0m\u001b[1;33m:\u001b[0m\u001b[1;33m\u001b[0m\u001b[1;33m\u001b[0m\u001b[0m\n",
            "\u001b[1;32mD:\\Backup\\Dropbox\\Jupyter\\venv\\lib\\site-packages\\tensorflow\\python\\client\\session.py\u001b[0m in \u001b[0;36m_call_tf_sessionrun\u001b[1;34m(self, options, feed_dict, fetch_list, target_list, run_metadata)\u001b[0m\n\u001b[0;32m   1454\u001b[0m     return tf_session.TF_SessionRun_wrapper(self._session, options, feed_dict,\n\u001b[0;32m   1455\u001b[0m                                             \u001b[0mfetch_list\u001b[0m\u001b[1;33m,\u001b[0m \u001b[0mtarget_list\u001b[0m\u001b[1;33m,\u001b[0m\u001b[1;33m\u001b[0m\u001b[1;33m\u001b[0m\u001b[0m\n\u001b[1;32m-> 1456\u001b[1;33m                                             run_metadata)\n\u001b[0m\u001b[0;32m   1457\u001b[0m \u001b[1;33m\u001b[0m\u001b[0m\n\u001b[0;32m   1458\u001b[0m   \u001b[1;32mdef\u001b[0m \u001b[0m_call_tf_sessionprun\u001b[0m\u001b[1;33m(\u001b[0m\u001b[0mself\u001b[0m\u001b[1;33m,\u001b[0m \u001b[0mhandle\u001b[0m\u001b[1;33m,\u001b[0m \u001b[0mfeed_dict\u001b[0m\u001b[1;33m,\u001b[0m \u001b[0mfetch_list\u001b[0m\u001b[1;33m)\u001b[0m\u001b[1;33m:\u001b[0m\u001b[1;33m\u001b[0m\u001b[1;33m\u001b[0m\u001b[0m\n",
            "\u001b[1;31mKeyboardInterrupt\u001b[0m: "
          ]
        }
      ],
      "source": [
        "import numpy as np\n",
        "import tensorflow.compat.v1 as tf\n",
        "tf.disable_v2_behavior()\n",
        "\n",
        "nb_epochs = 200\n",
        "nb_critic = 5\n",
        "batch_size = 64\n",
        "nb_iterations = int(nb_samples / batch_size)\n",
        "\n",
        "session = tf.InteractiveSession(graph=graph)\n",
        "tf.global_variables_initializer().run()\n",
        "\n",
        "samples_range = np.arange(nb_samples)\n",
        "\n",
        "for e in range(nb_epochs):\n",
        "    c_losses = []\n",
        "    g_losses = []\n",
        "\n",
        "    for i in range(nb_iterations):\n",
        "        for j in range(nb_critic):\n",
        "            print(i,\"/\",nb_iterations, \"-\",j,\"/\", nb_critic)\n",
        "            Xi = np.random.choice(samples_range, size=batch_size)\n",
        "            X = np.expand_dims(X_train[Xi], axis=3)\n",
        "            Z = np.random.uniform(-1.0, 1.0, size=(batch_size, code_length)).astype(np.float32)\n",
        "\n",
        "            _, c_loss = session.run([training_step_c, loss_c],\n",
        "                                    feed_dict={\n",
        "                                        input_x: X,\n",
        "                                        input_z: Z,\n",
        "                                        is_training: True\n",
        "                                    })\n",
        "            c_losses.append(c_loss)\n",
        "\n",
        "        Z = np.random.uniform(-1.0, 1.0, size=(batch_size, code_length)).astype(np.float32)\n",
        "\n",
        "        _, g_loss = session.run([training_step_g, loss_g],\n",
        "                                feed_dict={\n",
        "                                    input_x: np.zeros(shape=(batch_size, width, height, 1)),\n",
        "                                    input_z: Z,\n",
        "                                    is_training: True\n",
        "                                })\n",
        "\n",
        "        g_losses.append(g_loss)\n",
        "\n",
        "    print('Epoch {}) Avg. critic loss: {} - Avg. generator loss: {}'.format(e + 1, np.mean(c_losses), np.mean(g_losses)))\n"
      ]
    },
    {
      "cell_type": "code",
      "execution_count": null,
      "id": "3b6f8c07",
      "metadata": {
        "id": "3b6f8c07"
      },
      "outputs": [],
      "source": [
        "Z = np.random.uniform(-1.0, 1.0, size=(50, code_length)).astype(np.float32)\n",
        "\n",
        "Ys = session.run([gen],\n",
        "                 feed_dict={\n",
        "                     input_z: Z,\n",
        "                     is_training: False\n",
        "                })\n",
        "\n",
        "Ys = np.squeeze((Ys[0] + 1.0) * 0.5 * 255.0).astype(np.uint8)\n"
      ]
    },
    {
      "cell_type": "code",
      "execution_count": null,
      "id": "a73088da",
      "metadata": {
        "id": "a73088da",
        "outputId": "5e000cf1-d209-4fa4-eae6-7fc2ff4823d8"
      },
      "outputs": [
        {
          "data": {
            "image/png": "[encoded data removed]",
            "text/plain": [
              "<PIL.Image.Image image mode=RGB size=28x28>"
            ]
          },
          "metadata": {},
          "output_type": "display_data"
        },
        {
          "data": {
            "image/png": "[encoded data removed]",
            "text/plain": [
              "<PIL.Image.Image image mode=RGB size=64x64>"
            ]
          },
          "metadata": {},
          "output_type": "display_data"
        },
        {
          "name": "stdout",
          "output_type": "stream",
          "text": [
            "-\n"
          ]
        },
        {
          "data": {
            "image/png": "[encoded data removed]",
            "text/plain": [
              "<PIL.Image.Image image mode=RGB size=28x28>"
            ]
          },
          "metadata": {},
          "output_type": "display_data"
        },
        {
          "data": {
            "image/png": "[encoded data removed]",
            "text/plain": [
              "<PIL.Image.Image image mode=RGB size=64x64>"
            ]
          },
          "metadata": {},
          "output_type": "display_data"
        },
        {
          "name": "stdout",
          "output_type": "stream",
          "text": [
            "-\n"
          ]
        },
        {
          "data": {
            "image/png": "[encoded data removed]",
            "text/plain": [
              "<PIL.Image.Image image mode=RGB size=28x28>"
            ]
          },
          "metadata": {},
          "output_type": "display_data"
        },
        {
          "data": {
            "image/png": "[encoded data removed]",
            "text/plain": [
              "<PIL.Image.Image image mode=RGB size=64x64>"
            ]
          },
          "metadata": {},
          "output_type": "display_data"
        },
        {
          "name": "stdout",
          "output_type": "stream",
          "text": [
            "-\n"
          ]
        },
        {
          "data": {
            "image/png": "[encoded data removed]",
            "text/plain": [
              "<PIL.Image.Image image mode=RGB size=28x28>"
            ]
          },
          "metadata": {},
          "output_type": "display_data"
        },
        {
          "data": {
            "image/png": "[encoded data removed]",
            "text/plain": [
              "<PIL.Image.Image image mode=RGB size=64x64>"
            ]
          },
          "metadata": {},
          "output_type": "display_data"
        },
        {
          "name": "stdout",
          "output_type": "stream",
          "text": [
            "-\n"
          ]
        },
        {
          "data": {
            "image/png": "[encoded data removed]",
            "text/plain": [
              "<PIL.Image.Image image mode=RGB size=28x28>"
            ]
          },
          "metadata": {},
          "output_type": "display_data"
        },
        {
          "data": {
            "image/png": "[encoded data removed]",
            "text/plain": [
              "<PIL.Image.Image image mode=RGB size=64x64>"
            ]
          },
          "metadata": {},
          "output_type": "display_data"
        },
        {
          "name": "stdout",
          "output_type": "stream",
          "text": [
            "-\n"
          ]
        },
        {
          "data": {
            "image/png": "[encoded data removed]",
            "text/plain": [
              "<PIL.Image.Image image mode=RGB size=28x28>"
            ]
          },
          "metadata": {},
          "output_type": "display_data"
        },
        {
          "data": {
            "image/png": "[encoded data removed]",
            "text/plain": [
              "<PIL.Image.Image image mode=RGB size=64x64>"
            ]
          },
          "metadata": {},
          "output_type": "display_data"
        },
        {
          "name": "stdout",
          "output_type": "stream",
          "text": [
            "-\n"
          ]
        },
        {
          "data": {
            "image/png": "[encoded data removed]",
            "text/plain": [
              "<PIL.Image.Image image mode=RGB size=28x28>"
            ]
          },
          "metadata": {},
          "output_type": "display_data"
        },
        {
          "data": {
            "image/png": "[encoded data removed]",
            "text/plain": [
              "<PIL.Image.Image image mode=RGB size=64x64>"
            ]
          },
          "metadata": {},
          "output_type": "display_data"
        },
        {
          "name": "stdout",
          "output_type": "stream",
          "text": [
            "-\n"
          ]
        },
        {
          "data": {
            "image/png": "[encoded data removed]",
            "text/plain": [
              "<PIL.Image.Image image mode=RGB size=28x28>"
            ]
          },
          "metadata": {},
          "output_type": "display_data"
        },
        {
          "data": {
            "image/png": "[encoded data removed]",
            "text/plain": [
              "<PIL.Image.Image image mode=RGB size=64x64>"
            ]
          },
          "metadata": {},
          "output_type": "display_data"
        },
        {
          "name": "stdout",
          "output_type": "stream",
          "text": [
            "-\n"
          ]
        },
        {
          "data": {
            "image/png": "[encoded data removed]",
            "text/plain": [
              "<PIL.Image.Image image mode=RGB size=28x28>"
            ]
          },
          "metadata": {},
          "output_type": "display_data"
        },
        {
          "data": {
            "image/png": "[encoded data removed]",
            "text/plain": [
              "<PIL.Image.Image image mode=RGB size=64x64>"
            ]
          },
          "metadata": {},
          "output_type": "display_data"
        },
        {
          "name": "stdout",
          "output_type": "stream",
          "text": [
            "-\n"
          ]
        },
        {
          "data": {
            "image/png": "[encoded data removed]",
            "text/plain": [
              "<PIL.Image.Image image mode=RGB size=28x28>"
            ]
          },
          "metadata": {},
          "output_type": "display_data"
        },
        {
          "data": {
            "image/png": "[encoded data removed]",
            "text/plain": [
              "<PIL.Image.Image image mode=RGB size=64x64>"
            ]
          },
          "metadata": {},
          "output_type": "display_data"
        },
        {
          "name": "stdout",
          "output_type": "stream",
          "text": [
            "-\n"
          ]
        }
      ],
      "source": [
        "from PIL import Image\n",
        "\n",
        "for i in range(0,10):\n",
        "    im = Image.fromarray(X_train[i] * 255.0)\n",
        "    if im.mode != 'RGB':\n",
        "        im = im.convert('RGB')\n",
        "    display(im)\n",
        "\n",
        "    im = Image.fromarray(Ys[i])\n",
        "    if im.mode != 'RGB':\n",
        "        im = im.convert('RGB')\n",
        "    display(im)\n",
        "    print(\"-\")"
      ]
    }
  ],
  "metadata": {
    "kernelspec": {
      "display_name": "Python 3 (ipykernel)",
      "language": "python",
      "name": "python3"
    },
    "language_info": {
      "codemirror_mode": {
        "name": "ipython",
        "version": 3
      },
      "file_extension": ".py",
      "mimetype": "text/x-python",
      "name": "python",
      "nbconvert_exporter": "python",
      "pygments_lexer": "ipython3",
      "version": "3.7.9"
    },
    "colab": {
      "provenance": []
    }
  },
  "nbformat": 4,
  "nbformat_minor": 5
}