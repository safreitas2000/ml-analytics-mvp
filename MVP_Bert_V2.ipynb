{
  "nbformat": 4,
  "nbformat_minor": 0,
  "metadata": {
    "colab": {
      "provenance": [],
      "gpuType": "T4",
      "machine_shape": "hm",
      "authorship_tag": "ABX9TyOAavdctEhKepZeL38WHaED",
      "include_colab_link": true
    },
    "kernelspec": {
      "name": "python3",
      "display_name": "Python 3"
    },
    "language_info": {
      "name": "python"
    },
    "accelerator": "GPU"
  },
  "cells": [
    {
      "cell_type": "markdown",
      "metadata": {
        "id": "view-in-github",
        "colab_type": "text"
      },
      "source": [
        "<a href=\"https://colab.research.google.com/github/safreitas2000/ml-analytics-mvp/blob/main/MVP_Bert_V2.ipynb\" target=\"_parent\"><img src=\"https://colab.research.google.com/assets/colab-badge.svg\" alt=\"Open In Colab\"/></a>"
      ]
    },
    {
      "cell_type": "code",
      "source": [
        "!pip install tensorflow-text"
      ],
      "metadata": {
        "colab": {
          "base_uri": "https://localhost:8080/"
        },
        "id": "UU9h8pNVWcKx",
        "outputId": "06c58181-91f4-432b-b5dd-705598af31f3"
      },
      "execution_count": 88,
      "outputs": [
        {
          "output_type": "stream",
          "name": "stdout",
          "text": [
            "Requirement already satisfied: tensorflow-text in /usr/local/lib/python3.10/dist-packages (2.13.0)\n",
            "Requirement already satisfied: tensorflow-hub>=0.8.0 in /usr/local/lib/python3.10/dist-packages (from tensorflow-text) (0.13.0)\n",
            "Requirement already satisfied: tensorflow<2.14,>=2.13.0 in /usr/local/lib/python3.10/dist-packages (from tensorflow-text) (2.13.0)\n",
            "Requirement already satisfied: absl-py>=1.0.0 in /usr/local/lib/python3.10/dist-packages (from tensorflow<2.14,>=2.13.0->tensorflow-text) (1.4.0)\n",
            "Requirement already satisfied: astunparse>=1.6.0 in /usr/local/lib/python3.10/dist-packages (from tensorflow<2.14,>=2.13.0->tensorflow-text) (1.6.3)\n",
            "Requirement already satisfied: flatbuffers>=23.1.21 in /usr/local/lib/python3.10/dist-packages (from tensorflow<2.14,>=2.13.0->tensorflow-text) (23.5.26)\n",
            "Requirement already satisfied: gast<=0.4.0,>=0.2.1 in /usr/local/lib/python3.10/dist-packages (from tensorflow<2.14,>=2.13.0->tensorflow-text) (0.4.0)\n",
            "Requirement already satisfied: google-pasta>=0.1.1 in /usr/local/lib/python3.10/dist-packages (from tensorflow<2.14,>=2.13.0->tensorflow-text) (0.2.0)\n",
            "Requirement already satisfied: grpcio<2.0,>=1.24.3 in /usr/local/lib/python3.10/dist-packages (from tensorflow<2.14,>=2.13.0->tensorflow-text) (1.56.0)\n",
            "Requirement already satisfied: h5py>=2.9.0 in /usr/local/lib/python3.10/dist-packages (from tensorflow<2.14,>=2.13.0->tensorflow-text) (3.8.0)\n",
            "Requirement already satisfied: keras<2.14,>=2.13.1 in /usr/local/lib/python3.10/dist-packages (from tensorflow<2.14,>=2.13.0->tensorflow-text) (2.13.1)\n",
            "Requirement already satisfied: libclang>=13.0.0 in /usr/local/lib/python3.10/dist-packages (from tensorflow<2.14,>=2.13.0->tensorflow-text) (16.0.0)\n",
            "Requirement already satisfied: numpy<=1.24.3,>=1.22 in /usr/local/lib/python3.10/dist-packages (from tensorflow<2.14,>=2.13.0->tensorflow-text) (1.22.4)\n",
            "Requirement already satisfied: opt-einsum>=2.3.2 in /usr/local/lib/python3.10/dist-packages (from tensorflow<2.14,>=2.13.0->tensorflow-text) (3.3.0)\n",
            "Requirement already satisfied: packaging in /usr/local/lib/python3.10/dist-packages (from tensorflow<2.14,>=2.13.0->tensorflow-text) (23.1)\n",
            "Requirement already satisfied: protobuf!=4.21.0,!=4.21.1,!=4.21.2,!=4.21.3,!=4.21.4,!=4.21.5,<5.0.0dev,>=3.20.3 in /usr/local/lib/python3.10/dist-packages (from tensorflow<2.14,>=2.13.0->tensorflow-text) (3.20.3)\n",
            "Requirement already satisfied: setuptools in /usr/local/lib/python3.10/dist-packages (from tensorflow<2.14,>=2.13.0->tensorflow-text) (67.7.2)\n",
            "Requirement already satisfied: six>=1.12.0 in /usr/local/lib/python3.10/dist-packages (from tensorflow<2.14,>=2.13.0->tensorflow-text) (1.16.0)\n",
            "Requirement already satisfied: tensorboard<2.14,>=2.13 in /usr/local/lib/python3.10/dist-packages (from tensorflow<2.14,>=2.13.0->tensorflow-text) (2.13.0)\n",
            "Requirement already satisfied: tensorflow-estimator<2.14,>=2.13.0 in /usr/local/lib/python3.10/dist-packages (from tensorflow<2.14,>=2.13.0->tensorflow-text) (2.13.0)\n",
            "Requirement already satisfied: termcolor>=1.1.0 in /usr/local/lib/python3.10/dist-packages (from tensorflow<2.14,>=2.13.0->tensorflow-text) (2.3.0)\n",
            "Requirement already satisfied: typing-extensions<4.6.0,>=3.6.6 in /usr/local/lib/python3.10/dist-packages (from tensorflow<2.14,>=2.13.0->tensorflow-text) (4.5.0)\n",
            "Requirement already satisfied: wrapt>=1.11.0 in /usr/local/lib/python3.10/dist-packages (from tensorflow<2.14,>=2.13.0->tensorflow-text) (1.14.1)\n",
            "Requirement already satisfied: tensorflow-io-gcs-filesystem>=0.23.1 in /usr/local/lib/python3.10/dist-packages (from tensorflow<2.14,>=2.13.0->tensorflow-text) (0.32.0)\n",
            "Requirement already satisfied: wheel<1.0,>=0.23.0 in /usr/local/lib/python3.10/dist-packages (from astunparse>=1.6.0->tensorflow<2.14,>=2.13.0->tensorflow-text) (0.40.0)\n",
            "Requirement already satisfied: google-auth<3,>=1.6.3 in /usr/local/lib/python3.10/dist-packages (from tensorboard<2.14,>=2.13->tensorflow<2.14,>=2.13.0->tensorflow-text) (2.17.3)\n",
            "Requirement already satisfied: google-auth-oauthlib<1.1,>=0.5 in /usr/local/lib/python3.10/dist-packages (from tensorboard<2.14,>=2.13->tensorflow<2.14,>=2.13.0->tensorflow-text) (1.0.0)\n",
            "Requirement already satisfied: markdown>=2.6.8 in /usr/local/lib/python3.10/dist-packages (from tensorboard<2.14,>=2.13->tensorflow<2.14,>=2.13.0->tensorflow-text) (3.4.3)\n",
            "Requirement already satisfied: requests<3,>=2.21.0 in /usr/local/lib/python3.10/dist-packages (from tensorboard<2.14,>=2.13->tensorflow<2.14,>=2.13.0->tensorflow-text) (2.27.1)\n",
            "Requirement already satisfied: tensorboard-data-server<0.8.0,>=0.7.0 in /usr/local/lib/python3.10/dist-packages (from tensorboard<2.14,>=2.13->tensorflow<2.14,>=2.13.0->tensorflow-text) (0.7.1)\n",
            "Requirement already satisfied: werkzeug>=1.0.1 in /usr/local/lib/python3.10/dist-packages (from tensorboard<2.14,>=2.13->tensorflow<2.14,>=2.13.0->tensorflow-text) (2.3.6)\n",
            "Requirement already satisfied: cachetools<6.0,>=2.0.0 in /usr/local/lib/python3.10/dist-packages (from google-auth<3,>=1.6.3->tensorboard<2.14,>=2.13->tensorflow<2.14,>=2.13.0->tensorflow-text) (5.3.1)\n",
            "Requirement already satisfied: pyasn1-modules>=0.2.1 in /usr/local/lib/python3.10/dist-packages (from google-auth<3,>=1.6.3->tensorboard<2.14,>=2.13->tensorflow<2.14,>=2.13.0->tensorflow-text) (0.3.0)\n",
            "Requirement already satisfied: rsa<5,>=3.1.4 in /usr/local/lib/python3.10/dist-packages (from google-auth<3,>=1.6.3->tensorboard<2.14,>=2.13->tensorflow<2.14,>=2.13.0->tensorflow-text) (4.9)\n",
            "Requirement already satisfied: requests-oauthlib>=0.7.0 in /usr/local/lib/python3.10/dist-packages (from google-auth-oauthlib<1.1,>=0.5->tensorboard<2.14,>=2.13->tensorflow<2.14,>=2.13.0->tensorflow-text) (1.3.1)\n",
            "Requirement already satisfied: urllib3<1.27,>=1.21.1 in /usr/local/lib/python3.10/dist-packages (from requests<3,>=2.21.0->tensorboard<2.14,>=2.13->tensorflow<2.14,>=2.13.0->tensorflow-text) (1.26.16)\n",
            "Requirement already satisfied: certifi>=2017.4.17 in /usr/local/lib/python3.10/dist-packages (from requests<3,>=2.21.0->tensorboard<2.14,>=2.13->tensorflow<2.14,>=2.13.0->tensorflow-text) (2023.5.7)\n",
            "Requirement already satisfied: charset-normalizer~=2.0.0 in /usr/local/lib/python3.10/dist-packages (from requests<3,>=2.21.0->tensorboard<2.14,>=2.13->tensorflow<2.14,>=2.13.0->tensorflow-text) (2.0.12)\n",
            "Requirement already satisfied: idna<4,>=2.5 in /usr/local/lib/python3.10/dist-packages (from requests<3,>=2.21.0->tensorboard<2.14,>=2.13->tensorflow<2.14,>=2.13.0->tensorflow-text) (3.4)\n",
            "Requirement already satisfied: MarkupSafe>=2.1.1 in /usr/local/lib/python3.10/dist-packages (from werkzeug>=1.0.1->tensorboard<2.14,>=2.13->tensorflow<2.14,>=2.13.0->tensorflow-text) (2.1.3)\n",
            "Requirement already satisfied: pyasn1<0.6.0,>=0.4.6 in /usr/local/lib/python3.10/dist-packages (from pyasn1-modules>=0.2.1->google-auth<3,>=1.6.3->tensorboard<2.14,>=2.13->tensorflow<2.14,>=2.13.0->tensorflow-text) (0.5.0)\n",
            "Requirement already satisfied: oauthlib>=3.0.0 in /usr/local/lib/python3.10/dist-packages (from requests-oauthlib>=0.7.0->google-auth-oauthlib<1.1,>=0.5->tensorboard<2.14,>=2.13->tensorflow<2.14,>=2.13.0->tensorflow-text) (3.2.2)\n"
          ]
        }
      ]
    },
    {
      "cell_type": "code",
      "execution_count": 89,
      "metadata": {
        "id": "qiAfgit2WTGt"
      },
      "outputs": [],
      "source": [
        "import numpy as np # linear algebra\n",
        "import pandas as pd # data processing, CSV file I/O (e.g. pd.read_csv)\n",
        "import pickle\n",
        "import matplotlib.pyplot as plt\n",
        "from sklearn.model_selection import train_test_split\n",
        "import tensorflow as tf\n",
        "from tensorflow import keras\n",
        "from keras.layers import Dense, Dropout\n",
        "import tensorflow_hub as hub\n",
        "import tensorflow_text as text"
      ]
    },
    {
      "cell_type": "code",
      "source": [
        "# Informa a URL de importação do dataset\n",
        "url = \"https://raw.githubusercontent.com/safreitas2000/ml-analytics-mvp/main/McDonald_s_Reviews.csv\"\n",
        "\n",
        "# Lê o arquivo\n",
        "df = pd.read_csv(url, delimiter=',', encoding='latin-1')\n",
        "df = df.head(1000)"
      ],
      "metadata": {
        "id": "LPNfI-bgW4Ha"
      },
      "execution_count": 152,
      "outputs": []
    },
    {
      "cell_type": "code",
      "source": [
        "rat=df.rating.value_counts()\n",
        "rat"
      ],
      "metadata": {
        "colab": {
          "base_uri": "https://localhost:8080/"
        },
        "id": "jaNAvUe5XJNZ",
        "outputId": "e3aed8ef-bcbd-405d-aeef-834136da26fe"
      },
      "execution_count": 153,
      "outputs": [
        {
          "output_type": "execute_result",
          "data": {
            "text/plain": [
              "5 stars    283\n",
              "1 star     279\n",
              "3 stars    176\n",
              "4 stars    164\n",
              "2 stars     98\n",
              "Name: rating, dtype: int64"
            ]
          },
          "metadata": {},
          "execution_count": 153
        }
      ]
    },
    {
      "cell_type": "code",
      "source": [
        "import matplotlib.pyplot as plt"
      ],
      "metadata": {
        "id": "wSwTN-ElXNaj"
      },
      "execution_count": 154,
      "outputs": []
    },
    {
      "cell_type": "code",
      "source": [
        "fig, ax = plt.subplots()\n",
        "ax.bar(rat.index, rat.values)\n",
        "\n",
        "# Set labels and title\n",
        "ax.set_xlabel('Rating')\n",
        "ax.set_ylabel('Values')\n",
        "ax.set_title('Rating Value Count')\n",
        "\n",
        "# Display the plot\n",
        "plt.show()"
      ],
      "metadata": {
        "colab": {
          "base_uri": "https://localhost:8080/",
          "height": 472
        },
        "id": "edoET0v6XRBO",
        "outputId": "ba116958-4872-4aad-e8a2-5024630d3cea"
      },
      "execution_count": 155,
      "outputs": [
        {
          "output_type": "display_data",
          "data": {
            "text/plain": [
              "<Figure size 640x480 with 1 Axes>"
            ],
            "image/png": "[encoded data removed]"
          },
          "metadata": {}
        }
      ]
    },
    {
      "cell_type": "code",
      "source": [
        "import re\n",
        "df[\"rating\"] = df[\"rating\"].str.extract(r\"(\\d+)\", expand=False).astype(int)"
      ],
      "metadata": {
        "id": "YXQh_-zWXXjH"
      },
      "execution_count": 156,
      "outputs": []
    },
    {
      "cell_type": "code",
      "source": [
        "mapping={1:0,2:0,3:None,4:1,5:1}\n",
        "df['rating_bin']=df.rating.map(mapping)\n",
        "df=df.dropna(subset='rating_bin')"
      ],
      "metadata": {
        "id": "hWvAT0VIX74R"
      },
      "execution_count": 157,
      "outputs": []
    },
    {
      "cell_type": "code",
      "source": [
        "df.head(10)"
      ],
      "metadata": {
        "id": "Dqbsa4sSkmJl",
        "outputId": "204f1899-def4-4c24-8d0d-6d191972ebb7",
        "colab": {
          "base_uri": "https://localhost:8080/",
          "height": 580
        }
      },
      "execution_count": 177,
      "outputs": [
        {
          "output_type": "execute_result",
          "data": {
            "text/plain": [
              "   reviewer_id  store_name              category  \\\n",
              "0            1  McDonald's  Fast food restaurant   \n",
              "1            2  McDonald's  Fast food restaurant   \n",
              "2            3  McDonald's  Fast food restaurant   \n",
              "3            4  McDonald's  Fast food restaurant   \n",
              "4            5  McDonald's  Fast food restaurant   \n",
              "5            6  McDonald's  Fast food restaurant   \n",
              "6            7  McDonald's  Fast food restaurant   \n",
              "7            8  McDonald's  Fast food restaurant   \n",
              "8            9  McDonald's  Fast food restaurant   \n",
              "9           10  McDonald's  Fast food restaurant   \n",
              "\n",
              "                                       store_address  latitude   longitude  \\\n",
              "0  13749 US-183 Hwy, Austin, TX 78750, United States  30.460718 -97.792874   \n",
              "1  13749 US-183 Hwy, Austin, TX 78750, United States  30.460718 -97.792874   \n",
              "2  13749 US-183 Hwy, Austin, TX 78750, United States  30.460718 -97.792874   \n",
              "3  13749 US-183 Hwy, Austin, TX 78750, United States  30.460718 -97.792874   \n",
              "4  13749 US-183 Hwy, Austin, TX 78750, United States  30.460718 -97.792874   \n",
              "5  13749 US-183 Hwy, Austin, TX 78750, United States  30.460718 -97.792874   \n",
              "6  13749 US-183 Hwy, Austin, TX 78750, United States  30.460718 -97.792874   \n",
              "7  13749 US-183 Hwy, Austin, TX 78750, United States  30.460718 -97.792874   \n",
              "8  13749 US-183 Hwy, Austin, TX 78750, United States  30.460718 -97.792874   \n",
              "9  13749 US-183 Hwy, Austin, TX 78750, United States  30.460718 -97.792874   \n",
              "\n",
              "  rating_count   review_time  \\\n",
              "0        1,240  3 months ago   \n",
              "1        1,240    5 days ago   \n",
              "2        1,240    5 days ago   \n",
              "3        1,240   a month ago   \n",
              "4        1,240  2 months ago   \n",
              "5        1,240   3 weeks ago   \n",
              "6        1,240  3 months ago   \n",
              "7        1,240    a year ago   \n",
              "8        1,240  3 months ago   \n",
              "9        1,240  3 months ago   \n",
              "\n",
              "                                              review  rating  rating_bin  \n",
              "0  Why does it look like someone spit on my food?...       1         0.0  \n",
              "1  It'd McDonalds. It is what it is as far as the...       4         1.0  \n",
              "2  Made a mobile order got to the speaker and che...       1         0.0  \n",
              "3  My mc. Crispy chicken sandwich was  customer s...       5         1.0  \n",
              "4  I repeat my order 3 times in the drive thru, a...       1         0.0  \n",
              "5  I work for door dash and they locked us all ou...       1         0.0  \n",
              "6  If I  could give this location a zero on custo...       1         0.0  \n",
              "7  Came in and ordered a Large coffee w/no ice. T...       1         0.0  \n",
              "8  Went thru drive thru. Ordered. Getting home no...       1         0.0  \n",
              "9  I'm not really a huge fan of fast food, but I ...       4         1.0  "
            ],
            "text/html": [
              "\n",
              "\n",
              "  <div id=\"df-a3336c20-d42d-43ef-9a70-5f9c66b21577\">\n",
              "    <div class=\"colab-df-container\">\n",
              "      <div>\n",
              "<style scoped>\n",
              "    .dataframe tbody tr th:only-of-type {\n",
              "        vertical-align: middle;\n",
              "    }\n",
              "\n",
              "    .dataframe tbody tr th {\n",
              "        vertical-align: top;\n",
              "    }\n",
              "\n",
              "    .dataframe thead th {\n",
              "        text-align: right;\n",
              "    }\n",
              "</style>\n",
              "<table border=\"1\" class=\"dataframe\">\n",
              "  <thead>\n",
              "    <tr style=\"text-align: right;\">\n",
              "      <th></th>\n",
              "      <th>reviewer_id</th>\n",
              "      <th>store_name</th>\n",
              "      <th>category</th>\n",
              "      <th>store_address</th>\n",
              "      <th>latitude</th>\n",
              "      <th>longitude</th>\n",
              "      <th>rating_count</th>\n",
              "      <th>review_time</th>\n",
              "      <th>review</th>\n",
              "      <th>rating</th>\n",
              "      <th>rating_bin</th>\n",
              "    </tr>\n",
              "  </thead>\n",
              "  <tbody>\n",
              "    <tr>\n",
              "      <th>0</th>\n",
              "      <td>1</td>\n",
              "      <td>McDonald's</td>\n",
              "      <td>Fast food restaurant</td>\n",
              "      <td>13749 US-183 Hwy, Austin, TX 78750, United States</td>\n",
              "      <td>30.460718</td>\n",
              "      <td>-97.792874</td>\n",
              "      <td>1,240</td>\n",
              "      <td>3 months ago</td>\n",
              "      <td>Why does it look like someone spit on my food?...</td>\n",
              "      <td>1</td>\n",
              "      <td>0.0</td>\n",
              "    </tr>\n",
              "    <tr>\n",
              "      <th>1</th>\n",
              "      <td>2</td>\n",
              "      <td>McDonald's</td>\n",
              "      <td>Fast food restaurant</td>\n",
              "      <td>13749 US-183 Hwy, Austin, TX 78750, United States</td>\n",
              "      <td>30.460718</td>\n",
              "      <td>-97.792874</td>\n",
              "      <td>1,240</td>\n",
              "      <td>5 days ago</td>\n",
              "      <td>It'd McDonalds. It is what it is as far as the...</td>\n",
              "      <td>4</td>\n",
              "      <td>1.0</td>\n",
              "    </tr>\n",
              "    <tr>\n",
              "      <th>2</th>\n",
              "      <td>3</td>\n",
              "      <td>McDonald's</td>\n",
              "      <td>Fast food restaurant</td>\n",
              "      <td>13749 US-183 Hwy, Austin, TX 78750, United States</td>\n",
              "      <td>30.460718</td>\n",
              "      <td>-97.792874</td>\n",
              "      <td>1,240</td>\n",
              "      <td>5 days ago</td>\n",
              "      <td>Made a mobile order got to the speaker and che...</td>\n",
              "      <td>1</td>\n",
              "      <td>0.0</td>\n",
              "    </tr>\n",
              "    <tr>\n",
              "      <th>3</th>\n",
              "      <td>4</td>\n",
              "      <td>McDonald's</td>\n",
              "      <td>Fast food restaurant</td>\n",
              "      <td>13749 US-183 Hwy, Austin, TX 78750, United States</td>\n",
              "      <td>30.460718</td>\n",
              "      <td>-97.792874</td>\n",
              "      <td>1,240</td>\n",
              "      <td>a month ago</td>\n",
              "      <td>My mc. Crispy chicken sandwich was  customer s...</td>\n",
              "      <td>5</td>\n",
              "      <td>1.0</td>\n",
              "    </tr>\n",
              "    <tr>\n",
              "      <th>4</th>\n",
              "      <td>5</td>\n",
              "      <td>McDonald's</td>\n",
              "      <td>Fast food restaurant</td>\n",
              "      <td>13749 US-183 Hwy, Austin, TX 78750, United States</td>\n",
              "      <td>30.460718</td>\n",
              "      <td>-97.792874</td>\n",
              "      <td>1,240</td>\n",
              "      <td>2 months ago</td>\n",
              "      <td>I repeat my order 3 times in the drive thru, a...</td>\n",
              "      <td>1</td>\n",
              "      <td>0.0</td>\n",
              "    </tr>\n",
              "    <tr>\n",
              "      <th>5</th>\n",
              "      <td>6</td>\n",
              "      <td>McDonald's</td>\n",
              "      <td>Fast food restaurant</td>\n",
              "      <td>13749 US-183 Hwy, Austin, TX 78750, United States</td>\n",
              "      <td>30.460718</td>\n",
              "      <td>-97.792874</td>\n",
              "      <td>1,240</td>\n",
              "      <td>3 weeks ago</td>\n",
              "      <td>I work for door dash and they locked us all ou...</td>\n",
              "      <td>1</td>\n",
              "      <td>0.0</td>\n",
              "    </tr>\n",
              "    <tr>\n",
              "      <th>6</th>\n",
              "      <td>7</td>\n",
              "      <td>McDonald's</td>\n",
              "      <td>Fast food restaurant</td>\n",
              "      <td>13749 US-183 Hwy, Austin, TX 78750, United States</td>\n",
              "      <td>30.460718</td>\n",
              "      <td>-97.792874</td>\n",
              "      <td>1,240</td>\n",
              "      <td>3 months ago</td>\n",
              "      <td>If I  could give this location a zero on custo...</td>\n",
              "      <td>1</td>\n",
              "      <td>0.0</td>\n",
              "    </tr>\n",
              "    <tr>\n",
              "      <th>7</th>\n",
              "      <td>8</td>\n",
              "      <td>McDonald's</td>\n",
              "      <td>Fast food restaurant</td>\n",
              "      <td>13749 US-183 Hwy, Austin, TX 78750, United States</td>\n",
              "      <td>30.460718</td>\n",
              "      <td>-97.792874</td>\n",
              "      <td>1,240</td>\n",
              "      <td>a year ago</td>\n",
              "      <td>Came in and ordered a Large coffee w/no ice. T...</td>\n",
              "      <td>1</td>\n",
              "      <td>0.0</td>\n",
              "    </tr>\n",
              "    <tr>\n",
              "      <th>8</th>\n",
              "      <td>9</td>\n",
              "      <td>McDonald's</td>\n",
              "      <td>Fast food restaurant</td>\n",
              "      <td>13749 US-183 Hwy, Austin, TX 78750, United States</td>\n",
              "      <td>30.460718</td>\n",
              "      <td>-97.792874</td>\n",
              "      <td>1,240</td>\n",
              "      <td>3 months ago</td>\n",
              "      <td>Went thru drive thru. Ordered. Getting home no...</td>\n",
              "      <td>1</td>\n",
              "      <td>0.0</td>\n",
              "    </tr>\n",
              "    <tr>\n",
              "      <th>9</th>\n",
              "      <td>10</td>\n",
              "      <td>McDonald's</td>\n",
              "      <td>Fast food restaurant</td>\n",
              "      <td>13749 US-183 Hwy, Austin, TX 78750, United States</td>\n",
              "      <td>30.460718</td>\n",
              "      <td>-97.792874</td>\n",
              "      <td>1,240</td>\n",
              "      <td>3 months ago</td>\n",
              "      <td>I'm not really a huge fan of fast food, but I ...</td>\n",
              "      <td>4</td>\n",
              "      <td>1.0</td>\n",
              "    </tr>\n",
              "  </tbody>\n",
              "</table>\n",
              "</div>\n",
              "      <button class=\"colab-df-convert\" onclick=\"convertToInteractive('df-a3336c20-d42d-43ef-9a70-5f9c66b21577')\"\n",
              "              title=\"Convert this dataframe to an interactive table.\"\n",
              "              style=\"display:none;\">\n",
              "\n",
              "  <svg xmlns=\"http://www.w3.org/2000/svg\" height=\"24px\"viewBox=\"0 0 24 24\"\n",
              "       width=\"24px\">\n",
              "    <path d=\"M0 0h24v24H0V0z\" fill=\"none\"/>\n",
              "    <path d=\"M18.56 5.44l.94 2.06.94-2.06 2.06-.94-2.06-.94-.94-2.06-.94 2.06-2.06.94zm-11 1L8.5 8.5l.94-2.06 2.06-.94-2.06-.94L8.5 2.5l-.94 2.06-2.06.94zm10 10l.94 2.06.94-2.06 2.06-.94-2.06-.94-.94-2.06-.94 2.06-2.06.94z\"/><path d=\"M17.41 7.96l-1.37-1.37c-.4-.4-.92-.59-1.43-.59-.52 0-1.04.2-1.43.59L10.3 9.45l-7.72 7.72c-.78.78-.78 2.05 0 2.83L4 21.41c.39.39.9.59 1.41.59.51 0 1.02-.2 1.41-.59l7.78-7.78 2.81-2.81c.8-.78.8-2.07 0-2.86zM5.41 20L4 18.59l7.72-7.72 1.47 1.35L5.41 20z\"/>\n",
              "  </svg>\n",
              "      </button>\n",
              "\n",
              "\n",
              "\n",
              "    <div id=\"df-19fe254f-08ef-4e8d-86e5-d3391735f873\">\n",
              "      <button class=\"colab-df-quickchart\" onclick=\"quickchart('df-19fe254f-08ef-4e8d-86e5-d3391735f873')\"\n",
              "              title=\"Suggest charts.\"\n",
              "              style=\"display:none;\">\n",
              "\n",
              "<svg xmlns=\"http://www.w3.org/2000/svg\" height=\"24px\"viewBox=\"0 0 24 24\"\n",
              "     width=\"24px\">\n",
              "    <g>\n",
              "        <path d=\"M19 3H5c-1.1 0-2 .9-2 2v14c0 1.1.9 2 2 2h14c1.1 0 2-.9 2-2V5c0-1.1-.9-2-2-2zM9 17H7v-7h2v7zm4 0h-2V7h2v10zm4 0h-2v-4h2v4z\"/>\n",
              "    </g>\n",
              "</svg>\n",
              "      </button>\n",
              "    </div>\n",
              "\n",
              "<style>\n",
              "  .colab-df-quickchart {\n",
              "    background-color: #E8F0FE;\n",
              "    border: none;\n",
              "    border-radius: 50%;\n",
              "    cursor: pointer;\n",
              "    display: none;\n",
              "    fill: #1967D2;\n",
              "    height: 32px;\n",
              "    padding: 0 0 0 0;\n",
              "    width: 32px;\n",
              "  }\n",
              "\n",
              "  .colab-df-quickchart:hover {\n",
              "    background-color: #E2EBFA;\n",
              "    box-shadow: 0px 1px 2px rgba(60, 64, 67, 0.3), 0px 1px 3px 1px rgba(60, 64, 67, 0.15);\n",
              "    fill: #174EA6;\n",
              "  }\n",
              "\n",
              "  [theme=dark] .colab-df-quickchart {\n",
              "    background-color: #3B4455;\n",
              "    fill: #D2E3FC;\n",
              "  }\n",
              "\n",
              "  [theme=dark] .colab-df-quickchart:hover {\n",
              "    background-color: #434B5C;\n",
              "    box-shadow: 0px 1px 3px 1px rgba(0, 0, 0, 0.15);\n",
              "    filter: drop-shadow(0px 1px 2px rgba(0, 0, 0, 0.3));\n",
              "    fill: #FFFFFF;\n",
              "  }\n",
              "</style>\n",
              "\n",
              "    <script>\n",
              "      async function quickchart(key) {\n",
              "        const containerElement = document.querySelector('#' + key);\n",
              "        const charts = await google.colab.kernel.invokeFunction(\n",
              "            'suggestCharts', [key], {});\n",
              "      }\n",
              "    </script>\n",
              "\n",
              "      <script>\n",
              "\n",
              "function displayQuickchartButton(domScope) {\n",
              "  let quickchartButtonEl =\n",
              "    domScope.querySelector('#df-19fe254f-08ef-4e8d-86e5-d3391735f873 button.colab-df-quickchart');\n",
              "  quickchartButtonEl.style.display =\n",
              "    google.colab.kernel.accessAllowed ? 'block' : 'none';\n",
              "}\n",
              "\n",
              "        displayQuickchartButton(document);\n",
              "      </script>\n",
              "      <style>\n",
              "    .colab-df-container {\n",
              "      display:flex;\n",
              "      flex-wrap:wrap;\n",
              "      gap: 12px;\n",
              "    }\n",
              "\n",
              "    .colab-df-convert {\n",
              "      background-color: #E8F0FE;\n",
              "      border: none;\n",
              "      border-radius: 50%;\n",
              "      cursor: pointer;\n",
              "      display: none;\n",
              "      fill: #1967D2;\n",
              "      height: 32px;\n",
              "      padding: 0 0 0 0;\n",
              "      width: 32px;\n",
              "    }\n",
              "\n",
              "    .colab-df-convert:hover {\n",
              "      background-color: #E2EBFA;\n",
              "      box-shadow: 0px 1px 2px rgba(60, 64, 67, 0.3), 0px 1px 3px 1px rgba(60, 64, 67, 0.15);\n",
              "      fill: #174EA6;\n",
              "    }\n",
              "\n",
              "    [theme=dark] .colab-df-convert {\n",
              "      background-color: #3B4455;\n",
              "      fill: #D2E3FC;\n",
              "    }\n",
              "\n",
              "    [theme=dark] .colab-df-convert:hover {\n",
              "      background-color: #434B5C;\n",
              "      box-shadow: 0px 1px 3px 1px rgba(0, 0, 0, 0.15);\n",
              "      filter: drop-shadow(0px 1px 2px rgba(0, 0, 0, 0.3));\n",
              "      fill: #FFFFFF;\n",
              "    }\n",
              "  </style>\n",
              "\n",
              "      <script>\n",
              "        const buttonEl =\n",
              "          document.querySelector('#df-a3336c20-d42d-43ef-9a70-5f9c66b21577 button.colab-df-convert');\n",
              "        buttonEl.style.display =\n",
              "          google.colab.kernel.accessAllowed ? 'block' : 'none';\n",
              "\n",
              "        async function convertToInteractive(key) {\n",
              "          const element = document.querySelector('#df-a3336c20-d42d-43ef-9a70-5f9c66b21577');\n",
              "          const dataTable =\n",
              "            await google.colab.kernel.invokeFunction('convertToInteractive',\n",
              "                                                     [key], {});\n",
              "          if (!dataTable) return;\n",
              "\n",
              "          const docLinkHtml = 'Like what you see? Visit the ' +\n",
              "            '<a target=\"_blank\" href=https://colab.research.google.com/notebooks/data_table.ipynb>data table notebook</a>'\n",
              "            + ' to learn more about interactive tables.';\n",
              "          element.innerHTML = '';\n",
              "          dataTable['output_type'] = 'display_data';\n",
              "          await google.colab.output.renderOutput(dataTable, element);\n",
              "          const docLink = document.createElement('div');\n",
              "          docLink.innerHTML = docLinkHtml;\n",
              "          element.appendChild(docLink);\n",
              "        }\n",
              "      </script>\n",
              "    </div>\n",
              "  </div>\n"
            ]
          },
          "metadata": {},
          "execution_count": 177
        }
      ]
    },
    {
      "cell_type": "code",
      "source": [
        "df[\"review\"] = df[\"review\"].str.encode(\"ascii\", \"ignore\").str.decode(\"utf-8\")"
      ],
      "metadata": {
        "id": "2jueuuQNYH4f"
      },
      "execution_count": 159,
      "outputs": []
    },
    {
      "cell_type": "code",
      "source": [
        "df_Mult = df[[\"review\", \"rating\"]]\n",
        "df_Bin = df[[\"review\", \"rating_bin\"]]"
      ],
      "metadata": {
        "id": "Qsl5zOCiYLqR"
      },
      "execution_count": 160,
      "outputs": []
    },
    {
      "cell_type": "code",
      "source": [
        "#Separa conjunto de treino e teste para a classificação multiclasse\n",
        "X_train, X_test, y_train, y_test = train_test_split(df_Mult.review,df_Mult.rating,test_size=0.2)"
      ],
      "metadata": {
        "id": "5nK8C3DPYo9P"
      },
      "execution_count": 161,
      "outputs": []
    },
    {
      "cell_type": "code",
      "source": [
        "X_train.shape"
      ],
      "metadata": {
        "id": "Uo3B9Ln_hDeB",
        "outputId": "78897a97-a219-44c6-c73b-72548f34d21c",
        "colab": {
          "base_uri": "https://localhost:8080/"
        }
      },
      "execution_count": 162,
      "outputs": [
        {
          "output_type": "execute_result",
          "data": {
            "text/plain": [
              "(659,)"
            ]
          },
          "metadata": {},
          "execution_count": 162
        }
      ]
    },
    {
      "cell_type": "code",
      "source": [
        "X_test.shape"
      ],
      "metadata": {
        "id": "Ugkd2Mm_hEBS",
        "outputId": "f7ee5856-0ac1-49f6-c4f6-163e3c2dcbf7",
        "colab": {
          "base_uri": "https://localhost:8080/"
        }
      },
      "execution_count": 163,
      "outputs": [
        {
          "output_type": "execute_result",
          "data": {
            "text/plain": [
              "(165,)"
            ]
          },
          "metadata": {},
          "execution_count": 163
        }
      ]
    },
    {
      "cell_type": "code",
      "source": [
        "print(df_Bin)"
      ],
      "metadata": {
        "id": "ahemOwjRicBb",
        "outputId": "456068c8-009a-4c72-bdac-128ac9977251",
        "colab": {
          "base_uri": "https://localhost:8080/"
        }
      },
      "execution_count": 164,
      "outputs": [
        {
          "output_type": "stream",
          "name": "stdout",
          "text": [
            "                                                review  rating_bin\n",
            "0    Why does it look like someone spit on my food?...         0.0\n",
            "1    It'd McDonalds. It is what it is as far as the...         1.0\n",
            "2    Made a mobile order got to the speaker and che...         0.0\n",
            "3    My mc. Crispy chicken sandwich was  customer s...         1.0\n",
            "4    I repeat my order 3 times in the drive thru, a...         0.0\n",
            "..                                                 ...         ...\n",
            "995  This place is the one in front of the Lehigh V...         0.0\n",
            "996  The service at the drive in was terrible.i sat...         0.0\n",
            "997  Their cheeseburger costs more than a double ch...         0.0\n",
            "998                Good service. Everything good here.         1.0\n",
            "999  Seriously who forgets to put everything on a b...         0.0\n",
            "\n",
            "[824 rows x 2 columns]\n"
          ]
        }
      ]
    },
    {
      "cell_type": "code",
      "source": [
        "#Separa conjunto de treino e teste para a classificação binária\n",
        "X_Btrain, X_Btest, y_Btrain, y_Btest = train_test_split(df_Bin.review,df_Bin.rating_bin,test_size=0.2)"
      ],
      "metadata": {
        "id": "Jcg3htosZMbf"
      },
      "execution_count": 165,
      "outputs": []
    },
    {
      "cell_type": "code",
      "source": [
        "bert_preprocess = hub.KerasLayer(\"https://tfhub.dev/tensorflow/bert_en_uncased_preprocess/3\")\n",
        "bert_encoder = hub.KerasLayer(\"https://tfhub.dev/tensorflow/bert_en_uncased_L-12_H-768_A-12/4\")"
      ],
      "metadata": {
        "id": "gPxWP4eVZPYN"
      },
      "execution_count": 147,
      "outputs": []
    },
    {
      "cell_type": "code",
      "source": [
        "def get_sentense_embeding(sentences):\n",
        "    preprocesed_text=bert_preprocess(sentences)\n",
        "    return bert_encoder(preprocesed_text)['pooled_output']\n",
        "\n",
        "get_sentense_embeding([\n",
        "    df.review[5],df.review[1]\n",
        "])"
      ],
      "metadata": {
        "colab": {
          "base_uri": "https://localhost:8080/"
        },
        "id": "mRhbQ5M-ZYa5",
        "outputId": "98e2aa83-1211-4a0f-f521-da40d3d8bacc"
      },
      "execution_count": 166,
      "outputs": [
        {
          "output_type": "execute_result",
          "data": {
            "text/plain": [
              "<tf.Tensor: shape=(2, 768), dtype=float32, numpy=\n",
              "array([[-0.8367605 , -0.6208267 , -0.9702623 , ..., -0.8431032 ,\n",
              "        -0.66128534,  0.9062021 ],\n",
              "       [-0.6168058 , -0.31054088, -0.91254514, ..., -0.7911302 ,\n",
              "        -0.5656402 ,  0.80636483]], dtype=float32)>"
            ]
          },
          "metadata": {},
          "execution_count": 166
        }
      ]
    },
    {
      "cell_type": "code",
      "source": [
        "#O modelo abaixo é adequado para classificação binária\n",
        "text_input=tf.keras.layers.Input(shape=(),dtype=tf.string,name='text')\n",
        "preprocessed_text=bert_preprocess(text_input)\n",
        "outputs=bert_encoder(preprocessed_text)\n",
        "l=tf.keras.layers.Dropout(0.1,name='dropout')(outputs['pooled_output'])\n",
        "l=tf.keras.layers.Dense(1,activation='sigmoid',name='output')(l)\n",
        "model_bin=tf.keras.Model(inputs=[text_input],outputs=[l])\n",
        "\n",
        "\n",
        "#Alterado para considerar as 5 classses:\n",
        "text_input=tf.keras.layers.Input(shape=(),dtype=tf.string,name='text')\n",
        "preprocessed_text=bert_preprocess(text_input)\n",
        "outputs=bert_encoder(preprocessed_text)\n",
        "l=tf.keras.layers.Dropout(0.1,name='dropout')(outputs['pooled_output'])\n",
        "l=tf.keras.layers.Dense(5,activation='softmax',name='output')(l)\n",
        "model=tf.keras.Model(inputs=[text_input],outputs=[l])"
      ],
      "metadata": {
        "id": "NS4Lw_lwZZT_"
      },
      "execution_count": 171,
      "outputs": []
    },
    {
      "cell_type": "code",
      "source": [
        "METRICS=[\n",
        "    tf.keras.metrics.CategoricalAccuracy(name='accuracy'),\n",
        "    tf.keras.metrics.Precision(name='precision'),\n",
        "    tf.keras.metrics.Recall(name='recall')\n",
        "]\n",
        "\n",
        "METRICS_BIN=[\n",
        "    tf.keras.metrics.BinaryAccuracy(name='accuracy'),\n",
        "    tf.keras.metrics.Precision(name='precision'),\n",
        "    tf.keras.metrics.Recall(name='recall')\n",
        "]\n",
        "\n",
        "model.compile(optimizer='adam',loss='categorical_crossentropy',metrics=METRICS)\n",
        "model_bin.compile(optimizer='adam',loss='binary_crossentropy',metrics=METRICS_BIN)"
      ],
      "metadata": {
        "id": "WA5JyZcBdZO-"
      },
      "execution_count": 172,
      "outputs": []
    },
    {
      "cell_type": "code",
      "source": [
        "#Converta os rótulos de classe em codificação one-hot\n",
        "y_train_adjusted = y_train - 1\n",
        "y_train_one_hot = tf.keras.utils.to_categorical(y_train_adjusted, num_classes=5)\n",
        "\n",
        "model.fit(X_train,y_train_one_hot,epochs=5)"
      ],
      "metadata": {
        "colab": {
          "base_uri": "https://localhost:8080/"
        },
        "id": "0RLbNJlhdgd6",
        "outputId": "8efb147d-13e1-430e-cb22-a57d19dd4aae"
      },
      "execution_count": 173,
      "outputs": [
        {
          "output_type": "stream",
          "name": "stdout",
          "text": [
            "Epoch 1/5\n",
            "21/21 [==============================] - 9s 296ms/step - loss: 1.3165 - accuracy: 0.4279 - precision: 0.4286 - recall: 0.1502\n",
            "Epoch 2/5\n",
            "21/21 [==============================] - 6s 292ms/step - loss: 1.2507 - accuracy: 0.4628 - precision: 0.5351 - recall: 0.1851\n",
            "Epoch 3/5\n",
            "21/21 [==============================] - 6s 296ms/step - loss: 1.2441 - accuracy: 0.4507 - precision: 0.5328 - recall: 0.1973\n",
            "Epoch 4/5\n",
            "21/21 [==============================] - 6s 295ms/step - loss: 1.2169 - accuracy: 0.4886 - precision: 0.5654 - recall: 0.2231\n",
            "Epoch 5/5\n",
            "21/21 [==============================] - 6s 296ms/step - loss: 1.2072 - accuracy: 0.4977 - precision: 0.5945 - recall: 0.2625\n"
          ]
        },
        {
          "output_type": "execute_result",
          "data": {
            "text/plain": [
              "<keras.src.callbacks.History at 0x7b14cd589d80>"
            ]
          },
          "metadata": {},
          "execution_count": 173
        }
      ]
    },
    {
      "cell_type": "code",
      "source": [
        "model_bin.fit(X_Btrain,y_Btrain,epochs=10)"
      ],
      "metadata": {
        "id": "cZzsJQGiQDIr",
        "outputId": "6a4ceaa2-43f8-4164-957c-82f2d4ef4879",
        "colab": {
          "base_uri": "https://localhost:8080/"
        }
      },
      "execution_count": 170,
      "outputs": [
        {
          "output_type": "stream",
          "name": "stdout",
          "text": [
            "Epoch 1/10\n",
            "21/21 [==============================] - 6s 290ms/step - loss: 0.5663 - accuracy: 0.7147 - precision: 0.7111 - recall: 0.7949\n",
            "Epoch 2/10\n",
            "21/21 [==============================] - 6s 295ms/step - loss: 0.5610 - accuracy: 0.7299 - precision: 0.7472 - recall: 0.7556\n",
            "Epoch 3/10\n",
            "21/21 [==============================] - 6s 293ms/step - loss: 0.5441 - accuracy: 0.7329 - precision: 0.7528 - recall: 0.7528\n",
            "Epoch 4/10\n",
            "21/21 [==============================] - 6s 299ms/step - loss: 0.5347 - accuracy: 0.7587 - precision: 0.7669 - recall: 0.7949\n",
            "Epoch 5/10\n",
            "21/21 [==============================] - 6s 295ms/step - loss: 0.5212 - accuracy: 0.7618 - precision: 0.7653 - recall: 0.8062\n",
            "Epoch 6/10\n",
            "21/21 [==============================] - 6s 298ms/step - loss: 0.5276 - accuracy: 0.7481 - precision: 0.7527 - recall: 0.7949\n",
            "Epoch 7/10\n",
            "21/21 [==============================] - 6s 296ms/step - loss: 0.5205 - accuracy: 0.7405 - precision: 0.7534 - recall: 0.7725\n",
            "Epoch 8/10\n",
            "21/21 [==============================] - 6s 297ms/step - loss: 0.5075 - accuracy: 0.7678 - precision: 0.7751 - recall: 0.8034\n",
            "Epoch 9/10\n",
            "21/21 [==============================] - 6s 299ms/step - loss: 0.5019 - accuracy: 0.7815 - precision: 0.7834 - recall: 0.8230\n",
            "Epoch 10/10\n",
            "21/21 [==============================] - 6s 299ms/step - loss: 0.4984 - accuracy: 0.7815 - precision: 0.7928 - recall: 0.8062\n"
          ]
        },
        {
          "output_type": "execute_result",
          "data": {
            "text/plain": [
              "<keras.src.callbacks.History at 0x7b14cd67eb90>"
            ]
          },
          "metadata": {},
          "execution_count": 170
        }
      ]
    },
    {
      "cell_type": "code",
      "source": [
        "#Avaliação do modelo multiclasse com a base de teste\n",
        "y_test_adjusted = y_test - 1\n",
        "y_test_one_hot = tf.keras.utils.to_categorical(y_test_adjusted, num_classes=5)\n",
        "\n",
        "model.evaluate(X_test,y_test_one_hot)"
      ],
      "metadata": {
        "id": "swm5kHhJhLd3",
        "outputId": "4e84ca1a-622d-4d66-83e0-d874c2102d19",
        "colab": {
          "base_uri": "https://localhost:8080/"
        }
      },
      "execution_count": 174,
      "outputs": [
        {
          "output_type": "stream",
          "name": "stdout",
          "text": [
            "6/6 [==============================] - 3s 250ms/step - loss: 1.1676 - accuracy: 0.5333 - precision: 0.8889 - recall: 0.1939\n"
          ]
        },
        {
          "output_type": "execute_result",
          "data": {
            "text/plain": [
              "[1.1675846576690674,\n",
              " 0.5333333611488342,\n",
              " 0.8888888955116272,\n",
              " 0.19393938779830933]"
            ]
          },
          "metadata": {},
          "execution_count": 174
        }
      ]
    },
    {
      "cell_type": "code",
      "source": [
        "print(X_Btest)"
      ],
      "metadata": {
        "id": "osHHtUASpkuF",
        "outputId": "abc5eebb-79a2-46d8-ab0a-e85459aa5e3d",
        "colab": {
          "base_uri": "https://localhost:8080/"
        }
      },
      "execution_count": 178,
      "outputs": [
        {
          "output_type": "stream",
          "name": "stdout",
          "text": [
            "613                                           Excellent \n",
            "778                                           Excellent \n",
            "302    Just isn't good food. Supersize Me just turned...\n",
            "714                                           Excellent \n",
            "727                                                  sad\n",
            "                             ...                        \n",
            "116    All that I had ordered was two McDoubles and l...\n",
            "56     I go here all the time. Great staff.. NVR get ...\n",
            "157    Every time I go here they are always missing f...\n",
            "299    Fries tasted like they were cooked in grease f...\n",
            "360      Manager was rude.. staff is very unprofessional\n",
            "Name: review, Length: 165, dtype: object\n"
          ]
        }
      ]
    },
    {
      "cell_type": "code",
      "source": [
        "print(y_Btest)"
      ],
      "metadata": {
        "id": "ruL0mJQXpo_G",
        "outputId": "9454bfba-7777-4064-9518-6e8487c98ee1",
        "colab": {
          "base_uri": "https://localhost:8080/"
        }
      },
      "execution_count": 180,
      "outputs": [
        {
          "output_type": "stream",
          "name": "stdout",
          "text": [
            "613    1.0\n",
            "778    1.0\n",
            "302    0.0\n",
            "714    1.0\n",
            "727    0.0\n",
            "      ... \n",
            "116    0.0\n",
            "56     1.0\n",
            "157    0.0\n",
            "299    0.0\n",
            "360    0.0\n",
            "Name: rating_bin, Length: 165, dtype: float64\n",
            "613    1.0\n",
            "778    1.0\n",
            "302    0.0\n",
            "714    1.0\n",
            "727    0.0\n",
            "      ... \n",
            "116    0.0\n",
            "56     1.0\n",
            "157    0.0\n",
            "299    0.0\n",
            "360    0.0\n",
            "Name: rating_bin, Length: 165, dtype: float64\n"
          ]
        }
      ]
    },
    {
      "cell_type": "code",
      "source": [
        "model_bin.evaluate(X_Btest,y_Btest)"
      ],
      "metadata": {
        "id": "1nynBLCQU9EF",
        "outputId": "52ad119c-63ed-4c2b-f9cf-29b12a15a71f",
        "colab": {
          "base_uri": "https://localhost:8080/"
        }
      },
      "execution_count": 181,
      "outputs": [
        {
          "output_type": "stream",
          "name": "stdout",
          "text": [
            "6/6 [==============================] - 2s 246ms/step - loss: 0.7875 - accuracy: 0.3515 - precision: 0.2647 - recall: 0.0989\n"
          ]
        },
        {
          "output_type": "execute_result",
          "data": {
            "text/plain": [
              "[0.7874606847763062,\n",
              " 0.35151514410972595,\n",
              " 0.2647058963775635,\n",
              " 0.09890110045671463]"
            ]
          },
          "metadata": {},
          "execution_count": 181
        }
      ]
    },
    {
      "cell_type": "code",
      "source": [
        "y_Bpred=model.predict(X_Btest)\n",
        "y_Bpred=y_Bpred.flatten()"
      ],
      "metadata": {
        "colab": {
          "base_uri": "https://localhost:8080/"
        },
        "id": "Z8JrJ3oQhkOY",
        "outputId": "3ddf8aa7-a8b6-4139-91a9-b030d240b5e0"
      },
      "execution_count": 185,
      "outputs": [
        {
          "output_type": "stream",
          "name": "stdout",
          "text": [
            "6/6 [==============================] - 2s 304ms/step\n"
          ]
        }
      ]
    },
    {
      "cell_type": "code",
      "source": [
        "y_Bpred.shape"
      ],
      "metadata": {
        "id": "yvu4l_qirxel",
        "outputId": "5ace2cb0-e89d-4317-be8a-efc8bb311c64",
        "colab": {
          "base_uri": "https://localhost:8080/"
        }
      },
      "execution_count": 187,
      "outputs": [
        {
          "output_type": "execute_result",
          "data": {
            "text/plain": [
              "(825,)"
            ]
          },
          "metadata": {},
          "execution_count": 187
        }
      ]
    },
    {
      "cell_type": "code",
      "source": [
        "y_pred_classes = np.argmax(y_Bpred, axis=0)\n",
        "print(y_pred_classes)"
      ],
      "metadata": {
        "id": "s1NTpi3jCfvP",
        "outputId": "041459be-d9bd-4ebb-952e-a792a1d0567b",
        "colab": {
          "base_uri": "https://localhost:8080/"
        }
      },
      "execution_count": 188,
      "outputs": [
        {
          "output_type": "stream",
          "name": "stdout",
          "text": [
            "95\n"
          ]
        }
      ]
    },
    {
      "cell_type": "code",
      "source": [
        "y_Bpred=np.where(y_Bpred>0.5,1,0)\n",
        "#y_Bpred"
      ],
      "metadata": {
        "id": "uBZe1GxliAuy"
      },
      "execution_count": 194,
      "outputs": []
    },
    {
      "cell_type": "code",
      "source": [
        "from sklearn.metrics import confusion_matrix, classification_report\n",
        "cm=confusion_matrix(y_Btest,y_pred_classes)"
      ],
      "metadata": {
        "id": "3NFlDhDIiM2e",
        "outputId": "9b10fbdf-c304-4b7f-86de-094822233830",
        "colab": {
          "base_uri": "https://localhost:8080/",
          "height": 328
        }
      },
      "execution_count": 192,
      "outputs": [
        {
          "output_type": "error",
          "ename": "TypeError",
          "evalue": "ignored",
          "traceback": [
            "\u001b[0;31m---------------------------------------------------------------------------\u001b[0m",
            "\u001b[0;31mTypeError\u001b[0m                                 Traceback (most recent call last)",
            "\u001b[0;32m<ipython-input-192-0f80fb6532ac>\u001b[0m in \u001b[0;36m<cell line: 2>\u001b[0;34m()\u001b[0m\n\u001b[1;32m      1\u001b[0m \u001b[0;32mfrom\u001b[0m \u001b[0msklearn\u001b[0m\u001b[0;34m.\u001b[0m\u001b[0mmetrics\u001b[0m \u001b[0;32mimport\u001b[0m \u001b[0mconfusion_matrix\u001b[0m\u001b[0;34m,\u001b[0m \u001b[0mclassification_report\u001b[0m\u001b[0;34m\u001b[0m\u001b[0;34m\u001b[0m\u001b[0m\n\u001b[0;32m----> 2\u001b[0;31m \u001b[0mcm\u001b[0m\u001b[0;34m=\u001b[0m\u001b[0mconfusion_matrix\u001b[0m\u001b[0;34m(\u001b[0m\u001b[0my_Btest\u001b[0m\u001b[0;34m,\u001b[0m\u001b[0my_pred_classes\u001b[0m\u001b[0;34m)\u001b[0m\u001b[0;34m\u001b[0m\u001b[0;34m\u001b[0m\u001b[0m\n\u001b[0m",
            "\u001b[0;32m/usr/local/lib/python3.10/dist-packages/sklearn/metrics/_classification.py\u001b[0m in \u001b[0;36mconfusion_matrix\u001b[0;34m(y_true, y_pred, labels, sample_weight, normalize)\u001b[0m\n\u001b[1;32m    315\u001b[0m     \u001b[0;34m(\u001b[0m\u001b[0;36m0\u001b[0m\u001b[0;34m,\u001b[0m \u001b[0;36m2\u001b[0m\u001b[0;34m,\u001b[0m \u001b[0;36m1\u001b[0m\u001b[0;34m,\u001b[0m \u001b[0;36m1\u001b[0m\u001b[0;34m)\u001b[0m\u001b[0;34m\u001b[0m\u001b[0;34m\u001b[0m\u001b[0m\n\u001b[1;32m    316\u001b[0m     \"\"\"\n\u001b[0;32m--> 317\u001b[0;31m     \u001b[0my_type\u001b[0m\u001b[0;34m,\u001b[0m \u001b[0my_true\u001b[0m\u001b[0;34m,\u001b[0m \u001b[0my_pred\u001b[0m \u001b[0;34m=\u001b[0m \u001b[0m_check_targets\u001b[0m\u001b[0;34m(\u001b[0m\u001b[0my_true\u001b[0m\u001b[0;34m,\u001b[0m \u001b[0my_pred\u001b[0m\u001b[0;34m)\u001b[0m\u001b[0;34m\u001b[0m\u001b[0;34m\u001b[0m\u001b[0m\n\u001b[0m\u001b[1;32m    318\u001b[0m     \u001b[0;32mif\u001b[0m \u001b[0my_type\u001b[0m \u001b[0;32mnot\u001b[0m \u001b[0;32min\u001b[0m \u001b[0;34m(\u001b[0m\u001b[0;34m\"binary\"\u001b[0m\u001b[0;34m,\u001b[0m \u001b[0;34m\"multiclass\"\u001b[0m\u001b[0;34m)\u001b[0m\u001b[0;34m:\u001b[0m\u001b[0;34m\u001b[0m\u001b[0;34m\u001b[0m\u001b[0m\n\u001b[1;32m    319\u001b[0m         \u001b[0;32mraise\u001b[0m \u001b[0mValueError\u001b[0m\u001b[0;34m(\u001b[0m\u001b[0;34m\"%s is not supported\"\u001b[0m \u001b[0;34m%\u001b[0m \u001b[0my_type\u001b[0m\u001b[0;34m)\u001b[0m\u001b[0;34m\u001b[0m\u001b[0;34m\u001b[0m\u001b[0m\n",
            "\u001b[0;32m/usr/local/lib/python3.10/dist-packages/sklearn/metrics/_classification.py\u001b[0m in \u001b[0;36m_check_targets\u001b[0;34m(y_true, y_pred)\u001b[0m\n\u001b[1;32m     84\u001b[0m     \u001b[0my_pred\u001b[0m \u001b[0;34m:\u001b[0m \u001b[0marray\u001b[0m \u001b[0;32mor\u001b[0m \u001b[0mindicator\u001b[0m \u001b[0mmatrix\u001b[0m\u001b[0;34m\u001b[0m\u001b[0;34m\u001b[0m\u001b[0m\n\u001b[1;32m     85\u001b[0m     \"\"\"\n\u001b[0;32m---> 86\u001b[0;31m     \u001b[0mcheck_consistent_length\u001b[0m\u001b[0;34m(\u001b[0m\u001b[0my_true\u001b[0m\u001b[0;34m,\u001b[0m \u001b[0my_pred\u001b[0m\u001b[0;34m)\u001b[0m\u001b[0;34m\u001b[0m\u001b[0;34m\u001b[0m\u001b[0m\n\u001b[0m\u001b[1;32m     87\u001b[0m     \u001b[0mtype_true\u001b[0m \u001b[0;34m=\u001b[0m \u001b[0mtype_of_target\u001b[0m\u001b[0;34m(\u001b[0m\u001b[0my_true\u001b[0m\u001b[0;34m,\u001b[0m \u001b[0minput_name\u001b[0m\u001b[0;34m=\u001b[0m\u001b[0;34m\"y_true\"\u001b[0m\u001b[0;34m)\u001b[0m\u001b[0;34m\u001b[0m\u001b[0;34m\u001b[0m\u001b[0m\n\u001b[1;32m     88\u001b[0m     \u001b[0mtype_pred\u001b[0m \u001b[0;34m=\u001b[0m \u001b[0mtype_of_target\u001b[0m\u001b[0;34m(\u001b[0m\u001b[0my_pred\u001b[0m\u001b[0;34m,\u001b[0m \u001b[0minput_name\u001b[0m\u001b[0;34m=\u001b[0m\u001b[0;34m\"y_pred\"\u001b[0m\u001b[0;34m)\u001b[0m\u001b[0;34m\u001b[0m\u001b[0;34m\u001b[0m\u001b[0m\n",
            "\u001b[0;32m/usr/local/lib/python3.10/dist-packages/sklearn/utils/validation.py\u001b[0m in \u001b[0;36mcheck_consistent_length\u001b[0;34m(*arrays)\u001b[0m\n\u001b[1;32m    392\u001b[0m     \"\"\"\n\u001b[1;32m    393\u001b[0m \u001b[0;34m\u001b[0m\u001b[0m\n\u001b[0;32m--> 394\u001b[0;31m     \u001b[0mlengths\u001b[0m \u001b[0;34m=\u001b[0m \u001b[0;34m[\u001b[0m\u001b[0m_num_samples\u001b[0m\u001b[0;34m(\u001b[0m\u001b[0mX\u001b[0m\u001b[0;34m)\u001b[0m \u001b[0;32mfor\u001b[0m \u001b[0mX\u001b[0m \u001b[0;32min\u001b[0m \u001b[0marrays\u001b[0m \u001b[0;32mif\u001b[0m \u001b[0mX\u001b[0m \u001b[0;32mis\u001b[0m \u001b[0;32mnot\u001b[0m \u001b[0;32mNone\u001b[0m\u001b[0;34m]\u001b[0m\u001b[0;34m\u001b[0m\u001b[0;34m\u001b[0m\u001b[0m\n\u001b[0m\u001b[1;32m    395\u001b[0m     \u001b[0muniques\u001b[0m \u001b[0;34m=\u001b[0m \u001b[0mnp\u001b[0m\u001b[0;34m.\u001b[0m\u001b[0munique\u001b[0m\u001b[0;34m(\u001b[0m\u001b[0mlengths\u001b[0m\u001b[0;34m)\u001b[0m\u001b[0;34m\u001b[0m\u001b[0;34m\u001b[0m\u001b[0m\n\u001b[1;32m    396\u001b[0m     \u001b[0;32mif\u001b[0m \u001b[0mlen\u001b[0m\u001b[0;34m(\u001b[0m\u001b[0muniques\u001b[0m\u001b[0;34m)\u001b[0m \u001b[0;34m>\u001b[0m \u001b[0;36m1\u001b[0m\u001b[0;34m:\u001b[0m\u001b[0;34m\u001b[0m\u001b[0;34m\u001b[0m\u001b[0m\n",
            "\u001b[0;32m/usr/local/lib/python3.10/dist-packages/sklearn/utils/validation.py\u001b[0m in \u001b[0;36m<listcomp>\u001b[0;34m(.0)\u001b[0m\n\u001b[1;32m    392\u001b[0m     \"\"\"\n\u001b[1;32m    393\u001b[0m \u001b[0;34m\u001b[0m\u001b[0m\n\u001b[0;32m--> 394\u001b[0;31m     \u001b[0mlengths\u001b[0m \u001b[0;34m=\u001b[0m \u001b[0;34m[\u001b[0m\u001b[0m_num_samples\u001b[0m\u001b[0;34m(\u001b[0m\u001b[0mX\u001b[0m\u001b[0;34m)\u001b[0m \u001b[0;32mfor\u001b[0m \u001b[0mX\u001b[0m \u001b[0;32min\u001b[0m \u001b[0marrays\u001b[0m \u001b[0;32mif\u001b[0m \u001b[0mX\u001b[0m \u001b[0;32mis\u001b[0m \u001b[0;32mnot\u001b[0m \u001b[0;32mNone\u001b[0m\u001b[0;34m]\u001b[0m\u001b[0;34m\u001b[0m\u001b[0;34m\u001b[0m\u001b[0m\n\u001b[0m\u001b[1;32m    395\u001b[0m     \u001b[0muniques\u001b[0m \u001b[0;34m=\u001b[0m \u001b[0mnp\u001b[0m\u001b[0;34m.\u001b[0m\u001b[0munique\u001b[0m\u001b[0;34m(\u001b[0m\u001b[0mlengths\u001b[0m\u001b[0;34m)\u001b[0m\u001b[0;34m\u001b[0m\u001b[0;34m\u001b[0m\u001b[0m\n\u001b[1;32m    396\u001b[0m     \u001b[0;32mif\u001b[0m \u001b[0mlen\u001b[0m\u001b[0;34m(\u001b[0m\u001b[0muniques\u001b[0m\u001b[0;34m)\u001b[0m \u001b[0;34m>\u001b[0m \u001b[0;36m1\u001b[0m\u001b[0;34m:\u001b[0m\u001b[0;34m\u001b[0m\u001b[0;34m\u001b[0m\u001b[0m\n",
            "\u001b[0;32m/usr/local/lib/python3.10/dist-packages/sklearn/utils/validation.py\u001b[0m in \u001b[0;36m_num_samples\u001b[0;34m(x)\u001b[0m\n\u001b[1;32m    333\u001b[0m     \u001b[0;32mif\u001b[0m \u001b[0mhasattr\u001b[0m\u001b[0;34m(\u001b[0m\u001b[0mx\u001b[0m\u001b[0;34m,\u001b[0m \u001b[0;34m\"shape\"\u001b[0m\u001b[0;34m)\u001b[0m \u001b[0;32mand\u001b[0m \u001b[0mx\u001b[0m\u001b[0;34m.\u001b[0m\u001b[0mshape\u001b[0m \u001b[0;32mis\u001b[0m \u001b[0;32mnot\u001b[0m \u001b[0;32mNone\u001b[0m\u001b[0;34m:\u001b[0m\u001b[0;34m\u001b[0m\u001b[0;34m\u001b[0m\u001b[0m\n\u001b[1;32m    334\u001b[0m         \u001b[0;32mif\u001b[0m \u001b[0mlen\u001b[0m\u001b[0;34m(\u001b[0m\u001b[0mx\u001b[0m\u001b[0;34m.\u001b[0m\u001b[0mshape\u001b[0m\u001b[0;34m)\u001b[0m \u001b[0;34m==\u001b[0m \u001b[0;36m0\u001b[0m\u001b[0;34m:\u001b[0m\u001b[0;34m\u001b[0m\u001b[0;34m\u001b[0m\u001b[0m\n\u001b[0;32m--> 335\u001b[0;31m             raise TypeError(\n\u001b[0m\u001b[1;32m    336\u001b[0m                 \u001b[0;34m\"Singleton array %r cannot be considered a valid collection.\"\u001b[0m \u001b[0;34m%\u001b[0m \u001b[0mx\u001b[0m\u001b[0;34m\u001b[0m\u001b[0;34m\u001b[0m\u001b[0m\n\u001b[1;32m    337\u001b[0m             )\n",
            "\u001b[0;31mTypeError\u001b[0m: Singleton array 95 cannot be considered a valid collection."
          ]
        }
      ]
    },
    {
      "cell_type": "code",
      "source": [
        "from matplotlib import pyplot as plt\n",
        "import seaborn as sns\n",
        "sns.heatmap(cm,annot=True,fmt='d')\n",
        "\n",
        "plt.xlabel(\"Predicted\")\n",
        "plt.ylabel(\"Truth\")"
      ],
      "metadata": {
        "colab": {
          "base_uri": "https://localhost:8080/",
          "height": 466
        },
        "id": "YdAyc-5Giagi",
        "outputId": "e7ceca3b-b298-41d2-ace4-49572db7110b"
      },
      "execution_count": 69,
      "outputs": [
        {
          "output_type": "execute_result",
          "data": {
            "text/plain": [
              "Text(50.722222222222214, 0.5, 'Truth')"
            ]
          },
          "metadata": {},
          "execution_count": 69
        },
        {
          "output_type": "display_data",
          "data": {
            "text/plain": [
              "<Figure size 640x480 with 2 Axes>"
            ],
            "image/png": "[encoded data removed]"
          },
          "metadata": {}
        }
      ]
    },
    {
      "cell_type": "code",
      "source": [
        "print(classification_report(y_test,y_pred_classes))"
      ],
      "metadata": {
        "colab": {
          "base_uri": "https://localhost:8080/"
        },
        "id": "2Bi9s85zicnQ",
        "outputId": "4a4cddb8-b14f-49b3-8f94-05524100df29"
      },
      "execution_count": 26,
      "outputs": [
        {
          "output_type": "stream",
          "name": "stdout",
          "text": [
            "              precision    recall  f1-score   support\n",
            "\n",
            "           0       0.00      0.00      0.00         0\n",
            "           1       0.00      0.00      0.00      1903\n",
            "           2       0.09      0.09      0.09       638\n",
            "           3       0.15      0.13      0.14       903\n",
            "           4       0.18      0.35      0.24      1154\n",
            "           5       0.00      0.00      0.00      2082\n",
            "\n",
            "    accuracy                           0.09      6680\n",
            "   macro avg       0.07      0.10      0.08      6680\n",
            "weighted avg       0.06      0.09      0.07      6680\n",
            "\n"
          ]
        },
        {
          "output_type": "stream",
          "name": "stderr",
          "text": [
            "/usr/local/lib/python3.10/dist-packages/sklearn/metrics/_classification.py:1344: UndefinedMetricWarning: Precision and F-score are ill-defined and being set to 0.0 in labels with no predicted samples. Use `zero_division` parameter to control this behavior.\n",
            "  _warn_prf(average, modifier, msg_start, len(result))\n",
            "/usr/local/lib/python3.10/dist-packages/sklearn/metrics/_classification.py:1344: UndefinedMetricWarning: Recall and F-score are ill-defined and being set to 0.0 in labels with no true samples. Use `zero_division` parameter to control this behavior.\n",
            "  _warn_prf(average, modifier, msg_start, len(result))\n",
            "/usr/local/lib/python3.10/dist-packages/sklearn/metrics/_classification.py:1344: UndefinedMetricWarning: Precision and F-score are ill-defined and being set to 0.0 in labels with no predicted samples. Use `zero_division` parameter to control this behavior.\n",
            "  _warn_prf(average, modifier, msg_start, len(result))\n",
            "/usr/local/lib/python3.10/dist-packages/sklearn/metrics/_classification.py:1344: UndefinedMetricWarning: Recall and F-score are ill-defined and being set to 0.0 in labels with no true samples. Use `zero_division` parameter to control this behavior.\n",
            "  _warn_prf(average, modifier, msg_start, len(result))\n",
            "/usr/local/lib/python3.10/dist-packages/sklearn/metrics/_classification.py:1344: UndefinedMetricWarning: Precision and F-score are ill-defined and being set to 0.0 in labels with no predicted samples. Use `zero_division` parameter to control this behavior.\n",
            "  _warn_prf(average, modifier, msg_start, len(result))\n",
            "/usr/local/lib/python3.10/dist-packages/sklearn/metrics/_classification.py:1344: UndefinedMetricWarning: Recall and F-score are ill-defined and being set to 0.0 in labels with no true samples. Use `zero_division` parameter to control this behavior.\n",
            "  _warn_prf(average, modifier, msg_start, len(result))\n"
          ]
        }
      ]
    },
    {
      "cell_type": "code",
      "source": [
        "reviews=[df.review[0],df.review[1]\n",
        "\n",
        "]\n",
        "model.predict(reviews)"
      ],
      "metadata": {
        "colab": {
          "base_uri": "https://localhost:8080/"
        },
        "id": "IsUuwkMCieqK",
        "outputId": "b9630bfb-9d4a-41d5-fea7-b0842245f178"
      },
      "execution_count": 27,
      "outputs": [
        {
          "output_type": "stream",
          "name": "stdout",
          "text": [
            "1/1 [==============================] - 1s 744ms/step\n"
          ]
        },
        {
          "output_type": "execute_result",
          "data": {
            "text/plain": [
              "array([[0.7819445 , 0.07834104, 0.05455459, 0.03658522, 0.04857462],\n",
              "       [0.0531323 , 0.0550392 , 0.12272887, 0.45600456, 0.31309515]],\n",
              "      dtype=float32)"
            ]
          },
          "metadata": {},
          "execution_count": 27
        }
      ]
    }
  ]
}